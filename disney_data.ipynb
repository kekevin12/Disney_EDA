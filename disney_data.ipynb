{
 "cells": [
  {
   "cell_type": "markdown",
   "metadata": {},
   "source": [
    "###                                                **A LOOK INTO DISNEY+ SHOWS AND MOVIES [PYTHON EXPLORATORY DATA ANALYSIS]**"
   ]
  },
  {
   "cell_type": "markdown",
   "metadata": {},
   "source": [
    "As of writing this, shows have been such a rampant form of media whether it be through Netflix, Hulu, Disney+, and many more platforms. These platforms have made watching movies and tv shows so accessible there is now demand for more media to consume. We can see this as Netflix and many other platforms have created their own exclusive \"Netflix\" shows and movies only available to their platform. Disney+ recently have been churning out a lot of its own exclusive content, and so naturally I became curious about what makes Disney's platform any special. So, in this exploratory data analysis (EDA), we are looking at a data set of all shows/movies avaiable on Disney+ acquired in May 2022 in the United States (via Kaggle) to see if there are any interesting correlations that may lead use to understand what criteria makes a show or movie well rated and popular. By understanding these factors, perhaps we can have better insights on how to create a better reccomendation system and new customer retention/engagement."
   ]
  },
  {
   "cell_type": "markdown",
   "metadata": {},
   "source": [
    "### **Setting Up Environment**\n",
    "##### Importing Necessary Libraries"
   ]
  },
  {
   "cell_type": "code",
   "execution_count": 2,
   "metadata": {},
   "outputs": [],
   "source": [
    "import numpy as np\n",
    "import pandas as pd\n",
    "import plotly.express as px\n",
    "import plotly.graph_objects as go\n",
    "from os import path\n",
    "from wordcloud import WordCloud, STOPWORDS\n",
    "import nltk as nl\n",
    "from nltk.corpus import stopwords\n",
    "from plotly.subplots import make_subplots\n",
    "import plotly.io as pio\n",
    "\n",
    "import matplotlib.pyplot as plt\n",
    "import kaleido"
   ]
  },
  {
   "cell_type": "markdown",
   "metadata": {},
   "source": [
    "##### Loading in Data"
   ]
  },
  {
   "cell_type": "code",
   "execution_count": 3,
   "metadata": {},
   "outputs": [],
   "source": [
    "#Load in csv files\n",
    "urlt = 'https://github.com/kekevin12/Disney_EDA/blob/856c2bb8e1c4f5bc568706b7bd6c1bb212278635/titles.csv?raw=true'\n",
    "titles = pd.read_csv(urlt, index_col=0)"
   ]
  },
  {
   "cell_type": "markdown",
   "metadata": {},
   "source": [
    "##### Data Cleaning"
   ]
  },
  {
   "cell_type": "markdown",
   "metadata": {},
   "source": [
    "Now lets take a brief look at the datasets"
   ]
  },
  {
   "cell_type": "code",
   "execution_count": 4,
   "metadata": {},
   "outputs": [
    {
     "name": "stdout",
     "output_type": "stream",
     "text": [
      "<class 'pandas.core.frame.DataFrame'>\n",
      "Index: 1535 entries, tm74391 to tm1091117\n",
      "Data columns (total 14 columns):\n",
      " #   Column                Non-Null Count  Dtype  \n",
      "---  ------                --------------  -----  \n",
      " 0   title                 1535 non-null   object \n",
      " 1   type                  1535 non-null   object \n",
      " 2   description           1529 non-null   object \n",
      " 3   release_year          1535 non-null   int64  \n",
      " 4   age_certification     1210 non-null   object \n",
      " 5   runtime               1535 non-null   int64  \n",
      " 6   genres                1535 non-null   object \n",
      " 7   production_countries  1535 non-null   object \n",
      " 8   seasons               415 non-null    float64\n",
      " 9   imdb_id               1133 non-null   object \n",
      " 10  imdb_score            1108 non-null   float64\n",
      " 11  imdb_votes            1105 non-null   float64\n",
      " 12  tmdb_popularity       1524 non-null   float64\n",
      " 13  tmdb_score            1426 non-null   float64\n",
      "dtypes: float64(5), int64(2), object(7)\n",
      "memory usage: 179.9+ KB\n"
     ]
    }
   ],
   "source": [
    "titles.info()"
   ]
  },
  {
   "cell_type": "code",
   "execution_count": 5,
   "metadata": {},
   "outputs": [
    {
     "data": {
      "text/html": [
       "<div>\n",
       "<style scoped>\n",
       "    .dataframe tbody tr th:only-of-type {\n",
       "        vertical-align: middle;\n",
       "    }\n",
       "\n",
       "    .dataframe tbody tr th {\n",
       "        vertical-align: top;\n",
       "    }\n",
       "\n",
       "    .dataframe thead th {\n",
       "        text-align: right;\n",
       "    }\n",
       "</style>\n",
       "<table border=\"1\" class=\"dataframe\">\n",
       "  <thead>\n",
       "    <tr style=\"text-align: right;\">\n",
       "      <th></th>\n",
       "      <th>title</th>\n",
       "      <th>type</th>\n",
       "      <th>description</th>\n",
       "      <th>release_year</th>\n",
       "      <th>age_certification</th>\n",
       "      <th>runtime</th>\n",
       "      <th>genres</th>\n",
       "      <th>production_countries</th>\n",
       "      <th>seasons</th>\n",
       "      <th>imdb_id</th>\n",
       "      <th>imdb_score</th>\n",
       "      <th>imdb_votes</th>\n",
       "      <th>tmdb_popularity</th>\n",
       "      <th>tmdb_score</th>\n",
       "    </tr>\n",
       "    <tr>\n",
       "      <th>id</th>\n",
       "      <th></th>\n",
       "      <th></th>\n",
       "      <th></th>\n",
       "      <th></th>\n",
       "      <th></th>\n",
       "      <th></th>\n",
       "      <th></th>\n",
       "      <th></th>\n",
       "      <th></th>\n",
       "      <th></th>\n",
       "      <th></th>\n",
       "      <th></th>\n",
       "      <th></th>\n",
       "      <th></th>\n",
       "    </tr>\n",
       "  </thead>\n",
       "  <tbody>\n",
       "    <tr>\n",
       "      <th>tm74391</th>\n",
       "      <td>Fantasia</td>\n",
       "      <td>MOVIE</td>\n",
       "      <td>Walt Disney's timeless masterpiece is an extra...</td>\n",
       "      <td>1940</td>\n",
       "      <td>G</td>\n",
       "      <td>120</td>\n",
       "      <td>['animation', 'family', 'music', 'fantasy']</td>\n",
       "      <td>['US']</td>\n",
       "      <td>NaN</td>\n",
       "      <td>tt0032455</td>\n",
       "      <td>7.7</td>\n",
       "      <td>94681.0</td>\n",
       "      <td>57.751</td>\n",
       "      <td>7.4</td>\n",
       "    </tr>\n",
       "    <tr>\n",
       "      <th>tm67803</th>\n",
       "      <td>Snow White and the Seven Dwarfs</td>\n",
       "      <td>MOVIE</td>\n",
       "      <td>A beautiful girl, Snow White, takes refuge in ...</td>\n",
       "      <td>1937</td>\n",
       "      <td>G</td>\n",
       "      <td>83</td>\n",
       "      <td>['fantasy', 'family', 'romance', 'animation', ...</td>\n",
       "      <td>['US']</td>\n",
       "      <td>NaN</td>\n",
       "      <td>tt0029583</td>\n",
       "      <td>7.6</td>\n",
       "      <td>195321.0</td>\n",
       "      <td>107.137</td>\n",
       "      <td>7.1</td>\n",
       "    </tr>\n",
       "    <tr>\n",
       "      <th>tm82546</th>\n",
       "      <td>Pinocchio</td>\n",
       "      <td>MOVIE</td>\n",
       "      <td>Lonely toymaker Geppetto has his wishes answer...</td>\n",
       "      <td>1940</td>\n",
       "      <td>G</td>\n",
       "      <td>88</td>\n",
       "      <td>['animation', 'comedy', 'family', 'fantasy']</td>\n",
       "      <td>['US']</td>\n",
       "      <td>NaN</td>\n",
       "      <td>tt0032910</td>\n",
       "      <td>7.5</td>\n",
       "      <td>141937.0</td>\n",
       "      <td>71.160</td>\n",
       "      <td>7.1</td>\n",
       "    </tr>\n",
       "    <tr>\n",
       "      <th>tm79357</th>\n",
       "      <td>Bambi</td>\n",
       "      <td>MOVIE</td>\n",
       "      <td>Bambi's tale unfolds from season to season as ...</td>\n",
       "      <td>1942</td>\n",
       "      <td>G</td>\n",
       "      <td>70</td>\n",
       "      <td>['animation', 'drama', 'family']</td>\n",
       "      <td>['US']</td>\n",
       "      <td>NaN</td>\n",
       "      <td>tt0034492</td>\n",
       "      <td>7.3</td>\n",
       "      <td>140406.0</td>\n",
       "      <td>68.136</td>\n",
       "      <td>7.0</td>\n",
       "    </tr>\n",
       "    <tr>\n",
       "      <th>tm62671</th>\n",
       "      <td>Treasure Island</td>\n",
       "      <td>MOVIE</td>\n",
       "      <td>Enchanted by the idea of locating treasure bur...</td>\n",
       "      <td>1950</td>\n",
       "      <td>PG</td>\n",
       "      <td>96</td>\n",
       "      <td>['family', 'action']</td>\n",
       "      <td>['GB', 'US']</td>\n",
       "      <td>NaN</td>\n",
       "      <td>tt0043067</td>\n",
       "      <td>6.9</td>\n",
       "      <td>8229.0</td>\n",
       "      <td>10.698</td>\n",
       "      <td>6.5</td>\n",
       "    </tr>\n",
       "  </tbody>\n",
       "</table>\n",
       "</div>"
      ],
      "text/plain": [
       "                                   title   type  \\\n",
       "id                                                \n",
       "tm74391                         Fantasia  MOVIE   \n",
       "tm67803  Snow White and the Seven Dwarfs  MOVIE   \n",
       "tm82546                        Pinocchio  MOVIE   \n",
       "tm79357                            Bambi  MOVIE   \n",
       "tm62671                  Treasure Island  MOVIE   \n",
       "\n",
       "                                               description  release_year  \\\n",
       "id                                                                         \n",
       "tm74391  Walt Disney's timeless masterpiece is an extra...          1940   \n",
       "tm67803  A beautiful girl, Snow White, takes refuge in ...          1937   \n",
       "tm82546  Lonely toymaker Geppetto has his wishes answer...          1940   \n",
       "tm79357  Bambi's tale unfolds from season to season as ...          1942   \n",
       "tm62671  Enchanted by the idea of locating treasure bur...          1950   \n",
       "\n",
       "        age_certification  runtime  \\\n",
       "id                                   \n",
       "tm74391                 G      120   \n",
       "tm67803                 G       83   \n",
       "tm82546                 G       88   \n",
       "tm79357                 G       70   \n",
       "tm62671                PG       96   \n",
       "\n",
       "                                                    genres  \\\n",
       "id                                                           \n",
       "tm74391        ['animation', 'family', 'music', 'fantasy']   \n",
       "tm67803  ['fantasy', 'family', 'romance', 'animation', ...   \n",
       "tm82546       ['animation', 'comedy', 'family', 'fantasy']   \n",
       "tm79357                   ['animation', 'drama', 'family']   \n",
       "tm62671                               ['family', 'action']   \n",
       "\n",
       "        production_countries  seasons    imdb_id  imdb_score  imdb_votes  \\\n",
       "id                                                                         \n",
       "tm74391               ['US']      NaN  tt0032455         7.7     94681.0   \n",
       "tm67803               ['US']      NaN  tt0029583         7.6    195321.0   \n",
       "tm82546               ['US']      NaN  tt0032910         7.5    141937.0   \n",
       "tm79357               ['US']      NaN  tt0034492         7.3    140406.0   \n",
       "tm62671         ['GB', 'US']      NaN  tt0043067         6.9      8229.0   \n",
       "\n",
       "         tmdb_popularity  tmdb_score  \n",
       "id                                    \n",
       "tm74391           57.751         7.4  \n",
       "tm67803          107.137         7.1  \n",
       "tm82546           71.160         7.1  \n",
       "tm79357           68.136         7.0  \n",
       "tm62671           10.698         6.5  "
      ]
     },
     "execution_count": 5,
     "metadata": {},
     "output_type": "execute_result"
    }
   ],
   "source": [
    "titles.head()"
   ]
  },
  {
   "cell_type": "markdown",
   "metadata": {},
   "source": [
    "##### Check for Duplicates"
   ]
  },
  {
   "cell_type": "code",
   "execution_count": 6,
   "metadata": {},
   "outputs": [
    {
     "data": {
      "text/html": [
       "<div>\n",
       "<style scoped>\n",
       "    .dataframe tbody tr th:only-of-type {\n",
       "        vertical-align: middle;\n",
       "    }\n",
       "\n",
       "    .dataframe tbody tr th {\n",
       "        vertical-align: top;\n",
       "    }\n",
       "\n",
       "    .dataframe thead th {\n",
       "        text-align: right;\n",
       "    }\n",
       "</style>\n",
       "<table border=\"1\" class=\"dataframe\">\n",
       "  <thead>\n",
       "    <tr style=\"text-align: right;\">\n",
       "      <th></th>\n",
       "      <th>title</th>\n",
       "      <th>type</th>\n",
       "      <th>description</th>\n",
       "      <th>release_year</th>\n",
       "      <th>age_certification</th>\n",
       "      <th>runtime</th>\n",
       "      <th>genres</th>\n",
       "      <th>production_countries</th>\n",
       "      <th>seasons</th>\n",
       "      <th>imdb_id</th>\n",
       "      <th>imdb_score</th>\n",
       "      <th>imdb_votes</th>\n",
       "      <th>tmdb_popularity</th>\n",
       "      <th>tmdb_score</th>\n",
       "    </tr>\n",
       "    <tr>\n",
       "      <th>id</th>\n",
       "      <th></th>\n",
       "      <th></th>\n",
       "      <th></th>\n",
       "      <th></th>\n",
       "      <th></th>\n",
       "      <th></th>\n",
       "      <th></th>\n",
       "      <th></th>\n",
       "      <th></th>\n",
       "      <th></th>\n",
       "      <th></th>\n",
       "      <th></th>\n",
       "      <th></th>\n",
       "      <th></th>\n",
       "    </tr>\n",
       "  </thead>\n",
       "  <tbody>\n",
       "  </tbody>\n",
       "</table>\n",
       "</div>"
      ],
      "text/plain": [
       "Empty DataFrame\n",
       "Columns: [title, type, description, release_year, age_certification, runtime, genres, production_countries, seasons, imdb_id, imdb_score, imdb_votes, tmdb_popularity, tmdb_score]\n",
       "Index: []"
      ]
     },
     "execution_count": 6,
     "metadata": {},
     "output_type": "execute_result"
    }
   ],
   "source": [
    "# Check for duplicates\n",
    "duplicateTRows = titles[titles.duplicated(keep='last')]\n",
    "duplicateTRows.head()"
   ]
  },
  {
   "cell_type": "markdown",
   "metadata": {},
   "source": [
    "We can see that the 'titles' dataset is comprised of 15 columns which various identifiers. There also seems to be no duplicates in the titles dataset. However, there are differing amount of entries in the columns of interest we want to analyze such as the imdb/tmdb score with 1108 and 1426 entries respectively and description column with 1529 out of the total 1535 id. To resolve this issue, it would be best to remove rows with null values so we do not underfit any calculations."
   ]
  },
  {
   "cell_type": "markdown",
   "metadata": {},
   "source": [
    "##### Cleaning Dataset"
   ]
  },
  {
   "cell_type": "code",
   "execution_count": 7,
   "metadata": {},
   "outputs": [
    {
     "name": "stdout",
     "output_type": "stream",
     "text": [
      "<class 'pandas.core.frame.DataFrame'>\n",
      "Index: 1426 entries, tm74391 to tm1091101\n",
      "Data columns (total 8 columns):\n",
      " #   Column             Non-Null Count  Dtype  \n",
      "---  ------             --------------  -----  \n",
      " 0   title              1426 non-null   object \n",
      " 1   type               1426 non-null   object \n",
      " 2   description        1426 non-null   object \n",
      " 3   release_year       1426 non-null   int64  \n",
      " 4   age_certification  1155 non-null   object \n",
      " 5   runtime            1426 non-null   int64  \n",
      " 6   genres             1426 non-null   object \n",
      " 7   tmdb_score         1426 non-null   float64\n",
      "dtypes: float64(1), int64(2), object(5)\n",
      "memory usage: 100.3+ KB\n"
     ]
    }
   ],
   "source": [
    "#Removing unecessary columns \n",
    "ctitles = titles.drop(['imdb_id','imdb_score','imdb_votes','tmdb_popularity','production_countries','seasons'], axis=1)\n",
    "ctitles = ctitles.dropna(subset=['tmdb_score'])\n",
    "ctitles['genres'] = ctitles.genres.str.strip('[]')\n",
    "ctitles.info()"
   ]
  },
  {
   "cell_type": "markdown",
   "metadata": {},
   "source": [
    "Here I removed all unnecessary columns that I will not be using and decided against using IMDB scores to evaluate the ratings since there are more TMDB entries. This was done because it would provide a greater range and allow for a more accurate analysis with better precision to better represent the entire Disney+ catalog. One note is that all the ratings from TMDB are entirely crowd-sourced and so would reflect the views of a certain base of viewers and does not include any ratings of critics or a larger population like IMDB. "
   ]
  },
  {
   "cell_type": "markdown",
   "metadata": {},
   "source": [
    "### Analysis\n",
    "I am curious to see the total distribution of movies and shows across the Release Year History to see how extensive Disney+'s library is. I will be using the original dataset as the rows removed are not relevant and do not provide a full picture of the entire library.   "
   ]
  },
  {
   "cell_type": "code",
   "execution_count": 8,
   "metadata": {},
   "outputs": [
    {
     "data": {
      "application/vnd.plotly.v1+json": {
       "config": {
        "plotlyServerURL": "https://plot.ly"
       },
       "data": [
        {
         "alignmentgroup": "True",
         "bingroup": "x",
         "hovertemplate": "Type=MOVIE<br>Release Year=%{x}<br>count=%{y}<extra></extra>",
         "legendgroup": "MOVIE",
         "marker": {
          "color": "#B9D8EB",
          "pattern": {
           "shape": ""
          }
         },
         "name": "MOVIE",
         "offsetgroup": "MOVIE",
         "orientation": "v",
         "showlegend": true,
         "type": "histogram",
         "x": [
          1940,
          1937,
          1940,
          1942,
          1950,
          1949,
          1950,
          1941,
          1944,
          1941,
          1947,
          1928,
          1942,
          1942,
          1948,
          1938,
          1933,
          1940,
          1932,
          1940,
          1950,
          1939,
          1933,
          1937,
          1934,
          1936,
          1934,
          1944,
          1936,
          1932,
          1942,
          1937,
          1939,
          1942,
          1947,
          1934,
          1935,
          1938,
          1937,
          1947,
          1941,
          1942,
          1950,
          1941,
          1938,
          1943,
          1935,
          1938,
          1939,
          1935,
          1935,
          1937,
          1948,
          1936,
          1948,
          1940,
          1946,
          1934,
          1941,
          1947,
          1948,
          1936,
          1939,
          1949,
          1939,
          1933,
          1937,
          1932,
          1949,
          1949,
          1942,
          1946,
          1936,
          1941,
          1949,
          1940,
          1941,
          1941,
          1950,
          1950,
          1947,
          1940,
          1948,
          1936,
          1965,
          1977,
          1964,
          1979,
          1955,
          1969,
          1954,
          1980,
          1979,
          1951,
          1960,
          1970,
          1961,
          1973,
          1963,
          1953,
          1971,
          1957,
          1967,
          1959,
          1955,
          1977,
          1968,
          1977,
          1961,
          1959,
          1961,
          1977,
          1975,
          1976,
          1975,
          1959,
          1959,
          1960,
          1961,
          1965,
          1974,
          1977,
          1969,
          1978,
          1958,
          1968,
          1952,
          1952,
          1967,
          1976,
          1963,
          1962,
          1972,
          1964,
          1955,
          1977,
          1966,
          1967,
          1961,
          1975,
          1976,
          1978,
          1959,
          1979,
          1974,
          1976,
          1957,
          1979,
          1972,
          1971,
          1974,
          1964,
          1953,
          1980,
          1954,
          1978,
          1971,
          1963,
          1956,
          1955,
          1956,
          1978,
          1962,
          1959,
          1972,
          1977,
          1952,
          1965,
          1974,
          1975,
          1962,
          1953,
          1954,
          1952,
          1957,
          1980,
          1955,
          1952,
          1957,
          1952,
          1956,
          1955,
          1951,
          1955,
          1953,
          1953,
          1953,
          1969,
          1955,
          1952,
          1951,
          1980,
          1951,
          1954,
          1977,
          1952,
          1955,
          1966,
          1987,
          1990,
          1988,
          1988,
          1987,
          1985,
          1990,
          1989,
          1984,
          1986,
          1982,
          1987,
          1985,
          1983,
          1989,
          1988,
          1981,
          1985,
          1984,
          1986,
          1989,
          1988,
          1988,
          1985,
          1990,
          1981,
          1990,
          1984,
          1990,
          1990,
          1987,
          1983,
          1981,
          1986,
          1990,
          1989,
          1985,
          1986,
          1986,
          1987,
          1989,
          1988,
          1986,
          1984,
          1989,
          1986,
          1987,
          1999,
          2000,
          1993,
          1999,
          2000,
          1995,
          1998,
          1995,
          1995,
          1991,
          1992,
          1997,
          2000,
          1996,
          1993,
          1999,
          1999,
          1993,
          1993,
          1993,
          1992,
          1995,
          1994,
          1994,
          1992,
          1998,
          1992,
          1999,
          1997,
          1998,
          1996,
          1991,
          1996,
          1997,
          1995,
          1999,
          1993,
          1994,
          1997,
          1992,
          1993,
          1999,
          1991,
          1994,
          1995,
          2000,
          1992,
          2000,
          1997,
          1997,
          1999,
          1995,
          1996,
          1994,
          1996,
          1995,
          1993,
          1996,
          1999,
          1997,
          1998,
          1994,
          1992,
          1994,
          1995,
          1991,
          1996,
          1996,
          1999,
          1995,
          1995,
          1997,
          1998,
          1998,
          1999,
          1994,
          1998,
          1996,
          2000,
          1998,
          1999,
          1996,
          1997,
          1995,
          1993,
          1994,
          2000,
          1994,
          1997,
          2000,
          1999,
          2000,
          1998,
          1999,
          1999,
          1998,
          1997,
          1999,
          1998,
          1999,
          2000,
          1999,
          1997,
          1999,
          1995,
          1999,
          1998,
          2000,
          1998,
          1998,
          2000,
          1999,
          1998,
          2000,
          1997,
          1998,
          2000,
          2000,
          1998,
          2000,
          1993,
          2000,
          2000,
          2000,
          2000,
          2000,
          2000,
          1991,
          2003,
          2009,
          2004,
          2009,
          2006,
          2010,
          2007,
          2006,
          2003,
          2005,
          2008,
          2010,
          2008,
          2002,
          2001,
          2010,
          2005,
          2010,
          2007,
          2007,
          2007,
          2002,
          2003,
          2003,
          2004,
          2009,
          2010,
          2004,
          2007,
          2003,
          2009,
          2007,
          2009,
          2005,
          2010,
          2010,
          2003,
          2008,
          2010,
          2006,
          2007,
          2001,
          2002,
          2004,
          2009,
          2002,
          2005,
          2001,
          2006,
          2005,
          2005,
          2007,
          2005,
          2005,
          2006,
          2010,
          2010,
          2002,
          2008,
          2010,
          2008,
          2010,
          2006,
          2008,
          2006,
          2005,
          2009,
          2006,
          2004,
          2003,
          2010,
          2010,
          2009,
          2004,
          2005,
          2008,
          2006,
          2009,
          2002,
          2002,
          2004,
          2003,
          2007,
          2010,
          2006,
          2009,
          2010,
          2003,
          2006,
          2005,
          2007,
          2006,
          2007,
          2003,
          2004,
          2006,
          2008,
          2007,
          2002,
          2010,
          2002,
          2002,
          2004,
          2008,
          2008,
          2009,
          2004,
          2008,
          2008,
          2005,
          2010,
          2005,
          2004,
          2008,
          2006,
          2005,
          2005,
          2002,
          2010,
          2001,
          2004,
          2006,
          2008,
          2009,
          2002,
          2004,
          2003,
          2009,
          2010,
          2005,
          2005,
          2001,
          2002,
          2005,
          2009,
          2007,
          2008,
          2005,
          2001,
          2005,
          2008,
          2010,
          2009,
          2010,
          2009,
          2003,
          2006,
          2010,
          2003,
          2003,
          2003,
          2001,
          2003,
          2002,
          2009,
          2010,
          2001,
          2001,
          2002,
          2009,
          2002,
          2007,
          2004,
          2006,
          2007,
          2006,
          2002,
          2002,
          2010,
          2005,
          2006,
          2004,
          2004,
          2008,
          2006,
          2005,
          2009,
          2006,
          2005,
          2006,
          2003,
          2008,
          2002,
          2005,
          2008,
          2002,
          2009,
          2006,
          2009,
          2008,
          2004,
          2002,
          2007,
          2006,
          2009,
          2010,
          2007,
          2003,
          2006,
          2008,
          2010,
          2008,
          2002,
          2003,
          2002,
          2009,
          2002,
          2003,
          2010,
          2009,
          2001,
          2008,
          2009,
          2008,
          2001,
          2003,
          2007,
          2008,
          2005,
          2003,
          2005,
          2007,
          2006,
          2009,
          2010,
          2010,
          2004,
          2003,
          2006,
          2003,
          2009,
          2001,
          2005,
          2008,
          2005,
          2006,
          2010,
          2004,
          2009,
          2003,
          2004,
          2001,
          2007,
          2010,
          2004,
          2009,
          2008,
          2003,
          2002,
          2005,
          2001,
          2001,
          2009,
          2009,
          2010,
          2004,
          2009,
          2011,
          2011,
          2012,
          2011,
          2012,
          2011,
          2012,
          2012,
          2012,
          2011,
          2011,
          2012,
          2011,
          2011,
          2012,
          2012,
          2011,
          2012,
          2011,
          2011,
          2012,
          2011,
          2011,
          2012,
          2011,
          2012,
          2011,
          2011,
          2012,
          2012,
          2011,
          2011,
          2011,
          2012,
          2011,
          2012,
          2011,
          2012,
          2011,
          2012,
          2011,
          2012,
          2012,
          2011,
          2012,
          2011,
          2011,
          2012,
          2012,
          2011,
          2011,
          2012,
          2012,
          2012,
          2012,
          2011,
          2012,
          2011,
          2011,
          2011,
          2012,
          2012,
          2012,
          2011,
          2011,
          2012,
          2012,
          2014,
          2014,
          2014,
          2014,
          2014,
          2014,
          2013,
          2014,
          2013,
          2013,
          2014,
          2013,
          2014,
          2013,
          2014,
          2013,
          2014,
          2013,
          2013,
          2014,
          2014,
          2013,
          2013,
          2014,
          2014,
          2014,
          2014,
          2014,
          2014,
          2014,
          2014,
          2014,
          2013,
          2014,
          2014,
          2014,
          2013,
          2013,
          2014,
          2014,
          2014,
          2013,
          2014,
          2013,
          2013,
          2014,
          2013,
          2013,
          2013,
          2014,
          2014,
          2014,
          2013,
          2014,
          2013,
          2013,
          2014,
          2014,
          2014,
          2013,
          2013,
          2014,
          2016,
          2016,
          2016,
          2015,
          2016,
          2016,
          2016,
          2015,
          2016,
          2016,
          2015,
          2016,
          2015,
          2015,
          2015,
          2016,
          2016,
          2015,
          2015,
          2015,
          2016,
          2016,
          2016,
          2016,
          2016,
          2016,
          2016,
          2016,
          2016,
          2015,
          2015,
          2016,
          2015,
          2015,
          2016,
          2015,
          2016,
          2016,
          2015,
          2016,
          2016,
          2015,
          2015,
          2015,
          2015,
          2016,
          2016,
          2015,
          2015,
          2016,
          2016,
          2016,
          2016,
          2015,
          2015,
          2016,
          2016,
          2015,
          2015,
          2016,
          2015,
          2017,
          2018,
          2018,
          2017,
          2017,
          2017,
          2018,
          2018,
          2018,
          2017,
          2018,
          2018,
          2018,
          2017,
          2018,
          2017,
          2017,
          2018,
          2018,
          2017,
          2017,
          2017,
          2018,
          2017,
          2018,
          2018,
          2017,
          2017,
          2017,
          2018,
          2018,
          2018,
          2017,
          2017,
          2017,
          2017,
          2017,
          2018,
          2018,
          2018,
          2017,
          2017,
          2018,
          2017,
          2018,
          2017,
          2017,
          2018,
          2018,
          2017,
          2018,
          2017,
          2017,
          2018,
          2018,
          2017,
          2018,
          2017,
          2017,
          2018,
          2018,
          2017,
          2017,
          2018,
          2018,
          2017,
          2018,
          2018,
          2017,
          2020,
          2019,
          2019,
          2020,
          2019,
          2019,
          2019,
          2020,
          2019,
          2019,
          2019,
          2019,
          2020,
          2020,
          2019,
          2020,
          2019,
          2019,
          2019,
          2020,
          2020,
          2020,
          2020,
          2020,
          2019,
          2020,
          2020,
          2020,
          2020,
          2019,
          2020,
          2020,
          2020,
          2020,
          2020,
          2020,
          2020,
          2020,
          2020,
          2020,
          2019,
          2020,
          2019,
          2020,
          2019,
          2019,
          2020,
          2019,
          2020,
          2020,
          2019,
          2019,
          2019,
          2020,
          2020,
          2020,
          2020,
          2019,
          2020,
          2019,
          2019,
          2020,
          2020,
          2020,
          2020,
          2020,
          2020,
          2019,
          2020,
          2019,
          2019,
          2019,
          2019,
          2019,
          2019,
          2020,
          2019,
          2020,
          2020,
          2019,
          2020,
          2020,
          2019,
          2019,
          2020,
          2019,
          2019,
          2019,
          2019,
          2019,
          2019,
          2019,
          2019,
          2020,
          2020,
          2019,
          2020,
          2020,
          2020,
          2020,
          2020,
          2019,
          2019,
          2019,
          2019,
          2019,
          2020,
          2020,
          2019,
          2019,
          2020,
          2020,
          2020,
          2020,
          2020,
          2020,
          2020,
          2020,
          2020,
          2020,
          2020,
          2020,
          2020,
          2020,
          2020,
          2020,
          2020,
          2020,
          2020,
          2020,
          2020,
          2020,
          2021,
          2021,
          2022,
          2021,
          2021,
          2021,
          2021,
          2021,
          2021,
          2021,
          2021,
          2021,
          2022,
          2021,
          2022,
          2022,
          2022,
          2022,
          2021,
          2022,
          2021,
          2022,
          2021,
          2021,
          2021,
          2022,
          2021,
          2021,
          2021,
          2021,
          2022,
          2021,
          2021,
          2022,
          2021,
          2022,
          2022,
          2021,
          2022,
          2021,
          2021,
          2021,
          2021,
          2021,
          2021,
          2021,
          2021,
          2022,
          2021,
          2021,
          2021,
          2021,
          2022,
          2021,
          2022,
          2021,
          2022,
          2021,
          2021,
          2021,
          2021,
          2021,
          2021,
          2021,
          2021,
          2021,
          2022,
          2021,
          2021,
          2022,
          2021,
          2021,
          2021,
          2021,
          2022,
          2021,
          2021,
          2021,
          2022,
          2021,
          2021,
          2021,
          2021,
          2021,
          2021,
          2021,
          2021,
          2021,
          2021,
          2022,
          2021,
          2021,
          2021,
          2021,
          2021,
          2021,
          2021,
          2021,
          2021
         ],
         "xaxis": "x",
         "yaxis": "y"
        },
        {
         "alignmentgroup": "True",
         "boxpoints": "all",
         "fillcolor": "rgba(255,255,255,0)",
         "hoveron": "points",
         "hovertemplate": "Type=MOVIE<br>Release Year=%{x}<extra></extra>",
         "jitter": 0,
         "legendgroup": "MOVIE",
         "line": {
          "color": "rgba(255,255,255,0)"
         },
         "marker": {
          "color": "#B9D8EB",
          "symbol": "line-ns-open"
         },
         "name": "MOVIE",
         "offsetgroup": "MOVIE",
         "showlegend": false,
         "type": "box",
         "x": [
          1940,
          1937,
          1940,
          1942,
          1950,
          1949,
          1950,
          1941,
          1944,
          1941,
          1947,
          1928,
          1942,
          1942,
          1948,
          1938,
          1933,
          1940,
          1932,
          1940,
          1950,
          1939,
          1933,
          1937,
          1934,
          1936,
          1934,
          1944,
          1936,
          1932,
          1942,
          1937,
          1939,
          1942,
          1947,
          1934,
          1935,
          1938,
          1937,
          1947,
          1941,
          1942,
          1950,
          1941,
          1938,
          1943,
          1935,
          1938,
          1939,
          1935,
          1935,
          1937,
          1948,
          1936,
          1948,
          1940,
          1946,
          1934,
          1941,
          1947,
          1948,
          1936,
          1939,
          1949,
          1939,
          1933,
          1937,
          1932,
          1949,
          1949,
          1942,
          1946,
          1936,
          1941,
          1949,
          1940,
          1941,
          1941,
          1950,
          1950,
          1947,
          1940,
          1948,
          1936,
          1965,
          1977,
          1964,
          1979,
          1955,
          1969,
          1954,
          1980,
          1979,
          1951,
          1960,
          1970,
          1961,
          1973,
          1963,
          1953,
          1971,
          1957,
          1967,
          1959,
          1955,
          1977,
          1968,
          1977,
          1961,
          1959,
          1961,
          1977,
          1975,
          1976,
          1975,
          1959,
          1959,
          1960,
          1961,
          1965,
          1974,
          1977,
          1969,
          1978,
          1958,
          1968,
          1952,
          1952,
          1967,
          1976,
          1963,
          1962,
          1972,
          1964,
          1955,
          1977,
          1966,
          1967,
          1961,
          1975,
          1976,
          1978,
          1959,
          1979,
          1974,
          1976,
          1957,
          1979,
          1972,
          1971,
          1974,
          1964,
          1953,
          1980,
          1954,
          1978,
          1971,
          1963,
          1956,
          1955,
          1956,
          1978,
          1962,
          1959,
          1972,
          1977,
          1952,
          1965,
          1974,
          1975,
          1962,
          1953,
          1954,
          1952,
          1957,
          1980,
          1955,
          1952,
          1957,
          1952,
          1956,
          1955,
          1951,
          1955,
          1953,
          1953,
          1953,
          1969,
          1955,
          1952,
          1951,
          1980,
          1951,
          1954,
          1977,
          1952,
          1955,
          1966,
          1987,
          1990,
          1988,
          1988,
          1987,
          1985,
          1990,
          1989,
          1984,
          1986,
          1982,
          1987,
          1985,
          1983,
          1989,
          1988,
          1981,
          1985,
          1984,
          1986,
          1989,
          1988,
          1988,
          1985,
          1990,
          1981,
          1990,
          1984,
          1990,
          1990,
          1987,
          1983,
          1981,
          1986,
          1990,
          1989,
          1985,
          1986,
          1986,
          1987,
          1989,
          1988,
          1986,
          1984,
          1989,
          1986,
          1987,
          1999,
          2000,
          1993,
          1999,
          2000,
          1995,
          1998,
          1995,
          1995,
          1991,
          1992,
          1997,
          2000,
          1996,
          1993,
          1999,
          1999,
          1993,
          1993,
          1993,
          1992,
          1995,
          1994,
          1994,
          1992,
          1998,
          1992,
          1999,
          1997,
          1998,
          1996,
          1991,
          1996,
          1997,
          1995,
          1999,
          1993,
          1994,
          1997,
          1992,
          1993,
          1999,
          1991,
          1994,
          1995,
          2000,
          1992,
          2000,
          1997,
          1997,
          1999,
          1995,
          1996,
          1994,
          1996,
          1995,
          1993,
          1996,
          1999,
          1997,
          1998,
          1994,
          1992,
          1994,
          1995,
          1991,
          1996,
          1996,
          1999,
          1995,
          1995,
          1997,
          1998,
          1998,
          1999,
          1994,
          1998,
          1996,
          2000,
          1998,
          1999,
          1996,
          1997,
          1995,
          1993,
          1994,
          2000,
          1994,
          1997,
          2000,
          1999,
          2000,
          1998,
          1999,
          1999,
          1998,
          1997,
          1999,
          1998,
          1999,
          2000,
          1999,
          1997,
          1999,
          1995,
          1999,
          1998,
          2000,
          1998,
          1998,
          2000,
          1999,
          1998,
          2000,
          1997,
          1998,
          2000,
          2000,
          1998,
          2000,
          1993,
          2000,
          2000,
          2000,
          2000,
          2000,
          2000,
          1991,
          2003,
          2009,
          2004,
          2009,
          2006,
          2010,
          2007,
          2006,
          2003,
          2005,
          2008,
          2010,
          2008,
          2002,
          2001,
          2010,
          2005,
          2010,
          2007,
          2007,
          2007,
          2002,
          2003,
          2003,
          2004,
          2009,
          2010,
          2004,
          2007,
          2003,
          2009,
          2007,
          2009,
          2005,
          2010,
          2010,
          2003,
          2008,
          2010,
          2006,
          2007,
          2001,
          2002,
          2004,
          2009,
          2002,
          2005,
          2001,
          2006,
          2005,
          2005,
          2007,
          2005,
          2005,
          2006,
          2010,
          2010,
          2002,
          2008,
          2010,
          2008,
          2010,
          2006,
          2008,
          2006,
          2005,
          2009,
          2006,
          2004,
          2003,
          2010,
          2010,
          2009,
          2004,
          2005,
          2008,
          2006,
          2009,
          2002,
          2002,
          2004,
          2003,
          2007,
          2010,
          2006,
          2009,
          2010,
          2003,
          2006,
          2005,
          2007,
          2006,
          2007,
          2003,
          2004,
          2006,
          2008,
          2007,
          2002,
          2010,
          2002,
          2002,
          2004,
          2008,
          2008,
          2009,
          2004,
          2008,
          2008,
          2005,
          2010,
          2005,
          2004,
          2008,
          2006,
          2005,
          2005,
          2002,
          2010,
          2001,
          2004,
          2006,
          2008,
          2009,
          2002,
          2004,
          2003,
          2009,
          2010,
          2005,
          2005,
          2001,
          2002,
          2005,
          2009,
          2007,
          2008,
          2005,
          2001,
          2005,
          2008,
          2010,
          2009,
          2010,
          2009,
          2003,
          2006,
          2010,
          2003,
          2003,
          2003,
          2001,
          2003,
          2002,
          2009,
          2010,
          2001,
          2001,
          2002,
          2009,
          2002,
          2007,
          2004,
          2006,
          2007,
          2006,
          2002,
          2002,
          2010,
          2005,
          2006,
          2004,
          2004,
          2008,
          2006,
          2005,
          2009,
          2006,
          2005,
          2006,
          2003,
          2008,
          2002,
          2005,
          2008,
          2002,
          2009,
          2006,
          2009,
          2008,
          2004,
          2002,
          2007,
          2006,
          2009,
          2010,
          2007,
          2003,
          2006,
          2008,
          2010,
          2008,
          2002,
          2003,
          2002,
          2009,
          2002,
          2003,
          2010,
          2009,
          2001,
          2008,
          2009,
          2008,
          2001,
          2003,
          2007,
          2008,
          2005,
          2003,
          2005,
          2007,
          2006,
          2009,
          2010,
          2010,
          2004,
          2003,
          2006,
          2003,
          2009,
          2001,
          2005,
          2008,
          2005,
          2006,
          2010,
          2004,
          2009,
          2003,
          2004,
          2001,
          2007,
          2010,
          2004,
          2009,
          2008,
          2003,
          2002,
          2005,
          2001,
          2001,
          2009,
          2009,
          2010,
          2004,
          2009,
          2011,
          2011,
          2012,
          2011,
          2012,
          2011,
          2012,
          2012,
          2012,
          2011,
          2011,
          2012,
          2011,
          2011,
          2012,
          2012,
          2011,
          2012,
          2011,
          2011,
          2012,
          2011,
          2011,
          2012,
          2011,
          2012,
          2011,
          2011,
          2012,
          2012,
          2011,
          2011,
          2011,
          2012,
          2011,
          2012,
          2011,
          2012,
          2011,
          2012,
          2011,
          2012,
          2012,
          2011,
          2012,
          2011,
          2011,
          2012,
          2012,
          2011,
          2011,
          2012,
          2012,
          2012,
          2012,
          2011,
          2012,
          2011,
          2011,
          2011,
          2012,
          2012,
          2012,
          2011,
          2011,
          2012,
          2012,
          2014,
          2014,
          2014,
          2014,
          2014,
          2014,
          2013,
          2014,
          2013,
          2013,
          2014,
          2013,
          2014,
          2013,
          2014,
          2013,
          2014,
          2013,
          2013,
          2014,
          2014,
          2013,
          2013,
          2014,
          2014,
          2014,
          2014,
          2014,
          2014,
          2014,
          2014,
          2014,
          2013,
          2014,
          2014,
          2014,
          2013,
          2013,
          2014,
          2014,
          2014,
          2013,
          2014,
          2013,
          2013,
          2014,
          2013,
          2013,
          2013,
          2014,
          2014,
          2014,
          2013,
          2014,
          2013,
          2013,
          2014,
          2014,
          2014,
          2013,
          2013,
          2014,
          2016,
          2016,
          2016,
          2015,
          2016,
          2016,
          2016,
          2015,
          2016,
          2016,
          2015,
          2016,
          2015,
          2015,
          2015,
          2016,
          2016,
          2015,
          2015,
          2015,
          2016,
          2016,
          2016,
          2016,
          2016,
          2016,
          2016,
          2016,
          2016,
          2015,
          2015,
          2016,
          2015,
          2015,
          2016,
          2015,
          2016,
          2016,
          2015,
          2016,
          2016,
          2015,
          2015,
          2015,
          2015,
          2016,
          2016,
          2015,
          2015,
          2016,
          2016,
          2016,
          2016,
          2015,
          2015,
          2016,
          2016,
          2015,
          2015,
          2016,
          2015,
          2017,
          2018,
          2018,
          2017,
          2017,
          2017,
          2018,
          2018,
          2018,
          2017,
          2018,
          2018,
          2018,
          2017,
          2018,
          2017,
          2017,
          2018,
          2018,
          2017,
          2017,
          2017,
          2018,
          2017,
          2018,
          2018,
          2017,
          2017,
          2017,
          2018,
          2018,
          2018,
          2017,
          2017,
          2017,
          2017,
          2017,
          2018,
          2018,
          2018,
          2017,
          2017,
          2018,
          2017,
          2018,
          2017,
          2017,
          2018,
          2018,
          2017,
          2018,
          2017,
          2017,
          2018,
          2018,
          2017,
          2018,
          2017,
          2017,
          2018,
          2018,
          2017,
          2017,
          2018,
          2018,
          2017,
          2018,
          2018,
          2017,
          2020,
          2019,
          2019,
          2020,
          2019,
          2019,
          2019,
          2020,
          2019,
          2019,
          2019,
          2019,
          2020,
          2020,
          2019,
          2020,
          2019,
          2019,
          2019,
          2020,
          2020,
          2020,
          2020,
          2020,
          2019,
          2020,
          2020,
          2020,
          2020,
          2019,
          2020,
          2020,
          2020,
          2020,
          2020,
          2020,
          2020,
          2020,
          2020,
          2020,
          2019,
          2020,
          2019,
          2020,
          2019,
          2019,
          2020,
          2019,
          2020,
          2020,
          2019,
          2019,
          2019,
          2020,
          2020,
          2020,
          2020,
          2019,
          2020,
          2019,
          2019,
          2020,
          2020,
          2020,
          2020,
          2020,
          2020,
          2019,
          2020,
          2019,
          2019,
          2019,
          2019,
          2019,
          2019,
          2020,
          2019,
          2020,
          2020,
          2019,
          2020,
          2020,
          2019,
          2019,
          2020,
          2019,
          2019,
          2019,
          2019,
          2019,
          2019,
          2019,
          2019,
          2020,
          2020,
          2019,
          2020,
          2020,
          2020,
          2020,
          2020,
          2019,
          2019,
          2019,
          2019,
          2019,
          2020,
          2020,
          2019,
          2019,
          2020,
          2020,
          2020,
          2020,
          2020,
          2020,
          2020,
          2020,
          2020,
          2020,
          2020,
          2020,
          2020,
          2020,
          2020,
          2020,
          2020,
          2020,
          2020,
          2020,
          2020,
          2020,
          2021,
          2021,
          2022,
          2021,
          2021,
          2021,
          2021,
          2021,
          2021,
          2021,
          2021,
          2021,
          2022,
          2021,
          2022,
          2022,
          2022,
          2022,
          2021,
          2022,
          2021,
          2022,
          2021,
          2021,
          2021,
          2022,
          2021,
          2021,
          2021,
          2021,
          2022,
          2021,
          2021,
          2022,
          2021,
          2022,
          2022,
          2021,
          2022,
          2021,
          2021,
          2021,
          2021,
          2021,
          2021,
          2021,
          2021,
          2022,
          2021,
          2021,
          2021,
          2021,
          2022,
          2021,
          2022,
          2021,
          2022,
          2021,
          2021,
          2021,
          2021,
          2021,
          2021,
          2021,
          2021,
          2021,
          2022,
          2021,
          2021,
          2022,
          2021,
          2021,
          2021,
          2021,
          2022,
          2021,
          2021,
          2021,
          2022,
          2021,
          2021,
          2021,
          2021,
          2021,
          2021,
          2021,
          2021,
          2021,
          2021,
          2022,
          2021,
          2021,
          2021,
          2021,
          2021,
          2021,
          2021,
          2021,
          2021
         ],
         "xaxis": "x2",
         "yaxis": "y2"
        },
        {
         "alignmentgroup": "True",
         "bingroup": "x",
         "hovertemplate": "Type=SHOW<br>Release Year=%{x}<br>count=%{y}<extra></extra>",
         "legendgroup": "SHOW",
         "marker": {
          "color": "#C39BD3",
          "pattern": {
           "shape": ""
          }
         },
         "name": "SHOW",
         "offsetgroup": "SHOW",
         "orientation": "v",
         "showlegend": true,
         "type": "histogram",
         "x": [
          1976,
          1973,
          1955,
          1979,
          1955,
          1989,
          1989,
          1987,
          1989,
          1981,
          1981,
          1985,
          1990,
          1985,
          1988,
          1985,
          1993,
          1994,
          1992,
          1991,
          1991,
          1994,
          2000,
          1997,
          1994,
          1999,
          1996,
          1997,
          1998,
          1991,
          2000,
          1994,
          1992,
          1998,
          1997,
          1993,
          1995,
          1998,
          1998,
          1992,
          1999,
          1996,
          1992,
          1997,
          1999,
          1996,
          2000,
          2008,
          2003,
          2007,
          2004,
          2001,
          2005,
          2002,
          2006,
          2010,
          2009,
          2006,
          2005,
          2007,
          2001,
          2010,
          2003,
          2009,
          2010,
          2005,
          2010,
          2003,
          2004,
          2009,
          2006,
          2009,
          2008,
          2009,
          2006,
          2009,
          2001,
          2004,
          2007,
          2010,
          2006,
          2008,
          2010,
          2008,
          2004,
          2007,
          2009,
          2010,
          2008,
          2010,
          2011,
          2012,
          2011,
          2012,
          2012,
          2012,
          2011,
          2012,
          2011,
          2011,
          2012,
          2012,
          2011,
          2011,
          2012,
          2011,
          2012,
          2012,
          2011,
          2012,
          2011,
          2012,
          2011,
          2012,
          2011,
          2012,
          2012,
          2014,
          2014,
          2013,
          2014,
          2014,
          2013,
          2014,
          2013,
          2014,
          2013,
          2013,
          2013,
          2014,
          2014,
          2013,
          2013,
          2013,
          2013,
          2014,
          2014,
          2013,
          2014,
          2014,
          2013,
          2013,
          2014,
          2014,
          2013,
          2014,
          2013,
          2015,
          2015,
          2015,
          2015,
          2015,
          2016,
          2016,
          2015,
          2016,
          2015,
          2015,
          2015,
          2015,
          2015,
          2015,
          2016,
          2016,
          2016,
          2015,
          2016,
          2015,
          2015,
          2015,
          2016,
          2015,
          2016,
          2016,
          2015,
          2016,
          2016,
          2016,
          2016,
          2016,
          2015,
          2016,
          2015,
          2015,
          2016,
          2016,
          2015,
          2015,
          2016,
          2016,
          2015,
          2016,
          2016,
          2015,
          2018,
          2017,
          2017,
          2017,
          2017,
          2017,
          2017,
          2018,
          2018,
          2017,
          2018,
          2018,
          2017,
          2017,
          2017,
          2017,
          2018,
          2018,
          2017,
          2017,
          2018,
          2017,
          2018,
          2017,
          2018,
          2017,
          2017,
          2017,
          2017,
          2017,
          2017,
          2018,
          2017,
          2018,
          2017,
          2017,
          2018,
          2017,
          2018,
          2017,
          2018,
          2017,
          2018,
          2018,
          2018,
          2017,
          2017,
          2018,
          2018,
          2017,
          2017,
          2018,
          2018,
          2018,
          2018,
          2017,
          2018,
          2018,
          2018,
          2019,
          2020,
          2019,
          2020,
          2019,
          2020,
          2019,
          2019,
          2019,
          2019,
          2020,
          2019,
          2020,
          2020,
          2019,
          2020,
          2020,
          2020,
          2019,
          2020,
          2020,
          2019,
          2019,
          2019,
          2019,
          2020,
          2020,
          2019,
          2020,
          2020,
          2019,
          2020,
          2020,
          2019,
          2019,
          2020,
          2019,
          2019,
          2020,
          2020,
          2019,
          2019,
          2019,
          2020,
          2020,
          2020,
          2019,
          2019,
          2019,
          2020,
          2020,
          2019,
          2020,
          2019,
          2020,
          2019,
          2019,
          2020,
          2020,
          2020,
          2020,
          2020,
          2019,
          2020,
          2019,
          2020,
          2020,
          2019,
          2019,
          2020,
          2019,
          2020,
          2019,
          2020,
          2020,
          2020,
          2019,
          2020,
          2020,
          2019,
          2020,
          2019,
          2019,
          2020,
          2020,
          2019,
          2020,
          2019,
          2019,
          2020,
          2022,
          2021,
          2021,
          2021,
          2021,
          2021,
          2021,
          2021,
          2021,
          2021,
          2021,
          2022,
          2021,
          2021,
          2021,
          2021,
          2022,
          2022,
          2021,
          2021,
          2021,
          2021,
          2022,
          2021,
          2021,
          2022,
          2022,
          2021,
          2021,
          2021,
          2021,
          2021,
          2021,
          2022,
          2021,
          2021,
          2021,
          2021,
          2021,
          2021,
          2022,
          2021,
          2021,
          2021,
          2021,
          2021,
          2021,
          2021,
          2021,
          2021,
          2021,
          2021,
          2021,
          2021,
          2022,
          2021,
          2022,
          2021,
          2021,
          2021,
          2021,
          2021,
          2021,
          2021,
          2022,
          2021,
          2021,
          2021,
          2021,
          2021,
          2021,
          2021
         ],
         "xaxis": "x",
         "yaxis": "y"
        },
        {
         "alignmentgroup": "True",
         "boxpoints": "all",
         "fillcolor": "rgba(255,255,255,0)",
         "hoveron": "points",
         "hovertemplate": "Type=SHOW<br>Release Year=%{x}<extra></extra>",
         "jitter": 0,
         "legendgroup": "SHOW",
         "line": {
          "color": "rgba(255,255,255,0)"
         },
         "marker": {
          "color": "#C39BD3",
          "symbol": "line-ns-open"
         },
         "name": "SHOW",
         "offsetgroup": "SHOW",
         "showlegend": false,
         "type": "box",
         "x": [
          1976,
          1973,
          1955,
          1979,
          1955,
          1989,
          1989,
          1987,
          1989,
          1981,
          1981,
          1985,
          1990,
          1985,
          1988,
          1985,
          1993,
          1994,
          1992,
          1991,
          1991,
          1994,
          2000,
          1997,
          1994,
          1999,
          1996,
          1997,
          1998,
          1991,
          2000,
          1994,
          1992,
          1998,
          1997,
          1993,
          1995,
          1998,
          1998,
          1992,
          1999,
          1996,
          1992,
          1997,
          1999,
          1996,
          2000,
          2008,
          2003,
          2007,
          2004,
          2001,
          2005,
          2002,
          2006,
          2010,
          2009,
          2006,
          2005,
          2007,
          2001,
          2010,
          2003,
          2009,
          2010,
          2005,
          2010,
          2003,
          2004,
          2009,
          2006,
          2009,
          2008,
          2009,
          2006,
          2009,
          2001,
          2004,
          2007,
          2010,
          2006,
          2008,
          2010,
          2008,
          2004,
          2007,
          2009,
          2010,
          2008,
          2010,
          2011,
          2012,
          2011,
          2012,
          2012,
          2012,
          2011,
          2012,
          2011,
          2011,
          2012,
          2012,
          2011,
          2011,
          2012,
          2011,
          2012,
          2012,
          2011,
          2012,
          2011,
          2012,
          2011,
          2012,
          2011,
          2012,
          2012,
          2014,
          2014,
          2013,
          2014,
          2014,
          2013,
          2014,
          2013,
          2014,
          2013,
          2013,
          2013,
          2014,
          2014,
          2013,
          2013,
          2013,
          2013,
          2014,
          2014,
          2013,
          2014,
          2014,
          2013,
          2013,
          2014,
          2014,
          2013,
          2014,
          2013,
          2015,
          2015,
          2015,
          2015,
          2015,
          2016,
          2016,
          2015,
          2016,
          2015,
          2015,
          2015,
          2015,
          2015,
          2015,
          2016,
          2016,
          2016,
          2015,
          2016,
          2015,
          2015,
          2015,
          2016,
          2015,
          2016,
          2016,
          2015,
          2016,
          2016,
          2016,
          2016,
          2016,
          2015,
          2016,
          2015,
          2015,
          2016,
          2016,
          2015,
          2015,
          2016,
          2016,
          2015,
          2016,
          2016,
          2015,
          2018,
          2017,
          2017,
          2017,
          2017,
          2017,
          2017,
          2018,
          2018,
          2017,
          2018,
          2018,
          2017,
          2017,
          2017,
          2017,
          2018,
          2018,
          2017,
          2017,
          2018,
          2017,
          2018,
          2017,
          2018,
          2017,
          2017,
          2017,
          2017,
          2017,
          2017,
          2018,
          2017,
          2018,
          2017,
          2017,
          2018,
          2017,
          2018,
          2017,
          2018,
          2017,
          2018,
          2018,
          2018,
          2017,
          2017,
          2018,
          2018,
          2017,
          2017,
          2018,
          2018,
          2018,
          2018,
          2017,
          2018,
          2018,
          2018,
          2019,
          2020,
          2019,
          2020,
          2019,
          2020,
          2019,
          2019,
          2019,
          2019,
          2020,
          2019,
          2020,
          2020,
          2019,
          2020,
          2020,
          2020,
          2019,
          2020,
          2020,
          2019,
          2019,
          2019,
          2019,
          2020,
          2020,
          2019,
          2020,
          2020,
          2019,
          2020,
          2020,
          2019,
          2019,
          2020,
          2019,
          2019,
          2020,
          2020,
          2019,
          2019,
          2019,
          2020,
          2020,
          2020,
          2019,
          2019,
          2019,
          2020,
          2020,
          2019,
          2020,
          2019,
          2020,
          2019,
          2019,
          2020,
          2020,
          2020,
          2020,
          2020,
          2019,
          2020,
          2019,
          2020,
          2020,
          2019,
          2019,
          2020,
          2019,
          2020,
          2019,
          2020,
          2020,
          2020,
          2019,
          2020,
          2020,
          2019,
          2020,
          2019,
          2019,
          2020,
          2020,
          2019,
          2020,
          2019,
          2019,
          2020,
          2022,
          2021,
          2021,
          2021,
          2021,
          2021,
          2021,
          2021,
          2021,
          2021,
          2021,
          2022,
          2021,
          2021,
          2021,
          2021,
          2022,
          2022,
          2021,
          2021,
          2021,
          2021,
          2022,
          2021,
          2021,
          2022,
          2022,
          2021,
          2021,
          2021,
          2021,
          2021,
          2021,
          2022,
          2021,
          2021,
          2021,
          2021,
          2021,
          2021,
          2022,
          2021,
          2021,
          2021,
          2021,
          2021,
          2021,
          2021,
          2021,
          2021,
          2021,
          2021,
          2021,
          2021,
          2022,
          2021,
          2022,
          2021,
          2021,
          2021,
          2021,
          2021,
          2021,
          2021,
          2022,
          2021,
          2021,
          2021,
          2021,
          2021,
          2021,
          2021
         ],
         "xaxis": "x2",
         "yaxis": "y2"
        }
       ],
       "layout": {
        "barmode": "overlay",
        "font": {
         "color": "#FFFFFF",
         "family": "Verdana",
         "size": 13
        },
        "legend": {
         "title": {
          "text": "Type"
         },
         "tracegroupgap": 0
        },
        "paper_bgcolor": "#1A1D29",
        "plot_bgcolor": "#1A1D29",
        "template": {
         "data": {
          "bar": [
           {
            "error_x": {
             "color": "#f2f5fa"
            },
            "error_y": {
             "color": "#f2f5fa"
            },
            "marker": {
             "line": {
              "color": "rgb(17,17,17)",
              "width": 0.5
             },
             "pattern": {
              "fillmode": "overlay",
              "size": 10,
              "solidity": 0.2
             }
            },
            "type": "bar"
           }
          ],
          "barpolar": [
           {
            "marker": {
             "line": {
              "color": "rgb(17,17,17)",
              "width": 0.5
             },
             "pattern": {
              "fillmode": "overlay",
              "size": 10,
              "solidity": 0.2
             }
            },
            "type": "barpolar"
           }
          ],
          "carpet": [
           {
            "aaxis": {
             "endlinecolor": "#A2B1C6",
             "gridcolor": "#506784",
             "linecolor": "#506784",
             "minorgridcolor": "#506784",
             "startlinecolor": "#A2B1C6"
            },
            "baxis": {
             "endlinecolor": "#A2B1C6",
             "gridcolor": "#506784",
             "linecolor": "#506784",
             "minorgridcolor": "#506784",
             "startlinecolor": "#A2B1C6"
            },
            "type": "carpet"
           }
          ],
          "choropleth": [
           {
            "colorbar": {
             "outlinewidth": 0,
             "ticks": ""
            },
            "type": "choropleth"
           }
          ],
          "contour": [
           {
            "colorbar": {
             "outlinewidth": 0,
             "ticks": ""
            },
            "colorscale": [
             [
              0,
              "#0d0887"
             ],
             [
              0.1111111111111111,
              "#46039f"
             ],
             [
              0.2222222222222222,
              "#7201a8"
             ],
             [
              0.3333333333333333,
              "#9c179e"
             ],
             [
              0.4444444444444444,
              "#bd3786"
             ],
             [
              0.5555555555555556,
              "#d8576b"
             ],
             [
              0.6666666666666666,
              "#ed7953"
             ],
             [
              0.7777777777777778,
              "#fb9f3a"
             ],
             [
              0.8888888888888888,
              "#fdca26"
             ],
             [
              1,
              "#f0f921"
             ]
            ],
            "type": "contour"
           }
          ],
          "contourcarpet": [
           {
            "colorbar": {
             "outlinewidth": 0,
             "ticks": ""
            },
            "type": "contourcarpet"
           }
          ],
          "heatmap": [
           {
            "colorbar": {
             "outlinewidth": 0,
             "ticks": ""
            },
            "colorscale": [
             [
              0,
              "#0d0887"
             ],
             [
              0.1111111111111111,
              "#46039f"
             ],
             [
              0.2222222222222222,
              "#7201a8"
             ],
             [
              0.3333333333333333,
              "#9c179e"
             ],
             [
              0.4444444444444444,
              "#bd3786"
             ],
             [
              0.5555555555555556,
              "#d8576b"
             ],
             [
              0.6666666666666666,
              "#ed7953"
             ],
             [
              0.7777777777777778,
              "#fb9f3a"
             ],
             [
              0.8888888888888888,
              "#fdca26"
             ],
             [
              1,
              "#f0f921"
             ]
            ],
            "type": "heatmap"
           }
          ],
          "heatmapgl": [
           {
            "colorbar": {
             "outlinewidth": 0,
             "ticks": ""
            },
            "colorscale": [
             [
              0,
              "#0d0887"
             ],
             [
              0.1111111111111111,
              "#46039f"
             ],
             [
              0.2222222222222222,
              "#7201a8"
             ],
             [
              0.3333333333333333,
              "#9c179e"
             ],
             [
              0.4444444444444444,
              "#bd3786"
             ],
             [
              0.5555555555555556,
              "#d8576b"
             ],
             [
              0.6666666666666666,
              "#ed7953"
             ],
             [
              0.7777777777777778,
              "#fb9f3a"
             ],
             [
              0.8888888888888888,
              "#fdca26"
             ],
             [
              1,
              "#f0f921"
             ]
            ],
            "type": "heatmapgl"
           }
          ],
          "histogram": [
           {
            "marker": {
             "pattern": {
              "fillmode": "overlay",
              "size": 10,
              "solidity": 0.2
             }
            },
            "type": "histogram"
           }
          ],
          "histogram2d": [
           {
            "colorbar": {
             "outlinewidth": 0,
             "ticks": ""
            },
            "colorscale": [
             [
              0,
              "#0d0887"
             ],
             [
              0.1111111111111111,
              "#46039f"
             ],
             [
              0.2222222222222222,
              "#7201a8"
             ],
             [
              0.3333333333333333,
              "#9c179e"
             ],
             [
              0.4444444444444444,
              "#bd3786"
             ],
             [
              0.5555555555555556,
              "#d8576b"
             ],
             [
              0.6666666666666666,
              "#ed7953"
             ],
             [
              0.7777777777777778,
              "#fb9f3a"
             ],
             [
              0.8888888888888888,
              "#fdca26"
             ],
             [
              1,
              "#f0f921"
             ]
            ],
            "type": "histogram2d"
           }
          ],
          "histogram2dcontour": [
           {
            "colorbar": {
             "outlinewidth": 0,
             "ticks": ""
            },
            "colorscale": [
             [
              0,
              "#0d0887"
             ],
             [
              0.1111111111111111,
              "#46039f"
             ],
             [
              0.2222222222222222,
              "#7201a8"
             ],
             [
              0.3333333333333333,
              "#9c179e"
             ],
             [
              0.4444444444444444,
              "#bd3786"
             ],
             [
              0.5555555555555556,
              "#d8576b"
             ],
             [
              0.6666666666666666,
              "#ed7953"
             ],
             [
              0.7777777777777778,
              "#fb9f3a"
             ],
             [
              0.8888888888888888,
              "#fdca26"
             ],
             [
              1,
              "#f0f921"
             ]
            ],
            "type": "histogram2dcontour"
           }
          ],
          "mesh3d": [
           {
            "colorbar": {
             "outlinewidth": 0,
             "ticks": ""
            },
            "type": "mesh3d"
           }
          ],
          "parcoords": [
           {
            "line": {
             "colorbar": {
              "outlinewidth": 0,
              "ticks": ""
             }
            },
            "type": "parcoords"
           }
          ],
          "pie": [
           {
            "automargin": true,
            "type": "pie"
           }
          ],
          "scatter": [
           {
            "marker": {
             "line": {
              "color": "#283442"
             }
            },
            "type": "scatter"
           }
          ],
          "scatter3d": [
           {
            "line": {
             "colorbar": {
              "outlinewidth": 0,
              "ticks": ""
             }
            },
            "marker": {
             "colorbar": {
              "outlinewidth": 0,
              "ticks": ""
             }
            },
            "type": "scatter3d"
           }
          ],
          "scattercarpet": [
           {
            "marker": {
             "colorbar": {
              "outlinewidth": 0,
              "ticks": ""
             }
            },
            "type": "scattercarpet"
           }
          ],
          "scattergeo": [
           {
            "marker": {
             "colorbar": {
              "outlinewidth": 0,
              "ticks": ""
             }
            },
            "type": "scattergeo"
           }
          ],
          "scattergl": [
           {
            "marker": {
             "line": {
              "color": "#283442"
             }
            },
            "type": "scattergl"
           }
          ],
          "scattermapbox": [
           {
            "marker": {
             "colorbar": {
              "outlinewidth": 0,
              "ticks": ""
             }
            },
            "type": "scattermapbox"
           }
          ],
          "scatterpolar": [
           {
            "marker": {
             "colorbar": {
              "outlinewidth": 0,
              "ticks": ""
             }
            },
            "type": "scatterpolar"
           }
          ],
          "scatterpolargl": [
           {
            "marker": {
             "colorbar": {
              "outlinewidth": 0,
              "ticks": ""
             }
            },
            "type": "scatterpolargl"
           }
          ],
          "scatterternary": [
           {
            "marker": {
             "colorbar": {
              "outlinewidth": 0,
              "ticks": ""
             }
            },
            "type": "scatterternary"
           }
          ],
          "surface": [
           {
            "colorbar": {
             "outlinewidth": 0,
             "ticks": ""
            },
            "colorscale": [
             [
              0,
              "#0d0887"
             ],
             [
              0.1111111111111111,
              "#46039f"
             ],
             [
              0.2222222222222222,
              "#7201a8"
             ],
             [
              0.3333333333333333,
              "#9c179e"
             ],
             [
              0.4444444444444444,
              "#bd3786"
             ],
             [
              0.5555555555555556,
              "#d8576b"
             ],
             [
              0.6666666666666666,
              "#ed7953"
             ],
             [
              0.7777777777777778,
              "#fb9f3a"
             ],
             [
              0.8888888888888888,
              "#fdca26"
             ],
             [
              1,
              "#f0f921"
             ]
            ],
            "type": "surface"
           }
          ],
          "table": [
           {
            "cells": {
             "fill": {
              "color": "#506784"
             },
             "line": {
              "color": "rgb(17,17,17)"
             }
            },
            "header": {
             "fill": {
              "color": "#2a3f5f"
             },
             "line": {
              "color": "rgb(17,17,17)"
             }
            },
            "type": "table"
           }
          ]
         },
         "layout": {
          "annotationdefaults": {
           "arrowcolor": "#f2f5fa",
           "arrowhead": 0,
           "arrowwidth": 1
          },
          "autotypenumbers": "strict",
          "coloraxis": {
           "colorbar": {
            "outlinewidth": 0,
            "ticks": ""
           }
          },
          "colorscale": {
           "diverging": [
            [
             0,
             "#8e0152"
            ],
            [
             0.1,
             "#c51b7d"
            ],
            [
             0.2,
             "#de77ae"
            ],
            [
             0.3,
             "#f1b6da"
            ],
            [
             0.4,
             "#fde0ef"
            ],
            [
             0.5,
             "#f7f7f7"
            ],
            [
             0.6,
             "#e6f5d0"
            ],
            [
             0.7,
             "#b8e186"
            ],
            [
             0.8,
             "#7fbc41"
            ],
            [
             0.9,
             "#4d9221"
            ],
            [
             1,
             "#276419"
            ]
           ],
           "sequential": [
            [
             0,
             "#0d0887"
            ],
            [
             0.1111111111111111,
             "#46039f"
            ],
            [
             0.2222222222222222,
             "#7201a8"
            ],
            [
             0.3333333333333333,
             "#9c179e"
            ],
            [
             0.4444444444444444,
             "#bd3786"
            ],
            [
             0.5555555555555556,
             "#d8576b"
            ],
            [
             0.6666666666666666,
             "#ed7953"
            ],
            [
             0.7777777777777778,
             "#fb9f3a"
            ],
            [
             0.8888888888888888,
             "#fdca26"
            ],
            [
             1,
             "#f0f921"
            ]
           ],
           "sequentialminus": [
            [
             0,
             "#0d0887"
            ],
            [
             0.1111111111111111,
             "#46039f"
            ],
            [
             0.2222222222222222,
             "#7201a8"
            ],
            [
             0.3333333333333333,
             "#9c179e"
            ],
            [
             0.4444444444444444,
             "#bd3786"
            ],
            [
             0.5555555555555556,
             "#d8576b"
            ],
            [
             0.6666666666666666,
             "#ed7953"
            ],
            [
             0.7777777777777778,
             "#fb9f3a"
            ],
            [
             0.8888888888888888,
             "#fdca26"
            ],
            [
             1,
             "#f0f921"
            ]
           ]
          },
          "colorway": [
           "#636efa",
           "#EF553B",
           "#00cc96",
           "#ab63fa",
           "#FFA15A",
           "#19d3f3",
           "#FF6692",
           "#B6E880",
           "#FF97FF",
           "#FECB52"
          ],
          "font": {
           "color": "#f2f5fa"
          },
          "geo": {
           "bgcolor": "rgb(17,17,17)",
           "lakecolor": "rgb(17,17,17)",
           "landcolor": "rgb(17,17,17)",
           "showlakes": true,
           "showland": true,
           "subunitcolor": "#506784"
          },
          "hoverlabel": {
           "align": "left"
          },
          "hovermode": "closest",
          "mapbox": {
           "style": "dark"
          },
          "paper_bgcolor": "rgb(17,17,17)",
          "plot_bgcolor": "rgb(17,17,17)",
          "polar": {
           "angularaxis": {
            "gridcolor": "#506784",
            "linecolor": "#506784",
            "ticks": ""
           },
           "bgcolor": "rgb(17,17,17)",
           "radialaxis": {
            "gridcolor": "#506784",
            "linecolor": "#506784",
            "ticks": ""
           }
          },
          "scene": {
           "xaxis": {
            "backgroundcolor": "rgb(17,17,17)",
            "gridcolor": "#506784",
            "gridwidth": 2,
            "linecolor": "#506784",
            "showbackground": true,
            "ticks": "",
            "zerolinecolor": "#C8D4E3"
           },
           "yaxis": {
            "backgroundcolor": "rgb(17,17,17)",
            "gridcolor": "#506784",
            "gridwidth": 2,
            "linecolor": "#506784",
            "showbackground": true,
            "ticks": "",
            "zerolinecolor": "#C8D4E3"
           },
           "zaxis": {
            "backgroundcolor": "rgb(17,17,17)",
            "gridcolor": "#506784",
            "gridwidth": 2,
            "linecolor": "#506784",
            "showbackground": true,
            "ticks": "",
            "zerolinecolor": "#C8D4E3"
           }
          },
          "shapedefaults": {
           "line": {
            "color": "#f2f5fa"
           }
          },
          "sliderdefaults": {
           "bgcolor": "#C8D4E3",
           "bordercolor": "rgb(17,17,17)",
           "borderwidth": 1,
           "tickwidth": 0
          },
          "ternary": {
           "aaxis": {
            "gridcolor": "#506784",
            "linecolor": "#506784",
            "ticks": ""
           },
           "baxis": {
            "gridcolor": "#506784",
            "linecolor": "#506784",
            "ticks": ""
           },
           "bgcolor": "rgb(17,17,17)",
           "caxis": {
            "gridcolor": "#506784",
            "linecolor": "#506784",
            "ticks": ""
           }
          },
          "title": {
           "x": 0.05
          },
          "updatemenudefaults": {
           "bgcolor": "#506784",
           "borderwidth": 0
          },
          "xaxis": {
           "automargin": true,
           "gridcolor": "#283442",
           "linecolor": "#506784",
           "ticks": "",
           "title": {
            "standoff": 15
           },
           "zerolinecolor": "#283442",
           "zerolinewidth": 2
          },
          "yaxis": {
           "automargin": true,
           "gridcolor": "#283442",
           "linecolor": "#506784",
           "ticks": "",
           "title": {
            "standoff": 15
           },
           "zerolinecolor": "#283442",
           "zerolinewidth": 2
          }
         }
        },
        "title": {
         "text": "Release Year History of Disney+ Catalog (US)"
        },
        "xaxis": {
         "anchor": "y",
         "domain": [
          0,
          1
         ],
         "title": {
          "text": "Release Year"
         }
        },
        "xaxis2": {
         "anchor": "y2",
         "domain": [
          0,
          1
         ],
         "matches": "x",
         "showgrid": true,
         "showticklabels": false
        },
        "yaxis": {
         "anchor": "x",
         "domain": [
          0,
          0.7326
         ],
         "title": {
          "text": "count"
         }
        },
        "yaxis2": {
         "anchor": "x2",
         "domain": [
          0.7426,
          1
         ],
         "matches": "y2",
         "showgrid": false,
         "showline": false,
         "showticklabels": false,
         "ticks": ""
        }
       }
      }
     },
     "metadata": {},
     "output_type": "display_data"
    }
   ],
   "source": [
    "# Histogram\n",
    "pio.templates.default = 'plotly_dark'\n",
    "fig = px.histogram(titles, x = \"release_year\", color = \"type\", \n",
    "                   marginal= \"rug\", title=\"Release Year History of Disney+ Catalog (US)\", \n",
    "                   labels= { \"type\" : \"Type\", \"release_year\" : \"Release Year\"},\n",
    "                   color_discrete_map= {\"MOVIE\": \"#B9D8EB\", \"SHOW\" : \"#C39BD3\"},\n",
    "                   template=\"plotly_dark\")\n",
    "\n",
    "fig.update_layout(paper_bgcolor = '#1A1D29', \n",
    "                  plot_bgcolor = '#1A1D29',\n",
    "                  font = dict(family=\"Verdana\",color = '#FFFFFF', size=13),\n",
    "                  barmode='overlay'\n",
    "                 )"
   ]
  },
  {
   "cell_type": "markdown",
   "metadata": {},
   "source": [
    "![image](https://github.com/kekevin12/Disney_EDA/blob/main/Graphs/cathistplot.png?raw=true)"
   ]
  },
  {
   "cell_type": "markdown",
   "metadata": {},
   "source": [
    "It appears the oldest movie and show date back to 1928 and 1955 respectively. The catalog shows a left skew towards the more current years, however that is to be expected as there is probably more content avaliable and that digital formats are a very modern implementation. Now lets look at how many movies and shows there are respectively. "
   ]
  },
  {
   "cell_type": "code",
   "execution_count": 9,
   "metadata": {},
   "outputs": [],
   "source": [
    "#Count # of Movies and Shows\n",
    "type_count = titles['type'].value_counts().rename_axis('Type').reset_index(name='Counts')"
   ]
  },
  {
   "cell_type": "code",
   "execution_count": 10,
   "metadata": {},
   "outputs": [
    {
     "data": {
      "application/vnd.plotly.v1+json": {
       "config": {
        "plotlyServerURL": "https://plot.ly"
       },
       "data": [
        {
         "alignmentgroup": "True",
         "hovertemplate": "Type=MOVIE<br>Counts=%{x}<br>index=%{y}<extra></extra>",
         "legendgroup": "MOVIE",
         "marker": {
          "color": "#B9D8EB",
          "pattern": {
           "shape": ""
          }
         },
         "name": "MOVIE",
         "offsetgroup": "MOVIE",
         "orientation": "h",
         "showlegend": true,
         "textposition": "auto",
         "type": "bar",
         "x": [
          1120
         ],
         "xaxis": "x",
         "y": [
          0
         ],
         "yaxis": "y"
        },
        {
         "alignmentgroup": "True",
         "hovertemplate": "Type=SHOW<br>Counts=%{x}<br>index=%{y}<extra></extra>",
         "legendgroup": "SHOW",
         "marker": {
          "color": "#C39BD3",
          "pattern": {
           "shape": ""
          }
         },
         "name": "SHOW",
         "offsetgroup": "SHOW",
         "orientation": "h",
         "showlegend": true,
         "textposition": "auto",
         "type": "bar",
         "x": [
          415
         ],
         "xaxis": "x",
         "y": [
          1
         ],
         "yaxis": "y"
        }
       ],
       "layout": {
        "barmode": "relative",
        "font": {
         "color": "#FFFFFF",
         "family": "Verdana",
         "size": 13
        },
        "legend": {
         "title": {
          "text": "Type"
         },
         "tracegroupgap": 0
        },
        "paper_bgcolor": "#1A1D29",
        "plot_bgcolor": "#1A1D29",
        "template": {
         "data": {
          "bar": [
           {
            "error_x": {
             "color": "#f2f5fa"
            },
            "error_y": {
             "color": "#f2f5fa"
            },
            "marker": {
             "line": {
              "color": "rgb(17,17,17)",
              "width": 0.5
             },
             "pattern": {
              "fillmode": "overlay",
              "size": 10,
              "solidity": 0.2
             }
            },
            "type": "bar"
           }
          ],
          "barpolar": [
           {
            "marker": {
             "line": {
              "color": "rgb(17,17,17)",
              "width": 0.5
             },
             "pattern": {
              "fillmode": "overlay",
              "size": 10,
              "solidity": 0.2
             }
            },
            "type": "barpolar"
           }
          ],
          "carpet": [
           {
            "aaxis": {
             "endlinecolor": "#A2B1C6",
             "gridcolor": "#506784",
             "linecolor": "#506784",
             "minorgridcolor": "#506784",
             "startlinecolor": "#A2B1C6"
            },
            "baxis": {
             "endlinecolor": "#A2B1C6",
             "gridcolor": "#506784",
             "linecolor": "#506784",
             "minorgridcolor": "#506784",
             "startlinecolor": "#A2B1C6"
            },
            "type": "carpet"
           }
          ],
          "choropleth": [
           {
            "colorbar": {
             "outlinewidth": 0,
             "ticks": ""
            },
            "type": "choropleth"
           }
          ],
          "contour": [
           {
            "colorbar": {
             "outlinewidth": 0,
             "ticks": ""
            },
            "colorscale": [
             [
              0,
              "#0d0887"
             ],
             [
              0.1111111111111111,
              "#46039f"
             ],
             [
              0.2222222222222222,
              "#7201a8"
             ],
             [
              0.3333333333333333,
              "#9c179e"
             ],
             [
              0.4444444444444444,
              "#bd3786"
             ],
             [
              0.5555555555555556,
              "#d8576b"
             ],
             [
              0.6666666666666666,
              "#ed7953"
             ],
             [
              0.7777777777777778,
              "#fb9f3a"
             ],
             [
              0.8888888888888888,
              "#fdca26"
             ],
             [
              1,
              "#f0f921"
             ]
            ],
            "type": "contour"
           }
          ],
          "contourcarpet": [
           {
            "colorbar": {
             "outlinewidth": 0,
             "ticks": ""
            },
            "type": "contourcarpet"
           }
          ],
          "heatmap": [
           {
            "colorbar": {
             "outlinewidth": 0,
             "ticks": ""
            },
            "colorscale": [
             [
              0,
              "#0d0887"
             ],
             [
              0.1111111111111111,
              "#46039f"
             ],
             [
              0.2222222222222222,
              "#7201a8"
             ],
             [
              0.3333333333333333,
              "#9c179e"
             ],
             [
              0.4444444444444444,
              "#bd3786"
             ],
             [
              0.5555555555555556,
              "#d8576b"
             ],
             [
              0.6666666666666666,
              "#ed7953"
             ],
             [
              0.7777777777777778,
              "#fb9f3a"
             ],
             [
              0.8888888888888888,
              "#fdca26"
             ],
             [
              1,
              "#f0f921"
             ]
            ],
            "type": "heatmap"
           }
          ],
          "heatmapgl": [
           {
            "colorbar": {
             "outlinewidth": 0,
             "ticks": ""
            },
            "colorscale": [
             [
              0,
              "#0d0887"
             ],
             [
              0.1111111111111111,
              "#46039f"
             ],
             [
              0.2222222222222222,
              "#7201a8"
             ],
             [
              0.3333333333333333,
              "#9c179e"
             ],
             [
              0.4444444444444444,
              "#bd3786"
             ],
             [
              0.5555555555555556,
              "#d8576b"
             ],
             [
              0.6666666666666666,
              "#ed7953"
             ],
             [
              0.7777777777777778,
              "#fb9f3a"
             ],
             [
              0.8888888888888888,
              "#fdca26"
             ],
             [
              1,
              "#f0f921"
             ]
            ],
            "type": "heatmapgl"
           }
          ],
          "histogram": [
           {
            "marker": {
             "pattern": {
              "fillmode": "overlay",
              "size": 10,
              "solidity": 0.2
             }
            },
            "type": "histogram"
           }
          ],
          "histogram2d": [
           {
            "colorbar": {
             "outlinewidth": 0,
             "ticks": ""
            },
            "colorscale": [
             [
              0,
              "#0d0887"
             ],
             [
              0.1111111111111111,
              "#46039f"
             ],
             [
              0.2222222222222222,
              "#7201a8"
             ],
             [
              0.3333333333333333,
              "#9c179e"
             ],
             [
              0.4444444444444444,
              "#bd3786"
             ],
             [
              0.5555555555555556,
              "#d8576b"
             ],
             [
              0.6666666666666666,
              "#ed7953"
             ],
             [
              0.7777777777777778,
              "#fb9f3a"
             ],
             [
              0.8888888888888888,
              "#fdca26"
             ],
             [
              1,
              "#f0f921"
             ]
            ],
            "type": "histogram2d"
           }
          ],
          "histogram2dcontour": [
           {
            "colorbar": {
             "outlinewidth": 0,
             "ticks": ""
            },
            "colorscale": [
             [
              0,
              "#0d0887"
             ],
             [
              0.1111111111111111,
              "#46039f"
             ],
             [
              0.2222222222222222,
              "#7201a8"
             ],
             [
              0.3333333333333333,
              "#9c179e"
             ],
             [
              0.4444444444444444,
              "#bd3786"
             ],
             [
              0.5555555555555556,
              "#d8576b"
             ],
             [
              0.6666666666666666,
              "#ed7953"
             ],
             [
              0.7777777777777778,
              "#fb9f3a"
             ],
             [
              0.8888888888888888,
              "#fdca26"
             ],
             [
              1,
              "#f0f921"
             ]
            ],
            "type": "histogram2dcontour"
           }
          ],
          "mesh3d": [
           {
            "colorbar": {
             "outlinewidth": 0,
             "ticks": ""
            },
            "type": "mesh3d"
           }
          ],
          "parcoords": [
           {
            "line": {
             "colorbar": {
              "outlinewidth": 0,
              "ticks": ""
             }
            },
            "type": "parcoords"
           }
          ],
          "pie": [
           {
            "automargin": true,
            "type": "pie"
           }
          ],
          "scatter": [
           {
            "marker": {
             "line": {
              "color": "#283442"
             }
            },
            "type": "scatter"
           }
          ],
          "scatter3d": [
           {
            "line": {
             "colorbar": {
              "outlinewidth": 0,
              "ticks": ""
             }
            },
            "marker": {
             "colorbar": {
              "outlinewidth": 0,
              "ticks": ""
             }
            },
            "type": "scatter3d"
           }
          ],
          "scattercarpet": [
           {
            "marker": {
             "colorbar": {
              "outlinewidth": 0,
              "ticks": ""
             }
            },
            "type": "scattercarpet"
           }
          ],
          "scattergeo": [
           {
            "marker": {
             "colorbar": {
              "outlinewidth": 0,
              "ticks": ""
             }
            },
            "type": "scattergeo"
           }
          ],
          "scattergl": [
           {
            "marker": {
             "line": {
              "color": "#283442"
             }
            },
            "type": "scattergl"
           }
          ],
          "scattermapbox": [
           {
            "marker": {
             "colorbar": {
              "outlinewidth": 0,
              "ticks": ""
             }
            },
            "type": "scattermapbox"
           }
          ],
          "scatterpolar": [
           {
            "marker": {
             "colorbar": {
              "outlinewidth": 0,
              "ticks": ""
             }
            },
            "type": "scatterpolar"
           }
          ],
          "scatterpolargl": [
           {
            "marker": {
             "colorbar": {
              "outlinewidth": 0,
              "ticks": ""
             }
            },
            "type": "scatterpolargl"
           }
          ],
          "scatterternary": [
           {
            "marker": {
             "colorbar": {
              "outlinewidth": 0,
              "ticks": ""
             }
            },
            "type": "scatterternary"
           }
          ],
          "surface": [
           {
            "colorbar": {
             "outlinewidth": 0,
             "ticks": ""
            },
            "colorscale": [
             [
              0,
              "#0d0887"
             ],
             [
              0.1111111111111111,
              "#46039f"
             ],
             [
              0.2222222222222222,
              "#7201a8"
             ],
             [
              0.3333333333333333,
              "#9c179e"
             ],
             [
              0.4444444444444444,
              "#bd3786"
             ],
             [
              0.5555555555555556,
              "#d8576b"
             ],
             [
              0.6666666666666666,
              "#ed7953"
             ],
             [
              0.7777777777777778,
              "#fb9f3a"
             ],
             [
              0.8888888888888888,
              "#fdca26"
             ],
             [
              1,
              "#f0f921"
             ]
            ],
            "type": "surface"
           }
          ],
          "table": [
           {
            "cells": {
             "fill": {
              "color": "#506784"
             },
             "line": {
              "color": "rgb(17,17,17)"
             }
            },
            "header": {
             "fill": {
              "color": "#2a3f5f"
             },
             "line": {
              "color": "rgb(17,17,17)"
             }
            },
            "type": "table"
           }
          ]
         },
         "layout": {
          "annotationdefaults": {
           "arrowcolor": "#f2f5fa",
           "arrowhead": 0,
           "arrowwidth": 1
          },
          "autotypenumbers": "strict",
          "coloraxis": {
           "colorbar": {
            "outlinewidth": 0,
            "ticks": ""
           }
          },
          "colorscale": {
           "diverging": [
            [
             0,
             "#8e0152"
            ],
            [
             0.1,
             "#c51b7d"
            ],
            [
             0.2,
             "#de77ae"
            ],
            [
             0.3,
             "#f1b6da"
            ],
            [
             0.4,
             "#fde0ef"
            ],
            [
             0.5,
             "#f7f7f7"
            ],
            [
             0.6,
             "#e6f5d0"
            ],
            [
             0.7,
             "#b8e186"
            ],
            [
             0.8,
             "#7fbc41"
            ],
            [
             0.9,
             "#4d9221"
            ],
            [
             1,
             "#276419"
            ]
           ],
           "sequential": [
            [
             0,
             "#0d0887"
            ],
            [
             0.1111111111111111,
             "#46039f"
            ],
            [
             0.2222222222222222,
             "#7201a8"
            ],
            [
             0.3333333333333333,
             "#9c179e"
            ],
            [
             0.4444444444444444,
             "#bd3786"
            ],
            [
             0.5555555555555556,
             "#d8576b"
            ],
            [
             0.6666666666666666,
             "#ed7953"
            ],
            [
             0.7777777777777778,
             "#fb9f3a"
            ],
            [
             0.8888888888888888,
             "#fdca26"
            ],
            [
             1,
             "#f0f921"
            ]
           ],
           "sequentialminus": [
            [
             0,
             "#0d0887"
            ],
            [
             0.1111111111111111,
             "#46039f"
            ],
            [
             0.2222222222222222,
             "#7201a8"
            ],
            [
             0.3333333333333333,
             "#9c179e"
            ],
            [
             0.4444444444444444,
             "#bd3786"
            ],
            [
             0.5555555555555556,
             "#d8576b"
            ],
            [
             0.6666666666666666,
             "#ed7953"
            ],
            [
             0.7777777777777778,
             "#fb9f3a"
            ],
            [
             0.8888888888888888,
             "#fdca26"
            ],
            [
             1,
             "#f0f921"
            ]
           ]
          },
          "colorway": [
           "#636efa",
           "#EF553B",
           "#00cc96",
           "#ab63fa",
           "#FFA15A",
           "#19d3f3",
           "#FF6692",
           "#B6E880",
           "#FF97FF",
           "#FECB52"
          ],
          "font": {
           "color": "#f2f5fa"
          },
          "geo": {
           "bgcolor": "rgb(17,17,17)",
           "lakecolor": "rgb(17,17,17)",
           "landcolor": "rgb(17,17,17)",
           "showlakes": true,
           "showland": true,
           "subunitcolor": "#506784"
          },
          "hoverlabel": {
           "align": "left"
          },
          "hovermode": "closest",
          "mapbox": {
           "style": "dark"
          },
          "paper_bgcolor": "rgb(17,17,17)",
          "plot_bgcolor": "rgb(17,17,17)",
          "polar": {
           "angularaxis": {
            "gridcolor": "#506784",
            "linecolor": "#506784",
            "ticks": ""
           },
           "bgcolor": "rgb(17,17,17)",
           "radialaxis": {
            "gridcolor": "#506784",
            "linecolor": "#506784",
            "ticks": ""
           }
          },
          "scene": {
           "xaxis": {
            "backgroundcolor": "rgb(17,17,17)",
            "gridcolor": "#506784",
            "gridwidth": 2,
            "linecolor": "#506784",
            "showbackground": true,
            "ticks": "",
            "zerolinecolor": "#C8D4E3"
           },
           "yaxis": {
            "backgroundcolor": "rgb(17,17,17)",
            "gridcolor": "#506784",
            "gridwidth": 2,
            "linecolor": "#506784",
            "showbackground": true,
            "ticks": "",
            "zerolinecolor": "#C8D4E3"
           },
           "zaxis": {
            "backgroundcolor": "rgb(17,17,17)",
            "gridcolor": "#506784",
            "gridwidth": 2,
            "linecolor": "#506784",
            "showbackground": true,
            "ticks": "",
            "zerolinecolor": "#C8D4E3"
           }
          },
          "shapedefaults": {
           "line": {
            "color": "#f2f5fa"
           }
          },
          "sliderdefaults": {
           "bgcolor": "#C8D4E3",
           "bordercolor": "rgb(17,17,17)",
           "borderwidth": 1,
           "tickwidth": 0
          },
          "ternary": {
           "aaxis": {
            "gridcolor": "#506784",
            "linecolor": "#506784",
            "ticks": ""
           },
           "baxis": {
            "gridcolor": "#506784",
            "linecolor": "#506784",
            "ticks": ""
           },
           "bgcolor": "rgb(17,17,17)",
           "caxis": {
            "gridcolor": "#506784",
            "linecolor": "#506784",
            "ticks": ""
           }
          },
          "title": {
           "x": 0.05
          },
          "updatemenudefaults": {
           "bgcolor": "#506784",
           "borderwidth": 0
          },
          "xaxis": {
           "automargin": true,
           "gridcolor": "#283442",
           "linecolor": "#506784",
           "ticks": "",
           "title": {
            "standoff": 15
           },
           "zerolinecolor": "#283442",
           "zerolinewidth": 2
          },
          "yaxis": {
           "automargin": true,
           "gridcolor": "#283442",
           "linecolor": "#506784",
           "ticks": "",
           "title": {
            "standoff": 15
           },
           "zerolinecolor": "#283442",
           "zerolinewidth": 2
          }
         }
        },
        "title": {
         "text": "Total Count of Disney+ Movies & Shows (US)"
        },
        "xaxis": {
         "anchor": "y",
         "domain": [
          0,
          1
         ],
         "title": {
          "text": "Counts"
         }
        },
        "yaxis": {
         "anchor": "x",
         "domain": [
          0,
          1
         ],
         "showticklabels": false,
         "title": {
          "text": "y"
         },
         "visible": false
        }
       }
      }
     },
     "metadata": {},
     "output_type": "display_data"
    }
   ],
   "source": [
    "# Bar Chart\n",
    "fig = px.bar(type_count, x =\"Counts\", color=\"Type\",\n",
    "                   title=\"Total Count of Disney+ Movies & Shows (US)\", \n",
    "                   labels= { \"type\" : \"Type\", \"release_year\" : \"Release Year\"},\n",
    "                   color_discrete_map= {\"MOVIE\": \"#B9D8EB\", \"SHOW\" : \"#C39BD3\"},\n",
    "                   template=\"plotly_dark\")\n",
    "fig.update_yaxes(title='y', visible=False, showticklabels=False)\n",
    "\n",
    "fig.update_layout(paper_bgcolor = '#1A1D29', \n",
    "                  plot_bgcolor = '#1A1D29',\n",
    "                  font = dict(family=\"Verdana\",color = '#FFFFFF', size=13),)"
   ]
  },
  {
   "cell_type": "markdown",
   "metadata": {},
   "source": [
    "![image](https://github.com/kekevin12/Disney_EDA/blob/main/Graphs/countbar.png?raw=true)"
   ]
  },
  {
   "cell_type": "markdown",
   "metadata": {},
   "source": [
    "It appears that the Disney+ library is comprised primarily of movies at 1120 compared to 415 shows. \n",
    " Now lets look at the average runtimes across the collection of movies and shows."
   ]
  },
  {
   "cell_type": "markdown",
   "metadata": {},
   "source": [
    "##### Ratings Analysis"
   ]
  },
  {
   "cell_type": "markdown",
   "metadata": {},
   "source": [
    "Now I would like to glimpse into the average ratings across all the shows and movies available. This time we will used the cleaned data set to avoid the null values. "
   ]
  },
  {
   "cell_type": "code",
   "execution_count": 11,
   "metadata": {},
   "outputs": [
    {
     "data": {
      "application/vnd.plotly.v1+json": {
       "config": {
        "plotlyServerURL": "https://plot.ly"
       },
       "data": [
        {
         "alignmentgroup": "True",
         "hovertemplate": "type=%{x}<br>Rating (Avg)=%{y}<extra></extra>",
         "legendgroup": "MOVIE",
         "marker": {
          "color": "#B9D8EB"
         },
         "name": "MOVIE",
         "notched": false,
         "offsetgroup": "MOVIE",
         "orientation": "v",
         "showlegend": true,
         "type": "box",
         "x": [
          "MOVIE",
          "MOVIE",
          "MOVIE",
          "MOVIE",
          "MOVIE",
          "MOVIE",
          "MOVIE",
          "MOVIE",
          "MOVIE",
          "MOVIE",
          "MOVIE",
          "MOVIE",
          "MOVIE",
          "MOVIE",
          "MOVIE",
          "MOVIE",
          "MOVIE",
          "MOVIE",
          "MOVIE",
          "MOVIE",
          "MOVIE",
          "MOVIE",
          "MOVIE",
          "MOVIE",
          "MOVIE",
          "MOVIE",
          "MOVIE",
          "MOVIE",
          "MOVIE",
          "MOVIE",
          "MOVIE",
          "MOVIE",
          "MOVIE",
          "MOVIE",
          "MOVIE",
          "MOVIE",
          "MOVIE",
          "MOVIE",
          "MOVIE",
          "MOVIE",
          "MOVIE",
          "MOVIE",
          "MOVIE",
          "MOVIE",
          "MOVIE",
          "MOVIE",
          "MOVIE",
          "MOVIE",
          "MOVIE",
          "MOVIE",
          "MOVIE",
          "MOVIE",
          "MOVIE",
          "MOVIE",
          "MOVIE",
          "MOVIE",
          "MOVIE",
          "MOVIE",
          "MOVIE",
          "MOVIE",
          "MOVIE",
          "MOVIE",
          "MOVIE",
          "MOVIE",
          "MOVIE",
          "MOVIE",
          "MOVIE",
          "MOVIE",
          "MOVIE",
          "MOVIE",
          "MOVIE",
          "MOVIE",
          "MOVIE",
          "MOVIE",
          "MOVIE",
          "MOVIE",
          "MOVIE",
          "MOVIE",
          "MOVIE",
          "MOVIE",
          "MOVIE",
          "MOVIE",
          "MOVIE",
          "MOVIE",
          "MOVIE",
          "MOVIE",
          "MOVIE",
          "MOVIE",
          "MOVIE",
          "MOVIE",
          "MOVIE",
          "MOVIE",
          "MOVIE",
          "MOVIE",
          "MOVIE",
          "MOVIE",
          "MOVIE",
          "MOVIE",
          "MOVIE",
          "MOVIE",
          "MOVIE",
          "MOVIE",
          "MOVIE",
          "MOVIE",
          "MOVIE",
          "MOVIE",
          "MOVIE",
          "MOVIE",
          "MOVIE",
          "MOVIE",
          "MOVIE",
          "MOVIE",
          "MOVIE",
          "MOVIE",
          "MOVIE",
          "MOVIE",
          "MOVIE",
          "MOVIE",
          "MOVIE",
          "MOVIE",
          "MOVIE",
          "MOVIE",
          "MOVIE",
          "MOVIE",
          "MOVIE",
          "MOVIE",
          "MOVIE",
          "MOVIE",
          "MOVIE",
          "MOVIE",
          "MOVIE",
          "MOVIE",
          "MOVIE",
          "MOVIE",
          "MOVIE",
          "MOVIE",
          "MOVIE",
          "MOVIE",
          "MOVIE",
          "MOVIE",
          "MOVIE",
          "MOVIE",
          "MOVIE",
          "MOVIE",
          "MOVIE",
          "MOVIE",
          "MOVIE",
          "MOVIE",
          "MOVIE",
          "MOVIE",
          "MOVIE",
          "MOVIE",
          "MOVIE",
          "MOVIE",
          "MOVIE",
          "MOVIE",
          "MOVIE",
          "MOVIE",
          "MOVIE",
          "MOVIE",
          "MOVIE",
          "MOVIE",
          "MOVIE",
          "MOVIE",
          "MOVIE",
          "MOVIE",
          "MOVIE",
          "MOVIE",
          "MOVIE",
          "MOVIE",
          "MOVIE",
          "MOVIE",
          "MOVIE",
          "MOVIE",
          "MOVIE",
          "MOVIE",
          "MOVIE",
          "MOVIE",
          "MOVIE",
          "MOVIE",
          "MOVIE",
          "MOVIE",
          "MOVIE",
          "MOVIE",
          "MOVIE",
          "MOVIE",
          "MOVIE",
          "MOVIE",
          "MOVIE",
          "MOVIE",
          "MOVIE",
          "MOVIE",
          "MOVIE",
          "MOVIE",
          "MOVIE",
          "MOVIE",
          "MOVIE",
          "MOVIE",
          "MOVIE",
          "MOVIE",
          "MOVIE",
          "MOVIE",
          "MOVIE",
          "MOVIE",
          "MOVIE",
          "MOVIE",
          "MOVIE",
          "MOVIE",
          "MOVIE",
          "MOVIE",
          "MOVIE",
          "MOVIE",
          "MOVIE",
          "MOVIE",
          "MOVIE",
          "MOVIE",
          "MOVIE",
          "MOVIE",
          "MOVIE",
          "MOVIE",
          "MOVIE",
          "MOVIE",
          "MOVIE",
          "MOVIE",
          "MOVIE",
          "MOVIE",
          "MOVIE",
          "MOVIE",
          "MOVIE",
          "MOVIE",
          "MOVIE",
          "MOVIE",
          "MOVIE",
          "MOVIE",
          "MOVIE",
          "MOVIE",
          "MOVIE",
          "MOVIE",
          "MOVIE",
          "MOVIE",
          "MOVIE",
          "MOVIE",
          "MOVIE",
          "MOVIE",
          "MOVIE",
          "MOVIE",
          "MOVIE",
          "MOVIE",
          "MOVIE",
          "MOVIE",
          "MOVIE",
          "MOVIE",
          "MOVIE",
          "MOVIE",
          "MOVIE",
          "MOVIE",
          "MOVIE",
          "MOVIE",
          "MOVIE",
          "MOVIE",
          "MOVIE",
          "MOVIE",
          "MOVIE",
          "MOVIE",
          "MOVIE",
          "MOVIE",
          "MOVIE",
          "MOVIE",
          "MOVIE",
          "MOVIE",
          "MOVIE",
          "MOVIE",
          "MOVIE",
          "MOVIE",
          "MOVIE",
          "MOVIE",
          "MOVIE",
          "MOVIE",
          "MOVIE",
          "MOVIE",
          "MOVIE",
          "MOVIE",
          "MOVIE",
          "MOVIE",
          "MOVIE",
          "MOVIE",
          "MOVIE",
          "MOVIE",
          "MOVIE",
          "MOVIE",
          "MOVIE",
          "MOVIE",
          "MOVIE",
          "MOVIE",
          "MOVIE",
          "MOVIE",
          "MOVIE",
          "MOVIE",
          "MOVIE",
          "MOVIE",
          "MOVIE",
          "MOVIE",
          "MOVIE",
          "MOVIE",
          "MOVIE",
          "MOVIE",
          "MOVIE",
          "MOVIE",
          "MOVIE",
          "MOVIE",
          "MOVIE",
          "MOVIE",
          "MOVIE",
          "MOVIE",
          "MOVIE",
          "MOVIE",
          "MOVIE",
          "MOVIE",
          "MOVIE",
          "MOVIE",
          "MOVIE",
          "MOVIE",
          "MOVIE",
          "MOVIE",
          "MOVIE",
          "MOVIE",
          "MOVIE",
          "MOVIE",
          "MOVIE",
          "MOVIE",
          "MOVIE",
          "MOVIE",
          "MOVIE",
          "MOVIE",
          "MOVIE",
          "MOVIE",
          "MOVIE",
          "MOVIE",
          "MOVIE",
          "MOVIE",
          "MOVIE",
          "MOVIE",
          "MOVIE",
          "MOVIE",
          "MOVIE",
          "MOVIE",
          "MOVIE",
          "MOVIE",
          "MOVIE",
          "MOVIE",
          "MOVIE",
          "MOVIE",
          "MOVIE",
          "MOVIE",
          "MOVIE",
          "MOVIE",
          "MOVIE",
          "MOVIE",
          "MOVIE",
          "MOVIE",
          "MOVIE",
          "MOVIE",
          "MOVIE",
          "MOVIE",
          "MOVIE",
          "MOVIE",
          "MOVIE",
          "MOVIE",
          "MOVIE",
          "MOVIE",
          "MOVIE",
          "MOVIE",
          "MOVIE",
          "MOVIE",
          "MOVIE",
          "MOVIE",
          "MOVIE",
          "MOVIE",
          "MOVIE",
          "MOVIE",
          "MOVIE",
          "MOVIE",
          "MOVIE",
          "MOVIE",
          "MOVIE",
          "MOVIE",
          "MOVIE",
          "MOVIE",
          "MOVIE",
          "MOVIE",
          "MOVIE",
          "MOVIE",
          "MOVIE",
          "MOVIE",
          "MOVIE",
          "MOVIE",
          "MOVIE",
          "MOVIE",
          "MOVIE",
          "MOVIE",
          "MOVIE",
          "MOVIE",
          "MOVIE",
          "MOVIE",
          "MOVIE",
          "MOVIE",
          "MOVIE",
          "MOVIE",
          "MOVIE",
          "MOVIE",
          "MOVIE",
          "MOVIE",
          "MOVIE",
          "MOVIE",
          "MOVIE",
          "MOVIE",
          "MOVIE",
          "MOVIE",
          "MOVIE",
          "MOVIE",
          "MOVIE",
          "MOVIE",
          "MOVIE",
          "MOVIE",
          "MOVIE",
          "MOVIE",
          "MOVIE",
          "MOVIE",
          "MOVIE",
          "MOVIE",
          "MOVIE",
          "MOVIE",
          "MOVIE",
          "MOVIE",
          "MOVIE",
          "MOVIE",
          "MOVIE",
          "MOVIE",
          "MOVIE",
          "MOVIE",
          "MOVIE",
          "MOVIE",
          "MOVIE",
          "MOVIE",
          "MOVIE",
          "MOVIE",
          "MOVIE",
          "MOVIE",
          "MOVIE",
          "MOVIE",
          "MOVIE",
          "MOVIE",
          "MOVIE",
          "MOVIE",
          "MOVIE",
          "MOVIE",
          "MOVIE",
          "MOVIE",
          "MOVIE",
          "MOVIE",
          "MOVIE",
          "MOVIE",
          "MOVIE",
          "MOVIE",
          "MOVIE",
          "MOVIE",
          "MOVIE",
          "MOVIE",
          "MOVIE",
          "MOVIE",
          "MOVIE",
          "MOVIE",
          "MOVIE",
          "MOVIE",
          "MOVIE",
          "MOVIE",
          "MOVIE",
          "MOVIE",
          "MOVIE",
          "MOVIE",
          "MOVIE",
          "MOVIE",
          "MOVIE",
          "MOVIE",
          "MOVIE",
          "MOVIE",
          "MOVIE",
          "MOVIE",
          "MOVIE",
          "MOVIE",
          "MOVIE",
          "MOVIE",
          "MOVIE",
          "MOVIE",
          "MOVIE",
          "MOVIE",
          "MOVIE",
          "MOVIE",
          "MOVIE",
          "MOVIE",
          "MOVIE",
          "MOVIE",
          "MOVIE",
          "MOVIE",
          "MOVIE",
          "MOVIE",
          "MOVIE",
          "MOVIE",
          "MOVIE",
          "MOVIE",
          "MOVIE",
          "MOVIE",
          "MOVIE",
          "MOVIE",
          "MOVIE",
          "MOVIE",
          "MOVIE",
          "MOVIE",
          "MOVIE",
          "MOVIE",
          "MOVIE",
          "MOVIE",
          "MOVIE",
          "MOVIE",
          "MOVIE",
          "MOVIE",
          "MOVIE",
          "MOVIE",
          "MOVIE",
          "MOVIE",
          "MOVIE",
          "MOVIE",
          "MOVIE",
          "MOVIE",
          "MOVIE",
          "MOVIE",
          "MOVIE",
          "MOVIE",
          "MOVIE",
          "MOVIE",
          "MOVIE",
          "MOVIE",
          "MOVIE",
          "MOVIE",
          "MOVIE",
          "MOVIE",
          "MOVIE",
          "MOVIE",
          "MOVIE",
          "MOVIE",
          "MOVIE",
          "MOVIE",
          "MOVIE",
          "MOVIE",
          "MOVIE",
          "MOVIE",
          "MOVIE",
          "MOVIE",
          "MOVIE",
          "MOVIE",
          "MOVIE",
          "MOVIE",
          "MOVIE",
          "MOVIE",
          "MOVIE",
          "MOVIE",
          "MOVIE",
          "MOVIE",
          "MOVIE",
          "MOVIE",
          "MOVIE",
          "MOVIE",
          "MOVIE",
          "MOVIE",
          "MOVIE",
          "MOVIE",
          "MOVIE",
          "MOVIE",
          "MOVIE",
          "MOVIE",
          "MOVIE",
          "MOVIE",
          "MOVIE",
          "MOVIE",
          "MOVIE",
          "MOVIE",
          "MOVIE",
          "MOVIE",
          "MOVIE",
          "MOVIE",
          "MOVIE",
          "MOVIE",
          "MOVIE",
          "MOVIE",
          "MOVIE",
          "MOVIE",
          "MOVIE",
          "MOVIE",
          "MOVIE",
          "MOVIE",
          "MOVIE",
          "MOVIE",
          "MOVIE",
          "MOVIE",
          "MOVIE",
          "MOVIE",
          "MOVIE",
          "MOVIE",
          "MOVIE",
          "MOVIE",
          "MOVIE",
          "MOVIE",
          "MOVIE",
          "MOVIE",
          "MOVIE",
          "MOVIE",
          "MOVIE",
          "MOVIE",
          "MOVIE",
          "MOVIE",
          "MOVIE",
          "MOVIE",
          "MOVIE",
          "MOVIE",
          "MOVIE",
          "MOVIE",
          "MOVIE",
          "MOVIE",
          "MOVIE",
          "MOVIE",
          "MOVIE",
          "MOVIE",
          "MOVIE",
          "MOVIE",
          "MOVIE",
          "MOVIE",
          "MOVIE",
          "MOVIE",
          "MOVIE",
          "MOVIE",
          "MOVIE",
          "MOVIE",
          "MOVIE",
          "MOVIE",
          "MOVIE",
          "MOVIE",
          "MOVIE",
          "MOVIE",
          "MOVIE",
          "MOVIE",
          "MOVIE",
          "MOVIE",
          "MOVIE",
          "MOVIE",
          "MOVIE",
          "MOVIE",
          "MOVIE",
          "MOVIE",
          "MOVIE",
          "MOVIE",
          "MOVIE",
          "MOVIE",
          "MOVIE",
          "MOVIE",
          "MOVIE",
          "MOVIE",
          "MOVIE",
          "MOVIE",
          "MOVIE",
          "MOVIE",
          "MOVIE",
          "MOVIE",
          "MOVIE",
          "MOVIE",
          "MOVIE",
          "MOVIE",
          "MOVIE",
          "MOVIE",
          "MOVIE",
          "MOVIE",
          "MOVIE",
          "MOVIE",
          "MOVIE",
          "MOVIE",
          "MOVIE",
          "MOVIE",
          "MOVIE",
          "MOVIE",
          "MOVIE",
          "MOVIE",
          "MOVIE",
          "MOVIE",
          "MOVIE",
          "MOVIE",
          "MOVIE",
          "MOVIE",
          "MOVIE",
          "MOVIE",
          "MOVIE",
          "MOVIE",
          "MOVIE",
          "MOVIE",
          "MOVIE",
          "MOVIE",
          "MOVIE",
          "MOVIE",
          "MOVIE",
          "MOVIE",
          "MOVIE",
          "MOVIE",
          "MOVIE",
          "MOVIE",
          "MOVIE",
          "MOVIE",
          "MOVIE",
          "MOVIE",
          "MOVIE",
          "MOVIE",
          "MOVIE",
          "MOVIE",
          "MOVIE",
          "MOVIE",
          "MOVIE",
          "MOVIE",
          "MOVIE",
          "MOVIE",
          "MOVIE",
          "MOVIE",
          "MOVIE",
          "MOVIE",
          "MOVIE",
          "MOVIE",
          "MOVIE",
          "MOVIE",
          "MOVIE",
          "MOVIE",
          "MOVIE",
          "MOVIE",
          "MOVIE",
          "MOVIE",
          "MOVIE",
          "MOVIE",
          "MOVIE",
          "MOVIE",
          "MOVIE",
          "MOVIE",
          "MOVIE",
          "MOVIE",
          "MOVIE",
          "MOVIE",
          "MOVIE",
          "MOVIE",
          "MOVIE",
          "MOVIE",
          "MOVIE",
          "MOVIE",
          "MOVIE",
          "MOVIE",
          "MOVIE",
          "MOVIE",
          "MOVIE",
          "MOVIE",
          "MOVIE",
          "MOVIE",
          "MOVIE",
          "MOVIE",
          "MOVIE",
          "MOVIE",
          "MOVIE",
          "MOVIE",
          "MOVIE",
          "MOVIE",
          "MOVIE",
          "MOVIE",
          "MOVIE",
          "MOVIE",
          "MOVIE",
          "MOVIE",
          "MOVIE",
          "MOVIE",
          "MOVIE",
          "MOVIE",
          "MOVIE",
          "MOVIE",
          "MOVIE",
          "MOVIE",
          "MOVIE",
          "MOVIE",
          "MOVIE",
          "MOVIE",
          "MOVIE",
          "MOVIE",
          "MOVIE",
          "MOVIE",
          "MOVIE",
          "MOVIE",
          "MOVIE",
          "MOVIE",
          "MOVIE",
          "MOVIE",
          "MOVIE",
          "MOVIE",
          "MOVIE",
          "MOVIE",
          "MOVIE",
          "MOVIE",
          "MOVIE",
          "MOVIE",
          "MOVIE",
          "MOVIE",
          "MOVIE",
          "MOVIE",
          "MOVIE",
          "MOVIE",
          "MOVIE",
          "MOVIE",
          "MOVIE",
          "MOVIE",
          "MOVIE",
          "MOVIE",
          "MOVIE",
          "MOVIE",
          "MOVIE",
          "MOVIE",
          "MOVIE",
          "MOVIE",
          "MOVIE",
          "MOVIE",
          "MOVIE",
          "MOVIE",
          "MOVIE",
          "MOVIE",
          "MOVIE",
          "MOVIE",
          "MOVIE",
          "MOVIE",
          "MOVIE",
          "MOVIE",
          "MOVIE",
          "MOVIE",
          "MOVIE",
          "MOVIE",
          "MOVIE",
          "MOVIE",
          "MOVIE",
          "MOVIE",
          "MOVIE",
          "MOVIE",
          "MOVIE",
          "MOVIE",
          "MOVIE",
          "MOVIE",
          "MOVIE",
          "MOVIE",
          "MOVIE",
          "MOVIE",
          "MOVIE",
          "MOVIE",
          "MOVIE",
          "MOVIE",
          "MOVIE",
          "MOVIE",
          "MOVIE",
          "MOVIE",
          "MOVIE",
          "MOVIE",
          "MOVIE",
          "MOVIE",
          "MOVIE",
          "MOVIE",
          "MOVIE",
          "MOVIE",
          "MOVIE",
          "MOVIE",
          "MOVIE",
          "MOVIE",
          "MOVIE",
          "MOVIE",
          "MOVIE",
          "MOVIE",
          "MOVIE",
          "MOVIE",
          "MOVIE",
          "MOVIE",
          "MOVIE",
          "MOVIE",
          "MOVIE",
          "MOVIE",
          "MOVIE",
          "MOVIE",
          "MOVIE",
          "MOVIE",
          "MOVIE",
          "MOVIE",
          "MOVIE",
          "MOVIE",
          "MOVIE",
          "MOVIE",
          "MOVIE",
          "MOVIE",
          "MOVIE",
          "MOVIE",
          "MOVIE",
          "MOVIE",
          "MOVIE",
          "MOVIE",
          "MOVIE",
          "MOVIE",
          "MOVIE",
          "MOVIE",
          "MOVIE",
          "MOVIE",
          "MOVIE",
          "MOVIE",
          "MOVIE",
          "MOVIE",
          "MOVIE",
          "MOVIE",
          "MOVIE",
          "MOVIE",
          "MOVIE",
          "MOVIE",
          "MOVIE",
          "MOVIE",
          "MOVIE",
          "MOVIE",
          "MOVIE",
          "MOVIE",
          "MOVIE",
          "MOVIE",
          "MOVIE",
          "MOVIE",
          "MOVIE",
          "MOVIE",
          "MOVIE",
          "MOVIE",
          "MOVIE",
          "MOVIE",
          "MOVIE",
          "MOVIE",
          "MOVIE",
          "MOVIE",
          "MOVIE",
          "MOVIE",
          "MOVIE",
          "MOVIE",
          "MOVIE",
          "MOVIE",
          "MOVIE",
          "MOVIE",
          "MOVIE",
          "MOVIE",
          "MOVIE",
          "MOVIE",
          "MOVIE",
          "MOVIE",
          "MOVIE",
          "MOVIE",
          "MOVIE",
          "MOVIE",
          "MOVIE",
          "MOVIE",
          "MOVIE",
          "MOVIE",
          "MOVIE",
          "MOVIE",
          "MOVIE",
          "MOVIE",
          "MOVIE",
          "MOVIE",
          "MOVIE",
          "MOVIE",
          "MOVIE",
          "MOVIE",
          "MOVIE",
          "MOVIE",
          "MOVIE",
          "MOVIE",
          "MOVIE",
          "MOVIE",
          "MOVIE",
          "MOVIE",
          "MOVIE",
          "MOVIE",
          "MOVIE",
          "MOVIE",
          "MOVIE",
          "MOVIE",
          "MOVIE",
          "MOVIE",
          "MOVIE",
          "MOVIE",
          "MOVIE",
          "MOVIE",
          "MOVIE",
          "MOVIE",
          "MOVIE",
          "MOVIE",
          "MOVIE",
          "MOVIE",
          "MOVIE",
          "MOVIE",
          "MOVIE",
          "MOVIE",
          "MOVIE",
          "MOVIE",
          "MOVIE",
          "MOVIE",
          "MOVIE",
          "MOVIE",
          "MOVIE",
          "MOVIE",
          "MOVIE",
          "MOVIE",
          "MOVIE",
          "MOVIE",
          "MOVIE",
          "MOVIE",
          "MOVIE",
          "MOVIE",
          "MOVIE",
          "MOVIE",
          "MOVIE",
          "MOVIE",
          "MOVIE",
          "MOVIE",
          "MOVIE",
          "MOVIE",
          "MOVIE",
          "MOVIE",
          "MOVIE",
          "MOVIE",
          "MOVIE",
          "MOVIE",
          "MOVIE",
          "MOVIE",
          "MOVIE",
          "MOVIE",
          "MOVIE",
          "MOVIE",
          "MOVIE",
          "MOVIE",
          "MOVIE",
          "MOVIE",
          "MOVIE",
          "MOVIE",
          "MOVIE",
          "MOVIE",
          "MOVIE",
          "MOVIE",
          "MOVIE",
          "MOVIE",
          "MOVIE",
          "MOVIE",
          "MOVIE",
          "MOVIE",
          "MOVIE",
          "MOVIE",
          "MOVIE",
          "MOVIE",
          "MOVIE",
          "MOVIE",
          "MOVIE",
          "MOVIE",
          "MOVIE",
          "MOVIE",
          "MOVIE",
          "MOVIE",
          "MOVIE",
          "MOVIE",
          "MOVIE",
          "MOVIE",
          "MOVIE",
          "MOVIE",
          "MOVIE"
         ],
         "x0": " ",
         "xaxis": "x",
         "y": [
          7.4,
          7.1,
          7.1,
          7,
          6.5,
          6.5,
          7,
          7,
          6.4,
          6.6,
          6.3,
          7.4,
          5.8,
          6.6,
          6.2,
          6.5,
          6.8,
          6.2,
          6.7,
          5.1,
          6.6,
          6.8,
          6.1,
          7.4,
          6.4,
          7.3,
          5.8,
          6.6,
          6,
          6.6,
          6.7,
          6.4,
          6.7,
          5.8,
          6.7,
          6.5,
          6.6,
          6.9,
          6.6,
          6.3,
          6.5,
          6.4,
          6.2,
          6.8,
          7.3,
          6.1,
          6.6,
          5.8,
          6.2,
          7.3,
          6.3,
          7,
          5.8,
          6.5,
          6.8,
          6.5,
          6.3,
          6.4,
          6.8,
          6.2,
          6.1,
          6.1,
          6.2,
          6.6,
          6.2,
          6.1,
          6.6,
          5.9,
          6.1,
          6.8,
          6.5,
          6.3,
          6.5,
          6,
          6.8,
          6.2,
          7,
          6.6,
          6.6,
          6.3,
          5.7,
          6.1,
          6.6,
          5.7,
          7.7,
          8.2,
          7.6,
          7.2,
          6.7,
          7,
          7.1,
          8.4,
          5.8,
          7.2,
          6.9,
          7.3,
          7.1,
          7.3,
          7.2,
          7.2,
          7,
          7,
          7.3,
          7,
          7.1,
          7.2,
          6.5,
          6.4,
          7.2,
          6.9,
          6.5,
          6.8,
          6.4,
          6.2,
          6.6,
          6.9,
          6.1,
          7,
          6,
          6.6,
          6.2,
          6.9,
          6.1,
          5.9,
          7.4,
          6.7,
          7,
          6.3,
          6.7,
          5.7,
          6.7,
          7.7,
          6.6,
          6,
          6.5,
          5.8,
          6.7,
          6.4,
          6.7,
          5.9,
          6.1,
          5.7,
          6.4,
          5.2,
          6.1,
          5.9,
          6.9,
          6.3,
          5.7,
          5.5,
          5.7,
          6.1,
          7.3,
          5.2,
          7.4,
          8.8,
          5.5,
          8,
          7.2,
          7,
          6.4,
          7,
          6.6,
          7.9,
          7,
          5.6,
          6.2,
          6.3,
          6,
          6,
          6.8,
          6.2,
          6.9,
          6.8,
          8,
          6.2,
          6.5,
          6.3,
          8.5,
          7.2,
          7,
          7.2,
          7,
          6.6,
          6.1,
          6.1,
          6.5,
          6.4,
          6.6,
          7.1,
          6.3,
          6,
          8.1,
          6.3,
          5.7,
          7.7,
          7.7,
          7.5,
          7,
          6.8,
          6.6,
          7.4,
          6.3,
          6.3,
          6.9,
          6.7,
          6.2,
          6.5,
          7.9,
          6.4,
          6.4,
          6.8,
          5.4,
          6,
          7.1,
          7.4,
          6.7,
          5.3,
          7,
          6.6,
          7.1,
          5.8,
          7,
          6.8,
          6.7,
          6.6,
          7.7,
          7.2,
          7.1,
          6.7,
          7.1,
          5.8,
          5.4,
          6.8,
          6.2,
          6.7,
          6.2,
          5.2,
          5.3,
          6,
          5.7,
          6.9,
          7.6,
          7,
          6.1,
          7.7,
          7.6,
          6.9,
          7.1,
          6.2,
          7,
          6.4,
          6.8,
          5.6,
          7.5,
          6.5,
          6.9,
          6.5,
          6.2,
          6.4,
          7,
          7.8,
          6.6,
          8,
          8.3,
          5.8,
          6.6,
          7,
          7.6,
          6.4,
          7.5,
          7.9,
          6.5,
          7.6,
          6.3,
          5.6,
          6.9,
          7.4,
          7,
          6.5,
          6.4,
          6.7,
          6.4,
          7.6,
          7.7,
          5.8,
          5.6,
          6.5,
          7.4,
          6.5,
          5.3,
          6.1,
          7,
          5.3,
          5.9,
          6.4,
          7.1,
          7,
          6.2,
          4.2,
          4.4,
          5.3,
          6.2,
          6.1,
          5.2,
          6.2,
          5.3,
          6.7,
          6.3,
          6.5,
          5.6,
          4.8,
          5.1,
          4.4,
          7,
          5.8,
          5.9,
          6.7,
          6.9,
          5.8,
          6.3,
          6.2,
          5.5,
          6,
          5.5,
          6.3,
          5.6,
          6.6,
          5.5,
          6.4,
          7.1,
          6.5,
          6.6,
          6.4,
          7.2,
          5.8,
          6.2,
          6.3,
          6.2,
          7.1,
          5.7,
          6.8,
          7.1,
          6,
          4.9,
          7,
          7.5,
          4.4,
          4.9,
          7.5,
          6.2,
          4.4,
          5.9,
          6.6,
          5.9,
          5.5,
          7.8,
          5.6,
          6.2,
          6,
          5.5,
          6.4,
          6.9,
          5.8,
          6.1,
          4.8,
          5.5,
          5.5,
          5.6,
          7.5,
          7.8,
          7.5,
          6.6,
          7.8,
          6.6,
          6.2,
          6.3,
          7.3,
          6.8,
          7.1,
          7.6,
          6.6,
          8.1,
          7.3,
          6.9,
          6.4,
          5.8,
          7.4,
          7.2,
          6.8,
          7.8,
          7.5,
          6.3,
          6.4,
          7.1,
          6.3,
          6.1,
          7.7,
          6.5,
          7,
          7.9,
          5.8,
          6.1,
          6.2,
          6.2,
          6.8,
          7.8,
          6.5,
          6.2,
          6.9,
          7,
          6.9,
          6.8,
          5.6,
          6.4,
          7.5,
          6.4,
          7.8,
          6.4,
          5.9,
          7.4,
          6.9,
          5.9,
          7.3,
          6.9,
          6.3,
          6.4,
          6.5,
          6.6,
          7.6,
          6.1,
          6.9,
          7.5,
          6.1,
          5.1,
          6.1,
          6.7,
          6.7,
          5.9,
          5.6,
          7.2,
          7.8,
          5.8,
          6.6,
          5.6,
          6.5,
          6.6,
          7.1,
          6.1,
          6.6,
          5.6,
          6.3,
          6.4,
          6.1,
          7,
          5.4,
          6.3,
          7.2,
          5.5,
          6.1,
          6,
          5.5,
          5.4,
          6.2,
          7.7,
          6.9,
          7.6,
          6.5,
          5.4,
          7.3,
          4.5,
          5.7,
          6,
          5.3,
          6.8,
          6.9,
          6.6,
          6.4,
          6.1,
          6.4,
          5.8,
          6.6,
          6.6,
          6.6,
          5.4,
          6.8,
          6.2,
          6.4,
          7,
          5.6,
          6.6,
          6.6,
          6.1,
          7.3,
          4.8,
          6.5,
          6.5,
          6.6,
          7.1,
          7,
          5.9,
          6.2,
          5.9,
          5.5,
          6.6,
          7.6,
          7.2,
          6.4,
          6.5,
          6.1,
          6.7,
          6.6,
          6.6,
          6.6,
          5.8,
          4.4,
          6.5,
          6.3,
          5.9,
          4.1,
          6.7,
          6.9,
          5.5,
          6.1,
          6.8,
          6.3,
          6.1,
          6.4,
          6.2,
          5.9,
          6,
          6.5,
          5.5,
          6.6,
          6.3,
          6.7,
          5.3,
          6,
          6.1,
          6.8,
          5.4,
          6.5,
          6.1,
          6.1,
          7.5,
          7.3,
          6.2,
          5.7,
          5.9,
          6.3,
          6,
          7.8,
          6.8,
          5.8,
          5.6,
          6.7,
          7.8,
          5.5,
          7,
          6,
          5.9,
          6.9,
          6.8,
          6.1,
          7.4,
          7.7,
          6.7,
          6.3,
          6.2,
          6,
          6,
          6.1,
          6.3,
          6.1,
          6.7,
          4.9,
          6.1,
          5.9,
          6.1,
          5.2,
          6.5,
          5.7,
          7,
          6.1,
          6.1,
          6.6,
          6,
          6.9,
          5.9,
          5.7,
          5.9,
          7.3,
          6,
          6.3,
          6.7,
          6.1,
          7.1,
          7.2,
          7.3,
          6.7,
          5.6,
          5.8,
          7.3,
          6,
          5.6,
          7.5,
          6.2,
          5.2,
          6,
          5.7,
          6.6,
          5.4,
          6.3,
          4,
          6.8,
          8.1,
          5.9,
          6.5,
          6.8,
          5.2,
          5.2,
          5.2,
          8.8,
          5.9,
          6,
          3.6,
          5.8,
          6.5,
          7.3,
          7.7,
          6.8,
          6.2,
          7,
          7.3,
          7,
          6.5,
          6.7,
          5.8,
          7,
          6.6,
          6.9,
          6.9,
          6.3,
          6,
          6.3,
          6.6,
          7.4,
          7.1,
          6,
          7,
          7,
          6.1,
          6.1,
          6.4,
          6.4,
          5.3,
          6.5,
          6.1,
          6.6,
          10,
          6.2,
          8,
          5.8,
          7.1,
          6.9,
          6.5,
          6.9,
          7.1,
          5.9,
          7.1,
          6.9,
          6,
          6.2,
          6.2,
          8.3,
          6,
          7,
          6.9,
          6.4,
          7.2,
          7.9,
          6.6,
          6,
          7.4,
          6.2,
          5.9,
          6.4,
          6.1,
          6.8,
          6.9,
          6.2,
          4,
          5.8,
          7.9,
          7.5,
          7.6,
          7.5,
          7.8,
          6.6,
          6.2,
          7.4,
          6.9,
          7.7,
          7.3,
          7,
          7.4,
          6.2,
          7,
          6.3,
          5.9,
          6.9,
          7.1,
          7.3,
          6.9,
          7.2,
          6.4,
          6.9,
          7.4,
          7,
          6.2,
          6.3,
          6.6,
          5.6,
          7.1,
          5.7,
          7.3,
          6.1,
          7.9,
          6.1,
          7.6,
          6.9,
          6.8,
          7.2,
          8.5,
          6.8,
          6.6,
          6.6,
          7.1,
          7,
          6,
          8.2,
          6.8,
          5.3,
          6.4,
          6.4,
          6.4,
          7.3,
          7.6,
          6.3,
          6,
          6.8,
          5.9,
          5.8,
          7.4,
          8.1,
          7.7,
          7.9,
          6.8,
          7.6,
          7.5,
          4.4,
          7.4,
          6.5,
          7.1,
          6.6,
          7.3,
          7.4,
          7.3,
          6.5,
          6.4,
          6.7,
          6,
          7.1,
          7.7,
          6.9,
          7,
          7.2,
          6.4,
          7.5,
          6.7,
          6.1,
          6.9,
          7.1,
          7.7,
          6,
          7.1,
          7.3,
          7.2,
          7.4,
          7.8,
          6.8,
          8.2,
          6.9,
          6.9,
          6.8,
          5.9,
          6.6,
          6.3,
          7.3,
          6.6,
          6.7,
          8,
          9,
          7,
          6.7,
          6.6,
          7.7,
          5,
          7,
          6,
          7.9,
          7.9,
          7.9,
          6.6,
          7.6,
          8.2,
          8.3,
          6.6,
          7.4,
          7.6,
          7,
          7.5,
          7.3,
          7.2,
          6.5,
          6.9,
          7,
          7.2,
          5.1,
          8.3,
          6.8,
          7.6,
          6,
          5.3,
          7.6,
          6.1,
          7.3,
          6.5,
          8,
          7.2,
          7.5,
          5.6,
          7.7,
          7.1,
          7.4,
          6.4,
          7.9,
          6.4,
          7,
          7.7,
          6.5,
          6.4,
          7.7,
          6.8,
          6.9,
          5.9,
          7.6,
          6.5,
          7.2,
          8.3,
          6.6,
          6,
          6.4,
          6.8,
          7.3,
          7.1,
          6.4,
          6.7,
          5.5,
          6,
          7,
          7.6,
          6.3,
          7,
          4.3,
          8.4,
          8.3,
          6,
          8.2,
          6.4,
          6.9,
          7.1,
          7.8,
          7.3,
          7.6,
          7.1,
          6.1,
          6.2,
          7,
          8.2,
          7.5,
          6.7,
          7.3,
          6.7,
          5.6,
          7.5,
          8.3,
          7.3,
          8.6,
          8.3,
          7.6,
          7.3,
          7.9,
          8,
          6.7,
          6.2,
          6.9,
          7.8,
          9,
          6.6,
          7.6,
          6.8,
          7.8,
          5.5,
          7.2,
          6,
          7,
          7.1,
          7.4,
          5.8,
          7.7,
          7.8,
          6.7,
          6.9,
          6.7,
          6.7,
          7.5,
          7.3,
          10,
          6.3,
          8,
          7.5,
          8.8,
          7.2,
          6.3,
          8,
          6.9,
          7.5,
          7.3,
          6.8,
          6,
          7.2,
          7.8,
          6.7,
          6,
          6.3,
          7.3,
          7.6,
          7.2,
          6,
          7.4,
          7,
          7.3,
          7.3,
          6.7,
          6.8,
          8.1,
          7,
          6.8,
          7.3,
          7,
          7.7,
          9.5,
          7.5,
          6.4,
          7,
          3.8,
          5.9,
          8.6,
          7,
          6.2,
          7.1,
          8,
          7,
          8.5,
          7.8,
          5,
          8,
          6,
          7,
          8,
          8,
          2,
          8,
          8,
          10,
          8.5,
          7.7,
          7.2,
          7.4,
          7.7,
          7.7,
          7.1,
          7.7,
          8,
          7.6,
          8.1,
          7.5,
          8.2,
          6.8,
          7.9,
          7.5,
          7,
          6.2,
          8.1,
          8,
          6.9,
          6.8,
          5.9,
          7.1,
          7.1,
          6.7,
          7.4,
          7.5,
          6.9,
          6.4,
          5.1,
          8,
          6.6,
          7.5,
          6.8,
          6.9,
          3.5,
          6,
          7,
          7.2,
          7.9,
          8,
          8.2,
          6.6,
          6.9,
          6.8,
          7.3,
          5,
          7,
          7,
          7.1,
          6.4,
          9,
          6.1,
          7.8,
          6,
          8.4,
          6.8,
          8.2,
          5.4,
          7,
          7.4,
          4,
          7.5,
          7.7,
          7.2,
          8,
          6.9,
          6,
          6.3,
          6.4,
          6.7,
          7.1,
          6.1,
          7,
          7.3,
          5.9,
          6.8,
          5.5,
          7,
          7.3,
          7,
          9,
          7.7,
          8,
          6.4,
          6.3,
          4,
          10
         ],
         "y0": " ",
         "yaxis": "y"
        },
        {
         "alignmentgroup": "True",
         "hovertemplate": "type=%{x}<br>Rating (Avg)=%{y}<extra></extra>",
         "legendgroup": "SHOW",
         "marker": {
          "color": "#C39BD3"
         },
         "name": "SHOW",
         "notched": false,
         "offsetgroup": "SHOW",
         "orientation": "v",
         "showlegend": true,
         "type": "box",
         "x": [
          "SHOW",
          "SHOW",
          "SHOW",
          "SHOW",
          "SHOW",
          "SHOW",
          "SHOW",
          "SHOW",
          "SHOW",
          "SHOW",
          "SHOW",
          "SHOW",
          "SHOW",
          "SHOW",
          "SHOW",
          "SHOW",
          "SHOW",
          "SHOW",
          "SHOW",
          "SHOW",
          "SHOW",
          "SHOW",
          "SHOW",
          "SHOW",
          "SHOW",
          "SHOW",
          "SHOW",
          "SHOW",
          "SHOW",
          "SHOW",
          "SHOW",
          "SHOW",
          "SHOW",
          "SHOW",
          "SHOW",
          "SHOW",
          "SHOW",
          "SHOW",
          "SHOW",
          "SHOW",
          "SHOW",
          "SHOW",
          "SHOW",
          "SHOW",
          "SHOW",
          "SHOW",
          "SHOW",
          "SHOW",
          "SHOW",
          "SHOW",
          "SHOW",
          "SHOW",
          "SHOW",
          "SHOW",
          "SHOW",
          "SHOW",
          "SHOW",
          "SHOW",
          "SHOW",
          "SHOW",
          "SHOW",
          "SHOW",
          "SHOW",
          "SHOW",
          "SHOW",
          "SHOW",
          "SHOW",
          "SHOW",
          "SHOW",
          "SHOW",
          "SHOW",
          "SHOW",
          "SHOW",
          "SHOW",
          "SHOW",
          "SHOW",
          "SHOW",
          "SHOW",
          "SHOW",
          "SHOW",
          "SHOW",
          "SHOW",
          "SHOW",
          "SHOW",
          "SHOW",
          "SHOW",
          "SHOW",
          "SHOW",
          "SHOW",
          "SHOW",
          "SHOW",
          "SHOW",
          "SHOW",
          "SHOW",
          "SHOW",
          "SHOW",
          "SHOW",
          "SHOW",
          "SHOW",
          "SHOW",
          "SHOW",
          "SHOW",
          "SHOW",
          "SHOW",
          "SHOW",
          "SHOW",
          "SHOW",
          "SHOW",
          "SHOW",
          "SHOW",
          "SHOW",
          "SHOW",
          "SHOW",
          "SHOW",
          "SHOW",
          "SHOW",
          "SHOW",
          "SHOW",
          "SHOW",
          "SHOW",
          "SHOW",
          "SHOW",
          "SHOW",
          "SHOW",
          "SHOW",
          "SHOW",
          "SHOW",
          "SHOW",
          "SHOW",
          "SHOW",
          "SHOW",
          "SHOW",
          "SHOW",
          "SHOW",
          "SHOW",
          "SHOW",
          "SHOW",
          "SHOW",
          "SHOW",
          "SHOW",
          "SHOW",
          "SHOW",
          "SHOW",
          "SHOW",
          "SHOW",
          "SHOW",
          "SHOW",
          "SHOW",
          "SHOW",
          "SHOW",
          "SHOW",
          "SHOW",
          "SHOW",
          "SHOW",
          "SHOW",
          "SHOW",
          "SHOW",
          "SHOW",
          "SHOW",
          "SHOW",
          "SHOW",
          "SHOW",
          "SHOW",
          "SHOW",
          "SHOW",
          "SHOW",
          "SHOW",
          "SHOW",
          "SHOW",
          "SHOW",
          "SHOW",
          "SHOW",
          "SHOW",
          "SHOW",
          "SHOW",
          "SHOW",
          "SHOW",
          "SHOW",
          "SHOW",
          "SHOW",
          "SHOW",
          "SHOW",
          "SHOW",
          "SHOW",
          "SHOW",
          "SHOW",
          "SHOW",
          "SHOW",
          "SHOW",
          "SHOW",
          "SHOW",
          "SHOW",
          "SHOW",
          "SHOW",
          "SHOW",
          "SHOW",
          "SHOW",
          "SHOW",
          "SHOW",
          "SHOW",
          "SHOW",
          "SHOW",
          "SHOW",
          "SHOW",
          "SHOW",
          "SHOW",
          "SHOW",
          "SHOW",
          "SHOW",
          "SHOW",
          "SHOW",
          "SHOW",
          "SHOW",
          "SHOW",
          "SHOW",
          "SHOW",
          "SHOW",
          "SHOW",
          "SHOW",
          "SHOW",
          "SHOW",
          "SHOW",
          "SHOW",
          "SHOW",
          "SHOW",
          "SHOW",
          "SHOW",
          "SHOW",
          "SHOW",
          "SHOW",
          "SHOW",
          "SHOW",
          "SHOW",
          "SHOW",
          "SHOW",
          "SHOW",
          "SHOW",
          "SHOW",
          "SHOW",
          "SHOW",
          "SHOW",
          "SHOW",
          "SHOW",
          "SHOW",
          "SHOW",
          "SHOW",
          "SHOW",
          "SHOW",
          "SHOW",
          "SHOW",
          "SHOW",
          "SHOW",
          "SHOW",
          "SHOW",
          "SHOW",
          "SHOW",
          "SHOW",
          "SHOW",
          "SHOW",
          "SHOW",
          "SHOW",
          "SHOW",
          "SHOW",
          "SHOW",
          "SHOW",
          "SHOW",
          "SHOW",
          "SHOW",
          "SHOW",
          "SHOW",
          "SHOW",
          "SHOW",
          "SHOW",
          "SHOW",
          "SHOW",
          "SHOW",
          "SHOW",
          "SHOW",
          "SHOW",
          "SHOW",
          "SHOW",
          "SHOW",
          "SHOW",
          "SHOW",
          "SHOW",
          "SHOW",
          "SHOW",
          "SHOW",
          "SHOW",
          "SHOW",
          "SHOW",
          "SHOW",
          "SHOW",
          "SHOW",
          "SHOW",
          "SHOW",
          "SHOW",
          "SHOW",
          "SHOW",
          "SHOW",
          "SHOW",
          "SHOW",
          "SHOW",
          "SHOW",
          "SHOW",
          "SHOW",
          "SHOW",
          "SHOW",
          "SHOW",
          "SHOW",
          "SHOW",
          "SHOW",
          "SHOW",
          "SHOW",
          "SHOW",
          "SHOW",
          "SHOW",
          "SHOW",
          "SHOW",
          "SHOW",
          "SHOW",
          "SHOW",
          "SHOW",
          "SHOW",
          "SHOW",
          "SHOW",
          "SHOW",
          "SHOW",
          "SHOW",
          "SHOW",
          "SHOW",
          "SHOW",
          "SHOW",
          "SHOW",
          "SHOW",
          "SHOW",
          "SHOW",
          "SHOW",
          "SHOW",
          "SHOW",
          "SHOW",
          "SHOW",
          "SHOW",
          "SHOW",
          "SHOW",
          "SHOW",
          "SHOW",
          "SHOW",
          "SHOW",
          "SHOW",
          "SHOW"
         ],
         "x0": " ",
         "xaxis": "x",
         "y": [
          8.1,
          7.8,
          5.8,
          8,
          8,
          7.9,
          7,
          7.6,
          7.6,
          7,
          7.5,
          7.4,
          7.2,
          5,
          7.5,
          6.3,
          8.4,
          8.3,
          8.2,
          7.8,
          7.4,
          8.2,
          8,
          7.8,
          6.6,
          7.5,
          6,
          6.9,
          6.8,
          7.4,
          7.5,
          7,
          7,
          7.7,
          8,
          6.6,
          7.2,
          6.6,
          10,
          7,
          7.6,
          6.6,
          6.6,
          7,
          6.7,
          7,
          7.6,
          8.5,
          7.7,
          7.9,
          7.1,
          7.4,
          7.2,
          7.6,
          7.2,
          8.3,
          7.7,
          6.8,
          7.9,
          8.2,
          8.1,
          8,
          7.4,
          7.5,
          8.2,
          7.8,
          7.9,
          7.4,
          7.5,
          7.7,
          7.5,
          7.7,
          8.1,
          8,
          7.1,
          8,
          7.1,
          8,
          6.7,
          8,
          7.4,
          6.5,
          6,
          7.4,
          6.7,
          7.8,
          8.2,
          7.9,
          7.7,
          7.2,
          8.5,
          7.6,
          7.8,
          7.7,
          7.7,
          8.9,
          5.5,
          8.2,
          8.2,
          10,
          8.4,
          6.9,
          10,
          7.1,
          8.4,
          7,
          8.4,
          3.9,
          5,
          7.5,
          8.3,
          7.4,
          6,
          6,
          7.4,
          8.4,
          7.5,
          7.7,
          7.7,
          7.3,
          6.5,
          8.4,
          7.6,
          8.2,
          7.1,
          5.5,
          6.6,
          8.3,
          7.4,
          7.3,
          6,
          6.9,
          9,
          7,
          7.3,
          4,
          9.7,
          9,
          8,
          7.6,
          9,
          8.1,
          7.6,
          7.6,
          8,
          4.9,
          7,
          7.4,
          5.5,
          8.3,
          7.9,
          8.4,
          7.1,
          7.6,
          9.3,
          7.9,
          6.8,
          7.7,
          6.8,
          7.7,
          8.1,
          4.6,
          8.3,
          5.3,
          6.6,
          8.2,
          7.3,
          8.7,
          5.5,
          7.9,
          5,
          7.6,
          6,
          6,
          9.3,
          8.5,
          9.4,
          8.7,
          8.3,
          8.2,
          6.3,
          7,
          8.2,
          6.3,
          6.6,
          7.2,
          7.6,
          8.7,
          7.9,
          8.5,
          7.6,
          6.6,
          6.8,
          7.9,
          8.1,
          5.5,
          7.7,
          8.2,
          7.8,
          8.1,
          7.5,
          8.9,
          7.5,
          7.3,
          8.2,
          10,
          6.8,
          6.8,
          8.1,
          7.8,
          5.8,
          8.2,
          7.5,
          6.6,
          7.9,
          8,
          7.5,
          5,
          7.3,
          10,
          8.5,
          6,
          7,
          8.5,
          8.8,
          8.1,
          10,
          8,
          7.2,
          7.1,
          8.3,
          8.1,
          9,
          10,
          8,
          7.9,
          8.2,
          8,
          7.6,
          9,
          8,
          3,
          6.5,
          8,
          10,
          8,
          8.1,
          7.9,
          6.1,
          8,
          7.7,
          8,
          7.4,
          7,
          6,
          7.5,
          9.5,
          7.6,
          8,
          7.6,
          7.7,
          7.9,
          10,
          7.3,
          7,
          8.5,
          8.5,
          7.9,
          10,
          7.1,
          10,
          8.8,
          10,
          7.1,
          8.1,
          6.9,
          8,
          7.1,
          6.8,
          8,
          6.5,
          9,
          10,
          7.7,
          7.8,
          8.5,
          10,
          10,
          7,
          10,
          5.6,
          8,
          10,
          9,
          5.3,
          6,
          9,
          8.5,
          8.5,
          8.1,
          8.3,
          8.2,
          8.2,
          7.3,
          8.4,
          7.1,
          7.8,
          8.5,
          7.9,
          7.4,
          7.5,
          7.2,
          8.4,
          8.1,
          7.3,
          7.8,
          7.9,
          7.4,
          9.4,
          8.2,
          10,
          8.1,
          10,
          7.5,
          7.9,
          7.8,
          10,
          7.2,
          7.4,
          7,
          8.1,
          8.3,
          8.3,
          7.1,
          7.5,
          7.8,
          6.5,
          7.2,
          7.1,
          9.5,
          7.6,
          8,
          10,
          6.7,
          8.5,
          7,
          7,
          8,
          10,
          7.4,
          1
         ],
         "y0": " ",
         "yaxis": "y"
        }
       ],
       "layout": {
        "boxmode": "overlay",
        "font": {
         "color": "#FFFFFF",
         "family": "Verdana",
         "size": 13
        },
        "legend": {
         "title": {
          "text": "type"
         },
         "tracegroupgap": 0
        },
        "paper_bgcolor": "#1A1D29",
        "plot_bgcolor": "#1A1D29",
        "template": {
         "data": {
          "bar": [
           {
            "error_x": {
             "color": "#f2f5fa"
            },
            "error_y": {
             "color": "#f2f5fa"
            },
            "marker": {
             "line": {
              "color": "rgb(17,17,17)",
              "width": 0.5
             },
             "pattern": {
              "fillmode": "overlay",
              "size": 10,
              "solidity": 0.2
             }
            },
            "type": "bar"
           }
          ],
          "barpolar": [
           {
            "marker": {
             "line": {
              "color": "rgb(17,17,17)",
              "width": 0.5
             },
             "pattern": {
              "fillmode": "overlay",
              "size": 10,
              "solidity": 0.2
             }
            },
            "type": "barpolar"
           }
          ],
          "carpet": [
           {
            "aaxis": {
             "endlinecolor": "#A2B1C6",
             "gridcolor": "#506784",
             "linecolor": "#506784",
             "minorgridcolor": "#506784",
             "startlinecolor": "#A2B1C6"
            },
            "baxis": {
             "endlinecolor": "#A2B1C6",
             "gridcolor": "#506784",
             "linecolor": "#506784",
             "minorgridcolor": "#506784",
             "startlinecolor": "#A2B1C6"
            },
            "type": "carpet"
           }
          ],
          "choropleth": [
           {
            "colorbar": {
             "outlinewidth": 0,
             "ticks": ""
            },
            "type": "choropleth"
           }
          ],
          "contour": [
           {
            "colorbar": {
             "outlinewidth": 0,
             "ticks": ""
            },
            "colorscale": [
             [
              0,
              "#0d0887"
             ],
             [
              0.1111111111111111,
              "#46039f"
             ],
             [
              0.2222222222222222,
              "#7201a8"
             ],
             [
              0.3333333333333333,
              "#9c179e"
             ],
             [
              0.4444444444444444,
              "#bd3786"
             ],
             [
              0.5555555555555556,
              "#d8576b"
             ],
             [
              0.6666666666666666,
              "#ed7953"
             ],
             [
              0.7777777777777778,
              "#fb9f3a"
             ],
             [
              0.8888888888888888,
              "#fdca26"
             ],
             [
              1,
              "#f0f921"
             ]
            ],
            "type": "contour"
           }
          ],
          "contourcarpet": [
           {
            "colorbar": {
             "outlinewidth": 0,
             "ticks": ""
            },
            "type": "contourcarpet"
           }
          ],
          "heatmap": [
           {
            "colorbar": {
             "outlinewidth": 0,
             "ticks": ""
            },
            "colorscale": [
             [
              0,
              "#0d0887"
             ],
             [
              0.1111111111111111,
              "#46039f"
             ],
             [
              0.2222222222222222,
              "#7201a8"
             ],
             [
              0.3333333333333333,
              "#9c179e"
             ],
             [
              0.4444444444444444,
              "#bd3786"
             ],
             [
              0.5555555555555556,
              "#d8576b"
             ],
             [
              0.6666666666666666,
              "#ed7953"
             ],
             [
              0.7777777777777778,
              "#fb9f3a"
             ],
             [
              0.8888888888888888,
              "#fdca26"
             ],
             [
              1,
              "#f0f921"
             ]
            ],
            "type": "heatmap"
           }
          ],
          "heatmapgl": [
           {
            "colorbar": {
             "outlinewidth": 0,
             "ticks": ""
            },
            "colorscale": [
             [
              0,
              "#0d0887"
             ],
             [
              0.1111111111111111,
              "#46039f"
             ],
             [
              0.2222222222222222,
              "#7201a8"
             ],
             [
              0.3333333333333333,
              "#9c179e"
             ],
             [
              0.4444444444444444,
              "#bd3786"
             ],
             [
              0.5555555555555556,
              "#d8576b"
             ],
             [
              0.6666666666666666,
              "#ed7953"
             ],
             [
              0.7777777777777778,
              "#fb9f3a"
             ],
             [
              0.8888888888888888,
              "#fdca26"
             ],
             [
              1,
              "#f0f921"
             ]
            ],
            "type": "heatmapgl"
           }
          ],
          "histogram": [
           {
            "marker": {
             "pattern": {
              "fillmode": "overlay",
              "size": 10,
              "solidity": 0.2
             }
            },
            "type": "histogram"
           }
          ],
          "histogram2d": [
           {
            "colorbar": {
             "outlinewidth": 0,
             "ticks": ""
            },
            "colorscale": [
             [
              0,
              "#0d0887"
             ],
             [
              0.1111111111111111,
              "#46039f"
             ],
             [
              0.2222222222222222,
              "#7201a8"
             ],
             [
              0.3333333333333333,
              "#9c179e"
             ],
             [
              0.4444444444444444,
              "#bd3786"
             ],
             [
              0.5555555555555556,
              "#d8576b"
             ],
             [
              0.6666666666666666,
              "#ed7953"
             ],
             [
              0.7777777777777778,
              "#fb9f3a"
             ],
             [
              0.8888888888888888,
              "#fdca26"
             ],
             [
              1,
              "#f0f921"
             ]
            ],
            "type": "histogram2d"
           }
          ],
          "histogram2dcontour": [
           {
            "colorbar": {
             "outlinewidth": 0,
             "ticks": ""
            },
            "colorscale": [
             [
              0,
              "#0d0887"
             ],
             [
              0.1111111111111111,
              "#46039f"
             ],
             [
              0.2222222222222222,
              "#7201a8"
             ],
             [
              0.3333333333333333,
              "#9c179e"
             ],
             [
              0.4444444444444444,
              "#bd3786"
             ],
             [
              0.5555555555555556,
              "#d8576b"
             ],
             [
              0.6666666666666666,
              "#ed7953"
             ],
             [
              0.7777777777777778,
              "#fb9f3a"
             ],
             [
              0.8888888888888888,
              "#fdca26"
             ],
             [
              1,
              "#f0f921"
             ]
            ],
            "type": "histogram2dcontour"
           }
          ],
          "mesh3d": [
           {
            "colorbar": {
             "outlinewidth": 0,
             "ticks": ""
            },
            "type": "mesh3d"
           }
          ],
          "parcoords": [
           {
            "line": {
             "colorbar": {
              "outlinewidth": 0,
              "ticks": ""
             }
            },
            "type": "parcoords"
           }
          ],
          "pie": [
           {
            "automargin": true,
            "type": "pie"
           }
          ],
          "scatter": [
           {
            "marker": {
             "line": {
              "color": "#283442"
             }
            },
            "type": "scatter"
           }
          ],
          "scatter3d": [
           {
            "line": {
             "colorbar": {
              "outlinewidth": 0,
              "ticks": ""
             }
            },
            "marker": {
             "colorbar": {
              "outlinewidth": 0,
              "ticks": ""
             }
            },
            "type": "scatter3d"
           }
          ],
          "scattercarpet": [
           {
            "marker": {
             "colorbar": {
              "outlinewidth": 0,
              "ticks": ""
             }
            },
            "type": "scattercarpet"
           }
          ],
          "scattergeo": [
           {
            "marker": {
             "colorbar": {
              "outlinewidth": 0,
              "ticks": ""
             }
            },
            "type": "scattergeo"
           }
          ],
          "scattergl": [
           {
            "marker": {
             "line": {
              "color": "#283442"
             }
            },
            "type": "scattergl"
           }
          ],
          "scattermapbox": [
           {
            "marker": {
             "colorbar": {
              "outlinewidth": 0,
              "ticks": ""
             }
            },
            "type": "scattermapbox"
           }
          ],
          "scatterpolar": [
           {
            "marker": {
             "colorbar": {
              "outlinewidth": 0,
              "ticks": ""
             }
            },
            "type": "scatterpolar"
           }
          ],
          "scatterpolargl": [
           {
            "marker": {
             "colorbar": {
              "outlinewidth": 0,
              "ticks": ""
             }
            },
            "type": "scatterpolargl"
           }
          ],
          "scatterternary": [
           {
            "marker": {
             "colorbar": {
              "outlinewidth": 0,
              "ticks": ""
             }
            },
            "type": "scatterternary"
           }
          ],
          "surface": [
           {
            "colorbar": {
             "outlinewidth": 0,
             "ticks": ""
            },
            "colorscale": [
             [
              0,
              "#0d0887"
             ],
             [
              0.1111111111111111,
              "#46039f"
             ],
             [
              0.2222222222222222,
              "#7201a8"
             ],
             [
              0.3333333333333333,
              "#9c179e"
             ],
             [
              0.4444444444444444,
              "#bd3786"
             ],
             [
              0.5555555555555556,
              "#d8576b"
             ],
             [
              0.6666666666666666,
              "#ed7953"
             ],
             [
              0.7777777777777778,
              "#fb9f3a"
             ],
             [
              0.8888888888888888,
              "#fdca26"
             ],
             [
              1,
              "#f0f921"
             ]
            ],
            "type": "surface"
           }
          ],
          "table": [
           {
            "cells": {
             "fill": {
              "color": "#506784"
             },
             "line": {
              "color": "rgb(17,17,17)"
             }
            },
            "header": {
             "fill": {
              "color": "#2a3f5f"
             },
             "line": {
              "color": "rgb(17,17,17)"
             }
            },
            "type": "table"
           }
          ]
         },
         "layout": {
          "annotationdefaults": {
           "arrowcolor": "#f2f5fa",
           "arrowhead": 0,
           "arrowwidth": 1
          },
          "autotypenumbers": "strict",
          "coloraxis": {
           "colorbar": {
            "outlinewidth": 0,
            "ticks": ""
           }
          },
          "colorscale": {
           "diverging": [
            [
             0,
             "#8e0152"
            ],
            [
             0.1,
             "#c51b7d"
            ],
            [
             0.2,
             "#de77ae"
            ],
            [
             0.3,
             "#f1b6da"
            ],
            [
             0.4,
             "#fde0ef"
            ],
            [
             0.5,
             "#f7f7f7"
            ],
            [
             0.6,
             "#e6f5d0"
            ],
            [
             0.7,
             "#b8e186"
            ],
            [
             0.8,
             "#7fbc41"
            ],
            [
             0.9,
             "#4d9221"
            ],
            [
             1,
             "#276419"
            ]
           ],
           "sequential": [
            [
             0,
             "#0d0887"
            ],
            [
             0.1111111111111111,
             "#46039f"
            ],
            [
             0.2222222222222222,
             "#7201a8"
            ],
            [
             0.3333333333333333,
             "#9c179e"
            ],
            [
             0.4444444444444444,
             "#bd3786"
            ],
            [
             0.5555555555555556,
             "#d8576b"
            ],
            [
             0.6666666666666666,
             "#ed7953"
            ],
            [
             0.7777777777777778,
             "#fb9f3a"
            ],
            [
             0.8888888888888888,
             "#fdca26"
            ],
            [
             1,
             "#f0f921"
            ]
           ],
           "sequentialminus": [
            [
             0,
             "#0d0887"
            ],
            [
             0.1111111111111111,
             "#46039f"
            ],
            [
             0.2222222222222222,
             "#7201a8"
            ],
            [
             0.3333333333333333,
             "#9c179e"
            ],
            [
             0.4444444444444444,
             "#bd3786"
            ],
            [
             0.5555555555555556,
             "#d8576b"
            ],
            [
             0.6666666666666666,
             "#ed7953"
            ],
            [
             0.7777777777777778,
             "#fb9f3a"
            ],
            [
             0.8888888888888888,
             "#fdca26"
            ],
            [
             1,
             "#f0f921"
            ]
           ]
          },
          "colorway": [
           "#636efa",
           "#EF553B",
           "#00cc96",
           "#ab63fa",
           "#FFA15A",
           "#19d3f3",
           "#FF6692",
           "#B6E880",
           "#FF97FF",
           "#FECB52"
          ],
          "font": {
           "color": "#f2f5fa"
          },
          "geo": {
           "bgcolor": "rgb(17,17,17)",
           "lakecolor": "rgb(17,17,17)",
           "landcolor": "rgb(17,17,17)",
           "showlakes": true,
           "showland": true,
           "subunitcolor": "#506784"
          },
          "hoverlabel": {
           "align": "left"
          },
          "hovermode": "closest",
          "mapbox": {
           "style": "dark"
          },
          "paper_bgcolor": "rgb(17,17,17)",
          "plot_bgcolor": "rgb(17,17,17)",
          "polar": {
           "angularaxis": {
            "gridcolor": "#506784",
            "linecolor": "#506784",
            "ticks": ""
           },
           "bgcolor": "rgb(17,17,17)",
           "radialaxis": {
            "gridcolor": "#506784",
            "linecolor": "#506784",
            "ticks": ""
           }
          },
          "scene": {
           "xaxis": {
            "backgroundcolor": "rgb(17,17,17)",
            "gridcolor": "#506784",
            "gridwidth": 2,
            "linecolor": "#506784",
            "showbackground": true,
            "ticks": "",
            "zerolinecolor": "#C8D4E3"
           },
           "yaxis": {
            "backgroundcolor": "rgb(17,17,17)",
            "gridcolor": "#506784",
            "gridwidth": 2,
            "linecolor": "#506784",
            "showbackground": true,
            "ticks": "",
            "zerolinecolor": "#C8D4E3"
           },
           "zaxis": {
            "backgroundcolor": "rgb(17,17,17)",
            "gridcolor": "#506784",
            "gridwidth": 2,
            "linecolor": "#506784",
            "showbackground": true,
            "ticks": "",
            "zerolinecolor": "#C8D4E3"
           }
          },
          "shapedefaults": {
           "line": {
            "color": "#f2f5fa"
           }
          },
          "sliderdefaults": {
           "bgcolor": "#C8D4E3",
           "bordercolor": "rgb(17,17,17)",
           "borderwidth": 1,
           "tickwidth": 0
          },
          "ternary": {
           "aaxis": {
            "gridcolor": "#506784",
            "linecolor": "#506784",
            "ticks": ""
           },
           "baxis": {
            "gridcolor": "#506784",
            "linecolor": "#506784",
            "ticks": ""
           },
           "bgcolor": "rgb(17,17,17)",
           "caxis": {
            "gridcolor": "#506784",
            "linecolor": "#506784",
            "ticks": ""
           }
          },
          "title": {
           "x": 0.05
          },
          "updatemenudefaults": {
           "bgcolor": "#506784",
           "borderwidth": 0
          },
          "xaxis": {
           "automargin": true,
           "gridcolor": "#283442",
           "linecolor": "#506784",
           "ticks": "",
           "title": {
            "standoff": 15
           },
           "zerolinecolor": "#283442",
           "zerolinewidth": 2
          },
          "yaxis": {
           "automargin": true,
           "gridcolor": "#283442",
           "linecolor": "#506784",
           "ticks": "",
           "title": {
            "standoff": 15
           },
           "zerolinecolor": "#283442",
           "zerolinewidth": 2
          }
         }
        },
        "title": {
         "text": "TMDB Ratings of Disney+ Movies & Shows (US)"
        },
        "xaxis": {
         "anchor": "y",
         "categoryarray": [
          "MOVIE",
          "SHOW"
         ],
         "categoryorder": "array",
         "domain": [
          0,
          1
         ],
         "title": {
          "text": "type"
         }
        },
        "yaxis": {
         "anchor": "x",
         "domain": [
          0,
          1
         ],
         "title": {
          "text": "Rating (Avg)"
         }
        }
       }
      }
     },
     "metadata": {},
     "output_type": "display_data"
    }
   ],
   "source": [
    " # Box Plot\n",
    "fig = px.box(ctitles, x =\"type\", y=\"tmdb_score\", color=\"type\",\n",
    "    title=\"TMDB Ratings of Disney+ Movies & Shows (US)\", \n",
    "    labels= { \"tmdb_score\" : \"Rating (Avg)\"},\n",
    "    color_discrete_map= {\"MOVIE\": \"#B9D8EB\", \"SHOW\" : \"#C39BD3\"},\n",
    "    template=\"plotly_dark\")\n",
    "    \n",
    "fig.update_layout(paper_bgcolor = '#1A1D29', \n",
    "                  plot_bgcolor = '#1A1D29',\n",
    "                  font = dict(family=\"Verdana\",color = '#FFFFFF', size=13),)"
   ]
  },
  {
   "cell_type": "markdown",
   "metadata": {},
   "source": [
    "![image](https://github.com/kekevin12/Disney_EDA/blob/main/Graphs/boxrating.png?raw=true)"
   ]
  },
  {
   "cell_type": "markdown",
   "metadata": {},
   "source": [
    "Just looking at the overall ratings, shows seem to have a higher rating average of 7.7 while movies at 6.7. However, looking at just the rating average only does not provide much insight so I would like to further break down the ratings by looking at the different genres if there is any correlation."
   ]
  },
  {
   "cell_type": "markdown",
   "metadata": {},
   "source": [
    "##### Genre Ratings"
   ]
  },
  {
   "cell_type": "code",
   "execution_count": 143,
   "metadata": {},
   "outputs": [],
   "source": [
    "# Adding new genre columns with each genre split and adding count and tmdb_scores associated with it to it\n",
    "ratings = ctitles[['tmdb_score','type']].assign(\n",
    "    genres=ctitles['genres'].str.split(r'\\s*,\\s*')).explode('genres')\n",
    "ratings = ratings[ratings.genres != \"\"]\n",
    "\n",
    "avg = ratings.groupby(['genres','type'])\\\n",
    "    .agg({'genres':'size', 'tmdb_score':'mean'})\\\n",
    "    .rename(columns={'genres':'count','sent':'mean_tmdb_score'})\\\n",
    "    .reset_index()\n"
   ]
  },
  {
   "cell_type": "code",
   "execution_count": 149,
   "metadata": {},
   "outputs": [
    {
     "data": {
      "application/vnd.plotly.v1+json": {
       "config": {
        "plotlyServerURL": "https://plot.ly"
       },
       "data": [
        {
         "alignmentgroup": "True",
         "hovertemplate": "type=MOVIE<br>Genres=%{x}<br>Rating (Avg)=%{y}<extra></extra>",
         "legendgroup": "MOVIE",
         "marker": {
          "color": "#B9D8EB",
          "pattern": {
           "shape": ""
          }
         },
         "name": "MOVIE",
         "offsetgroup": "MOVIE",
         "orientation": "v",
         "showlegend": true,
         "textposition": "auto",
         "type": "bar",
         "x": [
          "'action'",
          "'animation'",
          "'comedy'",
          "'crime'",
          "'documentation'",
          "'drama'",
          "'european'",
          "'family'",
          "'fantasy'",
          "'history'",
          "'horror'",
          "'music'",
          "'reality'",
          "'romance'",
          "'scifi'",
          "'sport'",
          "'thriller'",
          "'war'",
          "'western'"
         ],
         "xaxis": "x",
         "y": [
          6.640860215053764,
          6.80776119402985,
          6.522978723404256,
          6.216666666666667,
          6.968656716417911,
          6.761627906976744,
          6.7875,
          6.502777777777778,
          6.723588039867109,
          6.989285714285714,
          6.686956521739131,
          6.851428571428571,
          7.8,
          6.69059829059829,
          6.628378378378378,
          6.457407407407407,
          6.667647058823529,
          6.220000000000001,
          6.40625
         ],
         "yaxis": "y"
        },
        {
         "alignmentgroup": "True",
         "hovertemplate": "type=SHOW<br>Genres=%{x}<br>Rating (Avg)=%{y}<extra></extra>",
         "legendgroup": "SHOW",
         "marker": {
          "color": "#C39BD3",
          "pattern": {
           "shape": ""
          }
         },
         "name": "SHOW",
         "offsetgroup": "SHOW",
         "orientation": "v",
         "showlegend": true,
         "textposition": "auto",
         "type": "bar",
         "x": [
          "'action'",
          "'animation'",
          "'comedy'",
          "'crime'",
          "'documentation'",
          "'drama'",
          "'european'",
          "'family'",
          "'fantasy'",
          "'history'",
          "'horror'",
          "'music'",
          "'reality'",
          "'romance'",
          "'scifi'",
          "'sport'",
          "'thriller'",
          "'war'",
          "'western'"
         ],
         "xaxis": "x",
         "y": [
          7.607692307692308,
          7.404255319148936,
          7.5831395348837205,
          7.641176470588236,
          8.076404494382022,
          7.758620689655173,
          7.033333333333334,
          7.55678391959799,
          7.501123595505618,
          7.922222222222222,
          8.183333333333334,
          7.695652173913044,
          7.615217391304348,
          8.119047619047619,
          7.6,
          7.7555555555555555,
          8.060869565217391,
          8.4,
          7.771428571428571
         ],
         "yaxis": "y"
        }
       ],
       "layout": {
        "barmode": "group",
        "font": {
         "color": "#FFFFFF",
         "family": "Verdana",
         "size": 13
        },
        "legend": {
         "title": {
          "text": "type"
         },
         "tracegroupgap": 0
        },
        "paper_bgcolor": "#1A1D29",
        "plot_bgcolor": "#1A1D29",
        "template": {
         "data": {
          "bar": [
           {
            "error_x": {
             "color": "#f2f5fa"
            },
            "error_y": {
             "color": "#f2f5fa"
            },
            "marker": {
             "line": {
              "color": "rgb(17,17,17)",
              "width": 0.5
             },
             "pattern": {
              "fillmode": "overlay",
              "size": 10,
              "solidity": 0.2
             }
            },
            "type": "bar"
           }
          ],
          "barpolar": [
           {
            "marker": {
             "line": {
              "color": "rgb(17,17,17)",
              "width": 0.5
             },
             "pattern": {
              "fillmode": "overlay",
              "size": 10,
              "solidity": 0.2
             }
            },
            "type": "barpolar"
           }
          ],
          "carpet": [
           {
            "aaxis": {
             "endlinecolor": "#A2B1C6",
             "gridcolor": "#506784",
             "linecolor": "#506784",
             "minorgridcolor": "#506784",
             "startlinecolor": "#A2B1C6"
            },
            "baxis": {
             "endlinecolor": "#A2B1C6",
             "gridcolor": "#506784",
             "linecolor": "#506784",
             "minorgridcolor": "#506784",
             "startlinecolor": "#A2B1C6"
            },
            "type": "carpet"
           }
          ],
          "choropleth": [
           {
            "colorbar": {
             "outlinewidth": 0,
             "ticks": ""
            },
            "type": "choropleth"
           }
          ],
          "contour": [
           {
            "colorbar": {
             "outlinewidth": 0,
             "ticks": ""
            },
            "colorscale": [
             [
              0,
              "#0d0887"
             ],
             [
              0.1111111111111111,
              "#46039f"
             ],
             [
              0.2222222222222222,
              "#7201a8"
             ],
             [
              0.3333333333333333,
              "#9c179e"
             ],
             [
              0.4444444444444444,
              "#bd3786"
             ],
             [
              0.5555555555555556,
              "#d8576b"
             ],
             [
              0.6666666666666666,
              "#ed7953"
             ],
             [
              0.7777777777777778,
              "#fb9f3a"
             ],
             [
              0.8888888888888888,
              "#fdca26"
             ],
             [
              1,
              "#f0f921"
             ]
            ],
            "type": "contour"
           }
          ],
          "contourcarpet": [
           {
            "colorbar": {
             "outlinewidth": 0,
             "ticks": ""
            },
            "type": "contourcarpet"
           }
          ],
          "heatmap": [
           {
            "colorbar": {
             "outlinewidth": 0,
             "ticks": ""
            },
            "colorscale": [
             [
              0,
              "#0d0887"
             ],
             [
              0.1111111111111111,
              "#46039f"
             ],
             [
              0.2222222222222222,
              "#7201a8"
             ],
             [
              0.3333333333333333,
              "#9c179e"
             ],
             [
              0.4444444444444444,
              "#bd3786"
             ],
             [
              0.5555555555555556,
              "#d8576b"
             ],
             [
              0.6666666666666666,
              "#ed7953"
             ],
             [
              0.7777777777777778,
              "#fb9f3a"
             ],
             [
              0.8888888888888888,
              "#fdca26"
             ],
             [
              1,
              "#f0f921"
             ]
            ],
            "type": "heatmap"
           }
          ],
          "heatmapgl": [
           {
            "colorbar": {
             "outlinewidth": 0,
             "ticks": ""
            },
            "colorscale": [
             [
              0,
              "#0d0887"
             ],
             [
              0.1111111111111111,
              "#46039f"
             ],
             [
              0.2222222222222222,
              "#7201a8"
             ],
             [
              0.3333333333333333,
              "#9c179e"
             ],
             [
              0.4444444444444444,
              "#bd3786"
             ],
             [
              0.5555555555555556,
              "#d8576b"
             ],
             [
              0.6666666666666666,
              "#ed7953"
             ],
             [
              0.7777777777777778,
              "#fb9f3a"
             ],
             [
              0.8888888888888888,
              "#fdca26"
             ],
             [
              1,
              "#f0f921"
             ]
            ],
            "type": "heatmapgl"
           }
          ],
          "histogram": [
           {
            "marker": {
             "pattern": {
              "fillmode": "overlay",
              "size": 10,
              "solidity": 0.2
             }
            },
            "type": "histogram"
           }
          ],
          "histogram2d": [
           {
            "colorbar": {
             "outlinewidth": 0,
             "ticks": ""
            },
            "colorscale": [
             [
              0,
              "#0d0887"
             ],
             [
              0.1111111111111111,
              "#46039f"
             ],
             [
              0.2222222222222222,
              "#7201a8"
             ],
             [
              0.3333333333333333,
              "#9c179e"
             ],
             [
              0.4444444444444444,
              "#bd3786"
             ],
             [
              0.5555555555555556,
              "#d8576b"
             ],
             [
              0.6666666666666666,
              "#ed7953"
             ],
             [
              0.7777777777777778,
              "#fb9f3a"
             ],
             [
              0.8888888888888888,
              "#fdca26"
             ],
             [
              1,
              "#f0f921"
             ]
            ],
            "type": "histogram2d"
           }
          ],
          "histogram2dcontour": [
           {
            "colorbar": {
             "outlinewidth": 0,
             "ticks": ""
            },
            "colorscale": [
             [
              0,
              "#0d0887"
             ],
             [
              0.1111111111111111,
              "#46039f"
             ],
             [
              0.2222222222222222,
              "#7201a8"
             ],
             [
              0.3333333333333333,
              "#9c179e"
             ],
             [
              0.4444444444444444,
              "#bd3786"
             ],
             [
              0.5555555555555556,
              "#d8576b"
             ],
             [
              0.6666666666666666,
              "#ed7953"
             ],
             [
              0.7777777777777778,
              "#fb9f3a"
             ],
             [
              0.8888888888888888,
              "#fdca26"
             ],
             [
              1,
              "#f0f921"
             ]
            ],
            "type": "histogram2dcontour"
           }
          ],
          "mesh3d": [
           {
            "colorbar": {
             "outlinewidth": 0,
             "ticks": ""
            },
            "type": "mesh3d"
           }
          ],
          "parcoords": [
           {
            "line": {
             "colorbar": {
              "outlinewidth": 0,
              "ticks": ""
             }
            },
            "type": "parcoords"
           }
          ],
          "pie": [
           {
            "automargin": true,
            "type": "pie"
           }
          ],
          "scatter": [
           {
            "marker": {
             "line": {
              "color": "#283442"
             }
            },
            "type": "scatter"
           }
          ],
          "scatter3d": [
           {
            "line": {
             "colorbar": {
              "outlinewidth": 0,
              "ticks": ""
             }
            },
            "marker": {
             "colorbar": {
              "outlinewidth": 0,
              "ticks": ""
             }
            },
            "type": "scatter3d"
           }
          ],
          "scattercarpet": [
           {
            "marker": {
             "colorbar": {
              "outlinewidth": 0,
              "ticks": ""
             }
            },
            "type": "scattercarpet"
           }
          ],
          "scattergeo": [
           {
            "marker": {
             "colorbar": {
              "outlinewidth": 0,
              "ticks": ""
             }
            },
            "type": "scattergeo"
           }
          ],
          "scattergl": [
           {
            "marker": {
             "line": {
              "color": "#283442"
             }
            },
            "type": "scattergl"
           }
          ],
          "scattermapbox": [
           {
            "marker": {
             "colorbar": {
              "outlinewidth": 0,
              "ticks": ""
             }
            },
            "type": "scattermapbox"
           }
          ],
          "scatterpolar": [
           {
            "marker": {
             "colorbar": {
              "outlinewidth": 0,
              "ticks": ""
             }
            },
            "type": "scatterpolar"
           }
          ],
          "scatterpolargl": [
           {
            "marker": {
             "colorbar": {
              "outlinewidth": 0,
              "ticks": ""
             }
            },
            "type": "scatterpolargl"
           }
          ],
          "scatterternary": [
           {
            "marker": {
             "colorbar": {
              "outlinewidth": 0,
              "ticks": ""
             }
            },
            "type": "scatterternary"
           }
          ],
          "surface": [
           {
            "colorbar": {
             "outlinewidth": 0,
             "ticks": ""
            },
            "colorscale": [
             [
              0,
              "#0d0887"
             ],
             [
              0.1111111111111111,
              "#46039f"
             ],
             [
              0.2222222222222222,
              "#7201a8"
             ],
             [
              0.3333333333333333,
              "#9c179e"
             ],
             [
              0.4444444444444444,
              "#bd3786"
             ],
             [
              0.5555555555555556,
              "#d8576b"
             ],
             [
              0.6666666666666666,
              "#ed7953"
             ],
             [
              0.7777777777777778,
              "#fb9f3a"
             ],
             [
              0.8888888888888888,
              "#fdca26"
             ],
             [
              1,
              "#f0f921"
             ]
            ],
            "type": "surface"
           }
          ],
          "table": [
           {
            "cells": {
             "fill": {
              "color": "#506784"
             },
             "line": {
              "color": "rgb(17,17,17)"
             }
            },
            "header": {
             "fill": {
              "color": "#2a3f5f"
             },
             "line": {
              "color": "rgb(17,17,17)"
             }
            },
            "type": "table"
           }
          ]
         },
         "layout": {
          "annotationdefaults": {
           "arrowcolor": "#f2f5fa",
           "arrowhead": 0,
           "arrowwidth": 1
          },
          "autotypenumbers": "strict",
          "coloraxis": {
           "colorbar": {
            "outlinewidth": 0,
            "ticks": ""
           }
          },
          "colorscale": {
           "diverging": [
            [
             0,
             "#8e0152"
            ],
            [
             0.1,
             "#c51b7d"
            ],
            [
             0.2,
             "#de77ae"
            ],
            [
             0.3,
             "#f1b6da"
            ],
            [
             0.4,
             "#fde0ef"
            ],
            [
             0.5,
             "#f7f7f7"
            ],
            [
             0.6,
             "#e6f5d0"
            ],
            [
             0.7,
             "#b8e186"
            ],
            [
             0.8,
             "#7fbc41"
            ],
            [
             0.9,
             "#4d9221"
            ],
            [
             1,
             "#276419"
            ]
           ],
           "sequential": [
            [
             0,
             "#0d0887"
            ],
            [
             0.1111111111111111,
             "#46039f"
            ],
            [
             0.2222222222222222,
             "#7201a8"
            ],
            [
             0.3333333333333333,
             "#9c179e"
            ],
            [
             0.4444444444444444,
             "#bd3786"
            ],
            [
             0.5555555555555556,
             "#d8576b"
            ],
            [
             0.6666666666666666,
             "#ed7953"
            ],
            [
             0.7777777777777778,
             "#fb9f3a"
            ],
            [
             0.8888888888888888,
             "#fdca26"
            ],
            [
             1,
             "#f0f921"
            ]
           ],
           "sequentialminus": [
            [
             0,
             "#0d0887"
            ],
            [
             0.1111111111111111,
             "#46039f"
            ],
            [
             0.2222222222222222,
             "#7201a8"
            ],
            [
             0.3333333333333333,
             "#9c179e"
            ],
            [
             0.4444444444444444,
             "#bd3786"
            ],
            [
             0.5555555555555556,
             "#d8576b"
            ],
            [
             0.6666666666666666,
             "#ed7953"
            ],
            [
             0.7777777777777778,
             "#fb9f3a"
            ],
            [
             0.8888888888888888,
             "#fdca26"
            ],
            [
             1,
             "#f0f921"
            ]
           ]
          },
          "colorway": [
           "#636efa",
           "#EF553B",
           "#00cc96",
           "#ab63fa",
           "#FFA15A",
           "#19d3f3",
           "#FF6692",
           "#B6E880",
           "#FF97FF",
           "#FECB52"
          ],
          "font": {
           "color": "#f2f5fa"
          },
          "geo": {
           "bgcolor": "rgb(17,17,17)",
           "lakecolor": "rgb(17,17,17)",
           "landcolor": "rgb(17,17,17)",
           "showlakes": true,
           "showland": true,
           "subunitcolor": "#506784"
          },
          "hoverlabel": {
           "align": "left"
          },
          "hovermode": "closest",
          "mapbox": {
           "style": "dark"
          },
          "paper_bgcolor": "rgb(17,17,17)",
          "plot_bgcolor": "rgb(17,17,17)",
          "polar": {
           "angularaxis": {
            "gridcolor": "#506784",
            "linecolor": "#506784",
            "ticks": ""
           },
           "bgcolor": "rgb(17,17,17)",
           "radialaxis": {
            "gridcolor": "#506784",
            "linecolor": "#506784",
            "ticks": ""
           }
          },
          "scene": {
           "xaxis": {
            "backgroundcolor": "rgb(17,17,17)",
            "gridcolor": "#506784",
            "gridwidth": 2,
            "linecolor": "#506784",
            "showbackground": true,
            "ticks": "",
            "zerolinecolor": "#C8D4E3"
           },
           "yaxis": {
            "backgroundcolor": "rgb(17,17,17)",
            "gridcolor": "#506784",
            "gridwidth": 2,
            "linecolor": "#506784",
            "showbackground": true,
            "ticks": "",
            "zerolinecolor": "#C8D4E3"
           },
           "zaxis": {
            "backgroundcolor": "rgb(17,17,17)",
            "gridcolor": "#506784",
            "gridwidth": 2,
            "linecolor": "#506784",
            "showbackground": true,
            "ticks": "",
            "zerolinecolor": "#C8D4E3"
           }
          },
          "shapedefaults": {
           "line": {
            "color": "#f2f5fa"
           }
          },
          "sliderdefaults": {
           "bgcolor": "#C8D4E3",
           "bordercolor": "rgb(17,17,17)",
           "borderwidth": 1,
           "tickwidth": 0
          },
          "ternary": {
           "aaxis": {
            "gridcolor": "#506784",
            "linecolor": "#506784",
            "ticks": ""
           },
           "baxis": {
            "gridcolor": "#506784",
            "linecolor": "#506784",
            "ticks": ""
           },
           "bgcolor": "rgb(17,17,17)",
           "caxis": {
            "gridcolor": "#506784",
            "linecolor": "#506784",
            "ticks": ""
           }
          },
          "title": {
           "x": 0.05
          },
          "updatemenudefaults": {
           "bgcolor": "#506784",
           "borderwidth": 0
          },
          "xaxis": {
           "automargin": true,
           "gridcolor": "#283442",
           "linecolor": "#506784",
           "ticks": "",
           "title": {
            "standoff": 15
           },
           "zerolinecolor": "#283442",
           "zerolinewidth": 2
          },
          "yaxis": {
           "automargin": true,
           "gridcolor": "#283442",
           "linecolor": "#506784",
           "ticks": "",
           "title": {
            "standoff": 15
           },
           "zerolinecolor": "#283442",
           "zerolinewidth": 2
          }
         }
        },
        "title": {
         "text": "Average TMDB Ratings of Disney+ Movies & Shows by Genres (US)"
        },
        "xaxis": {
         "anchor": "y",
         "domain": [
          0,
          1
         ],
         "title": {
          "text": "Genres"
         }
        },
        "yaxis": {
         "anchor": "x",
         "domain": [
          0,
          1
         ],
         "nticks": 9,
         "title": {
          "text": "Rating (Avg)"
         }
        }
       }
      }
     },
     "metadata": {},
     "output_type": "display_data"
    }
   ],
   "source": [
    "#Double Bar Graph\n",
    "fig = px.bar(avg, y =\"tmdb_score\", x ='genres',\n",
    "                   color= 'type', barmode='group',\n",
    "                   title=\"Average TMDB Ratings of Disney+ Movies & Shows by Genres (US)\", \n",
    "                   labels= { \"tmdb_score\" : \"Rating (Avg)\", \"genres\" : \"Genres\"},\n",
    "                   color_discrete_map= {\"MOVIE\": \"#B9D8EB\", \"SHOW\" : \"#C39BD3\"},\n",
    "                   template=\"plotly_dark\")\n",
    "\n",
    "fig.update_yaxes(nticks=9)\n",
    "\n",
    "fig.update_layout(paper_bgcolor = '#1A1D29', \n",
    "                  plot_bgcolor = '#1A1D29',\n",
    "                  font = dict(family=\"Verdana\",color = '#FFFFFF', size=13),)"
   ]
  },
  {
   "cell_type": "markdown",
   "metadata": {},
   "source": [
    "![image](https://github.com/kekevin12/Disney_EDA/blob/main/Graphs/genrerating.png?raw=true)"
   ]
  },
  {
   "cell_type": "code",
   "execution_count": 147,
   "metadata": {},
   "outputs": [
    {
     "data": {
      "text/html": [
       "<div>\n",
       "<style scoped>\n",
       "    .dataframe tbody tr th:only-of-type {\n",
       "        vertical-align: middle;\n",
       "    }\n",
       "\n",
       "    .dataframe tbody tr th {\n",
       "        vertical-align: top;\n",
       "    }\n",
       "\n",
       "    .dataframe thead th {\n",
       "        text-align: right;\n",
       "    }\n",
       "</style>\n",
       "<table border=\"1\" class=\"dataframe\">\n",
       "  <thead>\n",
       "    <tr style=\"text-align: right;\">\n",
       "      <th></th>\n",
       "      <th>genres</th>\n",
       "      <th>type</th>\n",
       "      <th>count</th>\n",
       "      <th>tmdb_score</th>\n",
       "    </tr>\n",
       "  </thead>\n",
       "  <tbody>\n",
       "    <tr>\n",
       "      <th>35</th>\n",
       "      <td>'war'</td>\n",
       "      <td>SHOW</td>\n",
       "      <td>1</td>\n",
       "      <td>8.400000</td>\n",
       "    </tr>\n",
       "    <tr>\n",
       "      <th>21</th>\n",
       "      <td>'horror'</td>\n",
       "      <td>SHOW</td>\n",
       "      <td>6</td>\n",
       "      <td>8.183333</td>\n",
       "    </tr>\n",
       "    <tr>\n",
       "      <th>27</th>\n",
       "      <td>'romance'</td>\n",
       "      <td>SHOW</td>\n",
       "      <td>21</td>\n",
       "      <td>8.119048</td>\n",
       "    </tr>\n",
       "    <tr>\n",
       "      <th>9</th>\n",
       "      <td>'documentation'</td>\n",
       "      <td>SHOW</td>\n",
       "      <td>89</td>\n",
       "      <td>8.076404</td>\n",
       "    </tr>\n",
       "    <tr>\n",
       "      <th>33</th>\n",
       "      <td>'thriller'</td>\n",
       "      <td>SHOW</td>\n",
       "      <td>23</td>\n",
       "      <td>8.060870</td>\n",
       "    </tr>\n",
       "  </tbody>\n",
       "</table>\n",
       "</div>"
      ],
      "text/plain": [
       "             genres  type  count  tmdb_score\n",
       "35            'war'  SHOW      1    8.400000\n",
       "21         'horror'  SHOW      6    8.183333\n",
       "27        'romance'  SHOW     21    8.119048\n",
       "9   'documentation'  SHOW     89    8.076404\n",
       "33       'thriller'  SHOW     23    8.060870"
      ]
     },
     "execution_count": 147,
     "metadata": {},
     "output_type": "execute_result"
    }
   ],
   "source": [
    "#Top 5 Show Genres\n",
    "sho  = avg[avg.type != 'MOVIE']\n",
    "sho.nlargest(5,['tmdb_score'])"
   ]
  },
  {
   "cell_type": "code",
   "execution_count": 148,
   "metadata": {},
   "outputs": [
    {
     "data": {
      "text/html": [
       "<div>\n",
       "<style scoped>\n",
       "    .dataframe tbody tr th:only-of-type {\n",
       "        vertical-align: middle;\n",
       "    }\n",
       "\n",
       "    .dataframe tbody tr th {\n",
       "        vertical-align: top;\n",
       "    }\n",
       "\n",
       "    .dataframe thead th {\n",
       "        text-align: right;\n",
       "    }\n",
       "</style>\n",
       "<table border=\"1\" class=\"dataframe\">\n",
       "  <thead>\n",
       "    <tr style=\"text-align: right;\">\n",
       "      <th></th>\n",
       "      <th>genres</th>\n",
       "      <th>type</th>\n",
       "      <th>count</th>\n",
       "      <th>tmdb_score</th>\n",
       "    </tr>\n",
       "  </thead>\n",
       "  <tbody>\n",
       "    <tr>\n",
       "      <th>24</th>\n",
       "      <td>'reality'</td>\n",
       "      <td>MOVIE</td>\n",
       "      <td>3</td>\n",
       "      <td>7.800000</td>\n",
       "    </tr>\n",
       "    <tr>\n",
       "      <th>18</th>\n",
       "      <td>'history'</td>\n",
       "      <td>MOVIE</td>\n",
       "      <td>28</td>\n",
       "      <td>6.989286</td>\n",
       "    </tr>\n",
       "    <tr>\n",
       "      <th>8</th>\n",
       "      <td>'documentation'</td>\n",
       "      <td>MOVIE</td>\n",
       "      <td>201</td>\n",
       "      <td>6.968657</td>\n",
       "    </tr>\n",
       "    <tr>\n",
       "      <th>22</th>\n",
       "      <td>'music'</td>\n",
       "      <td>MOVIE</td>\n",
       "      <td>70</td>\n",
       "      <td>6.851429</td>\n",
       "    </tr>\n",
       "    <tr>\n",
       "      <th>2</th>\n",
       "      <td>'animation'</td>\n",
       "      <td>MOVIE</td>\n",
       "      <td>335</td>\n",
       "      <td>6.807761</td>\n",
       "    </tr>\n",
       "  </tbody>\n",
       "</table>\n",
       "</div>"
      ],
      "text/plain": [
       "             genres   type  count  tmdb_score\n",
       "24        'reality'  MOVIE      3    7.800000\n",
       "18        'history'  MOVIE     28    6.989286\n",
       "8   'documentation'  MOVIE    201    6.968657\n",
       "22          'music'  MOVIE     70    6.851429\n",
       "2       'animation'  MOVIE    335    6.807761"
      ]
     },
     "execution_count": 148,
     "metadata": {},
     "output_type": "execute_result"
    }
   ],
   "source": [
    "#Top 5 Movie Genres\n",
    "mov  = avg[avg.type != 'SHOW']\n",
    "mov.nlargest(5,['tmdb_score'])"
   ]
  },
  {
   "cell_type": "markdown",
   "metadata": {},
   "source": [
    "From our genre breakdown, we can see that shows on average tend to have much higher ratings compared to movies in each genres. The top five genres for shows are 1. war 2. horror 3. romance 4. documentation 5. thriller. The top 5 genres for movies are 1. reality 2. history 3. documentation 4. music 5. animation. I must say I am quite surprised to see these results as I assumed that for Disney+ which have more family-friendly titles, genres such as family and comedy would rank much higher. Now lets take a look at the runtimes for a show/movie and see if there is any correlation."
   ]
  },
  {
   "cell_type": "code",
   "execution_count": 145,
   "metadata": {},
   "outputs": [
    {
     "data": {
      "application/vnd.plotly.v1+json": {
       "config": {
        "plotlyServerURL": "https://plot.ly"
       },
       "data": [
        {
         "hovertemplate": "type=MOVIE<br>Runtime (mins)=%{x}<br>TMDB Rating=%{y}<extra></extra>",
         "legendgroup": "MOVIE",
         "marker": {
          "color": "#B9D8EB",
          "symbol": "circle"
         },
         "mode": "markers",
         "name": "MOVIE",
         "showlegend": true,
         "type": "scattergl",
         "x": [
          120,
          83,
          88,
          70,
          96,
          68,
          74,
          63,
          71,
          74,
          73,
          8,
          42,
          8,
          75,
          8,
          8,
          7,
          8,
          93,
          32,
          9,
          8,
          9,
          9,
          9,
          9,
          7,
          7,
          7,
          8,
          8,
          7,
          8,
          7,
          8,
          9,
          7,
          8,
          7,
          7,
          7,
          7,
          8,
          7,
          7,
          8,
          8,
          8,
          9,
          10,
          9,
          7,
          9,
          7,
          8,
          7,
          8,
          7,
          7,
          7,
          8,
          8,
          7,
          8,
          8,
          9,
          8,
          7,
          7,
          7,
          7,
          9,
          8,
          7,
          8,
          8,
          8,
          7,
          6,
          7,
          8,
          7,
          8,
          175,
          125,
          139,
          97,
          148,
          146,
          127,
          124,
          98,
          75,
          126,
          78,
          129,
          83,
          79,
          77,
          117,
          83,
          78,
          132,
          76,
          74,
          107,
          128,
          79,
          90,
          96,
          78,
          97,
          95,
          100,
          75,
          104,
          134,
          101,
          112,
          93,
          97,
          91,
          95,
          91,
          106,
          8,
          83,
          172,
          91,
          80,
          93,
          93,
          118,
          93,
          105,
          93,
          108,
          87,
          92,
          117,
          104,
          105,
          93,
          88,
          96,
          75,
          88,
          92,
          89,
          89,
          99,
          69,
          110,
          71,
          9,
          89,
          48,
          70,
          75,
          81,
          26,
          93,
          69,
          88,
          48,
          7,
          131,
          88,
          100,
          88,
          7,
          7,
          8,
          48,
          120,
          7,
          30,
          53,
          7,
          60,
          7,
          32,
          6,
          7,
          88,
          7,
          7,
          33,
          7,
          7,
          56,
          27,
          51,
          51,
          99,
          105,
          104,
          126,
          102,
          109,
          103,
          93,
          111,
          90,
          96,
          102,
          80,
          135,
          97,
          97,
          98,
          100,
          96,
          74,
          83,
          74,
          95,
          101,
          77,
          82,
          104,
          29,
          71,
          92,
          88,
          26,
          100,
          2,
          25,
          4,
          105,
          94,
          44,
          4,
          7,
          5,
          46,
          2,
          83,
          47,
          90,
          97,
          104,
          103,
          112,
          113,
          103,
          128,
          100,
          137,
          108,
          100,
          92,
          78,
          79,
          84,
          136,
          107,
          105,
          98,
          76,
          101,
          81,
          89,
          93,
          121,
          95,
          90,
          86,
          93,
          88,
          100,
          88,
          113,
          93,
          78,
          88,
          96,
          86,
          88,
          115,
          107,
          92,
          84,
          96,
          99,
          104,
          85,
          82,
          97,
          74,
          74,
          96,
          103,
          97,
          91,
          82,
          108,
          93,
          78,
          102,
          114,
          69,
          89,
          106,
          97,
          107,
          81,
          89,
          94,
          89,
          107,
          84,
          81,
          73,
          88,
          108,
          84,
          101,
          79,
          99,
          77,
          104,
          74,
          98,
          91,
          106,
          100,
          102,
          76,
          77,
          93,
          75,
          90,
          82,
          97,
          96,
          72,
          66,
          86,
          22,
          87,
          82,
          89,
          92,
          89,
          90,
          84,
          3,
          92,
          93,
          87,
          95,
          77,
          77,
          4,
          88,
          89,
          89,
          72,
          87,
          8,
          85,
          88,
          72,
          85,
          85,
          83,
          93,
          143,
          165,
          131,
          87,
          108,
          118,
          124,
          151,
          118,
          143,
          125,
          109,
          98,
          81,
          115,
          125,
          106,
          123,
          169,
          107,
          111,
          95,
          98,
          93,
          135,
          107,
          109,
          115,
          98,
          133,
          96,
          92,
          105,
          100,
          94,
          124,
          100,
          86,
          116,
          117,
          87,
          95,
          127,
          80,
          104,
          85,
          106,
          92,
          104,
          97,
          140,
          95,
          81,
          120,
          105,
          105,
          113,
          142,
          150,
          100,
          99,
          53,
          118,
          98,
          104,
          95,
          95,
          91,
          120,
          88,
          107,
          102,
          98,
          113,
          100,
          96,
          98,
          97,
          99,
          90,
          97,
          94,
          110,
          53,
          120,
          88,
          53,
          85,
          82,
          94,
          96,
          94,
          81,
          70,
          151,
          95,
          8,
          111,
          83,
          84,
          84,
          99,
          74,
          91,
          78,
          96,
          65,
          94,
          55,
          98,
          52,
          68,
          77,
          117,
          88,
          68,
          100,
          72,
          90,
          86,
          60,
          73,
          87,
          86,
          88,
          79,
          60,
          102,
          52,
          71,
          90,
          91,
          104,
          76,
          89,
          87,
          78,
          75,
          82,
          72,
          77,
          35,
          94,
          76,
          84,
          87,
          70,
          104,
          72,
          88,
          75,
          81,
          90,
          73,
          81,
          89,
          86,
          69,
          101,
          88,
          75,
          70,
          95,
          88,
          85,
          73,
          68,
          74,
          5,
          86,
          96,
          82,
          74,
          6,
          5,
          5,
          4,
          90,
          88,
          96,
          93,
          5,
          65,
          83,
          83,
          83,
          6,
          90,
          5,
          98,
          76,
          4,
          83,
          90,
          101,
          6,
          11,
          63,
          7,
          3,
          89,
          82,
          88,
          61,
          78,
          92,
          92,
          85,
          4,
          84,
          92,
          91,
          22,
          90,
          91,
          5,
          90,
          92,
          90,
          94,
          88,
          85,
          69,
          76,
          7,
          4,
          68,
          7,
          40,
          49,
          90,
          100,
          4,
          4,
          84,
          7,
          5,
          85,
          5,
          87,
          46,
          84,
          120,
          46,
          96,
          88,
          106,
          89,
          88,
          90,
          91,
          79,
          60,
          4,
          47,
          84,
          96,
          137,
          131,
          143,
          115,
          132,
          124,
          120,
          112,
          125,
          124,
          84,
          93,
          103,
          63,
          87,
          88,
          106,
          94,
          99,
          106,
          6,
          88,
          4,
          105,
          89,
          6,
          4,
          26,
          87,
          12,
          104,
          99,
          45,
          91,
          7,
          85,
          92,
          78,
          61,
          7,
          75,
          86,
          77,
          5,
          90,
          79,
          89,
          45,
          81,
          6,
          101,
          89,
          7,
          7,
          85,
          7,
          89,
          88,
          5,
          90,
          93,
          6,
          22,
          88,
          45,
          124,
          120,
          131,
          126,
          95,
          102,
          112,
          97,
          125,
          130,
          135,
          102,
          51,
          15,
          81,
          104,
          107,
          91,
          96,
          76,
          78,
          60,
          22,
          22,
          14,
          78,
          22,
          92,
          71,
          50,
          93,
          51,
          71,
          7,
          83,
          6,
          81,
          6,
          97,
          78,
          90,
          120,
          6,
          45,
          3,
          43,
          44,
          2,
          90,
          41,
          22,
          22,
          2,
          90,
          3,
          7,
          6,
          21,
          22,
          45,
          44,
          115,
          127,
          108,
          95,
          127,
          107,
          133,
          106,
          148,
          144,
          117,
          117,
          141,
          128,
          135,
          113,
          103,
          93,
          92,
          112,
          95,
          106,
          97,
          124,
          25,
          3,
          78,
          99,
          77,
          99,
          102,
          50,
          90,
          46,
          8,
          95,
          155,
          104,
          6,
          100,
          81,
          8,
          73,
          7,
          90,
          76,
          103,
          77,
          7,
          22,
          44,
          45,
          90,
          7,
          25,
          60,
          44,
          105,
          100,
          101,
          129,
          131,
          109,
          150,
          135,
          134,
          136,
          119,
          118,
          104,
          115,
          131,
          152,
          129,
          113,
          109,
          134,
          102,
          90,
          81,
          91,
          8,
          99,
          78,
          47,
          78,
          90,
          94,
          90,
          83,
          5,
          111,
          22,
          55,
          6,
          80,
          46,
          90,
          45,
          10,
          55,
          93,
          93,
          7,
          87,
          94,
          46,
          44,
          47,
          77,
          92,
          22,
          5,
          47,
          47,
          44,
          88,
          44,
          58,
          44,
          44,
          120,
          160,
          181,
          113,
          102,
          142,
          124,
          118,
          103,
          119,
          100,
          128,
          120,
          120,
          115,
          113,
          93,
          112,
          103,
          100,
          94,
          6,
          121,
          103,
          106,
          110,
          104,
          96,
          106,
          60,
          44,
          99,
          113,
          84,
          88,
          42,
          122,
          99,
          45,
          86,
          52,
          77,
          100,
          76,
          94,
          88,
          84,
          86,
          10,
          83,
          53,
          44,
          84,
          44,
          44,
          90,
          44,
          9,
          88,
          8,
          47,
          44,
          7,
          85,
          45,
          7,
          182,
          44,
          77,
          9,
          60,
          44,
          22,
          4,
          22,
          60,
          44,
          45,
          8,
          95,
          59,
          22,
          9,
          44,
          8,
          7,
          81,
          46,
          44,
          3,
          42,
          45,
          180,
          12,
          23,
          44,
          4,
          47,
          44,
          94,
          43,
          79,
          44,
          88,
          45,
          45,
          45,
          88,
          49,
          71,
          45,
          3,
          23,
          115,
          157,
          100,
          117,
          102,
          156,
          120,
          107,
          127,
          107,
          134,
          134,
          92,
          95,
          55,
          30,
          107,
          84,
          107,
          82,
          18,
          4,
          94,
          93,
          52,
          76,
          6,
          45,
          58,
          93,
          83,
          4,
          7,
          102,
          57,
          104,
          89,
          3,
          21,
          52,
          65,
          7,
          95,
          14,
          91,
          22,
          44,
          22,
          94,
          9,
          59,
          84,
          24,
          42,
          42,
          95,
          93,
          78,
          4,
          44,
          7,
          42,
          44,
          64,
          19,
          7,
          15,
          40,
          7,
          44,
          48,
          46,
          14,
          47,
          44,
          21,
          19,
          22,
          21,
          44,
          44,
          44,
          87,
          44,
          91,
          88,
          44,
          11
         ],
         "xaxis": "x",
         "y": [
          7.4,
          7.1,
          7.1,
          7,
          6.5,
          6.5,
          7,
          7,
          6.4,
          6.6,
          6.3,
          7.4,
          5.8,
          6.6,
          6.2,
          6.5,
          6.8,
          6.2,
          6.7,
          5.1,
          6.6,
          6.8,
          6.1,
          7.4,
          6.4,
          7.3,
          5.8,
          6.6,
          6,
          6.6,
          6.7,
          6.4,
          6.7,
          5.8,
          6.7,
          6.5,
          6.6,
          6.9,
          6.6,
          6.3,
          6.5,
          6.4,
          6.2,
          6.8,
          7.3,
          6.1,
          6.6,
          5.8,
          6.2,
          7.3,
          6.3,
          7,
          5.8,
          6.5,
          6.8,
          6.5,
          6.3,
          6.4,
          6.8,
          6.2,
          6.1,
          6.1,
          6.2,
          6.6,
          6.2,
          6.1,
          6.6,
          5.9,
          6.1,
          6.8,
          6.5,
          6.3,
          6.5,
          6,
          6.8,
          6.2,
          7,
          6.6,
          6.6,
          6.3,
          5.7,
          6.1,
          6.6,
          5.7,
          7.7,
          8.2,
          7.6,
          7.2,
          6.7,
          7,
          7.1,
          8.4,
          5.8,
          7.2,
          6.9,
          7.3,
          7.1,
          7.3,
          7.2,
          7.2,
          7,
          7,
          7.3,
          7,
          7.1,
          7.2,
          6.5,
          6.4,
          7.2,
          6.9,
          6.5,
          6.8,
          6.4,
          6.2,
          6.6,
          6.9,
          6.1,
          7,
          6,
          6.6,
          6.2,
          6.9,
          6.1,
          5.9,
          7.4,
          6.7,
          7,
          6.3,
          6.7,
          5.7,
          6.7,
          7.7,
          6.6,
          6,
          6.5,
          5.8,
          6.7,
          6.4,
          6.7,
          5.9,
          6.1,
          5.7,
          6.4,
          5.2,
          6.1,
          5.9,
          6.9,
          6.3,
          5.7,
          5.5,
          5.7,
          6.1,
          7.3,
          5.2,
          7.4,
          8.8,
          5.5,
          8,
          7.2,
          7,
          6.4,
          7,
          6.6,
          7.9,
          7,
          5.6,
          6.2,
          6.3,
          6,
          6,
          6.8,
          6.2,
          6.9,
          6.8,
          8,
          6.2,
          6.5,
          6.3,
          8.5,
          7.2,
          7,
          7.2,
          7,
          6.6,
          6.1,
          6.1,
          6.5,
          6.4,
          6.6,
          7.1,
          6.3,
          6,
          8.1,
          6.3,
          5.7,
          7.7,
          7.7,
          7.5,
          7,
          6.8,
          6.6,
          7.4,
          6.3,
          6.3,
          6.9,
          6.7,
          6.2,
          6.5,
          7.9,
          6.4,
          6.4,
          6.8,
          5.4,
          6,
          7.1,
          7.4,
          6.7,
          5.3,
          7,
          6.6,
          7.1,
          5.8,
          7,
          6.8,
          6.7,
          6.6,
          7.7,
          7.2,
          7.1,
          6.7,
          7.1,
          5.8,
          5.4,
          6.8,
          6.2,
          6.7,
          6.2,
          5.2,
          5.3,
          6,
          5.7,
          6.9,
          7.6,
          7,
          6.1,
          7.7,
          7.6,
          6.9,
          7.1,
          6.2,
          7,
          6.4,
          6.8,
          5.6,
          7.5,
          6.5,
          6.9,
          6.5,
          6.2,
          6.4,
          7,
          7.8,
          6.6,
          8,
          8.3,
          5.8,
          6.6,
          7,
          7.6,
          6.4,
          7.5,
          7.9,
          6.5,
          7.6,
          6.3,
          5.6,
          6.9,
          7.4,
          7,
          6.5,
          6.4,
          6.7,
          6.4,
          7.6,
          7.7,
          5.8,
          5.6,
          6.5,
          7.4,
          6.5,
          5.3,
          6.1,
          7,
          5.3,
          5.9,
          6.4,
          7.1,
          7,
          6.2,
          4.2,
          4.4,
          5.3,
          6.2,
          6.1,
          5.2,
          6.2,
          5.3,
          6.7,
          6.3,
          6.5,
          5.6,
          4.8,
          5.1,
          4.4,
          7,
          5.8,
          5.9,
          6.7,
          6.9,
          5.8,
          6.3,
          6.2,
          5.5,
          6,
          5.5,
          6.3,
          5.6,
          6.6,
          5.5,
          6.4,
          7.1,
          6.5,
          6.6,
          6.4,
          7.2,
          5.8,
          6.2,
          6.3,
          6.2,
          7.1,
          5.7,
          6.8,
          7.1,
          6,
          4.9,
          7,
          7.5,
          4.4,
          4.9,
          7.5,
          6.2,
          4.4,
          5.9,
          6.6,
          5.9,
          5.5,
          7.8,
          5.6,
          6.2,
          6,
          5.5,
          6.4,
          6.9,
          5.8,
          6.1,
          4.8,
          5.5,
          5.5,
          5.6,
          7.5,
          7.8,
          7.5,
          6.6,
          7.8,
          6.6,
          6.2,
          6.3,
          7.3,
          6.8,
          7.1,
          7.6,
          6.6,
          8.1,
          7.3,
          6.9,
          6.4,
          5.8,
          7.4,
          7.2,
          6.8,
          7.8,
          7.5,
          6.3,
          6.4,
          7.1,
          6.3,
          6.1,
          7.7,
          6.5,
          7,
          7.9,
          5.8,
          6.1,
          6.2,
          6.2,
          6.8,
          7.8,
          6.5,
          6.2,
          6.9,
          7,
          6.9,
          6.8,
          5.6,
          6.4,
          7.5,
          6.4,
          7.8,
          6.4,
          5.9,
          7.4,
          6.9,
          5.9,
          7.3,
          6.9,
          6.3,
          6.4,
          6.5,
          6.6,
          7.6,
          6.1,
          6.9,
          7.5,
          6.1,
          5.1,
          6.1,
          6.7,
          6.7,
          5.9,
          5.6,
          7.2,
          7.8,
          5.8,
          6.6,
          5.6,
          6.5,
          6.6,
          7.1,
          6.1,
          6.6,
          5.6,
          6.3,
          6.4,
          6.1,
          7,
          5.4,
          6.3,
          7.2,
          5.5,
          6.1,
          6,
          5.5,
          5.4,
          6.2,
          7.7,
          6.9,
          7.6,
          6.5,
          5.4,
          7.3,
          4.5,
          5.7,
          6,
          5.3,
          6.8,
          6.9,
          6.6,
          6.4,
          6.1,
          6.4,
          5.8,
          6.6,
          6.6,
          6.6,
          5.4,
          6.8,
          6.2,
          6.4,
          7,
          5.6,
          6.6,
          6.6,
          6.1,
          7.3,
          4.8,
          6.5,
          6.5,
          6.6,
          7.1,
          7,
          5.9,
          6.2,
          5.9,
          5.5,
          6.6,
          7.6,
          7.2,
          6.4,
          6.5,
          6.1,
          6.7,
          6.6,
          6.6,
          6.6,
          5.8,
          4.4,
          6.5,
          6.3,
          5.9,
          4.1,
          6.7,
          6.9,
          5.5,
          6.1,
          6.8,
          6.3,
          6.1,
          6.4,
          6.2,
          5.9,
          6,
          6.5,
          5.5,
          6.6,
          6.3,
          6.7,
          5.3,
          6,
          6.1,
          6.8,
          5.4,
          6.5,
          6.1,
          6.1,
          7.5,
          7.3,
          6.2,
          5.7,
          5.9,
          6.3,
          6,
          7.8,
          6.8,
          5.8,
          5.6,
          6.7,
          7.8,
          5.5,
          7,
          6,
          5.9,
          6.9,
          6.8,
          6.1,
          7.4,
          7.7,
          6.7,
          6.3,
          6.2,
          6,
          6,
          6.1,
          6.3,
          6.1,
          6.7,
          4.9,
          6.1,
          5.9,
          6.1,
          5.2,
          6.5,
          5.7,
          7,
          6.1,
          6.1,
          6.6,
          6,
          6.9,
          5.9,
          5.7,
          5.9,
          7.3,
          6,
          6.3,
          6.7,
          6.1,
          7.1,
          7.2,
          7.3,
          6.7,
          5.6,
          5.8,
          7.3,
          6,
          5.6,
          7.5,
          6.2,
          5.2,
          6,
          5.7,
          6.6,
          5.4,
          6.3,
          4,
          6.8,
          8.1,
          5.9,
          6.5,
          6.8,
          5.2,
          5.2,
          5.2,
          8.8,
          5.9,
          6,
          3.6,
          5.8,
          6.5,
          7.3,
          7.7,
          6.8,
          6.2,
          7,
          7.3,
          7,
          6.5,
          6.7,
          5.8,
          7,
          6.6,
          6.9,
          6.9,
          6.3,
          6,
          6.3,
          6.6,
          7.4,
          7.1,
          6,
          7,
          7,
          6.1,
          6.1,
          6.4,
          6.4,
          5.3,
          6.5,
          6.1,
          6.6,
          10,
          6.2,
          8,
          5.8,
          7.1,
          6.9,
          6.5,
          6.9,
          7.1,
          5.9,
          7.1,
          6.9,
          6,
          6.2,
          6.2,
          8.3,
          6,
          7,
          6.9,
          6.4,
          7.2,
          7.9,
          6.6,
          6,
          7.4,
          6.2,
          5.9,
          6.4,
          6.1,
          6.8,
          6.9,
          6.2,
          4,
          5.8,
          7.9,
          7.5,
          7.6,
          7.5,
          7.8,
          6.6,
          6.2,
          7.4,
          6.9,
          7.7,
          7.3,
          7,
          7.4,
          6.2,
          7,
          6.3,
          5.9,
          6.9,
          7.1,
          7.3,
          6.9,
          7.2,
          6.4,
          6.9,
          7.4,
          7,
          6.2,
          6.3,
          6.6,
          5.6,
          7.1,
          5.7,
          7.3,
          6.1,
          7.9,
          6.1,
          7.6,
          6.9,
          6.8,
          7.2,
          8.5,
          6.8,
          6.6,
          6.6,
          7.1,
          7,
          6,
          8.2,
          6.8,
          5.3,
          6.4,
          6.4,
          6.4,
          7.3,
          7.6,
          6.3,
          6,
          6.8,
          5.9,
          5.8,
          7.4,
          8.1,
          7.7,
          7.9,
          6.8,
          7.6,
          7.5,
          4.4,
          7.4,
          6.5,
          7.1,
          6.6,
          7.3,
          7.4,
          7.3,
          6.5,
          6.4,
          6.7,
          6,
          7.1,
          7.7,
          6.9,
          7,
          7.2,
          6.4,
          7.5,
          6.7,
          6.1,
          6.9,
          7.1,
          7.7,
          6,
          7.1,
          7.3,
          7.2,
          7.4,
          7.8,
          6.8,
          8.2,
          6.9,
          6.9,
          6.8,
          5.9,
          6.6,
          6.3,
          7.3,
          6.6,
          6.7,
          8,
          9,
          7,
          6.7,
          6.6,
          7.7,
          5,
          7,
          6,
          7.9,
          7.9,
          7.9,
          6.6,
          7.6,
          8.2,
          8.3,
          6.6,
          7.4,
          7.6,
          7,
          7.5,
          7.3,
          7.2,
          6.5,
          6.9,
          7,
          7.2,
          5.1,
          8.3,
          6.8,
          7.6,
          6,
          5.3,
          7.6,
          6.1,
          7.3,
          6.5,
          8,
          7.2,
          7.5,
          5.6,
          7.7,
          7.1,
          7.4,
          6.4,
          7.9,
          6.4,
          7,
          7.7,
          6.5,
          6.4,
          7.7,
          6.8,
          6.9,
          5.9,
          7.6,
          6.5,
          7.2,
          8.3,
          6.6,
          6,
          6.4,
          6.8,
          7.3,
          7.1,
          6.4,
          6.7,
          5.5,
          6,
          7,
          7.6,
          6.3,
          7,
          4.3,
          8.4,
          8.3,
          6,
          8.2,
          6.4,
          6.9,
          7.1,
          7.8,
          7.3,
          7.6,
          7.1,
          6.1,
          6.2,
          7,
          8.2,
          7.5,
          6.7,
          7.3,
          6.7,
          5.6,
          7.5,
          8.3,
          7.3,
          8.6,
          8.3,
          7.6,
          7.3,
          7.9,
          8,
          6.7,
          6.2,
          6.9,
          7.8,
          9,
          6.6,
          7.6,
          6.8,
          7.8,
          5.5,
          7.2,
          6,
          7,
          7.1,
          7.4,
          5.8,
          7.7,
          7.8,
          6.7,
          6.9,
          6.7,
          6.7,
          7.5,
          7.3,
          10,
          6.3,
          8,
          7.5,
          8.8,
          7.2,
          6.3,
          8,
          6.9,
          7.5,
          7.3,
          6.8,
          6,
          7.2,
          7.8,
          6.7,
          6,
          6.3,
          7.3,
          7.6,
          7.2,
          6,
          7.4,
          7,
          7.3,
          7.3,
          6.7,
          6.8,
          8.1,
          7,
          6.8,
          7.3,
          7,
          7.7,
          9.5,
          7.5,
          6.4,
          7,
          3.8,
          5.9,
          8.6,
          7,
          6.2,
          7.1,
          8,
          7,
          8.5,
          7.8,
          5,
          8,
          6,
          7,
          8,
          8,
          2,
          8,
          8,
          10,
          8.5,
          7.7,
          7.2,
          7.4,
          7.7,
          7.7,
          7.1,
          7.7,
          8,
          7.6,
          8.1,
          7.5,
          8.2,
          6.8,
          7.9,
          7.5,
          7,
          6.2,
          8.1,
          8,
          6.9,
          6.8,
          5.9,
          7.1,
          7.1,
          6.7,
          7.4,
          7.5,
          6.9,
          6.4,
          5.1,
          8,
          6.6,
          7.5,
          6.8,
          6.9,
          3.5,
          6,
          7,
          7.2,
          7.9,
          8,
          8.2,
          6.6,
          6.9,
          6.8,
          7.3,
          5,
          7,
          7,
          7.1,
          6.4,
          9,
          6.1,
          7.8,
          6,
          8.4,
          6.8,
          8.2,
          5.4,
          7,
          7.4,
          4,
          7.5,
          7.7,
          7.2,
          8,
          6.9,
          6,
          6.3,
          6.4,
          6.7,
          7.1,
          6.1,
          7,
          7.3,
          5.9,
          6.8,
          5.5,
          7,
          7.3,
          7,
          9,
          7.7,
          8,
          6.4,
          6.3,
          4,
          10
         ],
         "yaxis": "y"
        },
        {
         "hovertemplate": "<b>OLS trendline</b><br>tmdb_score = -0.00041167 * runtime + 6.70789<br>R<sup>2</sup>=0.000373<br><br>type=MOVIE<br>Runtime (mins)=%{x}<br>TMDB Rating=%{y} <b>(trend)</b><extra></extra>",
         "legendgroup": "MOVIE",
         "marker": {
          "color": "#B9D8EB",
          "symbol": "circle"
         },
         "mode": "lines",
         "name": "MOVIE",
         "showlegend": false,
         "type": "scattergl",
         "x": [
          2,
          2,
          2,
          2,
          3,
          3,
          3,
          3,
          3,
          3,
          3,
          3,
          4,
          4,
          4,
          4,
          4,
          4,
          4,
          4,
          4,
          4,
          4,
          4,
          4,
          4,
          4,
          4,
          4,
          5,
          5,
          5,
          5,
          5,
          5,
          5,
          5,
          5,
          5,
          5,
          5,
          5,
          6,
          6,
          6,
          6,
          6,
          6,
          6,
          6,
          6,
          6,
          6,
          6,
          6,
          6,
          6,
          6,
          6,
          7,
          7,
          7,
          7,
          7,
          7,
          7,
          7,
          7,
          7,
          7,
          7,
          7,
          7,
          7,
          7,
          7,
          7,
          7,
          7,
          7,
          7,
          7,
          7,
          7,
          7,
          7,
          7,
          7,
          7,
          7,
          7,
          7,
          7,
          7,
          7,
          7,
          7,
          7,
          7,
          7,
          7,
          7,
          7,
          7,
          7,
          7,
          7,
          7,
          7,
          7,
          7,
          7,
          7,
          7,
          7,
          7,
          7,
          7,
          7,
          7,
          7,
          7,
          8,
          8,
          8,
          8,
          8,
          8,
          8,
          8,
          8,
          8,
          8,
          8,
          8,
          8,
          8,
          8,
          8,
          8,
          8,
          8,
          8,
          8,
          8,
          8,
          8,
          8,
          8,
          8,
          8,
          8,
          8,
          8,
          8,
          8,
          8,
          8,
          8,
          8,
          9,
          9,
          9,
          9,
          9,
          9,
          9,
          9,
          9,
          9,
          9,
          9,
          9,
          9,
          9,
          9,
          10,
          10,
          10,
          11,
          11,
          12,
          12,
          14,
          14,
          14,
          15,
          15,
          18,
          19,
          19,
          21,
          21,
          21,
          21,
          22,
          22,
          22,
          22,
          22,
          22,
          22,
          22,
          22,
          22,
          22,
          22,
          22,
          22,
          22,
          22,
          22,
          22,
          23,
          23,
          24,
          25,
          25,
          25,
          26,
          26,
          26,
          27,
          29,
          30,
          30,
          32,
          32,
          33,
          35,
          40,
          40,
          41,
          42,
          42,
          42,
          42,
          42,
          42,
          43,
          43,
          44,
          44,
          44,
          44,
          44,
          44,
          44,
          44,
          44,
          44,
          44,
          44,
          44,
          44,
          44,
          44,
          44,
          44,
          44,
          44,
          44,
          44,
          44,
          44,
          44,
          44,
          44,
          44,
          44,
          44,
          44,
          44,
          44,
          44,
          45,
          45,
          45,
          45,
          45,
          45,
          45,
          45,
          45,
          45,
          45,
          45,
          45,
          45,
          45,
          45,
          46,
          46,
          46,
          46,
          46,
          46,
          46,
          46,
          47,
          47,
          47,
          47,
          47,
          47,
          47,
          47,
          47,
          48,
          48,
          48,
          48,
          49,
          49,
          50,
          50,
          51,
          51,
          51,
          51,
          52,
          52,
          52,
          52,
          52,
          53,
          53,
          53,
          53,
          53,
          55,
          55,
          55,
          55,
          56,
          57,
          58,
          58,
          59,
          59,
          60,
          60,
          60,
          60,
          60,
          60,
          60,
          60,
          60,
          61,
          61,
          63,
          63,
          63,
          64,
          65,
          65,
          65,
          66,
          68,
          68,
          68,
          68,
          68,
          69,
          69,
          69,
          69,
          69,
          70,
          70,
          70,
          70,
          70,
          71,
          71,
          71,
          71,
          71,
          71,
          71,
          72,
          72,
          72,
          72,
          72,
          72,
          73,
          73,
          73,
          73,
          73,
          73,
          74,
          74,
          74,
          74,
          74,
          74,
          74,
          74,
          74,
          74,
          74,
          75,
          75,
          75,
          75,
          75,
          75,
          75,
          75,
          75,
          75,
          76,
          76,
          76,
          76,
          76,
          76,
          76,
          76,
          76,
          76,
          76,
          77,
          77,
          77,
          77,
          77,
          77,
          77,
          77,
          77,
          77,
          77,
          77,
          77,
          77,
          78,
          78,
          78,
          78,
          78,
          78,
          78,
          78,
          78,
          78,
          78,
          78,
          78,
          78,
          78,
          78,
          78,
          79,
          79,
          79,
          79,
          79,
          79,
          79,
          79,
          80,
          80,
          80,
          80,
          81,
          81,
          81,
          81,
          81,
          81,
          81,
          81,
          81,
          81,
          81,
          81,
          81,
          81,
          81,
          82,
          82,
          82,
          82,
          82,
          82,
          82,
          82,
          82,
          82,
          83,
          83,
          83,
          83,
          83,
          83,
          83,
          83,
          83,
          83,
          83,
          83,
          83,
          83,
          83,
          83,
          84,
          84,
          84,
          84,
          84,
          84,
          84,
          84,
          84,
          84,
          84,
          84,
          84,
          84,
          84,
          84,
          84,
          84,
          85,
          85,
          85,
          85,
          85,
          85,
          85,
          85,
          85,
          85,
          85,
          85,
          85,
          86,
          86,
          86,
          86,
          86,
          86,
          86,
          86,
          86,
          86,
          86,
          87,
          87,
          87,
          87,
          87,
          87,
          87,
          87,
          87,
          87,
          87,
          87,
          87,
          87,
          88,
          88,
          88,
          88,
          88,
          88,
          88,
          88,
          88,
          88,
          88,
          88,
          88,
          88,
          88,
          88,
          88,
          88,
          88,
          88,
          88,
          88,
          88,
          88,
          88,
          88,
          88,
          88,
          88,
          88,
          88,
          88,
          88,
          88,
          88,
          88,
          88,
          88,
          89,
          89,
          89,
          89,
          89,
          89,
          89,
          89,
          89,
          89,
          89,
          89,
          89,
          89,
          89,
          89,
          89,
          89,
          89,
          89,
          90,
          90,
          90,
          90,
          90,
          90,
          90,
          90,
          90,
          90,
          90,
          90,
          90,
          90,
          90,
          90,
          90,
          90,
          90,
          90,
          90,
          90,
          90,
          90,
          90,
          90,
          90,
          90,
          90,
          90,
          90,
          91,
          91,
          91,
          91,
          91,
          91,
          91,
          91,
          91,
          91,
          91,
          91,
          91,
          91,
          91,
          91,
          92,
          92,
          92,
          92,
          92,
          92,
          92,
          92,
          92,
          92,
          92,
          92,
          92,
          92,
          92,
          92,
          92,
          92,
          93,
          93,
          93,
          93,
          93,
          93,
          93,
          93,
          93,
          93,
          93,
          93,
          93,
          93,
          93,
          93,
          93,
          93,
          93,
          93,
          93,
          93,
          93,
          93,
          93,
          93,
          93,
          93,
          94,
          94,
          94,
          94,
          94,
          94,
          94,
          94,
          94,
          94,
          94,
          94,
          94,
          94,
          94,
          94,
          94,
          95,
          95,
          95,
          95,
          95,
          95,
          95,
          95,
          95,
          95,
          95,
          95,
          95,
          95,
          95,
          95,
          95,
          95,
          95,
          95,
          96,
          96,
          96,
          96,
          96,
          96,
          96,
          96,
          96,
          96,
          96,
          96,
          96,
          96,
          96,
          96,
          96,
          96,
          96,
          97,
          97,
          97,
          97,
          97,
          97,
          97,
          97,
          97,
          97,
          97,
          97,
          97,
          97,
          97,
          97,
          98,
          98,
          98,
          98,
          98,
          98,
          98,
          98,
          98,
          98,
          98,
          98,
          99,
          99,
          99,
          99,
          99,
          99,
          99,
          99,
          99,
          99,
          99,
          99,
          99,
          99,
          100,
          100,
          100,
          100,
          100,
          100,
          100,
          100,
          100,
          100,
          100,
          100,
          100,
          100,
          100,
          100,
          100,
          100,
          100,
          100,
          101,
          101,
          101,
          101,
          101,
          101,
          101,
          101,
          102,
          102,
          102,
          102,
          102,
          102,
          102,
          102,
          102,
          102,
          102,
          102,
          102,
          103,
          103,
          103,
          103,
          103,
          103,
          103,
          103,
          103,
          103,
          104,
          104,
          104,
          104,
          104,
          104,
          104,
          104,
          104,
          104,
          104,
          104,
          104,
          104,
          104,
          104,
          104,
          104,
          105,
          105,
          105,
          105,
          105,
          105,
          105,
          105,
          105,
          105,
          106,
          106,
          106,
          106,
          106,
          106,
          106,
          106,
          106,
          106,
          106,
          106,
          107,
          107,
          107,
          107,
          107,
          107,
          107,
          107,
          107,
          107,
          107,
          107,
          107,
          107,
          108,
          108,
          108,
          108,
          108,
          108,
          109,
          109,
          109,
          109,
          109,
          110,
          110,
          110,
          111,
          111,
          111,
          111,
          112,
          112,
          112,
          112,
          112,
          112,
          113,
          113,
          113,
          113,
          113,
          113,
          113,
          113,
          113,
          114,
          115,
          115,
          115,
          115,
          115,
          115,
          115,
          115,
          116,
          117,
          117,
          117,
          117,
          117,
          117,
          117,
          118,
          118,
          118,
          118,
          118,
          118,
          119,
          119,
          120,
          120,
          120,
          120,
          120,
          120,
          120,
          120,
          120,
          120,
          120,
          120,
          120,
          121,
          121,
          122,
          123,
          124,
          124,
          124,
          124,
          124,
          124,
          124,
          124,
          125,
          125,
          125,
          125,
          125,
          126,
          126,
          126,
          127,
          127,
          127,
          127,
          127,
          128,
          128,
          128,
          128,
          129,
          129,
          129,
          130,
          131,
          131,
          131,
          131,
          131,
          131,
          132,
          132,
          133,
          133,
          134,
          134,
          134,
          134,
          134,
          135,
          135,
          135,
          135,
          135,
          136,
          136,
          137,
          137,
          139,
          140,
          141,
          142,
          142,
          143,
          143,
          143,
          144,
          146,
          148,
          148,
          150,
          150,
          151,
          151,
          152,
          155,
          156,
          157,
          160,
          165,
          169,
          172,
          175,
          180,
          181,
          182
         ],
         "xaxis": "x",
         "y": [
          6.70707145067374,
          6.70707145067374,
          6.70707145067374,
          6.70707145067374,
          6.706659780703349,
          6.706659780703349,
          6.706659780703349,
          6.706659780703349,
          6.706659780703349,
          6.706659780703349,
          6.706659780703349,
          6.706659780703349,
          6.706248110732958,
          6.706248110732958,
          6.706248110732958,
          6.706248110732958,
          6.706248110732958,
          6.706248110732958,
          6.706248110732958,
          6.706248110732958,
          6.706248110732958,
          6.706248110732958,
          6.706248110732958,
          6.706248110732958,
          6.706248110732958,
          6.706248110732958,
          6.706248110732958,
          6.706248110732958,
          6.706248110732958,
          6.705836440762567,
          6.705836440762567,
          6.705836440762567,
          6.705836440762567,
          6.705836440762567,
          6.705836440762567,
          6.705836440762567,
          6.705836440762567,
          6.705836440762567,
          6.705836440762567,
          6.705836440762567,
          6.705836440762567,
          6.705836440762567,
          6.705424770792176,
          6.705424770792176,
          6.705424770792176,
          6.705424770792176,
          6.705424770792176,
          6.705424770792176,
          6.705424770792176,
          6.705424770792176,
          6.705424770792176,
          6.705424770792176,
          6.705424770792176,
          6.705424770792176,
          6.705424770792176,
          6.705424770792176,
          6.705424770792176,
          6.705424770792176,
          6.705424770792176,
          6.705013100821785,
          6.705013100821785,
          6.705013100821785,
          6.705013100821785,
          6.705013100821785,
          6.705013100821785,
          6.705013100821785,
          6.705013100821785,
          6.705013100821785,
          6.705013100821785,
          6.705013100821785,
          6.705013100821785,
          6.705013100821785,
          6.705013100821785,
          6.705013100821785,
          6.705013100821785,
          6.705013100821785,
          6.705013100821785,
          6.705013100821785,
          6.705013100821785,
          6.705013100821785,
          6.705013100821785,
          6.705013100821785,
          6.705013100821785,
          6.705013100821785,
          6.705013100821785,
          6.705013100821785,
          6.705013100821785,
          6.705013100821785,
          6.705013100821785,
          6.705013100821785,
          6.705013100821785,
          6.705013100821785,
          6.705013100821785,
          6.705013100821785,
          6.705013100821785,
          6.705013100821785,
          6.705013100821785,
          6.705013100821785,
          6.705013100821785,
          6.705013100821785,
          6.705013100821785,
          6.705013100821785,
          6.705013100821785,
          6.705013100821785,
          6.705013100821785,
          6.705013100821785,
          6.705013100821785,
          6.705013100821785,
          6.705013100821785,
          6.705013100821785,
          6.705013100821785,
          6.705013100821785,
          6.705013100821785,
          6.705013100821785,
          6.705013100821785,
          6.705013100821785,
          6.705013100821785,
          6.705013100821785,
          6.705013100821785,
          6.705013100821785,
          6.705013100821785,
          6.705013100821785,
          6.704601430851393,
          6.704601430851393,
          6.704601430851393,
          6.704601430851393,
          6.704601430851393,
          6.704601430851393,
          6.704601430851393,
          6.704601430851393,
          6.704601430851393,
          6.704601430851393,
          6.704601430851393,
          6.704601430851393,
          6.704601430851393,
          6.704601430851393,
          6.704601430851393,
          6.704601430851393,
          6.704601430851393,
          6.704601430851393,
          6.704601430851393,
          6.704601430851393,
          6.704601430851393,
          6.704601430851393,
          6.704601430851393,
          6.704601430851393,
          6.704601430851393,
          6.704601430851393,
          6.704601430851393,
          6.704601430851393,
          6.704601430851393,
          6.704601430851393,
          6.704601430851393,
          6.704601430851393,
          6.704601430851393,
          6.704601430851393,
          6.704601430851393,
          6.704601430851393,
          6.704601430851393,
          6.704601430851393,
          6.704189760881002,
          6.704189760881002,
          6.704189760881002,
          6.704189760881002,
          6.704189760881002,
          6.704189760881002,
          6.704189760881002,
          6.704189760881002,
          6.704189760881002,
          6.704189760881002,
          6.704189760881002,
          6.704189760881002,
          6.704189760881002,
          6.704189760881002,
          6.704189760881002,
          6.704189760881002,
          6.703778090910611,
          6.703778090910611,
          6.703778090910611,
          6.7033664209402195,
          6.7033664209402195,
          6.702954750969829,
          6.702954750969829,
          6.702131411029046,
          6.702131411029046,
          6.702131411029046,
          6.701719741058655,
          6.701719741058655,
          6.7004847311474816,
          6.700073061177091,
          6.700073061177091,
          6.699249721236308,
          6.699249721236308,
          6.699249721236308,
          6.699249721236308,
          6.698838051265917,
          6.698838051265917,
          6.698838051265917,
          6.698838051265917,
          6.698838051265917,
          6.698838051265917,
          6.698838051265917,
          6.698838051265917,
          6.698838051265917,
          6.698838051265917,
          6.698838051265917,
          6.698838051265917,
          6.698838051265917,
          6.698838051265917,
          6.698838051265917,
          6.698838051265917,
          6.698838051265917,
          6.698838051265917,
          6.698426381295525,
          6.698426381295525,
          6.6980147113251345,
          6.697603041354744,
          6.697603041354744,
          6.697603041354744,
          6.697191371384352,
          6.697191371384352,
          6.697191371384352,
          6.696779701413961,
          6.695956361473179,
          6.695544691502787,
          6.695544691502787,
          6.694721351562006,
          6.694721351562006,
          6.694309681591614,
          6.693486341650832,
          6.691427991798876,
          6.691427991798876,
          6.691016321828485,
          6.690604651858093,
          6.690604651858093,
          6.690604651858093,
          6.690604651858093,
          6.690604651858093,
          6.690604651858093,
          6.690192981887702,
          6.690192981887702,
          6.6897813119173115,
          6.6897813119173115,
          6.6897813119173115,
          6.6897813119173115,
          6.6897813119173115,
          6.6897813119173115,
          6.6897813119173115,
          6.6897813119173115,
          6.6897813119173115,
          6.6897813119173115,
          6.6897813119173115,
          6.6897813119173115,
          6.6897813119173115,
          6.6897813119173115,
          6.6897813119173115,
          6.6897813119173115,
          6.6897813119173115,
          6.6897813119173115,
          6.6897813119173115,
          6.6897813119173115,
          6.6897813119173115,
          6.6897813119173115,
          6.6897813119173115,
          6.6897813119173115,
          6.6897813119173115,
          6.6897813119173115,
          6.6897813119173115,
          6.6897813119173115,
          6.6897813119173115,
          6.6897813119173115,
          6.6897813119173115,
          6.6897813119173115,
          6.6897813119173115,
          6.6897813119173115,
          6.68936964194692,
          6.68936964194692,
          6.68936964194692,
          6.68936964194692,
          6.68936964194692,
          6.68936964194692,
          6.68936964194692,
          6.68936964194692,
          6.68936964194692,
          6.68936964194692,
          6.68936964194692,
          6.68936964194692,
          6.68936964194692,
          6.68936964194692,
          6.68936964194692,
          6.68936964194692,
          6.688957971976529,
          6.688957971976529,
          6.688957971976529,
          6.688957971976529,
          6.688957971976529,
          6.688957971976529,
          6.688957971976529,
          6.688957971976529,
          6.688546302006138,
          6.688546302006138,
          6.688546302006138,
          6.688546302006138,
          6.688546302006138,
          6.688546302006138,
          6.688546302006138,
          6.688546302006138,
          6.688546302006138,
          6.688134632035746,
          6.688134632035746,
          6.688134632035746,
          6.688134632035746,
          6.687722962065355,
          6.687722962065355,
          6.687311292094964,
          6.687311292094964,
          6.686899622124573,
          6.686899622124573,
          6.686899622124573,
          6.686899622124573,
          6.686487952154182,
          6.686487952154182,
          6.686487952154182,
          6.686487952154182,
          6.686487952154182,
          6.686076282183791,
          6.686076282183791,
          6.686076282183791,
          6.686076282183791,
          6.686076282183791,
          6.685252942243008,
          6.685252942243008,
          6.685252942243008,
          6.685252942243008,
          6.684841272272617,
          6.684429602302226,
          6.684017932331835,
          6.684017932331835,
          6.683606262361444,
          6.683606262361444,
          6.683194592391052,
          6.683194592391052,
          6.683194592391052,
          6.683194592391052,
          6.683194592391052,
          6.683194592391052,
          6.683194592391052,
          6.683194592391052,
          6.683194592391052,
          6.682782922420661,
          6.682782922420661,
          6.6819595824798785,
          6.6819595824798785,
          6.6819595824798785,
          6.681547912509488,
          6.681136242539097,
          6.681136242539097,
          6.681136242539097,
          6.680724572568705,
          6.679901232627923,
          6.679901232627923,
          6.679901232627923,
          6.679901232627923,
          6.679901232627923,
          6.6794895626575315,
          6.6794895626575315,
          6.6794895626575315,
          6.6794895626575315,
          6.6794895626575315,
          6.679077892687141,
          6.679077892687141,
          6.679077892687141,
          6.679077892687141,
          6.679077892687141,
          6.67866622271675,
          6.67866622271675,
          6.67866622271675,
          6.67866622271675,
          6.67866622271675,
          6.67866622271675,
          6.67866622271675,
          6.678254552746358,
          6.678254552746358,
          6.678254552746358,
          6.678254552746358,
          6.678254552746358,
          6.678254552746358,
          6.677842882775967,
          6.677842882775967,
          6.677842882775967,
          6.677842882775967,
          6.677842882775967,
          6.677842882775967,
          6.677431212805576,
          6.677431212805576,
          6.677431212805576,
          6.677431212805576,
          6.677431212805576,
          6.677431212805576,
          6.677431212805576,
          6.677431212805576,
          6.677431212805576,
          6.677431212805576,
          6.677431212805576,
          6.677019542835184,
          6.677019542835184,
          6.677019542835184,
          6.677019542835184,
          6.677019542835184,
          6.677019542835184,
          6.677019542835184,
          6.677019542835184,
          6.677019542835184,
          6.677019542835184,
          6.6766078728647935,
          6.6766078728647935,
          6.6766078728647935,
          6.6766078728647935,
          6.6766078728647935,
          6.6766078728647935,
          6.6766078728647935,
          6.6766078728647935,
          6.6766078728647935,
          6.6766078728647935,
          6.6766078728647935,
          6.676196202894403,
          6.676196202894403,
          6.676196202894403,
          6.676196202894403,
          6.676196202894403,
          6.676196202894403,
          6.676196202894403,
          6.676196202894403,
          6.676196202894403,
          6.676196202894403,
          6.676196202894403,
          6.676196202894403,
          6.676196202894403,
          6.676196202894403,
          6.675784532924011,
          6.675784532924011,
          6.675784532924011,
          6.675784532924011,
          6.675784532924011,
          6.675784532924011,
          6.675784532924011,
          6.675784532924011,
          6.675784532924011,
          6.675784532924011,
          6.675784532924011,
          6.675784532924011,
          6.675784532924011,
          6.675784532924011,
          6.675784532924011,
          6.675784532924011,
          6.675784532924011,
          6.67537286295362,
          6.67537286295362,
          6.67537286295362,
          6.67537286295362,
          6.67537286295362,
          6.67537286295362,
          6.67537286295362,
          6.67537286295362,
          6.674961192983229,
          6.674961192983229,
          6.674961192983229,
          6.674961192983229,
          6.674549523012837,
          6.674549523012837,
          6.674549523012837,
          6.674549523012837,
          6.674549523012837,
          6.674549523012837,
          6.674549523012837,
          6.674549523012837,
          6.674549523012837,
          6.674549523012837,
          6.674549523012837,
          6.674549523012837,
          6.674549523012837,
          6.674549523012837,
          6.674549523012837,
          6.6741378530424464,
          6.6741378530424464,
          6.6741378530424464,
          6.6741378530424464,
          6.6741378530424464,
          6.6741378530424464,
          6.6741378530424464,
          6.6741378530424464,
          6.6741378530424464,
          6.6741378530424464,
          6.673726183072056,
          6.673726183072056,
          6.673726183072056,
          6.673726183072056,
          6.673726183072056,
          6.673726183072056,
          6.673726183072056,
          6.673726183072056,
          6.673726183072056,
          6.673726183072056,
          6.673726183072056,
          6.673726183072056,
          6.673726183072056,
          6.673726183072056,
          6.673726183072056,
          6.673726183072056,
          6.673314513101665,
          6.673314513101665,
          6.673314513101665,
          6.673314513101665,
          6.673314513101665,
          6.673314513101665,
          6.673314513101665,
          6.673314513101665,
          6.673314513101665,
          6.673314513101665,
          6.673314513101665,
          6.673314513101665,
          6.673314513101665,
          6.673314513101665,
          6.673314513101665,
          6.673314513101665,
          6.673314513101665,
          6.673314513101665,
          6.672902843131273,
          6.672902843131273,
          6.672902843131273,
          6.672902843131273,
          6.672902843131273,
          6.672902843131273,
          6.672902843131273,
          6.672902843131273,
          6.672902843131273,
          6.672902843131273,
          6.672902843131273,
          6.672902843131273,
          6.672902843131273,
          6.672491173160882,
          6.672491173160882,
          6.672491173160882,
          6.672491173160882,
          6.672491173160882,
          6.672491173160882,
          6.672491173160882,
          6.672491173160882,
          6.672491173160882,
          6.672491173160882,
          6.672491173160882,
          6.672079503190491,
          6.672079503190491,
          6.672079503190491,
          6.672079503190491,
          6.672079503190491,
          6.672079503190491,
          6.672079503190491,
          6.672079503190491,
          6.672079503190491,
          6.672079503190491,
          6.672079503190491,
          6.672079503190491,
          6.672079503190491,
          6.672079503190491,
          6.671667833220099,
          6.671667833220099,
          6.671667833220099,
          6.671667833220099,
          6.671667833220099,
          6.671667833220099,
          6.671667833220099,
          6.671667833220099,
          6.671667833220099,
          6.671667833220099,
          6.671667833220099,
          6.671667833220099,
          6.671667833220099,
          6.671667833220099,
          6.671667833220099,
          6.671667833220099,
          6.671667833220099,
          6.671667833220099,
          6.671667833220099,
          6.671667833220099,
          6.671667833220099,
          6.671667833220099,
          6.671667833220099,
          6.671667833220099,
          6.671667833220099,
          6.671667833220099,
          6.671667833220099,
          6.671667833220099,
          6.671667833220099,
          6.671667833220099,
          6.671667833220099,
          6.671667833220099,
          6.671667833220099,
          6.671667833220099,
          6.671667833220099,
          6.671667833220099,
          6.671667833220099,
          6.671667833220099,
          6.6712561632497085,
          6.6712561632497085,
          6.6712561632497085,
          6.6712561632497085,
          6.6712561632497085,
          6.6712561632497085,
          6.6712561632497085,
          6.6712561632497085,
          6.6712561632497085,
          6.6712561632497085,
          6.6712561632497085,
          6.6712561632497085,
          6.6712561632497085,
          6.6712561632497085,
          6.6712561632497085,
          6.6712561632497085,
          6.6712561632497085,
          6.6712561632497085,
          6.6712561632497085,
          6.6712561632497085,
          6.670844493279318,
          6.670844493279318,
          6.670844493279318,
          6.670844493279318,
          6.670844493279318,
          6.670844493279318,
          6.670844493279318,
          6.670844493279318,
          6.670844493279318,
          6.670844493279318,
          6.670844493279318,
          6.670844493279318,
          6.670844493279318,
          6.670844493279318,
          6.670844493279318,
          6.670844493279318,
          6.670844493279318,
          6.670844493279318,
          6.670844493279318,
          6.670844493279318,
          6.670844493279318,
          6.670844493279318,
          6.670844493279318,
          6.670844493279318,
          6.670844493279318,
          6.670844493279318,
          6.670844493279318,
          6.670844493279318,
          6.670844493279318,
          6.670844493279318,
          6.670844493279318,
          6.670432823308926,
          6.670432823308926,
          6.670432823308926,
          6.670432823308926,
          6.670432823308926,
          6.670432823308926,
          6.670432823308926,
          6.670432823308926,
          6.670432823308926,
          6.670432823308926,
          6.670432823308926,
          6.670432823308926,
          6.670432823308926,
          6.670432823308926,
          6.670432823308926,
          6.670432823308926,
          6.670021153338535,
          6.670021153338535,
          6.670021153338535,
          6.670021153338535,
          6.670021153338535,
          6.670021153338535,
          6.670021153338535,
          6.670021153338535,
          6.670021153338535,
          6.670021153338535,
          6.670021153338535,
          6.670021153338535,
          6.670021153338535,
          6.670021153338535,
          6.670021153338535,
          6.670021153338535,
          6.670021153338535,
          6.670021153338535,
          6.669609483368144,
          6.669609483368144,
          6.669609483368144,
          6.669609483368144,
          6.669609483368144,
          6.669609483368144,
          6.669609483368144,
          6.669609483368144,
          6.669609483368144,
          6.669609483368144,
          6.669609483368144,
          6.669609483368144,
          6.669609483368144,
          6.669609483368144,
          6.669609483368144,
          6.669609483368144,
          6.669609483368144,
          6.669609483368144,
          6.669609483368144,
          6.669609483368144,
          6.669609483368144,
          6.669609483368144,
          6.669609483368144,
          6.669609483368144,
          6.669609483368144,
          6.669609483368144,
          6.669609483368144,
          6.669609483368144,
          6.669197813397752,
          6.669197813397752,
          6.669197813397752,
          6.669197813397752,
          6.669197813397752,
          6.669197813397752,
          6.669197813397752,
          6.669197813397752,
          6.669197813397752,
          6.669197813397752,
          6.669197813397752,
          6.669197813397752,
          6.669197813397752,
          6.669197813397752,
          6.669197813397752,
          6.669197813397752,
          6.669197813397752,
          6.668786143427361,
          6.668786143427361,
          6.668786143427361,
          6.668786143427361,
          6.668786143427361,
          6.668786143427361,
          6.668786143427361,
          6.668786143427361,
          6.668786143427361,
          6.668786143427361,
          6.668786143427361,
          6.668786143427361,
          6.668786143427361,
          6.668786143427361,
          6.668786143427361,
          6.668786143427361,
          6.668786143427361,
          6.668786143427361,
          6.668786143427361,
          6.668786143427361,
          6.6683744734569705,
          6.6683744734569705,
          6.6683744734569705,
          6.6683744734569705,
          6.6683744734569705,
          6.6683744734569705,
          6.6683744734569705,
          6.6683744734569705,
          6.6683744734569705,
          6.6683744734569705,
          6.6683744734569705,
          6.6683744734569705,
          6.6683744734569705,
          6.6683744734569705,
          6.6683744734569705,
          6.6683744734569705,
          6.6683744734569705,
          6.6683744734569705,
          6.6683744734569705,
          6.667962803486579,
          6.667962803486579,
          6.667962803486579,
          6.667962803486579,
          6.667962803486579,
          6.667962803486579,
          6.667962803486579,
          6.667962803486579,
          6.667962803486579,
          6.667962803486579,
          6.667962803486579,
          6.667962803486579,
          6.667962803486579,
          6.667962803486579,
          6.667962803486579,
          6.667962803486579,
          6.667551133516188,
          6.667551133516188,
          6.667551133516188,
          6.667551133516188,
          6.667551133516188,
          6.667551133516188,
          6.667551133516188,
          6.667551133516188,
          6.667551133516188,
          6.667551133516188,
          6.667551133516188,
          6.667551133516188,
          6.667139463545797,
          6.667139463545797,
          6.667139463545797,
          6.667139463545797,
          6.667139463545797,
          6.667139463545797,
          6.667139463545797,
          6.667139463545797,
          6.667139463545797,
          6.667139463545797,
          6.667139463545797,
          6.667139463545797,
          6.667139463545797,
          6.667139463545797,
          6.666727793575405,
          6.666727793575405,
          6.666727793575405,
          6.666727793575405,
          6.666727793575405,
          6.666727793575405,
          6.666727793575405,
          6.666727793575405,
          6.666727793575405,
          6.666727793575405,
          6.666727793575405,
          6.666727793575405,
          6.666727793575405,
          6.666727793575405,
          6.666727793575405,
          6.666727793575405,
          6.666727793575405,
          6.666727793575405,
          6.666727793575405,
          6.666727793575405,
          6.666316123605014,
          6.666316123605014,
          6.666316123605014,
          6.666316123605014,
          6.666316123605014,
          6.666316123605014,
          6.666316123605014,
          6.666316123605014,
          6.6659044536346235,
          6.6659044536346235,
          6.6659044536346235,
          6.6659044536346235,
          6.6659044536346235,
          6.6659044536346235,
          6.6659044536346235,
          6.6659044536346235,
          6.6659044536346235,
          6.6659044536346235,
          6.6659044536346235,
          6.6659044536346235,
          6.6659044536346235,
          6.665492783664232,
          6.665492783664232,
          6.665492783664232,
          6.665492783664232,
          6.665492783664232,
          6.665492783664232,
          6.665492783664232,
          6.665492783664232,
          6.665492783664232,
          6.665492783664232,
          6.665081113693841,
          6.665081113693841,
          6.665081113693841,
          6.665081113693841,
          6.665081113693841,
          6.665081113693841,
          6.665081113693841,
          6.665081113693841,
          6.665081113693841,
          6.665081113693841,
          6.665081113693841,
          6.665081113693841,
          6.665081113693841,
          6.665081113693841,
          6.665081113693841,
          6.665081113693841,
          6.665081113693841,
          6.665081113693841,
          6.66466944372345,
          6.66466944372345,
          6.66466944372345,
          6.66466944372345,
          6.66466944372345,
          6.66466944372345,
          6.66466944372345,
          6.66466944372345,
          6.66466944372345,
          6.66466944372345,
          6.664257773753058,
          6.664257773753058,
          6.664257773753058,
          6.664257773753058,
          6.664257773753058,
          6.664257773753058,
          6.664257773753058,
          6.664257773753058,
          6.664257773753058,
          6.664257773753058,
          6.664257773753058,
          6.664257773753058,
          6.663846103782667,
          6.663846103782667,
          6.663846103782667,
          6.663846103782667,
          6.663846103782667,
          6.663846103782667,
          6.663846103782667,
          6.663846103782667,
          6.663846103782667,
          6.663846103782667,
          6.663846103782667,
          6.663846103782667,
          6.663846103782667,
          6.663846103782667,
          6.663434433812276,
          6.663434433812276,
          6.663434433812276,
          6.663434433812276,
          6.663434433812276,
          6.663434433812276,
          6.663022763841885,
          6.663022763841885,
          6.663022763841885,
          6.663022763841885,
          6.663022763841885,
          6.662611093871494,
          6.662611093871494,
          6.662611093871494,
          6.662199423901103,
          6.662199423901103,
          6.662199423901103,
          6.662199423901103,
          6.661787753930711,
          6.661787753930711,
          6.661787753930711,
          6.661787753930711,
          6.661787753930711,
          6.661787753930711,
          6.66137608396032,
          6.66137608396032,
          6.66137608396032,
          6.66137608396032,
          6.66137608396032,
          6.66137608396032,
          6.66137608396032,
          6.66137608396032,
          6.66137608396032,
          6.660964413989929,
          6.660552744019538,
          6.660552744019538,
          6.660552744019538,
          6.660552744019538,
          6.660552744019538,
          6.660552744019538,
          6.660552744019538,
          6.660552744019538,
          6.660141074049147,
          6.659729404078756,
          6.659729404078756,
          6.659729404078756,
          6.659729404078756,
          6.659729404078756,
          6.659729404078756,
          6.659729404078756,
          6.659317734108364,
          6.659317734108364,
          6.659317734108364,
          6.659317734108364,
          6.659317734108364,
          6.659317734108364,
          6.658906064137973,
          6.658906064137973,
          6.658494394167582,
          6.658494394167582,
          6.658494394167582,
          6.658494394167582,
          6.658494394167582,
          6.658494394167582,
          6.658494394167582,
          6.658494394167582,
          6.658494394167582,
          6.658494394167582,
          6.658494394167582,
          6.658494394167582,
          6.658494394167582,
          6.6580827241971905,
          6.6580827241971905,
          6.6576710542268,
          6.657259384256409,
          6.656847714286017,
          6.656847714286017,
          6.656847714286017,
          6.656847714286017,
          6.656847714286017,
          6.656847714286017,
          6.656847714286017,
          6.656847714286017,
          6.656436044315626,
          6.656436044315626,
          6.656436044315626,
          6.656436044315626,
          6.656436044315626,
          6.656024374345235,
          6.656024374345235,
          6.656024374345235,
          6.655612704374843,
          6.655612704374843,
          6.655612704374843,
          6.655612704374843,
          6.655612704374843,
          6.6552010344044525,
          6.6552010344044525,
          6.6552010344044525,
          6.6552010344044525,
          6.654789364434062,
          6.654789364434062,
          6.654789364434062,
          6.65437769446367,
          6.653966024493279,
          6.653966024493279,
          6.653966024493279,
          6.653966024493279,
          6.653966024493279,
          6.653966024493279,
          6.653554354522888,
          6.653554354522888,
          6.653142684552496,
          6.653142684552496,
          6.6527310145821055,
          6.6527310145821055,
          6.6527310145821055,
          6.6527310145821055,
          6.6527310145821055,
          6.652319344611715,
          6.652319344611715,
          6.652319344611715,
          6.652319344611715,
          6.652319344611715,
          6.651907674641324,
          6.651907674641324,
          6.651496004670932,
          6.651496004670932,
          6.65067266473015,
          6.650260994759758,
          6.6498493247893675,
          6.649437654818977,
          6.649437654818977,
          6.649025984848585,
          6.649025984848585,
          6.649025984848585,
          6.648614314878194,
          6.647790974937411,
          6.64696763499663,
          6.64696763499663,
          6.646144295055847,
          6.646144295055847,
          6.645732625085456,
          6.645732625085456,
          6.645320955115064,
          6.644085945203891,
          6.6436742752335,
          6.643262605263109,
          6.642027595351935,
          6.639969245499979,
          6.638322565618415,
          6.637087555707241,
          6.635852545796068,
          6.633794195944112,
          6.633382525973721,
          6.632970856003329
         ],
         "yaxis": "y"
        },
        {
         "hovertemplate": "type=SHOW<br>Runtime (mins)=%{x}<br>TMDB Rating=%{y}<extra></extra>",
         "legendgroup": "SHOW",
         "marker": {
          "color": "#C39BD3",
          "symbol": "diamond"
         },
         "mode": "markers",
         "name": "SHOW",
         "showlegend": true,
         "type": "scattergl",
         "x": [
          25,
          3,
          31,
          21,
          12,
          27,
          49,
          21,
          23,
          22,
          25,
          22,
          22,
          23,
          22,
          25,
          23,
          21,
          22,
          24,
          24,
          22,
          22,
          16,
          21,
          22,
          22,
          15,
          21,
          22,
          22,
          22,
          23,
          20,
          22,
          25,
          22,
          23,
          24,
          28,
          24,
          22,
          22,
          22,
          22,
          22,
          21,
          23,
          10,
          21,
          43,
          22,
          25,
          21,
          24,
          24,
          23,
          27,
          21,
          24,
          22,
          23,
          23,
          23,
          23,
          26,
          25,
          22,
          27,
          23,
          23,
          20,
          24,
          22,
          20,
          22,
          26,
          24,
          23,
          24,
          23,
          22,
          22,
          22,
          24,
          21,
          50,
          44,
          3,
          43,
          23,
          32,
          45,
          23,
          22,
          44,
          22,
          26,
          23,
          43,
          24,
          26,
          45,
          23,
          23,
          17,
          23,
          3,
          44,
          25,
          44,
          23,
          49,
          50,
          21,
          42,
          43,
          23,
          46,
          43,
          23,
          23,
          22,
          23,
          43,
          44,
          22,
          44,
          18,
          5,
          24,
          22,
          44,
          21,
          46,
          43,
          45,
          22,
          25,
          25,
          44,
          53,
          51,
          42,
          22,
          15,
          56,
          22,
          48,
          43,
          25,
          18,
          21,
          22,
          23,
          23,
          24,
          24,
          24,
          24,
          44,
          22,
          19,
          47,
          24,
          22,
          23,
          6,
          54,
          46,
          1,
          20,
          44,
          23,
          54,
          24,
          44,
          45,
          44,
          23,
          22,
          7,
          53,
          42,
          54,
          50,
          28,
          23,
          47,
          20,
          24,
          23,
          22,
          24,
          24,
          4,
          20,
          18,
          46,
          23,
          1,
          43,
          25,
          20,
          25,
          23,
          23,
          21,
          47,
          29,
          1,
          2,
          52,
          20,
          4,
          44,
          4,
          44,
          16,
          2,
          23,
          39,
          22,
          40,
          24,
          19,
          43,
          45,
          44,
          26,
          44,
          32,
          44,
          44,
          42,
          33,
          63,
          44,
          52,
          42,
          47,
          24,
          21,
          43,
          44,
          45,
          5,
          37,
          26,
          43,
          44,
          37,
          11,
          13,
          4,
          3,
          44,
          17,
          38,
          8,
          6,
          43,
          44,
          19,
          54,
          44,
          23,
          10,
          44,
          23,
          44,
          26,
          44,
          32,
          32,
          36,
          37,
          24,
          24,
          24,
          23,
          34,
          22,
          30,
          25,
          43,
          23,
          59,
          44,
          1,
          24,
          3,
          2,
          22,
          7,
          44,
          43,
          48,
          156,
          47,
          39,
          48,
          47,
          51,
          32,
          21,
          51,
          31,
          3,
          16,
          7,
          28,
          85,
          31,
          24,
          38,
          49,
          10,
          26,
          23,
          12,
          43,
          43,
          48,
          48,
          42,
          42,
          27,
          58,
          44,
          46,
          23,
          35,
          4,
          45,
          34,
          24,
          7,
          3,
          46,
          4,
          43,
          14,
          22,
          30,
          27,
          2,
          46,
          42,
          4,
          42
         ],
         "xaxis": "x",
         "y": [
          8.1,
          7.8,
          5.8,
          8,
          8,
          7.9,
          7,
          7.6,
          7.6,
          7,
          7.5,
          7.4,
          7.2,
          5,
          7.5,
          6.3,
          8.4,
          8.3,
          8.2,
          7.8,
          7.4,
          8.2,
          8,
          7.8,
          6.6,
          7.5,
          6,
          6.9,
          6.8,
          7.4,
          7.5,
          7,
          7,
          7.7,
          8,
          6.6,
          7.2,
          6.6,
          10,
          7,
          7.6,
          6.6,
          6.6,
          7,
          6.7,
          7,
          7.6,
          8.5,
          7.7,
          7.9,
          7.1,
          7.4,
          7.2,
          7.6,
          7.2,
          8.3,
          7.7,
          6.8,
          7.9,
          8.2,
          8.1,
          8,
          7.4,
          7.5,
          8.2,
          7.8,
          7.9,
          7.4,
          7.5,
          7.7,
          7.5,
          7.7,
          8.1,
          8,
          7.1,
          8,
          7.1,
          8,
          6.7,
          8,
          7.4,
          6.5,
          6,
          7.4,
          6.7,
          7.8,
          8.2,
          7.9,
          7.7,
          7.2,
          8.5,
          7.6,
          7.8,
          7.7,
          7.7,
          8.9,
          5.5,
          8.2,
          8.2,
          10,
          8.4,
          6.9,
          10,
          7.1,
          8.4,
          7,
          8.4,
          3.9,
          5,
          7.5,
          8.3,
          7.4,
          6,
          6,
          7.4,
          8.4,
          7.5,
          7.7,
          7.7,
          7.3,
          6.5,
          8.4,
          7.6,
          8.2,
          7.1,
          5.5,
          6.6,
          8.3,
          7.4,
          7.3,
          6,
          6.9,
          9,
          7,
          7.3,
          4,
          9.7,
          9,
          8,
          7.6,
          9,
          8.1,
          7.6,
          7.6,
          8,
          4.9,
          7,
          7.4,
          5.5,
          8.3,
          7.9,
          8.4,
          7.1,
          7.6,
          9.3,
          7.9,
          6.8,
          7.7,
          6.8,
          7.7,
          8.1,
          4.6,
          8.3,
          5.3,
          6.6,
          8.2,
          7.3,
          8.7,
          5.5,
          7.9,
          5,
          7.6,
          6,
          6,
          9.3,
          8.5,
          9.4,
          8.7,
          8.3,
          8.2,
          6.3,
          7,
          8.2,
          6.3,
          6.6,
          7.2,
          7.6,
          8.7,
          7.9,
          8.5,
          7.6,
          6.6,
          6.8,
          7.9,
          8.1,
          5.5,
          7.7,
          8.2,
          7.8,
          8.1,
          7.5,
          8.9,
          7.5,
          7.3,
          8.2,
          10,
          6.8,
          6.8,
          8.1,
          7.8,
          5.8,
          8.2,
          7.5,
          6.6,
          7.9,
          8,
          7.5,
          5,
          7.3,
          10,
          8.5,
          6,
          7,
          8.5,
          8.8,
          8.1,
          10,
          8,
          7.2,
          7.1,
          8.3,
          8.1,
          9,
          10,
          8,
          7.9,
          8.2,
          8,
          7.6,
          9,
          8,
          3,
          6.5,
          8,
          10,
          8,
          8.1,
          7.9,
          6.1,
          8,
          7.7,
          8,
          7.4,
          7,
          6,
          7.5,
          9.5,
          7.6,
          8,
          7.6,
          7.7,
          7.9,
          10,
          7.3,
          7,
          8.5,
          8.5,
          7.9,
          10,
          7.1,
          10,
          8.8,
          10,
          7.1,
          8.1,
          6.9,
          8,
          7.1,
          6.8,
          8,
          6.5,
          9,
          10,
          7.7,
          7.8,
          8.5,
          10,
          10,
          7,
          10,
          5.6,
          8,
          10,
          9,
          5.3,
          6,
          9,
          8.5,
          8.5,
          8.1,
          8.3,
          8.2,
          8.2,
          7.3,
          8.4,
          7.1,
          7.8,
          8.5,
          7.9,
          7.4,
          7.5,
          7.2,
          8.4,
          8.1,
          7.3,
          7.8,
          7.9,
          7.4,
          9.4,
          8.2,
          10,
          8.1,
          10,
          7.5,
          7.9,
          7.8,
          10,
          7.2,
          7.4,
          7,
          8.1,
          8.3,
          8.3,
          7.1,
          7.5,
          7.8,
          6.5,
          7.2,
          7.1,
          9.5,
          7.6,
          8,
          10,
          6.7,
          8.5,
          7,
          7,
          8,
          10,
          7.4,
          1
         ],
         "yaxis": "y"
        },
        {
         "hovertemplate": "<b>OLS trendline</b><br>tmdb_score = 0.0111001 * runtime + 7.32564<br>R<sup>2</sup>=0.021853<br><br>type=SHOW<br>Runtime (mins)=%{x}<br>TMDB Rating=%{y} <b>(trend)</b><extra></extra>",
         "legendgroup": "SHOW",
         "marker": {
          "color": "#C39BD3",
          "symbol": "diamond"
         },
         "mode": "lines",
         "name": "SHOW",
         "showlegend": false,
         "type": "scattergl",
         "x": [
          1,
          1,
          1,
          1,
          2,
          2,
          2,
          2,
          3,
          3,
          3,
          3,
          3,
          3,
          3,
          4,
          4,
          4,
          4,
          4,
          4,
          4,
          5,
          5,
          6,
          6,
          7,
          7,
          7,
          7,
          8,
          10,
          10,
          10,
          11,
          12,
          12,
          13,
          14,
          15,
          15,
          16,
          16,
          16,
          17,
          17,
          18,
          18,
          18,
          19,
          19,
          19,
          20,
          20,
          20,
          20,
          20,
          20,
          20,
          20,
          21,
          21,
          21,
          21,
          21,
          21,
          21,
          21,
          21,
          21,
          21,
          21,
          21,
          21,
          21,
          21,
          22,
          22,
          22,
          22,
          22,
          22,
          22,
          22,
          22,
          22,
          22,
          22,
          22,
          22,
          22,
          22,
          22,
          22,
          22,
          22,
          22,
          22,
          22,
          22,
          22,
          22,
          22,
          22,
          22,
          22,
          22,
          22,
          22,
          22,
          22,
          22,
          22,
          22,
          22,
          22,
          22,
          22,
          22,
          22,
          23,
          23,
          23,
          23,
          23,
          23,
          23,
          23,
          23,
          23,
          23,
          23,
          23,
          23,
          23,
          23,
          23,
          23,
          23,
          23,
          23,
          23,
          23,
          23,
          23,
          23,
          23,
          23,
          23,
          23,
          23,
          23,
          23,
          23,
          23,
          23,
          23,
          23,
          23,
          23,
          23,
          23,
          23,
          24,
          24,
          24,
          24,
          24,
          24,
          24,
          24,
          24,
          24,
          24,
          24,
          24,
          24,
          24,
          24,
          24,
          24,
          24,
          24,
          24,
          24,
          24,
          24,
          24,
          24,
          24,
          24,
          24,
          24,
          25,
          25,
          25,
          25,
          25,
          25,
          25,
          25,
          25,
          25,
          25,
          25,
          25,
          26,
          26,
          26,
          26,
          26,
          26,
          26,
          26,
          27,
          27,
          27,
          27,
          27,
          28,
          28,
          28,
          29,
          30,
          30,
          31,
          31,
          31,
          32,
          32,
          32,
          32,
          32,
          33,
          34,
          34,
          35,
          36,
          37,
          37,
          37,
          38,
          38,
          39,
          39,
          40,
          42,
          42,
          42,
          42,
          42,
          42,
          42,
          42,
          42,
          43,
          43,
          43,
          43,
          43,
          43,
          43,
          43,
          43,
          43,
          43,
          43,
          43,
          43,
          43,
          43,
          43,
          43,
          44,
          44,
          44,
          44,
          44,
          44,
          44,
          44,
          44,
          44,
          44,
          44,
          44,
          44,
          44,
          44,
          44,
          44,
          44,
          44,
          44,
          44,
          44,
          44,
          44,
          44,
          44,
          44,
          44,
          44,
          45,
          45,
          45,
          45,
          45,
          45,
          45,
          46,
          46,
          46,
          46,
          46,
          46,
          46,
          47,
          47,
          47,
          47,
          47,
          47,
          48,
          48,
          48,
          48,
          48,
          49,
          49,
          49,
          50,
          50,
          50,
          51,
          51,
          51,
          52,
          52,
          53,
          53,
          54,
          54,
          54,
          54,
          56,
          58,
          59,
          63,
          85,
          156
         ],
         "xaxis": "x",
         "y": [
          7.336742152123979,
          7.336742152123979,
          7.336742152123979,
          7.336742152123979,
          7.34784229529027,
          7.34784229529027,
          7.34784229529027,
          7.34784229529027,
          7.358942438456562,
          7.358942438456562,
          7.358942438456562,
          7.358942438456562,
          7.358942438456562,
          7.358942438456562,
          7.358942438456562,
          7.370042581622853,
          7.370042581622853,
          7.370042581622853,
          7.370042581622853,
          7.370042581622853,
          7.370042581622853,
          7.370042581622853,
          7.381142724789144,
          7.381142724789144,
          7.392242867955435,
          7.392242867955435,
          7.403343011121726,
          7.403343011121726,
          7.403343011121726,
          7.403343011121726,
          7.414443154288017,
          7.4366434406206,
          7.4366434406206,
          7.4366434406206,
          7.447743583786891,
          7.458843726953182,
          7.458843726953182,
          7.469943870119472,
          7.481044013285763,
          7.492144156452055,
          7.492144156452055,
          7.503244299618346,
          7.503244299618346,
          7.503244299618346,
          7.514344442784637,
          7.514344442784637,
          7.525444585950928,
          7.525444585950928,
          7.525444585950928,
          7.536544729117219,
          7.536544729117219,
          7.536544729117219,
          7.54764487228351,
          7.54764487228351,
          7.54764487228351,
          7.54764487228351,
          7.54764487228351,
          7.54764487228351,
          7.54764487228351,
          7.54764487228351,
          7.5587450154498015,
          7.5587450154498015,
          7.5587450154498015,
          7.5587450154498015,
          7.5587450154498015,
          7.5587450154498015,
          7.5587450154498015,
          7.5587450154498015,
          7.5587450154498015,
          7.5587450154498015,
          7.5587450154498015,
          7.5587450154498015,
          7.5587450154498015,
          7.5587450154498015,
          7.5587450154498015,
          7.5587450154498015,
          7.569845158616093,
          7.569845158616093,
          7.569845158616093,
          7.569845158616093,
          7.569845158616093,
          7.569845158616093,
          7.569845158616093,
          7.569845158616093,
          7.569845158616093,
          7.569845158616093,
          7.569845158616093,
          7.569845158616093,
          7.569845158616093,
          7.569845158616093,
          7.569845158616093,
          7.569845158616093,
          7.569845158616093,
          7.569845158616093,
          7.569845158616093,
          7.569845158616093,
          7.569845158616093,
          7.569845158616093,
          7.569845158616093,
          7.569845158616093,
          7.569845158616093,
          7.569845158616093,
          7.569845158616093,
          7.569845158616093,
          7.569845158616093,
          7.569845158616093,
          7.569845158616093,
          7.569845158616093,
          7.569845158616093,
          7.569845158616093,
          7.569845158616093,
          7.569845158616093,
          7.569845158616093,
          7.569845158616093,
          7.569845158616093,
          7.569845158616093,
          7.569845158616093,
          7.569845158616093,
          7.569845158616093,
          7.569845158616093,
          7.580945301782384,
          7.580945301782384,
          7.580945301782384,
          7.580945301782384,
          7.580945301782384,
          7.580945301782384,
          7.580945301782384,
          7.580945301782384,
          7.580945301782384,
          7.580945301782384,
          7.580945301782384,
          7.580945301782384,
          7.580945301782384,
          7.580945301782384,
          7.580945301782384,
          7.580945301782384,
          7.580945301782384,
          7.580945301782384,
          7.580945301782384,
          7.580945301782384,
          7.580945301782384,
          7.580945301782384,
          7.580945301782384,
          7.580945301782384,
          7.580945301782384,
          7.580945301782384,
          7.580945301782384,
          7.580945301782384,
          7.580945301782384,
          7.580945301782384,
          7.580945301782384,
          7.580945301782384,
          7.580945301782384,
          7.580945301782384,
          7.580945301782384,
          7.580945301782384,
          7.580945301782384,
          7.580945301782384,
          7.580945301782384,
          7.580945301782384,
          7.580945301782384,
          7.580945301782384,
          7.580945301782384,
          7.592045444948675,
          7.592045444948675,
          7.592045444948675,
          7.592045444948675,
          7.592045444948675,
          7.592045444948675,
          7.592045444948675,
          7.592045444948675,
          7.592045444948675,
          7.592045444948675,
          7.592045444948675,
          7.592045444948675,
          7.592045444948675,
          7.592045444948675,
          7.592045444948675,
          7.592045444948675,
          7.592045444948675,
          7.592045444948675,
          7.592045444948675,
          7.592045444948675,
          7.592045444948675,
          7.592045444948675,
          7.592045444948675,
          7.592045444948675,
          7.592045444948675,
          7.592045444948675,
          7.592045444948675,
          7.592045444948675,
          7.592045444948675,
          7.592045444948675,
          7.603145588114966,
          7.603145588114966,
          7.603145588114966,
          7.603145588114966,
          7.603145588114966,
          7.603145588114966,
          7.603145588114966,
          7.603145588114966,
          7.603145588114966,
          7.603145588114966,
          7.603145588114966,
          7.603145588114966,
          7.603145588114966,
          7.614245731281257,
          7.614245731281257,
          7.614245731281257,
          7.614245731281257,
          7.614245731281257,
          7.614245731281257,
          7.614245731281257,
          7.614245731281257,
          7.625345874447548,
          7.625345874447548,
          7.625345874447548,
          7.625345874447548,
          7.625345874447548,
          7.63644601761384,
          7.63644601761384,
          7.63644601761384,
          7.647546160780131,
          7.658646303946422,
          7.658646303946422,
          7.669746447112713,
          7.669746447112713,
          7.669746447112713,
          7.680846590279004,
          7.680846590279004,
          7.680846590279004,
          7.680846590279004,
          7.680846590279004,
          7.691946733445295,
          7.7030468766115865,
          7.7030468766115865,
          7.714147019777878,
          7.725247162944168,
          7.736347306110459,
          7.736347306110459,
          7.736347306110459,
          7.74744744927675,
          7.74744744927675,
          7.758547592443041,
          7.758547592443041,
          7.7696477356093325,
          7.791848021941915,
          7.791848021941915,
          7.791848021941915,
          7.791848021941915,
          7.791848021941915,
          7.791848021941915,
          7.791848021941915,
          7.791848021941915,
          7.791848021941915,
          7.802948165108206,
          7.802948165108206,
          7.802948165108206,
          7.802948165108206,
          7.802948165108206,
          7.802948165108206,
          7.802948165108206,
          7.802948165108206,
          7.802948165108206,
          7.802948165108206,
          7.802948165108206,
          7.802948165108206,
          7.802948165108206,
          7.802948165108206,
          7.802948165108206,
          7.802948165108206,
          7.802948165108206,
          7.802948165108206,
          7.814048308274497,
          7.814048308274497,
          7.814048308274497,
          7.814048308274497,
          7.814048308274497,
          7.814048308274497,
          7.814048308274497,
          7.814048308274497,
          7.814048308274497,
          7.814048308274497,
          7.814048308274497,
          7.814048308274497,
          7.814048308274497,
          7.814048308274497,
          7.814048308274497,
          7.814048308274497,
          7.814048308274497,
          7.814048308274497,
          7.814048308274497,
          7.814048308274497,
          7.814048308274497,
          7.814048308274497,
          7.814048308274497,
          7.814048308274497,
          7.814048308274497,
          7.814048308274497,
          7.814048308274497,
          7.814048308274497,
          7.814048308274497,
          7.814048308274497,
          7.825148451440788,
          7.825148451440788,
          7.825148451440788,
          7.825148451440788,
          7.825148451440788,
          7.825148451440788,
          7.825148451440788,
          7.8362485946070795,
          7.8362485946070795,
          7.8362485946070795,
          7.8362485946070795,
          7.8362485946070795,
          7.8362485946070795,
          7.8362485946070795,
          7.847348737773371,
          7.847348737773371,
          7.847348737773371,
          7.847348737773371,
          7.847348737773371,
          7.847348737773371,
          7.858448880939662,
          7.858448880939662,
          7.858448880939662,
          7.858448880939662,
          7.858448880939662,
          7.869549024105953,
          7.869549024105953,
          7.869549024105953,
          7.880649167272244,
          7.880649167272244,
          7.880649167272244,
          7.891749310438535,
          7.891749310438535,
          7.891749310438535,
          7.902849453604826,
          7.902849453604826,
          7.9139495967711175,
          7.9139495967711175,
          7.925049739937409,
          7.925049739937409,
          7.925049739937409,
          7.925049739937409,
          7.947250026269991,
          7.969450312602573,
          7.980550455768864,
          8.024951028434028,
          8.269154178092434,
          9.057264342899103
         ],
         "yaxis": "y"
        }
       ],
       "layout": {
        "font": {
         "color": "#FFFFFF",
         "family": "Verdana",
         "size": 13
        },
        "legend": {
         "title": {
          "text": "type"
         },
         "tracegroupgap": 0
        },
        "paper_bgcolor": "#1A1D29",
        "plot_bgcolor": "#1A1D29",
        "template": {
         "data": {
          "bar": [
           {
            "error_x": {
             "color": "#f2f5fa"
            },
            "error_y": {
             "color": "#f2f5fa"
            },
            "marker": {
             "line": {
              "color": "rgb(17,17,17)",
              "width": 0.5
             },
             "pattern": {
              "fillmode": "overlay",
              "size": 10,
              "solidity": 0.2
             }
            },
            "type": "bar"
           }
          ],
          "barpolar": [
           {
            "marker": {
             "line": {
              "color": "rgb(17,17,17)",
              "width": 0.5
             },
             "pattern": {
              "fillmode": "overlay",
              "size": 10,
              "solidity": 0.2
             }
            },
            "type": "barpolar"
           }
          ],
          "carpet": [
           {
            "aaxis": {
             "endlinecolor": "#A2B1C6",
             "gridcolor": "#506784",
             "linecolor": "#506784",
             "minorgridcolor": "#506784",
             "startlinecolor": "#A2B1C6"
            },
            "baxis": {
             "endlinecolor": "#A2B1C6",
             "gridcolor": "#506784",
             "linecolor": "#506784",
             "minorgridcolor": "#506784",
             "startlinecolor": "#A2B1C6"
            },
            "type": "carpet"
           }
          ],
          "choropleth": [
           {
            "colorbar": {
             "outlinewidth": 0,
             "ticks": ""
            },
            "type": "choropleth"
           }
          ],
          "contour": [
           {
            "colorbar": {
             "outlinewidth": 0,
             "ticks": ""
            },
            "colorscale": [
             [
              0,
              "#0d0887"
             ],
             [
              0.1111111111111111,
              "#46039f"
             ],
             [
              0.2222222222222222,
              "#7201a8"
             ],
             [
              0.3333333333333333,
              "#9c179e"
             ],
             [
              0.4444444444444444,
              "#bd3786"
             ],
             [
              0.5555555555555556,
              "#d8576b"
             ],
             [
              0.6666666666666666,
              "#ed7953"
             ],
             [
              0.7777777777777778,
              "#fb9f3a"
             ],
             [
              0.8888888888888888,
              "#fdca26"
             ],
             [
              1,
              "#f0f921"
             ]
            ],
            "type": "contour"
           }
          ],
          "contourcarpet": [
           {
            "colorbar": {
             "outlinewidth": 0,
             "ticks": ""
            },
            "type": "contourcarpet"
           }
          ],
          "heatmap": [
           {
            "colorbar": {
             "outlinewidth": 0,
             "ticks": ""
            },
            "colorscale": [
             [
              0,
              "#0d0887"
             ],
             [
              0.1111111111111111,
              "#46039f"
             ],
             [
              0.2222222222222222,
              "#7201a8"
             ],
             [
              0.3333333333333333,
              "#9c179e"
             ],
             [
              0.4444444444444444,
              "#bd3786"
             ],
             [
              0.5555555555555556,
              "#d8576b"
             ],
             [
              0.6666666666666666,
              "#ed7953"
             ],
             [
              0.7777777777777778,
              "#fb9f3a"
             ],
             [
              0.8888888888888888,
              "#fdca26"
             ],
             [
              1,
              "#f0f921"
             ]
            ],
            "type": "heatmap"
           }
          ],
          "heatmapgl": [
           {
            "colorbar": {
             "outlinewidth": 0,
             "ticks": ""
            },
            "colorscale": [
             [
              0,
              "#0d0887"
             ],
             [
              0.1111111111111111,
              "#46039f"
             ],
             [
              0.2222222222222222,
              "#7201a8"
             ],
             [
              0.3333333333333333,
              "#9c179e"
             ],
             [
              0.4444444444444444,
              "#bd3786"
             ],
             [
              0.5555555555555556,
              "#d8576b"
             ],
             [
              0.6666666666666666,
              "#ed7953"
             ],
             [
              0.7777777777777778,
              "#fb9f3a"
             ],
             [
              0.8888888888888888,
              "#fdca26"
             ],
             [
              1,
              "#f0f921"
             ]
            ],
            "type": "heatmapgl"
           }
          ],
          "histogram": [
           {
            "marker": {
             "pattern": {
              "fillmode": "overlay",
              "size": 10,
              "solidity": 0.2
             }
            },
            "type": "histogram"
           }
          ],
          "histogram2d": [
           {
            "colorbar": {
             "outlinewidth": 0,
             "ticks": ""
            },
            "colorscale": [
             [
              0,
              "#0d0887"
             ],
             [
              0.1111111111111111,
              "#46039f"
             ],
             [
              0.2222222222222222,
              "#7201a8"
             ],
             [
              0.3333333333333333,
              "#9c179e"
             ],
             [
              0.4444444444444444,
              "#bd3786"
             ],
             [
              0.5555555555555556,
              "#d8576b"
             ],
             [
              0.6666666666666666,
              "#ed7953"
             ],
             [
              0.7777777777777778,
              "#fb9f3a"
             ],
             [
              0.8888888888888888,
              "#fdca26"
             ],
             [
              1,
              "#f0f921"
             ]
            ],
            "type": "histogram2d"
           }
          ],
          "histogram2dcontour": [
           {
            "colorbar": {
             "outlinewidth": 0,
             "ticks": ""
            },
            "colorscale": [
             [
              0,
              "#0d0887"
             ],
             [
              0.1111111111111111,
              "#46039f"
             ],
             [
              0.2222222222222222,
              "#7201a8"
             ],
             [
              0.3333333333333333,
              "#9c179e"
             ],
             [
              0.4444444444444444,
              "#bd3786"
             ],
             [
              0.5555555555555556,
              "#d8576b"
             ],
             [
              0.6666666666666666,
              "#ed7953"
             ],
             [
              0.7777777777777778,
              "#fb9f3a"
             ],
             [
              0.8888888888888888,
              "#fdca26"
             ],
             [
              1,
              "#f0f921"
             ]
            ],
            "type": "histogram2dcontour"
           }
          ],
          "mesh3d": [
           {
            "colorbar": {
             "outlinewidth": 0,
             "ticks": ""
            },
            "type": "mesh3d"
           }
          ],
          "parcoords": [
           {
            "line": {
             "colorbar": {
              "outlinewidth": 0,
              "ticks": ""
             }
            },
            "type": "parcoords"
           }
          ],
          "pie": [
           {
            "automargin": true,
            "type": "pie"
           }
          ],
          "scatter": [
           {
            "marker": {
             "line": {
              "color": "#283442"
             }
            },
            "type": "scatter"
           }
          ],
          "scatter3d": [
           {
            "line": {
             "colorbar": {
              "outlinewidth": 0,
              "ticks": ""
             }
            },
            "marker": {
             "colorbar": {
              "outlinewidth": 0,
              "ticks": ""
             }
            },
            "type": "scatter3d"
           }
          ],
          "scattercarpet": [
           {
            "marker": {
             "colorbar": {
              "outlinewidth": 0,
              "ticks": ""
             }
            },
            "type": "scattercarpet"
           }
          ],
          "scattergeo": [
           {
            "marker": {
             "colorbar": {
              "outlinewidth": 0,
              "ticks": ""
             }
            },
            "type": "scattergeo"
           }
          ],
          "scattergl": [
           {
            "marker": {
             "line": {
              "color": "#283442"
             }
            },
            "type": "scattergl"
           }
          ],
          "scattermapbox": [
           {
            "marker": {
             "colorbar": {
              "outlinewidth": 0,
              "ticks": ""
             }
            },
            "type": "scattermapbox"
           }
          ],
          "scatterpolar": [
           {
            "marker": {
             "colorbar": {
              "outlinewidth": 0,
              "ticks": ""
             }
            },
            "type": "scatterpolar"
           }
          ],
          "scatterpolargl": [
           {
            "marker": {
             "colorbar": {
              "outlinewidth": 0,
              "ticks": ""
             }
            },
            "type": "scatterpolargl"
           }
          ],
          "scatterternary": [
           {
            "marker": {
             "colorbar": {
              "outlinewidth": 0,
              "ticks": ""
             }
            },
            "type": "scatterternary"
           }
          ],
          "surface": [
           {
            "colorbar": {
             "outlinewidth": 0,
             "ticks": ""
            },
            "colorscale": [
             [
              0,
              "#0d0887"
             ],
             [
              0.1111111111111111,
              "#46039f"
             ],
             [
              0.2222222222222222,
              "#7201a8"
             ],
             [
              0.3333333333333333,
              "#9c179e"
             ],
             [
              0.4444444444444444,
              "#bd3786"
             ],
             [
              0.5555555555555556,
              "#d8576b"
             ],
             [
              0.6666666666666666,
              "#ed7953"
             ],
             [
              0.7777777777777778,
              "#fb9f3a"
             ],
             [
              0.8888888888888888,
              "#fdca26"
             ],
             [
              1,
              "#f0f921"
             ]
            ],
            "type": "surface"
           }
          ],
          "table": [
           {
            "cells": {
             "fill": {
              "color": "#506784"
             },
             "line": {
              "color": "rgb(17,17,17)"
             }
            },
            "header": {
             "fill": {
              "color": "#2a3f5f"
             },
             "line": {
              "color": "rgb(17,17,17)"
             }
            },
            "type": "table"
           }
          ]
         },
         "layout": {
          "annotationdefaults": {
           "arrowcolor": "#f2f5fa",
           "arrowhead": 0,
           "arrowwidth": 1
          },
          "autotypenumbers": "strict",
          "coloraxis": {
           "colorbar": {
            "outlinewidth": 0,
            "ticks": ""
           }
          },
          "colorscale": {
           "diverging": [
            [
             0,
             "#8e0152"
            ],
            [
             0.1,
             "#c51b7d"
            ],
            [
             0.2,
             "#de77ae"
            ],
            [
             0.3,
             "#f1b6da"
            ],
            [
             0.4,
             "#fde0ef"
            ],
            [
             0.5,
             "#f7f7f7"
            ],
            [
             0.6,
             "#e6f5d0"
            ],
            [
             0.7,
             "#b8e186"
            ],
            [
             0.8,
             "#7fbc41"
            ],
            [
             0.9,
             "#4d9221"
            ],
            [
             1,
             "#276419"
            ]
           ],
           "sequential": [
            [
             0,
             "#0d0887"
            ],
            [
             0.1111111111111111,
             "#46039f"
            ],
            [
             0.2222222222222222,
             "#7201a8"
            ],
            [
             0.3333333333333333,
             "#9c179e"
            ],
            [
             0.4444444444444444,
             "#bd3786"
            ],
            [
             0.5555555555555556,
             "#d8576b"
            ],
            [
             0.6666666666666666,
             "#ed7953"
            ],
            [
             0.7777777777777778,
             "#fb9f3a"
            ],
            [
             0.8888888888888888,
             "#fdca26"
            ],
            [
             1,
             "#f0f921"
            ]
           ],
           "sequentialminus": [
            [
             0,
             "#0d0887"
            ],
            [
             0.1111111111111111,
             "#46039f"
            ],
            [
             0.2222222222222222,
             "#7201a8"
            ],
            [
             0.3333333333333333,
             "#9c179e"
            ],
            [
             0.4444444444444444,
             "#bd3786"
            ],
            [
             0.5555555555555556,
             "#d8576b"
            ],
            [
             0.6666666666666666,
             "#ed7953"
            ],
            [
             0.7777777777777778,
             "#fb9f3a"
            ],
            [
             0.8888888888888888,
             "#fdca26"
            ],
            [
             1,
             "#f0f921"
            ]
           ]
          },
          "colorway": [
           "#636efa",
           "#EF553B",
           "#00cc96",
           "#ab63fa",
           "#FFA15A",
           "#19d3f3",
           "#FF6692",
           "#B6E880",
           "#FF97FF",
           "#FECB52"
          ],
          "font": {
           "color": "#f2f5fa"
          },
          "geo": {
           "bgcolor": "rgb(17,17,17)",
           "lakecolor": "rgb(17,17,17)",
           "landcolor": "rgb(17,17,17)",
           "showlakes": true,
           "showland": true,
           "subunitcolor": "#506784"
          },
          "hoverlabel": {
           "align": "left"
          },
          "hovermode": "closest",
          "mapbox": {
           "style": "dark"
          },
          "paper_bgcolor": "rgb(17,17,17)",
          "plot_bgcolor": "rgb(17,17,17)",
          "polar": {
           "angularaxis": {
            "gridcolor": "#506784",
            "linecolor": "#506784",
            "ticks": ""
           },
           "bgcolor": "rgb(17,17,17)",
           "radialaxis": {
            "gridcolor": "#506784",
            "linecolor": "#506784",
            "ticks": ""
           }
          },
          "scene": {
           "xaxis": {
            "backgroundcolor": "rgb(17,17,17)",
            "gridcolor": "#506784",
            "gridwidth": 2,
            "linecolor": "#506784",
            "showbackground": true,
            "ticks": "",
            "zerolinecolor": "#C8D4E3"
           },
           "yaxis": {
            "backgroundcolor": "rgb(17,17,17)",
            "gridcolor": "#506784",
            "gridwidth": 2,
            "linecolor": "#506784",
            "showbackground": true,
            "ticks": "",
            "zerolinecolor": "#C8D4E3"
           },
           "zaxis": {
            "backgroundcolor": "rgb(17,17,17)",
            "gridcolor": "#506784",
            "gridwidth": 2,
            "linecolor": "#506784",
            "showbackground": true,
            "ticks": "",
            "zerolinecolor": "#C8D4E3"
           }
          },
          "shapedefaults": {
           "line": {
            "color": "#f2f5fa"
           }
          },
          "sliderdefaults": {
           "bgcolor": "#C8D4E3",
           "bordercolor": "rgb(17,17,17)",
           "borderwidth": 1,
           "tickwidth": 0
          },
          "ternary": {
           "aaxis": {
            "gridcolor": "#506784",
            "linecolor": "#506784",
            "ticks": ""
           },
           "baxis": {
            "gridcolor": "#506784",
            "linecolor": "#506784",
            "ticks": ""
           },
           "bgcolor": "rgb(17,17,17)",
           "caxis": {
            "gridcolor": "#506784",
            "linecolor": "#506784",
            "ticks": ""
           }
          },
          "title": {
           "x": 0.05
          },
          "updatemenudefaults": {
           "bgcolor": "#506784",
           "borderwidth": 0
          },
          "xaxis": {
           "automargin": true,
           "gridcolor": "#283442",
           "linecolor": "#506784",
           "ticks": "",
           "title": {
            "standoff": 15
           },
           "zerolinecolor": "#283442",
           "zerolinewidth": 2
          },
          "yaxis": {
           "automargin": true,
           "gridcolor": "#283442",
           "linecolor": "#506784",
           "ticks": "",
           "title": {
            "standoff": 15
           },
           "zerolinecolor": "#283442",
           "zerolinewidth": 2
          }
         }
        },
        "title": {
         "text": "Runtimes of Disney+ Movies & Shows (US)"
        },
        "xaxis": {
         "anchor": "y",
         "domain": [
          0,
          1
         ],
         "nticks": 20,
         "title": {
          "text": "Runtime (mins)"
         }
        },
        "yaxis": {
         "anchor": "x",
         "domain": [
          0,
          1
         ],
         "nticks": 12,
         "title": {
          "text": "TMDB Rating"
         }
        }
       }
      }
     },
     "metadata": {},
     "output_type": "display_data"
    }
   ],
   "source": [
    "fig = px.scatter(ctitles, x =\"runtime\", y=\"tmdb_score\", color=\"type\",\n",
    "                   title=\"Runtimes of Disney+ Movies & Shows (US)\",\n",
    "                   symbol= 'type',\n",
    "                   trendline=\"ols\",\n",
    "                   labels= { \"runtime\" : \"Runtime (mins)\", \"tmdb_score\" : \"TMDB Rating\"},\n",
    "                   color_discrete_map= {\"MOVIE\": \"#B9D8EB\", \"SHOW\" : \"#C39BD3\"},\n",
    "                   template=\"plotly_dark\")\n",
    "\n",
    "fig.update_yaxes(nticks=12)\n",
    "fig.update_xaxes(nticks=20)\n",
    "\n",
    "fig.update_layout(paper_bgcolor = '#1A1D29', \n",
    "                  plot_bgcolor = '#1A1D29',\n",
    "                  font = dict(family=\"Verdana\",color = '#FFFFFF', size=13),)"
   ]
  },
  {
   "cell_type": "markdown",
   "metadata": {},
   "source": [
    "![image](https://github.com/kekevin12/Disney_EDA/blob/main/Graphs/runtimegenre.png?raw=true)"
   ]
  },
  {
   "cell_type": "code",
   "execution_count": 18,
   "metadata": {},
   "outputs": [
    {
     "data": {
      "application/vnd.plotly.v1+json": {
       "config": {
        "plotlyServerURL": "https://plot.ly"
       },
       "data": [
        {
         "alignmentgroup": "True",
         "hovertemplate": "type=%{x}<br>Runtime (mins)=%{y}<extra></extra>",
         "legendgroup": "MOVIE",
         "marker": {
          "color": "#B9D8EB"
         },
         "name": "MOVIE",
         "notched": false,
         "offsetgroup": "MOVIE",
         "orientation": "v",
         "showlegend": true,
         "type": "box",
         "x": [
          "MOVIE",
          "MOVIE",
          "MOVIE",
          "MOVIE",
          "MOVIE",
          "MOVIE",
          "MOVIE",
          "MOVIE",
          "MOVIE",
          "MOVIE",
          "MOVIE",
          "MOVIE",
          "MOVIE",
          "MOVIE",
          "MOVIE",
          "MOVIE",
          "MOVIE",
          "MOVIE",
          "MOVIE",
          "MOVIE",
          "MOVIE",
          "MOVIE",
          "MOVIE",
          "MOVIE",
          "MOVIE",
          "MOVIE",
          "MOVIE",
          "MOVIE",
          "MOVIE",
          "MOVIE",
          "MOVIE",
          "MOVIE",
          "MOVIE",
          "MOVIE",
          "MOVIE",
          "MOVIE",
          "MOVIE",
          "MOVIE",
          "MOVIE",
          "MOVIE",
          "MOVIE",
          "MOVIE",
          "MOVIE",
          "MOVIE",
          "MOVIE",
          "MOVIE",
          "MOVIE",
          "MOVIE",
          "MOVIE",
          "MOVIE",
          "MOVIE",
          "MOVIE",
          "MOVIE",
          "MOVIE",
          "MOVIE",
          "MOVIE",
          "MOVIE",
          "MOVIE",
          "MOVIE",
          "MOVIE",
          "MOVIE",
          "MOVIE",
          "MOVIE",
          "MOVIE",
          "MOVIE",
          "MOVIE",
          "MOVIE",
          "MOVIE",
          "MOVIE",
          "MOVIE",
          "MOVIE",
          "MOVIE",
          "MOVIE",
          "MOVIE",
          "MOVIE",
          "MOVIE",
          "MOVIE",
          "MOVIE",
          "MOVIE",
          "MOVIE",
          "MOVIE",
          "MOVIE",
          "MOVIE",
          "MOVIE",
          "MOVIE",
          "MOVIE",
          "MOVIE",
          "MOVIE",
          "MOVIE",
          "MOVIE",
          "MOVIE",
          "MOVIE",
          "MOVIE",
          "MOVIE",
          "MOVIE",
          "MOVIE",
          "MOVIE",
          "MOVIE",
          "MOVIE",
          "MOVIE",
          "MOVIE",
          "MOVIE",
          "MOVIE",
          "MOVIE",
          "MOVIE",
          "MOVIE",
          "MOVIE",
          "MOVIE",
          "MOVIE",
          "MOVIE",
          "MOVIE",
          "MOVIE",
          "MOVIE",
          "MOVIE",
          "MOVIE",
          "MOVIE",
          "MOVIE",
          "MOVIE",
          "MOVIE",
          "MOVIE",
          "MOVIE",
          "MOVIE",
          "MOVIE",
          "MOVIE",
          "MOVIE",
          "MOVIE",
          "MOVIE",
          "MOVIE",
          "MOVIE",
          "MOVIE",
          "MOVIE",
          "MOVIE",
          "MOVIE",
          "MOVIE",
          "MOVIE",
          "MOVIE",
          "MOVIE",
          "MOVIE",
          "MOVIE",
          "MOVIE",
          "MOVIE",
          "MOVIE",
          "MOVIE",
          "MOVIE",
          "MOVIE",
          "MOVIE",
          "MOVIE",
          "MOVIE",
          "MOVIE",
          "MOVIE",
          "MOVIE",
          "MOVIE",
          "MOVIE",
          "MOVIE",
          "MOVIE",
          "MOVIE",
          "MOVIE",
          "MOVIE",
          "MOVIE",
          "MOVIE",
          "MOVIE",
          "MOVIE",
          "MOVIE",
          "MOVIE",
          "MOVIE",
          "MOVIE",
          "MOVIE",
          "MOVIE",
          "MOVIE",
          "MOVIE",
          "MOVIE",
          "MOVIE",
          "MOVIE",
          "MOVIE",
          "MOVIE",
          "MOVIE",
          "MOVIE",
          "MOVIE",
          "MOVIE",
          "MOVIE",
          "MOVIE",
          "MOVIE",
          "MOVIE",
          "MOVIE",
          "MOVIE",
          "MOVIE",
          "MOVIE",
          "MOVIE",
          "MOVIE",
          "MOVIE",
          "MOVIE",
          "MOVIE",
          "MOVIE",
          "MOVIE",
          "MOVIE",
          "MOVIE",
          "MOVIE",
          "MOVIE",
          "MOVIE",
          "MOVIE",
          "MOVIE",
          "MOVIE",
          "MOVIE",
          "MOVIE",
          "MOVIE",
          "MOVIE",
          "MOVIE",
          "MOVIE",
          "MOVIE",
          "MOVIE",
          "MOVIE",
          "MOVIE",
          "MOVIE",
          "MOVIE",
          "MOVIE",
          "MOVIE",
          "MOVIE",
          "MOVIE",
          "MOVIE",
          "MOVIE",
          "MOVIE",
          "MOVIE",
          "MOVIE",
          "MOVIE",
          "MOVIE",
          "MOVIE",
          "MOVIE",
          "MOVIE",
          "MOVIE",
          "MOVIE",
          "MOVIE",
          "MOVIE",
          "MOVIE",
          "MOVIE",
          "MOVIE",
          "MOVIE",
          "MOVIE",
          "MOVIE",
          "MOVIE",
          "MOVIE",
          "MOVIE",
          "MOVIE",
          "MOVIE",
          "MOVIE",
          "MOVIE",
          "MOVIE",
          "MOVIE",
          "MOVIE",
          "MOVIE",
          "MOVIE",
          "MOVIE",
          "MOVIE",
          "MOVIE",
          "MOVIE",
          "MOVIE",
          "MOVIE",
          "MOVIE",
          "MOVIE",
          "MOVIE",
          "MOVIE",
          "MOVIE",
          "MOVIE",
          "MOVIE",
          "MOVIE",
          "MOVIE",
          "MOVIE",
          "MOVIE",
          "MOVIE",
          "MOVIE",
          "MOVIE",
          "MOVIE",
          "MOVIE",
          "MOVIE",
          "MOVIE",
          "MOVIE",
          "MOVIE",
          "MOVIE",
          "MOVIE",
          "MOVIE",
          "MOVIE",
          "MOVIE",
          "MOVIE",
          "MOVIE",
          "MOVIE",
          "MOVIE",
          "MOVIE",
          "MOVIE",
          "MOVIE",
          "MOVIE",
          "MOVIE",
          "MOVIE",
          "MOVIE",
          "MOVIE",
          "MOVIE",
          "MOVIE",
          "MOVIE",
          "MOVIE",
          "MOVIE",
          "MOVIE",
          "MOVIE",
          "MOVIE",
          "MOVIE",
          "MOVIE",
          "MOVIE",
          "MOVIE",
          "MOVIE",
          "MOVIE",
          "MOVIE",
          "MOVIE",
          "MOVIE",
          "MOVIE",
          "MOVIE",
          "MOVIE",
          "MOVIE",
          "MOVIE",
          "MOVIE",
          "MOVIE",
          "MOVIE",
          "MOVIE",
          "MOVIE",
          "MOVIE",
          "MOVIE",
          "MOVIE",
          "MOVIE",
          "MOVIE",
          "MOVIE",
          "MOVIE",
          "MOVIE",
          "MOVIE",
          "MOVIE",
          "MOVIE",
          "MOVIE",
          "MOVIE",
          "MOVIE",
          "MOVIE",
          "MOVIE",
          "MOVIE",
          "MOVIE",
          "MOVIE",
          "MOVIE",
          "MOVIE",
          "MOVIE",
          "MOVIE",
          "MOVIE",
          "MOVIE",
          "MOVIE",
          "MOVIE",
          "MOVIE",
          "MOVIE",
          "MOVIE",
          "MOVIE",
          "MOVIE",
          "MOVIE",
          "MOVIE",
          "MOVIE",
          "MOVIE",
          "MOVIE",
          "MOVIE",
          "MOVIE",
          "MOVIE",
          "MOVIE",
          "MOVIE",
          "MOVIE",
          "MOVIE",
          "MOVIE",
          "MOVIE",
          "MOVIE",
          "MOVIE",
          "MOVIE",
          "MOVIE",
          "MOVIE",
          "MOVIE",
          "MOVIE",
          "MOVIE",
          "MOVIE",
          "MOVIE",
          "MOVIE",
          "MOVIE",
          "MOVIE",
          "MOVIE",
          "MOVIE",
          "MOVIE",
          "MOVIE",
          "MOVIE",
          "MOVIE",
          "MOVIE",
          "MOVIE",
          "MOVIE",
          "MOVIE",
          "MOVIE",
          "MOVIE",
          "MOVIE",
          "MOVIE",
          "MOVIE",
          "MOVIE",
          "MOVIE",
          "MOVIE",
          "MOVIE",
          "MOVIE",
          "MOVIE",
          "MOVIE",
          "MOVIE",
          "MOVIE",
          "MOVIE",
          "MOVIE",
          "MOVIE",
          "MOVIE",
          "MOVIE",
          "MOVIE",
          "MOVIE",
          "MOVIE",
          "MOVIE",
          "MOVIE",
          "MOVIE",
          "MOVIE",
          "MOVIE",
          "MOVIE",
          "MOVIE",
          "MOVIE",
          "MOVIE",
          "MOVIE",
          "MOVIE",
          "MOVIE",
          "MOVIE",
          "MOVIE",
          "MOVIE",
          "MOVIE",
          "MOVIE",
          "MOVIE",
          "MOVIE",
          "MOVIE",
          "MOVIE",
          "MOVIE",
          "MOVIE",
          "MOVIE",
          "MOVIE",
          "MOVIE",
          "MOVIE",
          "MOVIE",
          "MOVIE",
          "MOVIE",
          "MOVIE",
          "MOVIE",
          "MOVIE",
          "MOVIE",
          "MOVIE",
          "MOVIE",
          "MOVIE",
          "MOVIE",
          "MOVIE",
          "MOVIE",
          "MOVIE",
          "MOVIE",
          "MOVIE",
          "MOVIE",
          "MOVIE",
          "MOVIE",
          "MOVIE",
          "MOVIE",
          "MOVIE",
          "MOVIE",
          "MOVIE",
          "MOVIE",
          "MOVIE",
          "MOVIE",
          "MOVIE",
          "MOVIE",
          "MOVIE",
          "MOVIE",
          "MOVIE",
          "MOVIE",
          "MOVIE",
          "MOVIE",
          "MOVIE",
          "MOVIE",
          "MOVIE",
          "MOVIE",
          "MOVIE",
          "MOVIE",
          "MOVIE",
          "MOVIE",
          "MOVIE",
          "MOVIE",
          "MOVIE",
          "MOVIE",
          "MOVIE",
          "MOVIE",
          "MOVIE",
          "MOVIE",
          "MOVIE",
          "MOVIE",
          "MOVIE",
          "MOVIE",
          "MOVIE",
          "MOVIE",
          "MOVIE",
          "MOVIE",
          "MOVIE",
          "MOVIE",
          "MOVIE",
          "MOVIE",
          "MOVIE",
          "MOVIE",
          "MOVIE",
          "MOVIE",
          "MOVIE",
          "MOVIE",
          "MOVIE",
          "MOVIE",
          "MOVIE",
          "MOVIE",
          "MOVIE",
          "MOVIE",
          "MOVIE",
          "MOVIE",
          "MOVIE",
          "MOVIE",
          "MOVIE",
          "MOVIE",
          "MOVIE",
          "MOVIE",
          "MOVIE",
          "MOVIE",
          "MOVIE",
          "MOVIE",
          "MOVIE",
          "MOVIE",
          "MOVIE",
          "MOVIE",
          "MOVIE",
          "MOVIE",
          "MOVIE",
          "MOVIE",
          "MOVIE",
          "MOVIE",
          "MOVIE",
          "MOVIE",
          "MOVIE",
          "MOVIE",
          "MOVIE",
          "MOVIE",
          "MOVIE",
          "MOVIE",
          "MOVIE",
          "MOVIE",
          "MOVIE",
          "MOVIE",
          "MOVIE",
          "MOVIE",
          "MOVIE",
          "MOVIE",
          "MOVIE",
          "MOVIE",
          "MOVIE",
          "MOVIE",
          "MOVIE",
          "MOVIE",
          "MOVIE",
          "MOVIE",
          "MOVIE",
          "MOVIE",
          "MOVIE",
          "MOVIE",
          "MOVIE",
          "MOVIE",
          "MOVIE",
          "MOVIE",
          "MOVIE",
          "MOVIE",
          "MOVIE",
          "MOVIE",
          "MOVIE",
          "MOVIE",
          "MOVIE",
          "MOVIE",
          "MOVIE",
          "MOVIE",
          "MOVIE",
          "MOVIE",
          "MOVIE",
          "MOVIE",
          "MOVIE",
          "MOVIE",
          "MOVIE",
          "MOVIE",
          "MOVIE",
          "MOVIE",
          "MOVIE",
          "MOVIE",
          "MOVIE",
          "MOVIE",
          "MOVIE",
          "MOVIE",
          "MOVIE",
          "MOVIE",
          "MOVIE",
          "MOVIE",
          "MOVIE",
          "MOVIE",
          "MOVIE",
          "MOVIE",
          "MOVIE",
          "MOVIE",
          "MOVIE",
          "MOVIE",
          "MOVIE",
          "MOVIE",
          "MOVIE",
          "MOVIE",
          "MOVIE",
          "MOVIE",
          "MOVIE",
          "MOVIE",
          "MOVIE",
          "MOVIE",
          "MOVIE",
          "MOVIE",
          "MOVIE",
          "MOVIE",
          "MOVIE",
          "MOVIE",
          "MOVIE",
          "MOVIE",
          "MOVIE",
          "MOVIE",
          "MOVIE",
          "MOVIE",
          "MOVIE",
          "MOVIE",
          "MOVIE",
          "MOVIE",
          "MOVIE",
          "MOVIE",
          "MOVIE",
          "MOVIE",
          "MOVIE",
          "MOVIE",
          "MOVIE",
          "MOVIE",
          "MOVIE",
          "MOVIE",
          "MOVIE",
          "MOVIE",
          "MOVIE",
          "MOVIE",
          "MOVIE",
          "MOVIE",
          "MOVIE",
          "MOVIE",
          "MOVIE",
          "MOVIE",
          "MOVIE",
          "MOVIE",
          "MOVIE",
          "MOVIE",
          "MOVIE",
          "MOVIE",
          "MOVIE",
          "MOVIE",
          "MOVIE",
          "MOVIE",
          "MOVIE",
          "MOVIE",
          "MOVIE",
          "MOVIE",
          "MOVIE",
          "MOVIE",
          "MOVIE",
          "MOVIE",
          "MOVIE",
          "MOVIE",
          "MOVIE",
          "MOVIE",
          "MOVIE",
          "MOVIE",
          "MOVIE",
          "MOVIE",
          "MOVIE",
          "MOVIE",
          "MOVIE",
          "MOVIE",
          "MOVIE",
          "MOVIE",
          "MOVIE",
          "MOVIE",
          "MOVIE",
          "MOVIE",
          "MOVIE",
          "MOVIE",
          "MOVIE",
          "MOVIE",
          "MOVIE",
          "MOVIE",
          "MOVIE",
          "MOVIE",
          "MOVIE",
          "MOVIE",
          "MOVIE",
          "MOVIE",
          "MOVIE",
          "MOVIE",
          "MOVIE",
          "MOVIE",
          "MOVIE",
          "MOVIE",
          "MOVIE",
          "MOVIE",
          "MOVIE",
          "MOVIE",
          "MOVIE",
          "MOVIE",
          "MOVIE",
          "MOVIE",
          "MOVIE",
          "MOVIE",
          "MOVIE",
          "MOVIE",
          "MOVIE",
          "MOVIE",
          "MOVIE",
          "MOVIE",
          "MOVIE",
          "MOVIE",
          "MOVIE",
          "MOVIE",
          "MOVIE",
          "MOVIE",
          "MOVIE",
          "MOVIE",
          "MOVIE",
          "MOVIE",
          "MOVIE",
          "MOVIE",
          "MOVIE",
          "MOVIE",
          "MOVIE",
          "MOVIE",
          "MOVIE",
          "MOVIE",
          "MOVIE",
          "MOVIE",
          "MOVIE",
          "MOVIE",
          "MOVIE",
          "MOVIE",
          "MOVIE",
          "MOVIE",
          "MOVIE",
          "MOVIE",
          "MOVIE",
          "MOVIE",
          "MOVIE",
          "MOVIE",
          "MOVIE",
          "MOVIE",
          "MOVIE",
          "MOVIE",
          "MOVIE",
          "MOVIE",
          "MOVIE",
          "MOVIE",
          "MOVIE",
          "MOVIE",
          "MOVIE",
          "MOVIE",
          "MOVIE",
          "MOVIE",
          "MOVIE",
          "MOVIE",
          "MOVIE",
          "MOVIE",
          "MOVIE",
          "MOVIE",
          "MOVIE",
          "MOVIE",
          "MOVIE",
          "MOVIE",
          "MOVIE",
          "MOVIE",
          "MOVIE",
          "MOVIE",
          "MOVIE",
          "MOVIE",
          "MOVIE",
          "MOVIE",
          "MOVIE",
          "MOVIE",
          "MOVIE",
          "MOVIE",
          "MOVIE",
          "MOVIE",
          "MOVIE",
          "MOVIE",
          "MOVIE",
          "MOVIE",
          "MOVIE",
          "MOVIE",
          "MOVIE",
          "MOVIE",
          "MOVIE",
          "MOVIE",
          "MOVIE",
          "MOVIE",
          "MOVIE",
          "MOVIE",
          "MOVIE",
          "MOVIE",
          "MOVIE",
          "MOVIE",
          "MOVIE",
          "MOVIE",
          "MOVIE",
          "MOVIE",
          "MOVIE",
          "MOVIE",
          "MOVIE",
          "MOVIE",
          "MOVIE",
          "MOVIE",
          "MOVIE",
          "MOVIE",
          "MOVIE",
          "MOVIE",
          "MOVIE",
          "MOVIE",
          "MOVIE",
          "MOVIE",
          "MOVIE",
          "MOVIE",
          "MOVIE",
          "MOVIE",
          "MOVIE",
          "MOVIE",
          "MOVIE",
          "MOVIE",
          "MOVIE",
          "MOVIE",
          "MOVIE",
          "MOVIE",
          "MOVIE",
          "MOVIE",
          "MOVIE",
          "MOVIE",
          "MOVIE",
          "MOVIE",
          "MOVIE",
          "MOVIE",
          "MOVIE",
          "MOVIE",
          "MOVIE",
          "MOVIE",
          "MOVIE",
          "MOVIE",
          "MOVIE",
          "MOVIE",
          "MOVIE",
          "MOVIE",
          "MOVIE",
          "MOVIE",
          "MOVIE",
          "MOVIE",
          "MOVIE",
          "MOVIE",
          "MOVIE",
          "MOVIE",
          "MOVIE",
          "MOVIE",
          "MOVIE",
          "MOVIE",
          "MOVIE",
          "MOVIE",
          "MOVIE",
          "MOVIE",
          "MOVIE",
          "MOVIE",
          "MOVIE",
          "MOVIE",
          "MOVIE",
          "MOVIE",
          "MOVIE",
          "MOVIE",
          "MOVIE",
          "MOVIE",
          "MOVIE",
          "MOVIE",
          "MOVIE",
          "MOVIE",
          "MOVIE",
          "MOVIE",
          "MOVIE",
          "MOVIE",
          "MOVIE",
          "MOVIE",
          "MOVIE",
          "MOVIE",
          "MOVIE",
          "MOVIE",
          "MOVIE",
          "MOVIE",
          "MOVIE",
          "MOVIE",
          "MOVIE",
          "MOVIE",
          "MOVIE",
          "MOVIE",
          "MOVIE",
          "MOVIE",
          "MOVIE",
          "MOVIE",
          "MOVIE",
          "MOVIE",
          "MOVIE",
          "MOVIE",
          "MOVIE",
          "MOVIE",
          "MOVIE",
          "MOVIE",
          "MOVIE",
          "MOVIE",
          "MOVIE",
          "MOVIE",
          "MOVIE",
          "MOVIE",
          "MOVIE",
          "MOVIE",
          "MOVIE",
          "MOVIE",
          "MOVIE",
          "MOVIE",
          "MOVIE",
          "MOVIE",
          "MOVIE",
          "MOVIE",
          "MOVIE",
          "MOVIE",
          "MOVIE",
          "MOVIE",
          "MOVIE",
          "MOVIE",
          "MOVIE",
          "MOVIE",
          "MOVIE",
          "MOVIE",
          "MOVIE",
          "MOVIE",
          "MOVIE",
          "MOVIE",
          "MOVIE",
          "MOVIE",
          "MOVIE",
          "MOVIE",
          "MOVIE",
          "MOVIE",
          "MOVIE",
          "MOVIE",
          "MOVIE",
          "MOVIE",
          "MOVIE",
          "MOVIE",
          "MOVIE",
          "MOVIE",
          "MOVIE",
          "MOVIE",
          "MOVIE",
          "MOVIE",
          "MOVIE",
          "MOVIE",
          "MOVIE",
          "MOVIE",
          "MOVIE",
          "MOVIE",
          "MOVIE",
          "MOVIE",
          "MOVIE",
          "MOVIE",
          "MOVIE",
          "MOVIE",
          "MOVIE",
          "MOVIE",
          "MOVIE",
          "MOVIE",
          "MOVIE",
          "MOVIE",
          "MOVIE",
          "MOVIE",
          "MOVIE",
          "MOVIE",
          "MOVIE",
          "MOVIE",
          "MOVIE",
          "MOVIE",
          "MOVIE",
          "MOVIE",
          "MOVIE",
          "MOVIE",
          "MOVIE",
          "MOVIE",
          "MOVIE",
          "MOVIE",
          "MOVIE",
          "MOVIE",
          "MOVIE",
          "MOVIE",
          "MOVIE",
          "MOVIE",
          "MOVIE",
          "MOVIE",
          "MOVIE",
          "MOVIE",
          "MOVIE",
          "MOVIE",
          "MOVIE",
          "MOVIE",
          "MOVIE",
          "MOVIE",
          "MOVIE",
          "MOVIE",
          "MOVIE",
          "MOVIE",
          "MOVIE",
          "MOVIE",
          "MOVIE",
          "MOVIE",
          "MOVIE",
          "MOVIE",
          "MOVIE",
          "MOVIE",
          "MOVIE",
          "MOVIE",
          "MOVIE",
          "MOVIE",
          "MOVIE",
          "MOVIE",
          "MOVIE",
          "MOVIE",
          "MOVIE",
          "MOVIE",
          "MOVIE",
          "MOVIE",
          "MOVIE",
          "MOVIE",
          "MOVIE",
          "MOVIE",
          "MOVIE",
          "MOVIE",
          "MOVIE",
          "MOVIE",
          "MOVIE",
          "MOVIE",
          "MOVIE",
          "MOVIE",
          "MOVIE",
          "MOVIE",
          "MOVIE",
          "MOVIE",
          "MOVIE",
          "MOVIE",
          "MOVIE",
          "MOVIE",
          "MOVIE",
          "MOVIE",
          "MOVIE",
          "MOVIE",
          "MOVIE",
          "MOVIE",
          "MOVIE",
          "MOVIE",
          "MOVIE",
          "MOVIE",
          "MOVIE",
          "MOVIE",
          "MOVIE",
          "MOVIE",
          "MOVIE",
          "MOVIE"
         ],
         "x0": " ",
         "xaxis": "x",
         "y": [
          120,
          83,
          88,
          70,
          96,
          68,
          74,
          63,
          71,
          74,
          73,
          8,
          42,
          8,
          75,
          8,
          8,
          7,
          8,
          93,
          32,
          9,
          8,
          9,
          9,
          9,
          9,
          7,
          7,
          7,
          8,
          8,
          7,
          8,
          7,
          8,
          9,
          7,
          8,
          7,
          7,
          7,
          7,
          8,
          7,
          7,
          8,
          8,
          8,
          9,
          10,
          9,
          7,
          9,
          7,
          8,
          7,
          8,
          7,
          7,
          7,
          8,
          8,
          7,
          8,
          8,
          9,
          8,
          7,
          7,
          7,
          7,
          9,
          8,
          7,
          8,
          8,
          8,
          7,
          6,
          7,
          8,
          7,
          8,
          175,
          125,
          139,
          97,
          148,
          146,
          127,
          124,
          98,
          75,
          126,
          78,
          129,
          83,
          79,
          77,
          117,
          83,
          78,
          132,
          76,
          74,
          107,
          128,
          79,
          90,
          96,
          78,
          97,
          95,
          100,
          75,
          104,
          134,
          101,
          112,
          93,
          97,
          91,
          95,
          91,
          106,
          8,
          83,
          172,
          91,
          80,
          93,
          93,
          118,
          93,
          105,
          93,
          108,
          87,
          92,
          117,
          104,
          105,
          93,
          88,
          96,
          75,
          88,
          92,
          89,
          89,
          99,
          69,
          110,
          71,
          9,
          89,
          48,
          70,
          75,
          81,
          26,
          93,
          69,
          88,
          48,
          7,
          131,
          88,
          100,
          88,
          7,
          7,
          8,
          48,
          120,
          7,
          30,
          53,
          7,
          60,
          7,
          32,
          6,
          7,
          88,
          7,
          7,
          33,
          7,
          7,
          56,
          27,
          51,
          51,
          99,
          105,
          104,
          126,
          102,
          109,
          103,
          93,
          111,
          90,
          96,
          102,
          80,
          135,
          97,
          97,
          98,
          100,
          96,
          74,
          83,
          74,
          95,
          101,
          77,
          82,
          104,
          29,
          71,
          92,
          88,
          26,
          100,
          2,
          25,
          4,
          105,
          94,
          44,
          4,
          7,
          5,
          46,
          2,
          83,
          47,
          90,
          97,
          104,
          103,
          112,
          113,
          103,
          128,
          100,
          137,
          108,
          100,
          92,
          78,
          79,
          84,
          136,
          107,
          105,
          98,
          76,
          101,
          81,
          89,
          93,
          121,
          95,
          90,
          86,
          93,
          88,
          100,
          88,
          113,
          93,
          78,
          88,
          96,
          86,
          88,
          115,
          107,
          92,
          84,
          96,
          99,
          104,
          85,
          82,
          97,
          74,
          74,
          96,
          103,
          97,
          91,
          82,
          108,
          93,
          78,
          102,
          114,
          69,
          89,
          106,
          97,
          107,
          81,
          89,
          94,
          89,
          107,
          84,
          81,
          73,
          88,
          108,
          84,
          101,
          79,
          99,
          77,
          104,
          74,
          98,
          91,
          106,
          100,
          102,
          76,
          77,
          93,
          75,
          90,
          82,
          97,
          96,
          72,
          66,
          86,
          22,
          87,
          82,
          89,
          92,
          89,
          90,
          84,
          3,
          92,
          93,
          87,
          95,
          77,
          77,
          4,
          88,
          89,
          89,
          72,
          87,
          8,
          85,
          88,
          72,
          85,
          85,
          83,
          93,
          143,
          165,
          131,
          87,
          108,
          118,
          124,
          151,
          118,
          143,
          125,
          109,
          98,
          81,
          115,
          125,
          106,
          123,
          169,
          107,
          111,
          95,
          98,
          93,
          135,
          107,
          109,
          115,
          98,
          133,
          96,
          92,
          105,
          100,
          94,
          124,
          100,
          86,
          116,
          117,
          87,
          95,
          127,
          80,
          104,
          85,
          106,
          92,
          104,
          97,
          140,
          95,
          81,
          120,
          105,
          105,
          113,
          142,
          150,
          100,
          99,
          53,
          118,
          98,
          104,
          95,
          95,
          91,
          120,
          88,
          107,
          102,
          98,
          113,
          100,
          96,
          98,
          97,
          99,
          90,
          97,
          94,
          110,
          53,
          120,
          88,
          53,
          85,
          82,
          94,
          96,
          94,
          81,
          70,
          151,
          95,
          8,
          111,
          83,
          84,
          84,
          99,
          74,
          91,
          78,
          96,
          65,
          94,
          55,
          98,
          52,
          68,
          77,
          117,
          88,
          68,
          100,
          72,
          90,
          86,
          60,
          73,
          87,
          86,
          88,
          79,
          60,
          102,
          52,
          71,
          90,
          91,
          104,
          76,
          89,
          87,
          78,
          75,
          82,
          72,
          77,
          35,
          94,
          76,
          84,
          87,
          70,
          104,
          72,
          88,
          75,
          81,
          90,
          73,
          81,
          89,
          86,
          69,
          101,
          88,
          75,
          70,
          95,
          88,
          85,
          73,
          68,
          74,
          5,
          86,
          96,
          82,
          74,
          6,
          5,
          5,
          4,
          90,
          88,
          96,
          93,
          5,
          65,
          83,
          83,
          83,
          6,
          90,
          5,
          98,
          76,
          4,
          83,
          90,
          101,
          6,
          11,
          63,
          7,
          3,
          89,
          82,
          88,
          61,
          78,
          92,
          92,
          85,
          4,
          84,
          92,
          91,
          22,
          90,
          91,
          5,
          90,
          92,
          90,
          94,
          88,
          85,
          69,
          76,
          7,
          4,
          68,
          7,
          40,
          49,
          90,
          100,
          4,
          4,
          84,
          7,
          5,
          85,
          5,
          87,
          46,
          84,
          120,
          46,
          96,
          88,
          106,
          89,
          88,
          90,
          91,
          79,
          60,
          4,
          47,
          84,
          96,
          137,
          131,
          143,
          115,
          132,
          124,
          120,
          112,
          125,
          124,
          84,
          93,
          103,
          63,
          87,
          88,
          106,
          94,
          99,
          106,
          6,
          88,
          4,
          105,
          89,
          6,
          4,
          26,
          87,
          12,
          104,
          99,
          45,
          91,
          7,
          85,
          92,
          78,
          61,
          7,
          75,
          86,
          77,
          5,
          90,
          79,
          89,
          45,
          81,
          6,
          101,
          89,
          7,
          7,
          85,
          7,
          89,
          88,
          5,
          90,
          93,
          6,
          22,
          88,
          45,
          124,
          120,
          131,
          126,
          95,
          102,
          112,
          97,
          125,
          130,
          135,
          102,
          51,
          15,
          81,
          104,
          107,
          91,
          96,
          76,
          78,
          60,
          22,
          22,
          14,
          78,
          22,
          92,
          71,
          50,
          93,
          51,
          71,
          7,
          83,
          6,
          81,
          6,
          97,
          78,
          90,
          120,
          6,
          45,
          3,
          43,
          44,
          2,
          90,
          41,
          22,
          22,
          2,
          90,
          3,
          7,
          6,
          21,
          22,
          45,
          44,
          115,
          127,
          108,
          95,
          127,
          107,
          133,
          106,
          148,
          144,
          117,
          117,
          141,
          128,
          135,
          113,
          103,
          93,
          92,
          112,
          95,
          106,
          97,
          124,
          25,
          3,
          78,
          99,
          77,
          99,
          102,
          50,
          90,
          46,
          8,
          95,
          155,
          104,
          6,
          100,
          81,
          8,
          73,
          7,
          90,
          76,
          103,
          77,
          7,
          22,
          44,
          45,
          90,
          7,
          25,
          60,
          44,
          105,
          100,
          101,
          129,
          131,
          109,
          150,
          135,
          134,
          136,
          119,
          118,
          104,
          115,
          131,
          152,
          129,
          113,
          109,
          134,
          102,
          90,
          81,
          91,
          8,
          99,
          78,
          47,
          78,
          90,
          94,
          90,
          83,
          5,
          111,
          22,
          55,
          6,
          80,
          46,
          90,
          45,
          10,
          55,
          93,
          93,
          7,
          87,
          94,
          46,
          44,
          47,
          77,
          92,
          22,
          5,
          47,
          47,
          44,
          88,
          44,
          58,
          44,
          44,
          120,
          160,
          181,
          113,
          102,
          142,
          124,
          118,
          103,
          119,
          100,
          128,
          120,
          120,
          115,
          113,
          93,
          112,
          103,
          100,
          94,
          6,
          121,
          103,
          106,
          110,
          104,
          96,
          106,
          60,
          44,
          99,
          113,
          84,
          88,
          42,
          122,
          99,
          45,
          86,
          52,
          77,
          100,
          76,
          94,
          88,
          84,
          86,
          10,
          83,
          53,
          44,
          84,
          44,
          44,
          90,
          44,
          9,
          88,
          8,
          47,
          44,
          7,
          85,
          45,
          7,
          182,
          44,
          77,
          9,
          60,
          44,
          22,
          4,
          22,
          60,
          44,
          45,
          8,
          95,
          59,
          22,
          9,
          44,
          8,
          7,
          81,
          46,
          44,
          3,
          42,
          45,
          180,
          12,
          23,
          44,
          4,
          47,
          44,
          94,
          43,
          79,
          44,
          88,
          45,
          45,
          45,
          88,
          49,
          71,
          45,
          3,
          23,
          115,
          157,
          100,
          117,
          102,
          156,
          120,
          107,
          127,
          107,
          134,
          134,
          92,
          95,
          55,
          30,
          107,
          84,
          107,
          82,
          18,
          4,
          94,
          93,
          52,
          76,
          6,
          45,
          58,
          93,
          83,
          4,
          7,
          102,
          57,
          104,
          89,
          3,
          21,
          52,
          65,
          7,
          95,
          14,
          91,
          22,
          44,
          22,
          94,
          9,
          59,
          84,
          24,
          42,
          42,
          95,
          93,
          78,
          4,
          44,
          7,
          42,
          44,
          64,
          19,
          7,
          15,
          40,
          7,
          44,
          48,
          46,
          14,
          47,
          44,
          21,
          19,
          22,
          21,
          44,
          44,
          44,
          87,
          44,
          91,
          88,
          44,
          11
         ],
         "y0": " ",
         "yaxis": "y"
        },
        {
         "alignmentgroup": "True",
         "hovertemplate": "type=%{x}<br>Runtime (mins)=%{y}<extra></extra>",
         "legendgroup": "SHOW",
         "marker": {
          "color": "#C39BD3"
         },
         "name": "SHOW",
         "notched": false,
         "offsetgroup": "SHOW",
         "orientation": "v",
         "showlegend": true,
         "type": "box",
         "x": [
          "SHOW",
          "SHOW",
          "SHOW",
          "SHOW",
          "SHOW",
          "SHOW",
          "SHOW",
          "SHOW",
          "SHOW",
          "SHOW",
          "SHOW",
          "SHOW",
          "SHOW",
          "SHOW",
          "SHOW",
          "SHOW",
          "SHOW",
          "SHOW",
          "SHOW",
          "SHOW",
          "SHOW",
          "SHOW",
          "SHOW",
          "SHOW",
          "SHOW",
          "SHOW",
          "SHOW",
          "SHOW",
          "SHOW",
          "SHOW",
          "SHOW",
          "SHOW",
          "SHOW",
          "SHOW",
          "SHOW",
          "SHOW",
          "SHOW",
          "SHOW",
          "SHOW",
          "SHOW",
          "SHOW",
          "SHOW",
          "SHOW",
          "SHOW",
          "SHOW",
          "SHOW",
          "SHOW",
          "SHOW",
          "SHOW",
          "SHOW",
          "SHOW",
          "SHOW",
          "SHOW",
          "SHOW",
          "SHOW",
          "SHOW",
          "SHOW",
          "SHOW",
          "SHOW",
          "SHOW",
          "SHOW",
          "SHOW",
          "SHOW",
          "SHOW",
          "SHOW",
          "SHOW",
          "SHOW",
          "SHOW",
          "SHOW",
          "SHOW",
          "SHOW",
          "SHOW",
          "SHOW",
          "SHOW",
          "SHOW",
          "SHOW",
          "SHOW",
          "SHOW",
          "SHOW",
          "SHOW",
          "SHOW",
          "SHOW",
          "SHOW",
          "SHOW",
          "SHOW",
          "SHOW",
          "SHOW",
          "SHOW",
          "SHOW",
          "SHOW",
          "SHOW",
          "SHOW",
          "SHOW",
          "SHOW",
          "SHOW",
          "SHOW",
          "SHOW",
          "SHOW",
          "SHOW",
          "SHOW",
          "SHOW",
          "SHOW",
          "SHOW",
          "SHOW",
          "SHOW",
          "SHOW",
          "SHOW",
          "SHOW",
          "SHOW",
          "SHOW",
          "SHOW",
          "SHOW",
          "SHOW",
          "SHOW",
          "SHOW",
          "SHOW",
          "SHOW",
          "SHOW",
          "SHOW",
          "SHOW",
          "SHOW",
          "SHOW",
          "SHOW",
          "SHOW",
          "SHOW",
          "SHOW",
          "SHOW",
          "SHOW",
          "SHOW",
          "SHOW",
          "SHOW",
          "SHOW",
          "SHOW",
          "SHOW",
          "SHOW",
          "SHOW",
          "SHOW",
          "SHOW",
          "SHOW",
          "SHOW",
          "SHOW",
          "SHOW",
          "SHOW",
          "SHOW",
          "SHOW",
          "SHOW",
          "SHOW",
          "SHOW",
          "SHOW",
          "SHOW",
          "SHOW",
          "SHOW",
          "SHOW",
          "SHOW",
          "SHOW",
          "SHOW",
          "SHOW",
          "SHOW",
          "SHOW",
          "SHOW",
          "SHOW",
          "SHOW",
          "SHOW",
          "SHOW",
          "SHOW",
          "SHOW",
          "SHOW",
          "SHOW",
          "SHOW",
          "SHOW",
          "SHOW",
          "SHOW",
          "SHOW",
          "SHOW",
          "SHOW",
          "SHOW",
          "SHOW",
          "SHOW",
          "SHOW",
          "SHOW",
          "SHOW",
          "SHOW",
          "SHOW",
          "SHOW",
          "SHOW",
          "SHOW",
          "SHOW",
          "SHOW",
          "SHOW",
          "SHOW",
          "SHOW",
          "SHOW",
          "SHOW",
          "SHOW",
          "SHOW",
          "SHOW",
          "SHOW",
          "SHOW",
          "SHOW",
          "SHOW",
          "SHOW",
          "SHOW",
          "SHOW",
          "SHOW",
          "SHOW",
          "SHOW",
          "SHOW",
          "SHOW",
          "SHOW",
          "SHOW",
          "SHOW",
          "SHOW",
          "SHOW",
          "SHOW",
          "SHOW",
          "SHOW",
          "SHOW",
          "SHOW",
          "SHOW",
          "SHOW",
          "SHOW",
          "SHOW",
          "SHOW",
          "SHOW",
          "SHOW",
          "SHOW",
          "SHOW",
          "SHOW",
          "SHOW",
          "SHOW",
          "SHOW",
          "SHOW",
          "SHOW",
          "SHOW",
          "SHOW",
          "SHOW",
          "SHOW",
          "SHOW",
          "SHOW",
          "SHOW",
          "SHOW",
          "SHOW",
          "SHOW",
          "SHOW",
          "SHOW",
          "SHOW",
          "SHOW",
          "SHOW",
          "SHOW",
          "SHOW",
          "SHOW",
          "SHOW",
          "SHOW",
          "SHOW",
          "SHOW",
          "SHOW",
          "SHOW",
          "SHOW",
          "SHOW",
          "SHOW",
          "SHOW",
          "SHOW",
          "SHOW",
          "SHOW",
          "SHOW",
          "SHOW",
          "SHOW",
          "SHOW",
          "SHOW",
          "SHOW",
          "SHOW",
          "SHOW",
          "SHOW",
          "SHOW",
          "SHOW",
          "SHOW",
          "SHOW",
          "SHOW",
          "SHOW",
          "SHOW",
          "SHOW",
          "SHOW",
          "SHOW",
          "SHOW",
          "SHOW",
          "SHOW",
          "SHOW",
          "SHOW",
          "SHOW",
          "SHOW",
          "SHOW",
          "SHOW",
          "SHOW",
          "SHOW",
          "SHOW",
          "SHOW",
          "SHOW",
          "SHOW",
          "SHOW",
          "SHOW",
          "SHOW",
          "SHOW",
          "SHOW",
          "SHOW",
          "SHOW",
          "SHOW",
          "SHOW",
          "SHOW",
          "SHOW",
          "SHOW",
          "SHOW",
          "SHOW",
          "SHOW",
          "SHOW",
          "SHOW",
          "SHOW",
          "SHOW",
          "SHOW",
          "SHOW",
          "SHOW",
          "SHOW",
          "SHOW",
          "SHOW",
          "SHOW",
          "SHOW",
          "SHOW",
          "SHOW",
          "SHOW",
          "SHOW",
          "SHOW",
          "SHOW",
          "SHOW",
          "SHOW",
          "SHOW",
          "SHOW",
          "SHOW",
          "SHOW",
          "SHOW",
          "SHOW",
          "SHOW",
          "SHOW",
          "SHOW",
          "SHOW",
          "SHOW",
          "SHOW",
          "SHOW",
          "SHOW",
          "SHOW",
          "SHOW",
          "SHOW",
          "SHOW"
         ],
         "x0": " ",
         "xaxis": "x",
         "y": [
          25,
          3,
          31,
          21,
          12,
          27,
          49,
          21,
          23,
          22,
          25,
          22,
          22,
          23,
          22,
          25,
          23,
          21,
          22,
          24,
          24,
          22,
          22,
          16,
          21,
          22,
          22,
          15,
          21,
          22,
          22,
          22,
          23,
          20,
          22,
          25,
          22,
          23,
          24,
          28,
          24,
          22,
          22,
          22,
          22,
          22,
          21,
          23,
          10,
          21,
          43,
          22,
          25,
          21,
          24,
          24,
          23,
          27,
          21,
          24,
          22,
          23,
          23,
          23,
          23,
          26,
          25,
          22,
          27,
          23,
          23,
          20,
          24,
          22,
          20,
          22,
          26,
          24,
          23,
          24,
          23,
          22,
          22,
          22,
          24,
          21,
          50,
          44,
          3,
          43,
          23,
          32,
          45,
          23,
          22,
          44,
          22,
          26,
          23,
          43,
          24,
          26,
          45,
          23,
          23,
          17,
          23,
          3,
          44,
          25,
          44,
          23,
          49,
          50,
          21,
          42,
          43,
          23,
          46,
          43,
          23,
          23,
          22,
          23,
          43,
          44,
          22,
          44,
          18,
          5,
          24,
          22,
          44,
          21,
          46,
          43,
          45,
          22,
          25,
          25,
          44,
          53,
          51,
          42,
          22,
          15,
          56,
          22,
          48,
          43,
          25,
          18,
          21,
          22,
          23,
          23,
          24,
          24,
          24,
          24,
          44,
          22,
          19,
          47,
          24,
          22,
          23,
          6,
          54,
          46,
          1,
          20,
          44,
          23,
          54,
          24,
          44,
          45,
          44,
          23,
          22,
          7,
          53,
          42,
          54,
          50,
          28,
          23,
          47,
          20,
          24,
          23,
          22,
          24,
          24,
          4,
          20,
          18,
          46,
          23,
          1,
          43,
          25,
          20,
          25,
          23,
          23,
          21,
          47,
          29,
          1,
          2,
          52,
          20,
          4,
          44,
          4,
          44,
          16,
          2,
          23,
          39,
          22,
          40,
          24,
          19,
          43,
          45,
          44,
          26,
          44,
          32,
          44,
          44,
          42,
          33,
          63,
          44,
          52,
          42,
          47,
          24,
          21,
          43,
          44,
          45,
          5,
          37,
          26,
          43,
          44,
          37,
          11,
          13,
          4,
          3,
          44,
          17,
          38,
          8,
          6,
          43,
          44,
          19,
          54,
          44,
          23,
          10,
          44,
          23,
          44,
          26,
          44,
          32,
          32,
          36,
          37,
          24,
          24,
          24,
          23,
          34,
          22,
          30,
          25,
          43,
          23,
          59,
          44,
          1,
          24,
          3,
          2,
          22,
          7,
          44,
          43,
          48,
          156,
          47,
          39,
          48,
          47,
          51,
          32,
          21,
          51,
          31,
          3,
          16,
          7,
          28,
          85,
          31,
          24,
          38,
          49,
          10,
          26,
          23,
          12,
          43,
          43,
          48,
          48,
          42,
          42,
          27,
          58,
          44,
          46,
          23,
          35,
          4,
          45,
          34,
          24,
          7,
          3,
          46,
          4,
          43,
          14,
          22,
          30,
          27,
          2,
          46,
          42,
          4,
          42
         ],
         "y0": " ",
         "yaxis": "y"
        }
       ],
       "layout": {
        "boxmode": "overlay",
        "font": {
         "color": "#FFFFFF",
         "family": "Verdana",
         "size": 13
        },
        "legend": {
         "title": {
          "text": "type"
         },
         "tracegroupgap": 0
        },
        "paper_bgcolor": "#1A1D29",
        "plot_bgcolor": "#1A1D29",
        "template": {
         "data": {
          "bar": [
           {
            "error_x": {
             "color": "#f2f5fa"
            },
            "error_y": {
             "color": "#f2f5fa"
            },
            "marker": {
             "line": {
              "color": "rgb(17,17,17)",
              "width": 0.5
             },
             "pattern": {
              "fillmode": "overlay",
              "size": 10,
              "solidity": 0.2
             }
            },
            "type": "bar"
           }
          ],
          "barpolar": [
           {
            "marker": {
             "line": {
              "color": "rgb(17,17,17)",
              "width": 0.5
             },
             "pattern": {
              "fillmode": "overlay",
              "size": 10,
              "solidity": 0.2
             }
            },
            "type": "barpolar"
           }
          ],
          "carpet": [
           {
            "aaxis": {
             "endlinecolor": "#A2B1C6",
             "gridcolor": "#506784",
             "linecolor": "#506784",
             "minorgridcolor": "#506784",
             "startlinecolor": "#A2B1C6"
            },
            "baxis": {
             "endlinecolor": "#A2B1C6",
             "gridcolor": "#506784",
             "linecolor": "#506784",
             "minorgridcolor": "#506784",
             "startlinecolor": "#A2B1C6"
            },
            "type": "carpet"
           }
          ],
          "choropleth": [
           {
            "colorbar": {
             "outlinewidth": 0,
             "ticks": ""
            },
            "type": "choropleth"
           }
          ],
          "contour": [
           {
            "colorbar": {
             "outlinewidth": 0,
             "ticks": ""
            },
            "colorscale": [
             [
              0,
              "#0d0887"
             ],
             [
              0.1111111111111111,
              "#46039f"
             ],
             [
              0.2222222222222222,
              "#7201a8"
             ],
             [
              0.3333333333333333,
              "#9c179e"
             ],
             [
              0.4444444444444444,
              "#bd3786"
             ],
             [
              0.5555555555555556,
              "#d8576b"
             ],
             [
              0.6666666666666666,
              "#ed7953"
             ],
             [
              0.7777777777777778,
              "#fb9f3a"
             ],
             [
              0.8888888888888888,
              "#fdca26"
             ],
             [
              1,
              "#f0f921"
             ]
            ],
            "type": "contour"
           }
          ],
          "contourcarpet": [
           {
            "colorbar": {
             "outlinewidth": 0,
             "ticks": ""
            },
            "type": "contourcarpet"
           }
          ],
          "heatmap": [
           {
            "colorbar": {
             "outlinewidth": 0,
             "ticks": ""
            },
            "colorscale": [
             [
              0,
              "#0d0887"
             ],
             [
              0.1111111111111111,
              "#46039f"
             ],
             [
              0.2222222222222222,
              "#7201a8"
             ],
             [
              0.3333333333333333,
              "#9c179e"
             ],
             [
              0.4444444444444444,
              "#bd3786"
             ],
             [
              0.5555555555555556,
              "#d8576b"
             ],
             [
              0.6666666666666666,
              "#ed7953"
             ],
             [
              0.7777777777777778,
              "#fb9f3a"
             ],
             [
              0.8888888888888888,
              "#fdca26"
             ],
             [
              1,
              "#f0f921"
             ]
            ],
            "type": "heatmap"
           }
          ],
          "heatmapgl": [
           {
            "colorbar": {
             "outlinewidth": 0,
             "ticks": ""
            },
            "colorscale": [
             [
              0,
              "#0d0887"
             ],
             [
              0.1111111111111111,
              "#46039f"
             ],
             [
              0.2222222222222222,
              "#7201a8"
             ],
             [
              0.3333333333333333,
              "#9c179e"
             ],
             [
              0.4444444444444444,
              "#bd3786"
             ],
             [
              0.5555555555555556,
              "#d8576b"
             ],
             [
              0.6666666666666666,
              "#ed7953"
             ],
             [
              0.7777777777777778,
              "#fb9f3a"
             ],
             [
              0.8888888888888888,
              "#fdca26"
             ],
             [
              1,
              "#f0f921"
             ]
            ],
            "type": "heatmapgl"
           }
          ],
          "histogram": [
           {
            "marker": {
             "pattern": {
              "fillmode": "overlay",
              "size": 10,
              "solidity": 0.2
             }
            },
            "type": "histogram"
           }
          ],
          "histogram2d": [
           {
            "colorbar": {
             "outlinewidth": 0,
             "ticks": ""
            },
            "colorscale": [
             [
              0,
              "#0d0887"
             ],
             [
              0.1111111111111111,
              "#46039f"
             ],
             [
              0.2222222222222222,
              "#7201a8"
             ],
             [
              0.3333333333333333,
              "#9c179e"
             ],
             [
              0.4444444444444444,
              "#bd3786"
             ],
             [
              0.5555555555555556,
              "#d8576b"
             ],
             [
              0.6666666666666666,
              "#ed7953"
             ],
             [
              0.7777777777777778,
              "#fb9f3a"
             ],
             [
              0.8888888888888888,
              "#fdca26"
             ],
             [
              1,
              "#f0f921"
             ]
            ],
            "type": "histogram2d"
           }
          ],
          "histogram2dcontour": [
           {
            "colorbar": {
             "outlinewidth": 0,
             "ticks": ""
            },
            "colorscale": [
             [
              0,
              "#0d0887"
             ],
             [
              0.1111111111111111,
              "#46039f"
             ],
             [
              0.2222222222222222,
              "#7201a8"
             ],
             [
              0.3333333333333333,
              "#9c179e"
             ],
             [
              0.4444444444444444,
              "#bd3786"
             ],
             [
              0.5555555555555556,
              "#d8576b"
             ],
             [
              0.6666666666666666,
              "#ed7953"
             ],
             [
              0.7777777777777778,
              "#fb9f3a"
             ],
             [
              0.8888888888888888,
              "#fdca26"
             ],
             [
              1,
              "#f0f921"
             ]
            ],
            "type": "histogram2dcontour"
           }
          ],
          "mesh3d": [
           {
            "colorbar": {
             "outlinewidth": 0,
             "ticks": ""
            },
            "type": "mesh3d"
           }
          ],
          "parcoords": [
           {
            "line": {
             "colorbar": {
              "outlinewidth": 0,
              "ticks": ""
             }
            },
            "type": "parcoords"
           }
          ],
          "pie": [
           {
            "automargin": true,
            "type": "pie"
           }
          ],
          "scatter": [
           {
            "marker": {
             "line": {
              "color": "#283442"
             }
            },
            "type": "scatter"
           }
          ],
          "scatter3d": [
           {
            "line": {
             "colorbar": {
              "outlinewidth": 0,
              "ticks": ""
             }
            },
            "marker": {
             "colorbar": {
              "outlinewidth": 0,
              "ticks": ""
             }
            },
            "type": "scatter3d"
           }
          ],
          "scattercarpet": [
           {
            "marker": {
             "colorbar": {
              "outlinewidth": 0,
              "ticks": ""
             }
            },
            "type": "scattercarpet"
           }
          ],
          "scattergeo": [
           {
            "marker": {
             "colorbar": {
              "outlinewidth": 0,
              "ticks": ""
             }
            },
            "type": "scattergeo"
           }
          ],
          "scattergl": [
           {
            "marker": {
             "line": {
              "color": "#283442"
             }
            },
            "type": "scattergl"
           }
          ],
          "scattermapbox": [
           {
            "marker": {
             "colorbar": {
              "outlinewidth": 0,
              "ticks": ""
             }
            },
            "type": "scattermapbox"
           }
          ],
          "scatterpolar": [
           {
            "marker": {
             "colorbar": {
              "outlinewidth": 0,
              "ticks": ""
             }
            },
            "type": "scatterpolar"
           }
          ],
          "scatterpolargl": [
           {
            "marker": {
             "colorbar": {
              "outlinewidth": 0,
              "ticks": ""
             }
            },
            "type": "scatterpolargl"
           }
          ],
          "scatterternary": [
           {
            "marker": {
             "colorbar": {
              "outlinewidth": 0,
              "ticks": ""
             }
            },
            "type": "scatterternary"
           }
          ],
          "surface": [
           {
            "colorbar": {
             "outlinewidth": 0,
             "ticks": ""
            },
            "colorscale": [
             [
              0,
              "#0d0887"
             ],
             [
              0.1111111111111111,
              "#46039f"
             ],
             [
              0.2222222222222222,
              "#7201a8"
             ],
             [
              0.3333333333333333,
              "#9c179e"
             ],
             [
              0.4444444444444444,
              "#bd3786"
             ],
             [
              0.5555555555555556,
              "#d8576b"
             ],
             [
              0.6666666666666666,
              "#ed7953"
             ],
             [
              0.7777777777777778,
              "#fb9f3a"
             ],
             [
              0.8888888888888888,
              "#fdca26"
             ],
             [
              1,
              "#f0f921"
             ]
            ],
            "type": "surface"
           }
          ],
          "table": [
           {
            "cells": {
             "fill": {
              "color": "#506784"
             },
             "line": {
              "color": "rgb(17,17,17)"
             }
            },
            "header": {
             "fill": {
              "color": "#2a3f5f"
             },
             "line": {
              "color": "rgb(17,17,17)"
             }
            },
            "type": "table"
           }
          ]
         },
         "layout": {
          "annotationdefaults": {
           "arrowcolor": "#f2f5fa",
           "arrowhead": 0,
           "arrowwidth": 1
          },
          "autotypenumbers": "strict",
          "coloraxis": {
           "colorbar": {
            "outlinewidth": 0,
            "ticks": ""
           }
          },
          "colorscale": {
           "diverging": [
            [
             0,
             "#8e0152"
            ],
            [
             0.1,
             "#c51b7d"
            ],
            [
             0.2,
             "#de77ae"
            ],
            [
             0.3,
             "#f1b6da"
            ],
            [
             0.4,
             "#fde0ef"
            ],
            [
             0.5,
             "#f7f7f7"
            ],
            [
             0.6,
             "#e6f5d0"
            ],
            [
             0.7,
             "#b8e186"
            ],
            [
             0.8,
             "#7fbc41"
            ],
            [
             0.9,
             "#4d9221"
            ],
            [
             1,
             "#276419"
            ]
           ],
           "sequential": [
            [
             0,
             "#0d0887"
            ],
            [
             0.1111111111111111,
             "#46039f"
            ],
            [
             0.2222222222222222,
             "#7201a8"
            ],
            [
             0.3333333333333333,
             "#9c179e"
            ],
            [
             0.4444444444444444,
             "#bd3786"
            ],
            [
             0.5555555555555556,
             "#d8576b"
            ],
            [
             0.6666666666666666,
             "#ed7953"
            ],
            [
             0.7777777777777778,
             "#fb9f3a"
            ],
            [
             0.8888888888888888,
             "#fdca26"
            ],
            [
             1,
             "#f0f921"
            ]
           ],
           "sequentialminus": [
            [
             0,
             "#0d0887"
            ],
            [
             0.1111111111111111,
             "#46039f"
            ],
            [
             0.2222222222222222,
             "#7201a8"
            ],
            [
             0.3333333333333333,
             "#9c179e"
            ],
            [
             0.4444444444444444,
             "#bd3786"
            ],
            [
             0.5555555555555556,
             "#d8576b"
            ],
            [
             0.6666666666666666,
             "#ed7953"
            ],
            [
             0.7777777777777778,
             "#fb9f3a"
            ],
            [
             0.8888888888888888,
             "#fdca26"
            ],
            [
             1,
             "#f0f921"
            ]
           ]
          },
          "colorway": [
           "#636efa",
           "#EF553B",
           "#00cc96",
           "#ab63fa",
           "#FFA15A",
           "#19d3f3",
           "#FF6692",
           "#B6E880",
           "#FF97FF",
           "#FECB52"
          ],
          "font": {
           "color": "#f2f5fa"
          },
          "geo": {
           "bgcolor": "rgb(17,17,17)",
           "lakecolor": "rgb(17,17,17)",
           "landcolor": "rgb(17,17,17)",
           "showlakes": true,
           "showland": true,
           "subunitcolor": "#506784"
          },
          "hoverlabel": {
           "align": "left"
          },
          "hovermode": "closest",
          "mapbox": {
           "style": "dark"
          },
          "paper_bgcolor": "rgb(17,17,17)",
          "plot_bgcolor": "rgb(17,17,17)",
          "polar": {
           "angularaxis": {
            "gridcolor": "#506784",
            "linecolor": "#506784",
            "ticks": ""
           },
           "bgcolor": "rgb(17,17,17)",
           "radialaxis": {
            "gridcolor": "#506784",
            "linecolor": "#506784",
            "ticks": ""
           }
          },
          "scene": {
           "xaxis": {
            "backgroundcolor": "rgb(17,17,17)",
            "gridcolor": "#506784",
            "gridwidth": 2,
            "linecolor": "#506784",
            "showbackground": true,
            "ticks": "",
            "zerolinecolor": "#C8D4E3"
           },
           "yaxis": {
            "backgroundcolor": "rgb(17,17,17)",
            "gridcolor": "#506784",
            "gridwidth": 2,
            "linecolor": "#506784",
            "showbackground": true,
            "ticks": "",
            "zerolinecolor": "#C8D4E3"
           },
           "zaxis": {
            "backgroundcolor": "rgb(17,17,17)",
            "gridcolor": "#506784",
            "gridwidth": 2,
            "linecolor": "#506784",
            "showbackground": true,
            "ticks": "",
            "zerolinecolor": "#C8D4E3"
           }
          },
          "shapedefaults": {
           "line": {
            "color": "#f2f5fa"
           }
          },
          "sliderdefaults": {
           "bgcolor": "#C8D4E3",
           "bordercolor": "rgb(17,17,17)",
           "borderwidth": 1,
           "tickwidth": 0
          },
          "ternary": {
           "aaxis": {
            "gridcolor": "#506784",
            "linecolor": "#506784",
            "ticks": ""
           },
           "baxis": {
            "gridcolor": "#506784",
            "linecolor": "#506784",
            "ticks": ""
           },
           "bgcolor": "rgb(17,17,17)",
           "caxis": {
            "gridcolor": "#506784",
            "linecolor": "#506784",
            "ticks": ""
           }
          },
          "title": {
           "x": 0.05
          },
          "updatemenudefaults": {
           "bgcolor": "#506784",
           "borderwidth": 0
          },
          "xaxis": {
           "automargin": true,
           "gridcolor": "#283442",
           "linecolor": "#506784",
           "ticks": "",
           "title": {
            "standoff": 15
           },
           "zerolinecolor": "#283442",
           "zerolinewidth": 2
          },
          "yaxis": {
           "automargin": true,
           "gridcolor": "#283442",
           "linecolor": "#506784",
           "ticks": "",
           "title": {
            "standoff": 15
           },
           "zerolinecolor": "#283442",
           "zerolinewidth": 2
          }
         }
        },
        "title": {
         "text": "Runtimes of Disney+ Movies & Shows (US)"
        },
        "xaxis": {
         "anchor": "y",
         "categoryarray": [
          "MOVIE",
          "SHOW"
         ],
         "categoryorder": "array",
         "domain": [
          0,
          1
         ],
         "title": {
          "text": "type"
         }
        },
        "yaxis": {
         "anchor": "x",
         "domain": [
          0,
          1
         ],
         "title": {
          "text": "Runtime (mins)"
         }
        }
       }
      }
     },
     "metadata": {},
     "output_type": "display_data"
    }
   ],
   "source": [
    "fig = px.box(ctitles, x =\"type\", y=\"runtime\", color=\"type\",\n",
    "                   title=\"Runtimes of Disney+ Movies & Shows (US)\",\n",
    "                   labels= { \"runtime\" : \"Runtime (mins)\", \"tmdb_score\" : \"TMDB Rating\"},\n",
    "                   color_discrete_map= {\"MOVIE\": \"#B9D8EB\", \"SHOW\" : \"#C39BD3\"},\n",
    "                   template=\"plotly_dark\")\n",
    "                   \n",
    "fig.update_layout(paper_bgcolor = '#1A1D29', \n",
    "                  plot_bgcolor = '#1A1D29',\n",
    "                  font = dict(family=\"Verdana\",color = '#FFFFFF', size=13),)"
   ]
  },
  {
   "cell_type": "markdown",
   "metadata": {},
   "source": [
    "![image](https://github.com/kekevin12/Disney_EDA/blob/main/Graphs/boxruntime.png?raw=true)"
   ]
  },
  {
   "cell_type": "markdown",
   "metadata": {},
   "source": [
    "From the scatterplot there is really no strong relationship between a title's rating and its runtime. However we can clearly see two distinct clusters between movies and shows. Movie titles tend to cluster around 80 - 100 minutes, while shows around the 20 - 30 min range. This is more apparent when looking at the box plots. Since there is a large skew for both formats, looking at the median provides a more accurate representation of the runtime average. Movies on average ran for 85 minutes and shows 24 minutes. This makes sense since shows are usually a shorter format compared to movies and do not need to be as long since there are multiple episodes across a season. "
   ]
  },
  {
   "cell_type": "markdown",
   "metadata": {},
   "source": [
    "##### Description Analysis"
   ]
  },
  {
   "cell_type": "markdown",
   "metadata": {},
   "source": [
    "Now lets take a look at the descriptions for these titles and see if there are any certain plot points/words that seems to be the trend and commonly repeated."
   ]
  },
  {
   "cell_type": "code",
   "execution_count": 19,
   "metadata": {},
   "outputs": [],
   "source": [
    "#Stop words that were added to list as they are not descriptive or relevant in providing insight\n",
    "new_stop_words = ['one','must','disney','series','find','two','get','named','first','make','-','new','back','takes','take','set','also','...','ll','r',\"he's\",'tries','year'\n",
    ",'across','around','true','friend','go','three','gets','--','become','time','best','high','become','–','way','animated','little','big','together','show','story','like'\n",
    ",'life','world','\\s','\\S',' \\'s',\" \\'S\",'—','episode','television','jessica','andent',',','.','max','years','jack','soon','season']\n",
    "\n",
    "stop = stopwords.words('english')\n",
    "stop.extend(new_stop_words)"
   ]
  },
  {
   "cell_type": "code",
   "execution_count": 20,
   "metadata": {},
   "outputs": [],
   "source": [
    "#Lower case all words in description and checks if description has stop words to exclude them \n",
    "dcount = ctitles[\"description\"].str.lower().apply(lambda x:' '.join([word for word in str(x).split() if word not in (stop)]))\n",
    "\n",
    "dcount = dcount.to_frame().reset_index()\n",
    "dcount = dcount.iloc[:,1:]\n",
    "\n",
    "# Counting most common words found in description\n",
    "wcount = dcount[\"description\"].str.split(expand=True).stack().value_counts()\n",
    "wcount = wcount.to_frame().reset_index()\n",
    "wcount.columns = ['word','count']"
   ]
  },
  {
   "cell_type": "code",
   "execution_count": 21,
   "metadata": {},
   "outputs": [
    {
     "data": {
      "application/vnd.plotly.v1+json": {
       "config": {
        "plotlyServerURL": "https://plot.ly"
       },
       "data": [
        {
         "alignmentgroup": "True",
         "hovertemplate": "word=%{x}<br>count=%{y}<extra></extra>",
         "legendgroup": "",
         "marker": {
          "color": "#636efa",
          "pattern": {
           "shape": ""
          }
         },
         "name": "",
         "offsetgroup": "",
         "orientation": "v",
         "showlegend": false,
         "textposition": "auto",
         "type": "bar",
         "x": [
          "young",
          "family",
          "help",
          "friends",
          "school",
          "team",
          "finds",
          "home",
          "save",
          "donald",
          "girl",
          "adventures",
          "mickey",
          "boy",
          "evil",
          "adventure",
          "journey",
          "love",
          "star",
          "discover",
          "lives",
          "secret",
          "mysterious",
          "christmas",
          "discovers",
          "work",
          "old",
          "father",
          "man",
          "come",
          "along",
          "follows",
          "learn",
          "walt",
          "group",
          "comes",
          "kids",
          "behind",
          "film",
          "live",
          "american",
          "great",
          "follow",
          "world.",
          "captain",
          "pluto",
          "try",
          "mother",
          "join",
          "battle"
         ],
         "xaxis": "x",
         "y": [
          151,
          121,
          115,
          84,
          83,
          81,
          79,
          78,
          69,
          66,
          62,
          59,
          57,
          56,
          56,
          56,
          53,
          50,
          50,
          50,
          48,
          47,
          46,
          46,
          46,
          44,
          43,
          43,
          42,
          42,
          42,
          42,
          41,
          41,
          41,
          41,
          41,
          40,
          40,
          40,
          39,
          39,
          39,
          39,
          38,
          38,
          38,
          38,
          37,
          37
         ],
         "yaxis": "y"
        }
       ],
       "layout": {
        "barmode": "relative",
        "font": {
         "color": "#FFFFFF",
         "family": "Verdana",
         "size": 13
        },
        "legend": {
         "tracegroupgap": 0
        },
        "paper_bgcolor": "#1A1D29",
        "plot_bgcolor": "#1A1D29",
        "template": {
         "data": {
          "bar": [
           {
            "error_x": {
             "color": "#f2f5fa"
            },
            "error_y": {
             "color": "#f2f5fa"
            },
            "marker": {
             "line": {
              "color": "rgb(17,17,17)",
              "width": 0.5
             },
             "pattern": {
              "fillmode": "overlay",
              "size": 10,
              "solidity": 0.2
             }
            },
            "type": "bar"
           }
          ],
          "barpolar": [
           {
            "marker": {
             "line": {
              "color": "rgb(17,17,17)",
              "width": 0.5
             },
             "pattern": {
              "fillmode": "overlay",
              "size": 10,
              "solidity": 0.2
             }
            },
            "type": "barpolar"
           }
          ],
          "carpet": [
           {
            "aaxis": {
             "endlinecolor": "#A2B1C6",
             "gridcolor": "#506784",
             "linecolor": "#506784",
             "minorgridcolor": "#506784",
             "startlinecolor": "#A2B1C6"
            },
            "baxis": {
             "endlinecolor": "#A2B1C6",
             "gridcolor": "#506784",
             "linecolor": "#506784",
             "minorgridcolor": "#506784",
             "startlinecolor": "#A2B1C6"
            },
            "type": "carpet"
           }
          ],
          "choropleth": [
           {
            "colorbar": {
             "outlinewidth": 0,
             "ticks": ""
            },
            "type": "choropleth"
           }
          ],
          "contour": [
           {
            "colorbar": {
             "outlinewidth": 0,
             "ticks": ""
            },
            "colorscale": [
             [
              0,
              "#0d0887"
             ],
             [
              0.1111111111111111,
              "#46039f"
             ],
             [
              0.2222222222222222,
              "#7201a8"
             ],
             [
              0.3333333333333333,
              "#9c179e"
             ],
             [
              0.4444444444444444,
              "#bd3786"
             ],
             [
              0.5555555555555556,
              "#d8576b"
             ],
             [
              0.6666666666666666,
              "#ed7953"
             ],
             [
              0.7777777777777778,
              "#fb9f3a"
             ],
             [
              0.8888888888888888,
              "#fdca26"
             ],
             [
              1,
              "#f0f921"
             ]
            ],
            "type": "contour"
           }
          ],
          "contourcarpet": [
           {
            "colorbar": {
             "outlinewidth": 0,
             "ticks": ""
            },
            "type": "contourcarpet"
           }
          ],
          "heatmap": [
           {
            "colorbar": {
             "outlinewidth": 0,
             "ticks": ""
            },
            "colorscale": [
             [
              0,
              "#0d0887"
             ],
             [
              0.1111111111111111,
              "#46039f"
             ],
             [
              0.2222222222222222,
              "#7201a8"
             ],
             [
              0.3333333333333333,
              "#9c179e"
             ],
             [
              0.4444444444444444,
              "#bd3786"
             ],
             [
              0.5555555555555556,
              "#d8576b"
             ],
             [
              0.6666666666666666,
              "#ed7953"
             ],
             [
              0.7777777777777778,
              "#fb9f3a"
             ],
             [
              0.8888888888888888,
              "#fdca26"
             ],
             [
              1,
              "#f0f921"
             ]
            ],
            "type": "heatmap"
           }
          ],
          "heatmapgl": [
           {
            "colorbar": {
             "outlinewidth": 0,
             "ticks": ""
            },
            "colorscale": [
             [
              0,
              "#0d0887"
             ],
             [
              0.1111111111111111,
              "#46039f"
             ],
             [
              0.2222222222222222,
              "#7201a8"
             ],
             [
              0.3333333333333333,
              "#9c179e"
             ],
             [
              0.4444444444444444,
              "#bd3786"
             ],
             [
              0.5555555555555556,
              "#d8576b"
             ],
             [
              0.6666666666666666,
              "#ed7953"
             ],
             [
              0.7777777777777778,
              "#fb9f3a"
             ],
             [
              0.8888888888888888,
              "#fdca26"
             ],
             [
              1,
              "#f0f921"
             ]
            ],
            "type": "heatmapgl"
           }
          ],
          "histogram": [
           {
            "marker": {
             "pattern": {
              "fillmode": "overlay",
              "size": 10,
              "solidity": 0.2
             }
            },
            "type": "histogram"
           }
          ],
          "histogram2d": [
           {
            "colorbar": {
             "outlinewidth": 0,
             "ticks": ""
            },
            "colorscale": [
             [
              0,
              "#0d0887"
             ],
             [
              0.1111111111111111,
              "#46039f"
             ],
             [
              0.2222222222222222,
              "#7201a8"
             ],
             [
              0.3333333333333333,
              "#9c179e"
             ],
             [
              0.4444444444444444,
              "#bd3786"
             ],
             [
              0.5555555555555556,
              "#d8576b"
             ],
             [
              0.6666666666666666,
              "#ed7953"
             ],
             [
              0.7777777777777778,
              "#fb9f3a"
             ],
             [
              0.8888888888888888,
              "#fdca26"
             ],
             [
              1,
              "#f0f921"
             ]
            ],
            "type": "histogram2d"
           }
          ],
          "histogram2dcontour": [
           {
            "colorbar": {
             "outlinewidth": 0,
             "ticks": ""
            },
            "colorscale": [
             [
              0,
              "#0d0887"
             ],
             [
              0.1111111111111111,
              "#46039f"
             ],
             [
              0.2222222222222222,
              "#7201a8"
             ],
             [
              0.3333333333333333,
              "#9c179e"
             ],
             [
              0.4444444444444444,
              "#bd3786"
             ],
             [
              0.5555555555555556,
              "#d8576b"
             ],
             [
              0.6666666666666666,
              "#ed7953"
             ],
             [
              0.7777777777777778,
              "#fb9f3a"
             ],
             [
              0.8888888888888888,
              "#fdca26"
             ],
             [
              1,
              "#f0f921"
             ]
            ],
            "type": "histogram2dcontour"
           }
          ],
          "mesh3d": [
           {
            "colorbar": {
             "outlinewidth": 0,
             "ticks": ""
            },
            "type": "mesh3d"
           }
          ],
          "parcoords": [
           {
            "line": {
             "colorbar": {
              "outlinewidth": 0,
              "ticks": ""
             }
            },
            "type": "parcoords"
           }
          ],
          "pie": [
           {
            "automargin": true,
            "type": "pie"
           }
          ],
          "scatter": [
           {
            "marker": {
             "line": {
              "color": "#283442"
             }
            },
            "type": "scatter"
           }
          ],
          "scatter3d": [
           {
            "line": {
             "colorbar": {
              "outlinewidth": 0,
              "ticks": ""
             }
            },
            "marker": {
             "colorbar": {
              "outlinewidth": 0,
              "ticks": ""
             }
            },
            "type": "scatter3d"
           }
          ],
          "scattercarpet": [
           {
            "marker": {
             "colorbar": {
              "outlinewidth": 0,
              "ticks": ""
             }
            },
            "type": "scattercarpet"
           }
          ],
          "scattergeo": [
           {
            "marker": {
             "colorbar": {
              "outlinewidth": 0,
              "ticks": ""
             }
            },
            "type": "scattergeo"
           }
          ],
          "scattergl": [
           {
            "marker": {
             "line": {
              "color": "#283442"
             }
            },
            "type": "scattergl"
           }
          ],
          "scattermapbox": [
           {
            "marker": {
             "colorbar": {
              "outlinewidth": 0,
              "ticks": ""
             }
            },
            "type": "scattermapbox"
           }
          ],
          "scatterpolar": [
           {
            "marker": {
             "colorbar": {
              "outlinewidth": 0,
              "ticks": ""
             }
            },
            "type": "scatterpolar"
           }
          ],
          "scatterpolargl": [
           {
            "marker": {
             "colorbar": {
              "outlinewidth": 0,
              "ticks": ""
             }
            },
            "type": "scatterpolargl"
           }
          ],
          "scatterternary": [
           {
            "marker": {
             "colorbar": {
              "outlinewidth": 0,
              "ticks": ""
             }
            },
            "type": "scatterternary"
           }
          ],
          "surface": [
           {
            "colorbar": {
             "outlinewidth": 0,
             "ticks": ""
            },
            "colorscale": [
             [
              0,
              "#0d0887"
             ],
             [
              0.1111111111111111,
              "#46039f"
             ],
             [
              0.2222222222222222,
              "#7201a8"
             ],
             [
              0.3333333333333333,
              "#9c179e"
             ],
             [
              0.4444444444444444,
              "#bd3786"
             ],
             [
              0.5555555555555556,
              "#d8576b"
             ],
             [
              0.6666666666666666,
              "#ed7953"
             ],
             [
              0.7777777777777778,
              "#fb9f3a"
             ],
             [
              0.8888888888888888,
              "#fdca26"
             ],
             [
              1,
              "#f0f921"
             ]
            ],
            "type": "surface"
           }
          ],
          "table": [
           {
            "cells": {
             "fill": {
              "color": "#506784"
             },
             "line": {
              "color": "rgb(17,17,17)"
             }
            },
            "header": {
             "fill": {
              "color": "#2a3f5f"
             },
             "line": {
              "color": "rgb(17,17,17)"
             }
            },
            "type": "table"
           }
          ]
         },
         "layout": {
          "annotationdefaults": {
           "arrowcolor": "#f2f5fa",
           "arrowhead": 0,
           "arrowwidth": 1
          },
          "autotypenumbers": "strict",
          "coloraxis": {
           "colorbar": {
            "outlinewidth": 0,
            "ticks": ""
           }
          },
          "colorscale": {
           "diverging": [
            [
             0,
             "#8e0152"
            ],
            [
             0.1,
             "#c51b7d"
            ],
            [
             0.2,
             "#de77ae"
            ],
            [
             0.3,
             "#f1b6da"
            ],
            [
             0.4,
             "#fde0ef"
            ],
            [
             0.5,
             "#f7f7f7"
            ],
            [
             0.6,
             "#e6f5d0"
            ],
            [
             0.7,
             "#b8e186"
            ],
            [
             0.8,
             "#7fbc41"
            ],
            [
             0.9,
             "#4d9221"
            ],
            [
             1,
             "#276419"
            ]
           ],
           "sequential": [
            [
             0,
             "#0d0887"
            ],
            [
             0.1111111111111111,
             "#46039f"
            ],
            [
             0.2222222222222222,
             "#7201a8"
            ],
            [
             0.3333333333333333,
             "#9c179e"
            ],
            [
             0.4444444444444444,
             "#bd3786"
            ],
            [
             0.5555555555555556,
             "#d8576b"
            ],
            [
             0.6666666666666666,
             "#ed7953"
            ],
            [
             0.7777777777777778,
             "#fb9f3a"
            ],
            [
             0.8888888888888888,
             "#fdca26"
            ],
            [
             1,
             "#f0f921"
            ]
           ],
           "sequentialminus": [
            [
             0,
             "#0d0887"
            ],
            [
             0.1111111111111111,
             "#46039f"
            ],
            [
             0.2222222222222222,
             "#7201a8"
            ],
            [
             0.3333333333333333,
             "#9c179e"
            ],
            [
             0.4444444444444444,
             "#bd3786"
            ],
            [
             0.5555555555555556,
             "#d8576b"
            ],
            [
             0.6666666666666666,
             "#ed7953"
            ],
            [
             0.7777777777777778,
             "#fb9f3a"
            ],
            [
             0.8888888888888888,
             "#fdca26"
            ],
            [
             1,
             "#f0f921"
            ]
           ]
          },
          "colorway": [
           "#636efa",
           "#EF553B",
           "#00cc96",
           "#ab63fa",
           "#FFA15A",
           "#19d3f3",
           "#FF6692",
           "#B6E880",
           "#FF97FF",
           "#FECB52"
          ],
          "font": {
           "color": "#f2f5fa"
          },
          "geo": {
           "bgcolor": "rgb(17,17,17)",
           "lakecolor": "rgb(17,17,17)",
           "landcolor": "rgb(17,17,17)",
           "showlakes": true,
           "showland": true,
           "subunitcolor": "#506784"
          },
          "hoverlabel": {
           "align": "left"
          },
          "hovermode": "closest",
          "mapbox": {
           "style": "dark"
          },
          "paper_bgcolor": "rgb(17,17,17)",
          "plot_bgcolor": "rgb(17,17,17)",
          "polar": {
           "angularaxis": {
            "gridcolor": "#506784",
            "linecolor": "#506784",
            "ticks": ""
           },
           "bgcolor": "rgb(17,17,17)",
           "radialaxis": {
            "gridcolor": "#506784",
            "linecolor": "#506784",
            "ticks": ""
           }
          },
          "scene": {
           "xaxis": {
            "backgroundcolor": "rgb(17,17,17)",
            "gridcolor": "#506784",
            "gridwidth": 2,
            "linecolor": "#506784",
            "showbackground": true,
            "ticks": "",
            "zerolinecolor": "#C8D4E3"
           },
           "yaxis": {
            "backgroundcolor": "rgb(17,17,17)",
            "gridcolor": "#506784",
            "gridwidth": 2,
            "linecolor": "#506784",
            "showbackground": true,
            "ticks": "",
            "zerolinecolor": "#C8D4E3"
           },
           "zaxis": {
            "backgroundcolor": "rgb(17,17,17)",
            "gridcolor": "#506784",
            "gridwidth": 2,
            "linecolor": "#506784",
            "showbackground": true,
            "ticks": "",
            "zerolinecolor": "#C8D4E3"
           }
          },
          "shapedefaults": {
           "line": {
            "color": "#f2f5fa"
           }
          },
          "sliderdefaults": {
           "bgcolor": "#C8D4E3",
           "bordercolor": "rgb(17,17,17)",
           "borderwidth": 1,
           "tickwidth": 0
          },
          "ternary": {
           "aaxis": {
            "gridcolor": "#506784",
            "linecolor": "#506784",
            "ticks": ""
           },
           "baxis": {
            "gridcolor": "#506784",
            "linecolor": "#506784",
            "ticks": ""
           },
           "bgcolor": "rgb(17,17,17)",
           "caxis": {
            "gridcolor": "#506784",
            "linecolor": "#506784",
            "ticks": ""
           }
          },
          "title": {
           "x": 0.05
          },
          "updatemenudefaults": {
           "bgcolor": "#506784",
           "borderwidth": 0
          },
          "xaxis": {
           "automargin": true,
           "gridcolor": "#283442",
           "linecolor": "#506784",
           "ticks": "",
           "title": {
            "standoff": 15
           },
           "zerolinecolor": "#283442",
           "zerolinewidth": 2
          },
          "yaxis": {
           "automargin": true,
           "gridcolor": "#283442",
           "linecolor": "#506784",
           "ticks": "",
           "title": {
            "standoff": 15
           },
           "zerolinecolor": "#283442",
           "zerolinewidth": 2
          }
         }
        },
        "title": {
         "text": "Top 50 Common Words in Descriptions of Disney+ Catalog (US)"
        },
        "xaxis": {
         "anchor": "y",
         "domain": [
          0,
          1
         ],
         "title": {
          "text": "word"
         }
        },
        "yaxis": {
         "anchor": "x",
         "domain": [
          0,
          1
         ],
         "title": {
          "text": "count"
         }
        }
       }
      }
     },
     "metadata": {},
     "output_type": "display_data"
    }
   ],
   "source": [
    "fig = px.bar(wcount.head(50), y =\"count\", x ='word',\n",
    "                   title=\"Top 50 Common Words in Descriptions of Disney+ Catalog (US)\", \n",
    "                   labels= { \"tmdb_score\" : \"Rating (Avg)\", \"genres\" : \"Genres\"},\n",
    "                   template=\"plotly_dark\")\n",
    "                   \n",
    "fig.update_layout(paper_bgcolor = '#1A1D29', \n",
    "                  plot_bgcolor = '#1A1D29',\n",
    "                  font = dict(family=\"Verdana\",color = '#FFFFFF', size=13),)"
   ]
  },
  {
   "cell_type": "markdown",
   "metadata": {},
   "source": [
    "![image](https://github.com/kekevin12/Disney_EDA/blob/main/Graphs/comdesc.png?raw=true)"
   ]
  },
  {
   "cell_type": "code",
   "execution_count": 22,
   "metadata": {},
   "outputs": [],
   "source": [
    "test = \" \".join(word for word in dcount[\"description\"])\n",
    "\n",
    "wordcloud = WordCloud(width=800,height=400,max_words=100, background_color=\"white\", stopwords= stop).generate(test)"
   ]
  },
  {
   "cell_type": "markdown",
   "metadata": {},
   "source": [
    "![image](https://github.com/kekevin12/Disney_EDA/blob/main/Graphs/descwordcloud.png?raw=true)"
   ]
  },
  {
   "cell_type": "markdown",
   "metadata": {},
   "source": [
    "There are a lot of interesting things from our descriptions that surprised. I would think that from the many of the descriptions would be comprised more of words that would be found related to the top 5 genres from shows and movies previous annotated. However, just looking at the top 50 common words from the descriptions, many of them stood out to me as very kid-friendly or at least not inline with those you would expect with the top genres such as \"family\", \"friends\", \"kid\". Though not really useful analytically, putting all the words into a word cloud makes it more striking visually and really see what words stand out. Perhaps ratings have less of a factor on what type of content is being made and so I would like to take a quick look at the age certification to understand the makeup of the audience Disney+ seems to be catered towards. "
   ]
  },
  {
   "cell_type": "code",
   "execution_count": 150,
   "metadata": {},
   "outputs": [],
   "source": [
    "age = ctitles['age_certification'].value_counts().rename_axis('Age Certification').reset_index(name='Counts')\n",
    "age.insert(2, \"Type\", ['Movie','Movie','Movie','Show','Show','Show','Show','Show','Show'],True)"
   ]
  },
  {
   "cell_type": "code",
   "execution_count": 24,
   "metadata": {},
   "outputs": [
    {
     "data": {
      "application/vnd.plotly.v1+json": {
       "config": {
        "plotlyServerURL": "https://plot.ly"
       },
       "data": [
        {
         "alignmentgroup": "True",
         "hovertemplate": "Age Certification=%{text}<br>Type=%{x}<br>Counts=%{y}<extra></extra>",
         "legendgroup": "G",
         "marker": {
          "color": "#636efa",
          "pattern": {
           "shape": ""
          }
         },
         "name": "G",
         "offsetgroup": "G",
         "orientation": "v",
         "showlegend": true,
         "text": [
          "G"
         ],
         "textposition": "auto",
         "type": "bar",
         "x": [
          "Movie"
         ],
         "xaxis": "x",
         "y": [
          406
         ],
         "yaxis": "y"
        },
        {
         "alignmentgroup": "True",
         "hovertemplate": "Age Certification=%{text}<br>Type=%{x}<br>Counts=%{y}<extra></extra>",
         "legendgroup": "PG",
         "marker": {
          "color": "#EF553B",
          "pattern": {
           "shape": ""
          }
         },
         "name": "PG",
         "offsetgroup": "PG",
         "orientation": "v",
         "showlegend": true,
         "text": [
          "PG"
         ],
         "textposition": "auto",
         "type": "bar",
         "x": [
          "Movie"
         ],
         "xaxis": "x",
         "y": [
          341
         ],
         "yaxis": "y"
        },
        {
         "alignmentgroup": "True",
         "hovertemplate": "Age Certification=%{text}<br>Type=%{x}<br>Counts=%{y}<extra></extra>",
         "legendgroup": "PG-13",
         "marker": {
          "color": "#00cc96",
          "pattern": {
           "shape": ""
          }
         },
         "name": "PG-13",
         "offsetgroup": "PG-13",
         "orientation": "v",
         "showlegend": true,
         "text": [
          "PG-13"
         ],
         "textposition": "auto",
         "type": "bar",
         "x": [
          "Movie"
         ],
         "xaxis": "x",
         "y": [
          94
         ],
         "yaxis": "y"
        },
        {
         "alignmentgroup": "True",
         "hovertemplate": "Age Certification=%{text}<br>Type=%{x}<br>Counts=%{y}<extra></extra>",
         "legendgroup": "TV-G",
         "marker": {
          "color": "#ab63fa",
          "pattern": {
           "shape": ""
          }
         },
         "name": "TV-G",
         "offsetgroup": "TV-G",
         "orientation": "v",
         "showlegend": true,
         "text": [
          "TV-G"
         ],
         "textposition": "auto",
         "type": "bar",
         "x": [
          "Show"
         ],
         "xaxis": "x",
         "y": [
          84
         ],
         "yaxis": "y"
        },
        {
         "alignmentgroup": "True",
         "hovertemplate": "Age Certification=%{text}<br>Type=%{x}<br>Counts=%{y}<extra></extra>",
         "legendgroup": "TV-PG",
         "marker": {
          "color": "#FFA15A",
          "pattern": {
           "shape": ""
          }
         },
         "name": "TV-PG",
         "offsetgroup": "TV-PG",
         "orientation": "v",
         "showlegend": true,
         "text": [
          "TV-PG"
         ],
         "textposition": "auto",
         "type": "bar",
         "x": [
          "Show"
         ],
         "xaxis": "x",
         "y": [
          80
         ],
         "yaxis": "y"
        },
        {
         "alignmentgroup": "True",
         "hovertemplate": "Age Certification=%{text}<br>Type=%{x}<br>Counts=%{y}<extra></extra>",
         "legendgroup": "TV-Y7",
         "marker": {
          "color": "#19d3f3",
          "pattern": {
           "shape": ""
          }
         },
         "name": "TV-Y7",
         "offsetgroup": "TV-Y7",
         "orientation": "v",
         "showlegend": true,
         "text": [
          "TV-Y7"
         ],
         "textposition": "auto",
         "type": "bar",
         "x": [
          "Show"
         ],
         "xaxis": "x",
         "y": [
          60
         ],
         "yaxis": "y"
        },
        {
         "alignmentgroup": "True",
         "hovertemplate": "Age Certification=%{text}<br>Type=%{x}<br>Counts=%{y}<extra></extra>",
         "legendgroup": "TV-14",
         "marker": {
          "color": "#FF6692",
          "pattern": {
           "shape": ""
          }
         },
         "name": "TV-14",
         "offsetgroup": "TV-14",
         "orientation": "v",
         "showlegend": true,
         "text": [
          "TV-14"
         ],
         "textposition": "auto",
         "type": "bar",
         "x": [
          "Show"
         ],
         "xaxis": "x",
         "y": [
          42
         ],
         "yaxis": "y"
        },
        {
         "alignmentgroup": "True",
         "hovertemplate": "Age Certification=%{text}<br>Type=%{x}<br>Counts=%{y}<extra></extra>",
         "legendgroup": "TV-Y",
         "marker": {
          "color": "#B6E880",
          "pattern": {
           "shape": ""
          }
         },
         "name": "TV-Y",
         "offsetgroup": "TV-Y",
         "orientation": "v",
         "showlegend": true,
         "text": [
          "TV-Y"
         ],
         "textposition": "auto",
         "type": "bar",
         "x": [
          "Show"
         ],
         "xaxis": "x",
         "y": [
          42
         ],
         "yaxis": "y"
        },
        {
         "alignmentgroup": "True",
         "hovertemplate": "Age Certification=%{text}<br>Type=%{x}<br>Counts=%{y}<extra></extra>",
         "legendgroup": "TV-MA",
         "marker": {
          "color": "#FF97FF",
          "pattern": {
           "shape": ""
          }
         },
         "name": "TV-MA",
         "offsetgroup": "TV-MA",
         "orientation": "v",
         "showlegend": true,
         "text": [
          "TV-MA"
         ],
         "textposition": "auto",
         "type": "bar",
         "x": [
          "Show"
         ],
         "xaxis": "x",
         "y": [
          6
         ],
         "yaxis": "y"
        }
       ],
       "layout": {
        "barmode": "stack",
        "font": {
         "color": "#FFFFFF",
         "family": "Verdana",
         "size": 13
        },
        "legend": {
         "title": {
          "text": "Age Certification"
         },
         "tracegroupgap": 0
        },
        "paper_bgcolor": "#1A1D29",
        "plot_bgcolor": "#1A1D29",
        "template": {
         "data": {
          "bar": [
           {
            "error_x": {
             "color": "#f2f5fa"
            },
            "error_y": {
             "color": "#f2f5fa"
            },
            "marker": {
             "line": {
              "color": "rgb(17,17,17)",
              "width": 0.5
             },
             "pattern": {
              "fillmode": "overlay",
              "size": 10,
              "solidity": 0.2
             }
            },
            "type": "bar"
           }
          ],
          "barpolar": [
           {
            "marker": {
             "line": {
              "color": "rgb(17,17,17)",
              "width": 0.5
             },
             "pattern": {
              "fillmode": "overlay",
              "size": 10,
              "solidity": 0.2
             }
            },
            "type": "barpolar"
           }
          ],
          "carpet": [
           {
            "aaxis": {
             "endlinecolor": "#A2B1C6",
             "gridcolor": "#506784",
             "linecolor": "#506784",
             "minorgridcolor": "#506784",
             "startlinecolor": "#A2B1C6"
            },
            "baxis": {
             "endlinecolor": "#A2B1C6",
             "gridcolor": "#506784",
             "linecolor": "#506784",
             "minorgridcolor": "#506784",
             "startlinecolor": "#A2B1C6"
            },
            "type": "carpet"
           }
          ],
          "choropleth": [
           {
            "colorbar": {
             "outlinewidth": 0,
             "ticks": ""
            },
            "type": "choropleth"
           }
          ],
          "contour": [
           {
            "colorbar": {
             "outlinewidth": 0,
             "ticks": ""
            },
            "colorscale": [
             [
              0,
              "#0d0887"
             ],
             [
              0.1111111111111111,
              "#46039f"
             ],
             [
              0.2222222222222222,
              "#7201a8"
             ],
             [
              0.3333333333333333,
              "#9c179e"
             ],
             [
              0.4444444444444444,
              "#bd3786"
             ],
             [
              0.5555555555555556,
              "#d8576b"
             ],
             [
              0.6666666666666666,
              "#ed7953"
             ],
             [
              0.7777777777777778,
              "#fb9f3a"
             ],
             [
              0.8888888888888888,
              "#fdca26"
             ],
             [
              1,
              "#f0f921"
             ]
            ],
            "type": "contour"
           }
          ],
          "contourcarpet": [
           {
            "colorbar": {
             "outlinewidth": 0,
             "ticks": ""
            },
            "type": "contourcarpet"
           }
          ],
          "heatmap": [
           {
            "colorbar": {
             "outlinewidth": 0,
             "ticks": ""
            },
            "colorscale": [
             [
              0,
              "#0d0887"
             ],
             [
              0.1111111111111111,
              "#46039f"
             ],
             [
              0.2222222222222222,
              "#7201a8"
             ],
             [
              0.3333333333333333,
              "#9c179e"
             ],
             [
              0.4444444444444444,
              "#bd3786"
             ],
             [
              0.5555555555555556,
              "#d8576b"
             ],
             [
              0.6666666666666666,
              "#ed7953"
             ],
             [
              0.7777777777777778,
              "#fb9f3a"
             ],
             [
              0.8888888888888888,
              "#fdca26"
             ],
             [
              1,
              "#f0f921"
             ]
            ],
            "type": "heatmap"
           }
          ],
          "heatmapgl": [
           {
            "colorbar": {
             "outlinewidth": 0,
             "ticks": ""
            },
            "colorscale": [
             [
              0,
              "#0d0887"
             ],
             [
              0.1111111111111111,
              "#46039f"
             ],
             [
              0.2222222222222222,
              "#7201a8"
             ],
             [
              0.3333333333333333,
              "#9c179e"
             ],
             [
              0.4444444444444444,
              "#bd3786"
             ],
             [
              0.5555555555555556,
              "#d8576b"
             ],
             [
              0.6666666666666666,
              "#ed7953"
             ],
             [
              0.7777777777777778,
              "#fb9f3a"
             ],
             [
              0.8888888888888888,
              "#fdca26"
             ],
             [
              1,
              "#f0f921"
             ]
            ],
            "type": "heatmapgl"
           }
          ],
          "histogram": [
           {
            "marker": {
             "pattern": {
              "fillmode": "overlay",
              "size": 10,
              "solidity": 0.2
             }
            },
            "type": "histogram"
           }
          ],
          "histogram2d": [
           {
            "colorbar": {
             "outlinewidth": 0,
             "ticks": ""
            },
            "colorscale": [
             [
              0,
              "#0d0887"
             ],
             [
              0.1111111111111111,
              "#46039f"
             ],
             [
              0.2222222222222222,
              "#7201a8"
             ],
             [
              0.3333333333333333,
              "#9c179e"
             ],
             [
              0.4444444444444444,
              "#bd3786"
             ],
             [
              0.5555555555555556,
              "#d8576b"
             ],
             [
              0.6666666666666666,
              "#ed7953"
             ],
             [
              0.7777777777777778,
              "#fb9f3a"
             ],
             [
              0.8888888888888888,
              "#fdca26"
             ],
             [
              1,
              "#f0f921"
             ]
            ],
            "type": "histogram2d"
           }
          ],
          "histogram2dcontour": [
           {
            "colorbar": {
             "outlinewidth": 0,
             "ticks": ""
            },
            "colorscale": [
             [
              0,
              "#0d0887"
             ],
             [
              0.1111111111111111,
              "#46039f"
             ],
             [
              0.2222222222222222,
              "#7201a8"
             ],
             [
              0.3333333333333333,
              "#9c179e"
             ],
             [
              0.4444444444444444,
              "#bd3786"
             ],
             [
              0.5555555555555556,
              "#d8576b"
             ],
             [
              0.6666666666666666,
              "#ed7953"
             ],
             [
              0.7777777777777778,
              "#fb9f3a"
             ],
             [
              0.8888888888888888,
              "#fdca26"
             ],
             [
              1,
              "#f0f921"
             ]
            ],
            "type": "histogram2dcontour"
           }
          ],
          "mesh3d": [
           {
            "colorbar": {
             "outlinewidth": 0,
             "ticks": ""
            },
            "type": "mesh3d"
           }
          ],
          "parcoords": [
           {
            "line": {
             "colorbar": {
              "outlinewidth": 0,
              "ticks": ""
             }
            },
            "type": "parcoords"
           }
          ],
          "pie": [
           {
            "automargin": true,
            "type": "pie"
           }
          ],
          "scatter": [
           {
            "marker": {
             "line": {
              "color": "#283442"
             }
            },
            "type": "scatter"
           }
          ],
          "scatter3d": [
           {
            "line": {
             "colorbar": {
              "outlinewidth": 0,
              "ticks": ""
             }
            },
            "marker": {
             "colorbar": {
              "outlinewidth": 0,
              "ticks": ""
             }
            },
            "type": "scatter3d"
           }
          ],
          "scattercarpet": [
           {
            "marker": {
             "colorbar": {
              "outlinewidth": 0,
              "ticks": ""
             }
            },
            "type": "scattercarpet"
           }
          ],
          "scattergeo": [
           {
            "marker": {
             "colorbar": {
              "outlinewidth": 0,
              "ticks": ""
             }
            },
            "type": "scattergeo"
           }
          ],
          "scattergl": [
           {
            "marker": {
             "line": {
              "color": "#283442"
             }
            },
            "type": "scattergl"
           }
          ],
          "scattermapbox": [
           {
            "marker": {
             "colorbar": {
              "outlinewidth": 0,
              "ticks": ""
             }
            },
            "type": "scattermapbox"
           }
          ],
          "scatterpolar": [
           {
            "marker": {
             "colorbar": {
              "outlinewidth": 0,
              "ticks": ""
             }
            },
            "type": "scatterpolar"
           }
          ],
          "scatterpolargl": [
           {
            "marker": {
             "colorbar": {
              "outlinewidth": 0,
              "ticks": ""
             }
            },
            "type": "scatterpolargl"
           }
          ],
          "scatterternary": [
           {
            "marker": {
             "colorbar": {
              "outlinewidth": 0,
              "ticks": ""
             }
            },
            "type": "scatterternary"
           }
          ],
          "surface": [
           {
            "colorbar": {
             "outlinewidth": 0,
             "ticks": ""
            },
            "colorscale": [
             [
              0,
              "#0d0887"
             ],
             [
              0.1111111111111111,
              "#46039f"
             ],
             [
              0.2222222222222222,
              "#7201a8"
             ],
             [
              0.3333333333333333,
              "#9c179e"
             ],
             [
              0.4444444444444444,
              "#bd3786"
             ],
             [
              0.5555555555555556,
              "#d8576b"
             ],
             [
              0.6666666666666666,
              "#ed7953"
             ],
             [
              0.7777777777777778,
              "#fb9f3a"
             ],
             [
              0.8888888888888888,
              "#fdca26"
             ],
             [
              1,
              "#f0f921"
             ]
            ],
            "type": "surface"
           }
          ],
          "table": [
           {
            "cells": {
             "fill": {
              "color": "#506784"
             },
             "line": {
              "color": "rgb(17,17,17)"
             }
            },
            "header": {
             "fill": {
              "color": "#2a3f5f"
             },
             "line": {
              "color": "rgb(17,17,17)"
             }
            },
            "type": "table"
           }
          ]
         },
         "layout": {
          "annotationdefaults": {
           "arrowcolor": "#f2f5fa",
           "arrowhead": 0,
           "arrowwidth": 1
          },
          "autotypenumbers": "strict",
          "coloraxis": {
           "colorbar": {
            "outlinewidth": 0,
            "ticks": ""
           }
          },
          "colorscale": {
           "diverging": [
            [
             0,
             "#8e0152"
            ],
            [
             0.1,
             "#c51b7d"
            ],
            [
             0.2,
             "#de77ae"
            ],
            [
             0.3,
             "#f1b6da"
            ],
            [
             0.4,
             "#fde0ef"
            ],
            [
             0.5,
             "#f7f7f7"
            ],
            [
             0.6,
             "#e6f5d0"
            ],
            [
             0.7,
             "#b8e186"
            ],
            [
             0.8,
             "#7fbc41"
            ],
            [
             0.9,
             "#4d9221"
            ],
            [
             1,
             "#276419"
            ]
           ],
           "sequential": [
            [
             0,
             "#0d0887"
            ],
            [
             0.1111111111111111,
             "#46039f"
            ],
            [
             0.2222222222222222,
             "#7201a8"
            ],
            [
             0.3333333333333333,
             "#9c179e"
            ],
            [
             0.4444444444444444,
             "#bd3786"
            ],
            [
             0.5555555555555556,
             "#d8576b"
            ],
            [
             0.6666666666666666,
             "#ed7953"
            ],
            [
             0.7777777777777778,
             "#fb9f3a"
            ],
            [
             0.8888888888888888,
             "#fdca26"
            ],
            [
             1,
             "#f0f921"
            ]
           ],
           "sequentialminus": [
            [
             0,
             "#0d0887"
            ],
            [
             0.1111111111111111,
             "#46039f"
            ],
            [
             0.2222222222222222,
             "#7201a8"
            ],
            [
             0.3333333333333333,
             "#9c179e"
            ],
            [
             0.4444444444444444,
             "#bd3786"
            ],
            [
             0.5555555555555556,
             "#d8576b"
            ],
            [
             0.6666666666666666,
             "#ed7953"
            ],
            [
             0.7777777777777778,
             "#fb9f3a"
            ],
            [
             0.8888888888888888,
             "#fdca26"
            ],
            [
             1,
             "#f0f921"
            ]
           ]
          },
          "colorway": [
           "#636efa",
           "#EF553B",
           "#00cc96",
           "#ab63fa",
           "#FFA15A",
           "#19d3f3",
           "#FF6692",
           "#B6E880",
           "#FF97FF",
           "#FECB52"
          ],
          "font": {
           "color": "#f2f5fa"
          },
          "geo": {
           "bgcolor": "rgb(17,17,17)",
           "lakecolor": "rgb(17,17,17)",
           "landcolor": "rgb(17,17,17)",
           "showlakes": true,
           "showland": true,
           "subunitcolor": "#506784"
          },
          "hoverlabel": {
           "align": "left"
          },
          "hovermode": "closest",
          "mapbox": {
           "style": "dark"
          },
          "paper_bgcolor": "rgb(17,17,17)",
          "plot_bgcolor": "rgb(17,17,17)",
          "polar": {
           "angularaxis": {
            "gridcolor": "#506784",
            "linecolor": "#506784",
            "ticks": ""
           },
           "bgcolor": "rgb(17,17,17)",
           "radialaxis": {
            "gridcolor": "#506784",
            "linecolor": "#506784",
            "ticks": ""
           }
          },
          "scene": {
           "xaxis": {
            "backgroundcolor": "rgb(17,17,17)",
            "gridcolor": "#506784",
            "gridwidth": 2,
            "linecolor": "#506784",
            "showbackground": true,
            "ticks": "",
            "zerolinecolor": "#C8D4E3"
           },
           "yaxis": {
            "backgroundcolor": "rgb(17,17,17)",
            "gridcolor": "#506784",
            "gridwidth": 2,
            "linecolor": "#506784",
            "showbackground": true,
            "ticks": "",
            "zerolinecolor": "#C8D4E3"
           },
           "zaxis": {
            "backgroundcolor": "rgb(17,17,17)",
            "gridcolor": "#506784",
            "gridwidth": 2,
            "linecolor": "#506784",
            "showbackground": true,
            "ticks": "",
            "zerolinecolor": "#C8D4E3"
           }
          },
          "shapedefaults": {
           "line": {
            "color": "#f2f5fa"
           }
          },
          "sliderdefaults": {
           "bgcolor": "#C8D4E3",
           "bordercolor": "rgb(17,17,17)",
           "borderwidth": 1,
           "tickwidth": 0
          },
          "ternary": {
           "aaxis": {
            "gridcolor": "#506784",
            "linecolor": "#506784",
            "ticks": ""
           },
           "baxis": {
            "gridcolor": "#506784",
            "linecolor": "#506784",
            "ticks": ""
           },
           "bgcolor": "rgb(17,17,17)",
           "caxis": {
            "gridcolor": "#506784",
            "linecolor": "#506784",
            "ticks": ""
           }
          },
          "title": {
           "x": 0.05
          },
          "updatemenudefaults": {
           "bgcolor": "#506784",
           "borderwidth": 0
          },
          "xaxis": {
           "automargin": true,
           "gridcolor": "#283442",
           "linecolor": "#506784",
           "ticks": "",
           "title": {
            "standoff": 15
           },
           "zerolinecolor": "#283442",
           "zerolinewidth": 2
          },
          "yaxis": {
           "automargin": true,
           "gridcolor": "#283442",
           "linecolor": "#506784",
           "ticks": "",
           "title": {
            "standoff": 15
           },
           "zerolinecolor": "#283442",
           "zerolinewidth": 2
          }
         }
        },
        "title": {
         "text": "Age Certification Count of Disney+ Catalog (US)"
        },
        "xaxis": {
         "anchor": "y",
         "domain": [
          0,
          1
         ],
         "title": {
          "text": "Type"
         }
        },
        "yaxis": {
         "anchor": "x",
         "domain": [
          0,
          1
         ],
         "title": {
          "text": "Counts"
         }
        }
       }
      }
     },
     "metadata": {},
     "output_type": "display_data"
    }
   ],
   "source": [
    "fig = px.bar(age, y = \"Counts\", x = \"Type\", barmode='stack', color=\"Age Certification\", text= \"Age Certification\",\n",
    "                title=\"Age Certification Count of Disney+ Catalog (US)\",\n",
    "                template=\"plotly_dark\")\n",
    "\n",
    "fig.update_layout(paper_bgcolor = '#1A1D29', \n",
    "                  plot_bgcolor = '#1A1D29',\n",
    "                  font = dict(family=\"Verdana\",color = '#FFFFFF', size=13),)"
   ]
  },
  {
   "cell_type": "markdown",
   "metadata": {},
   "source": [
    "![image](https://github.com/kekevin12/Disney_EDA/blob/main/Graphs/agecert.png?raw=true)"
   ]
  },
  {
   "cell_type": "markdown",
   "metadata": {},
   "source": [
    "Seeing the break down of the age certification, it appears that fail to account for the sample size of the ratings. Just only the number of G rate movies is already greater than all the entries of shows combined. This likely accounts to why so the common words found in the description are much more kid-friendly especially when I do see that in both move and show age certifications, G ratings are the most common ratings so perhaps even by seperating the two descriptions by type would not create any big differences at all and should look at common occurences within each age certification instead."
   ]
  },
  {
   "cell_type": "code",
   "execution_count": 152,
   "metadata": {},
   "outputs": [],
   "source": [
    "#Creating Dataset Seperating Age Certification\n",
    "Gdesc = ctitles.loc[ctitles['age_certification'] == 'G']\n",
    "PGdesc = ctitles.loc[ctitles['age_certification'] == 'PG']\n",
    "PG13desc = ctitles.loc[ctitles['age_certification'] == 'PG-13']\n",
    "TVGdesc = ctitles.loc[ctitles['age_certification'] == 'TV-G']\n",
    "TVPGdesc = ctitles.loc[ctitles['age_certification'] == 'TV-PG']\n",
    "TVY7desc = ctitles.loc[ctitles['age_certification'] == 'TV-Y7']\n",
    "TVYdesc = ctitles.loc[ctitles['age_certification'] == 'TV-Y']\n",
    "TV14desc = ctitles.loc[ctitles['age_certification'] == 'TV-14']\n",
    "TVMAdesc = ctitles.loc[ctitles['age_certification'] == 'TV-MA']"
   ]
  },
  {
   "cell_type": "code",
   "execution_count": 153,
   "metadata": {},
   "outputs": [],
   "source": [
    "#G Rating Word Count\n",
    "Gcount= Gdesc[\"description\"].str.lower().apply(lambda x:' '.join([word for word in str(x).split() if word not in (stop)]).replace(',','').replace('.',''))\n",
    "Gcount = Gcount.to_frame().reset_index()\n",
    "Gcount = Gcount.iloc[:,1:]\n",
    "Gwcount = Gcount[\"description\"].str.split(expand=True).stack().value_counts()\n",
    "Gwcount = Gwcount.to_frame().reset_index()\n",
    "Gwcount.columns = ['word','count']\n",
    "\n",
    "#PG Word Count\n",
    "PGcount = PGdesc[\"description\"].str.lower().apply(lambda x:' '.join([word for word in str(x).split() if word not in (stop)]).replace(',','').replace('.',''))\n",
    "PGcount = PGcount.to_frame().reset_index()\n",
    "PGcount = PGcount.iloc[:,1:]\n",
    "PGwcount = PGcount[\"description\"].str.split(expand=True).stack().value_counts()\n",
    "PGwcount = PGwcount.to_frame().reset_index()\n",
    "PGwcount.columns = ['word','count']\n",
    "\n",
    "#PG 13 Word Count\n",
    "PG13count = PG13desc[\"description\"].str.lower().apply(lambda x:' '.join([word for word in str(x).split() if word not in (stop)]).replace(',','').replace('.',''))\n",
    "PG13count = PG13count.to_frame().reset_index()\n",
    "PG13count = PG13count.iloc[:,1:]\n",
    "PG13wcount = PG13count[\"description\"].str.split(expand=True).stack().value_counts()\n",
    "PG13wcount = PG13wcount.to_frame().reset_index()\n",
    "PG13wcount.columns = ['word','count']\n",
    "\n",
    "#TV G Word Count\n",
    "TVGcount = TVGdesc[\"description\"].str.lower().apply(lambda x:' '.join([word for word in str(x).split() if word not in (stop)]).replace(',','').replace('.',''))\n",
    "TVGcount = TVGcount.to_frame().reset_index()\n",
    "TVGcount = TVGcount.iloc[:,1:]\n",
    "TVGwcount = TVGcount[\"description\"].str.split(expand=True).stack().value_counts()\n",
    "TVGwcount = TVGwcount.to_frame().reset_index()\n",
    "TVGwcount.columns = ['word','count']\n",
    "\n",
    "#TV PG Word Count\n",
    "TVPGcount = TVPGdesc[\"description\"].str.lower().apply(lambda x:' '.join([word for word in str(x).split() if word not in (stop)]).replace(',','').replace('.',''))\n",
    "TVPGcount = TVPGcount.to_frame().reset_index()\n",
    "TVPGcount = TVPGcount.iloc[:,1:]\n",
    "TVPGwcount = TVPGcount[\"description\"].str.split(expand=True).stack().value_counts()\n",
    "TVPGwcount = TVPGwcount.to_frame().reset_index()\n",
    "TVPGwcount.columns = ['word','count']\n",
    "\n",
    "#TVY7 Word Count\n",
    "TVY7count = TVY7desc[\"description\"].str.lower().apply(lambda x:' '.join([word for word in str(x).split() if word not in (stop)]).replace(',','').replace('.',''))\n",
    "TVY7count = TVY7count.to_frame().reset_index()\n",
    "TVY7count = TVY7count.iloc[:,1:]\n",
    "TVY7wcount = TVY7count[\"description\"].str.split(expand=True).stack().value_counts()\n",
    "TVY7wcount = TVY7wcount.to_frame().reset_index()\n",
    "TVY7wcount.columns = ['word','count']\n",
    "\n",
    "#TVY Word Count\n",
    "TVYcount = TVYdesc[\"description\"].str.lower().apply(lambda x:' '.join([word for word in str(x).split() if word not in (stop)]).replace(',','').replace('.',''))\n",
    "TVYcount = TVYcount.to_frame().reset_index()\n",
    "TVYcount = TVYcount.iloc[:,1:]\n",
    "TVYwcount = TVYcount[\"description\"].str.split(expand=True).stack().value_counts()\n",
    "TVYwcount = TVYwcount.to_frame().reset_index()\n",
    "TVYwcount.columns = ['word','count']\n",
    "\n",
    "#TV14 Word Count\n",
    "TV14count = TV14desc[\"description\"].str.lower().apply(lambda x:' '.join([word for word in str(x).split() if word not in (stop)]).replace(',','').replace('.',''))\n",
    "TV14count = TV14count.to_frame().reset_index()\n",
    "TV14count = TV14count.iloc[:,1:]\n",
    "TV14wcount = TV14count[\"description\"].str.split(expand=True).stack().value_counts()\n",
    "TV14wcount = TV14wcount.to_frame().reset_index()\n",
    "TV14wcount.columns = ['word','count']\n",
    "\n",
    "#TVMA Word Count\n",
    "TVMAcount = TVMAdesc[\"description\"].str.lower().apply(lambda x:' '.join([word for word in str(x).split() if word not in (stop)]).replace(',','').replace('.',''))\n",
    "TVMAcount = TVMAcount.to_frame().reset_index()\n",
    "TVGcount = TVGcount.iloc[:,1:]\n",
    "TVMAwcount = TVMAcount[\"description\"].str.split(expand=True).stack().value_counts()\n",
    "TVMAwcount = TVMAwcount.to_frame().reset_index()\n",
    "TVMAwcount.columns = ['word','count']"
   ]
  },
  {
   "cell_type": "code",
   "execution_count": 154,
   "metadata": {},
   "outputs": [],
   "source": [
    "#Creating Bar Charts for Each Age Certification\n",
    "Gwcount1 = Gwcount.head(10)\n",
    "figG = go.Bar(y = Gwcount1['count'], x = Gwcount1['word'],name='G')\n",
    "#\n",
    "PGwcount1 = PGwcount.head(10)\n",
    "figPG = go.Bar(y = PGwcount1['count'], x = PGwcount1['word'],name='PG')\n",
    "#\n",
    "PG13wcount1 = PG13wcount.head(10)\n",
    "figPG13 = go.Bar(y = PG13wcount1['count'], x = PG13wcount1['word'],name='PG-13')\n",
    "#\n",
    "TVGwcount1 = TVGwcount.head(10)\n",
    "figTVG = go.Bar(y = TVGwcount1['count'], x = TVGwcount1['word'],name='TV-G')\n",
    "#\n",
    "TVPGwcount1 = TVPGwcount.head(10)\n",
    "figTVPG = go.Bar(y = TVPGwcount1['count'], x = TVPGwcount1['word'],name='TV-PG')\n",
    "#\n",
    "TVY7wcount1 = TVY7wcount.head(10)\n",
    "figTVY7 = go.Bar(y = TVY7wcount1['count'], x = TVY7wcount1['word'],name='TV-Y7')\n",
    "#\n",
    "TVYwcount1 = TVYwcount.head(10)\n",
    "figTVY = go.Bar(y = TVYwcount1['count'], x = TVYwcount1['word'],name='TV-Y')\n",
    "#\n",
    "TV14wcount1 = TV14wcount.head(10)\n",
    "figTV14 = go.Bar(y = TV14wcount1['count'], x = TV14wcount1['word'],name='TV-14')\n",
    "#\n",
    "TVMAwcount1 = TVMAwcount.head(10)\n",
    "figTVMA = go.Bar(y = TVMAwcount1['count'], x = TVMAwcount1['word'],name='TV-MA')"
   ]
  },
  {
   "cell_type": "code",
   "execution_count": 157,
   "metadata": {},
   "outputs": [
    {
     "data": {
      "application/vnd.plotly.v1+json": {
       "config": {
        "plotlyServerURL": "https://plot.ly"
       },
       "data": [
        {
         "name": "G",
         "type": "bar",
         "x": [
          "young",
          "friends",
          "family",
          "home",
          "help",
          "school",
          "finds",
          "adventure",
          "girl",
          "boy"
         ],
         "xaxis": "x",
         "y": [
          56,
          55,
          53,
          41,
          36,
          36,
          30,
          28,
          27,
          26
         ],
         "yaxis": "y"
        },
        {
         "name": "PG",
         "type": "bar",
         "x": [
          "young",
          "family",
          "help",
          "team",
          "finds",
          "friends",
          "father",
          "save",
          "school",
          "evil"
         ],
         "xaxis": "x2",
         "y": [
          41,
          41,
          33,
          27,
          26,
          25,
          24,
          24,
          24,
          23
         ],
         "yaxis": "y2"
        },
        {
         "name": "PG-13",
         "type": "bar",
         "x": [
          "captain",
          "mysterious",
          "war",
          "earth",
          "man",
          "sharks",
          "help",
          "america",
          "avengers",
          "behind"
         ],
         "xaxis": "x3",
         "y": [
          11,
          9,
          8,
          8,
          8,
          8,
          8,
          7,
          7,
          7
         ],
         "yaxis": "y3"
        },
        {
         "name": "TV-G",
         "type": "bar",
         "x": [
          "school",
          "friends",
          "adventures",
          "kids",
          "family",
          "comedy",
          "parents",
          "young",
          "keep",
          "world"
         ],
         "xaxis": "x4",
         "y": [
          14,
          13,
          12,
          12,
          11,
          10,
          9,
          8,
          7,
          7
         ],
         "yaxis": "y4"
        },
        {
         "name": "TV-PG",
         "type": "bar",
         "x": [
          "animals",
          "family",
          "school",
          "team",
          "home",
          "time",
          "earth",
          "animal",
          "walt",
          "great"
         ],
         "xaxis": "x5",
         "y": [
          12,
          11,
          11,
          9,
          7,
          6,
          6,
          6,
          6,
          6
         ],
         "yaxis": "y5"
        },
        {
         "name": "TV-Y7",
         "type": "bar",
         "x": [
          "adventures",
          "marvel",
          "man",
          "iron",
          "team",
          "american",
          "young",
          "hulk",
          "star",
          "friends"
         ],
         "xaxis": "x6",
         "y": [
          20,
          16,
          14,
          11,
          10,
          9,
          9,
          9,
          9,
          9
         ],
         "yaxis": "y6"
        },
        {
         "name": "TV-Y",
         "type": "bar",
         "x": [
          "adventures",
          "channel",
          "young",
          "playhouse",
          "girl",
          "junior",
          "block",
          "pooh",
          "family",
          "help"
         ],
         "xaxis": "x7",
         "y": [
          15,
          10,
          9,
          9,
          7,
          7,
          7,
          6,
          6,
          6
         ],
         "yaxis": "y7"
        },
        {
         "name": "TV-14",
         "type": "bar",
         "x": [
          "bluefin",
          "marvel",
          "tuna",
          "family",
          "universe",
          "challenging",
          "fishermen",
          "community",
          "port",
          "protection"
         ],
         "xaxis": "x8",
         "y": [
          6,
          5,
          4,
          4,
          4,
          4,
          4,
          3,
          3,
          3
         ],
         "yaxis": "y8"
        },
        {
         "name": "TV-MA",
         "type": "bar",
         "x": [
          "jones",
          "conspiracy",
          "iron",
          "city",
          "york",
          "daredevil",
          "fist",
          "finds",
          "rand",
          "danny"
         ],
         "xaxis": "x9",
         "y": [
          2,
          2,
          2,
          2,
          2,
          2,
          2,
          1,
          1,
          1
         ],
         "yaxis": "y9"
        }
       ],
       "layout": {
        "font": {
         "color": "#FFFFFF",
         "family": "Verdana",
         "size": 13
        },
        "height": 1000,
        "paper_bgcolor": "#1A1D29",
        "plot_bgcolor": "#1A1D29",
        "template": {
         "data": {
          "bar": [
           {
            "error_x": {
             "color": "#f2f5fa"
            },
            "error_y": {
             "color": "#f2f5fa"
            },
            "marker": {
             "line": {
              "color": "rgb(17,17,17)",
              "width": 0.5
             },
             "pattern": {
              "fillmode": "overlay",
              "size": 10,
              "solidity": 0.2
             }
            },
            "type": "bar"
           }
          ],
          "barpolar": [
           {
            "marker": {
             "line": {
              "color": "rgb(17,17,17)",
              "width": 0.5
             },
             "pattern": {
              "fillmode": "overlay",
              "size": 10,
              "solidity": 0.2
             }
            },
            "type": "barpolar"
           }
          ],
          "carpet": [
           {
            "aaxis": {
             "endlinecolor": "#A2B1C6",
             "gridcolor": "#506784",
             "linecolor": "#506784",
             "minorgridcolor": "#506784",
             "startlinecolor": "#A2B1C6"
            },
            "baxis": {
             "endlinecolor": "#A2B1C6",
             "gridcolor": "#506784",
             "linecolor": "#506784",
             "minorgridcolor": "#506784",
             "startlinecolor": "#A2B1C6"
            },
            "type": "carpet"
           }
          ],
          "choropleth": [
           {
            "colorbar": {
             "outlinewidth": 0,
             "ticks": ""
            },
            "type": "choropleth"
           }
          ],
          "contour": [
           {
            "colorbar": {
             "outlinewidth": 0,
             "ticks": ""
            },
            "colorscale": [
             [
              0,
              "#0d0887"
             ],
             [
              0.1111111111111111,
              "#46039f"
             ],
             [
              0.2222222222222222,
              "#7201a8"
             ],
             [
              0.3333333333333333,
              "#9c179e"
             ],
             [
              0.4444444444444444,
              "#bd3786"
             ],
             [
              0.5555555555555556,
              "#d8576b"
             ],
             [
              0.6666666666666666,
              "#ed7953"
             ],
             [
              0.7777777777777778,
              "#fb9f3a"
             ],
             [
              0.8888888888888888,
              "#fdca26"
             ],
             [
              1,
              "#f0f921"
             ]
            ],
            "type": "contour"
           }
          ],
          "contourcarpet": [
           {
            "colorbar": {
             "outlinewidth": 0,
             "ticks": ""
            },
            "type": "contourcarpet"
           }
          ],
          "heatmap": [
           {
            "colorbar": {
             "outlinewidth": 0,
             "ticks": ""
            },
            "colorscale": [
             [
              0,
              "#0d0887"
             ],
             [
              0.1111111111111111,
              "#46039f"
             ],
             [
              0.2222222222222222,
              "#7201a8"
             ],
             [
              0.3333333333333333,
              "#9c179e"
             ],
             [
              0.4444444444444444,
              "#bd3786"
             ],
             [
              0.5555555555555556,
              "#d8576b"
             ],
             [
              0.6666666666666666,
              "#ed7953"
             ],
             [
              0.7777777777777778,
              "#fb9f3a"
             ],
             [
              0.8888888888888888,
              "#fdca26"
             ],
             [
              1,
              "#f0f921"
             ]
            ],
            "type": "heatmap"
           }
          ],
          "heatmapgl": [
           {
            "colorbar": {
             "outlinewidth": 0,
             "ticks": ""
            },
            "colorscale": [
             [
              0,
              "#0d0887"
             ],
             [
              0.1111111111111111,
              "#46039f"
             ],
             [
              0.2222222222222222,
              "#7201a8"
             ],
             [
              0.3333333333333333,
              "#9c179e"
             ],
             [
              0.4444444444444444,
              "#bd3786"
             ],
             [
              0.5555555555555556,
              "#d8576b"
             ],
             [
              0.6666666666666666,
              "#ed7953"
             ],
             [
              0.7777777777777778,
              "#fb9f3a"
             ],
             [
              0.8888888888888888,
              "#fdca26"
             ],
             [
              1,
              "#f0f921"
             ]
            ],
            "type": "heatmapgl"
           }
          ],
          "histogram": [
           {
            "marker": {
             "pattern": {
              "fillmode": "overlay",
              "size": 10,
              "solidity": 0.2
             }
            },
            "type": "histogram"
           }
          ],
          "histogram2d": [
           {
            "colorbar": {
             "outlinewidth": 0,
             "ticks": ""
            },
            "colorscale": [
             [
              0,
              "#0d0887"
             ],
             [
              0.1111111111111111,
              "#46039f"
             ],
             [
              0.2222222222222222,
              "#7201a8"
             ],
             [
              0.3333333333333333,
              "#9c179e"
             ],
             [
              0.4444444444444444,
              "#bd3786"
             ],
             [
              0.5555555555555556,
              "#d8576b"
             ],
             [
              0.6666666666666666,
              "#ed7953"
             ],
             [
              0.7777777777777778,
              "#fb9f3a"
             ],
             [
              0.8888888888888888,
              "#fdca26"
             ],
             [
              1,
              "#f0f921"
             ]
            ],
            "type": "histogram2d"
           }
          ],
          "histogram2dcontour": [
           {
            "colorbar": {
             "outlinewidth": 0,
             "ticks": ""
            },
            "colorscale": [
             [
              0,
              "#0d0887"
             ],
             [
              0.1111111111111111,
              "#46039f"
             ],
             [
              0.2222222222222222,
              "#7201a8"
             ],
             [
              0.3333333333333333,
              "#9c179e"
             ],
             [
              0.4444444444444444,
              "#bd3786"
             ],
             [
              0.5555555555555556,
              "#d8576b"
             ],
             [
              0.6666666666666666,
              "#ed7953"
             ],
             [
              0.7777777777777778,
              "#fb9f3a"
             ],
             [
              0.8888888888888888,
              "#fdca26"
             ],
             [
              1,
              "#f0f921"
             ]
            ],
            "type": "histogram2dcontour"
           }
          ],
          "mesh3d": [
           {
            "colorbar": {
             "outlinewidth": 0,
             "ticks": ""
            },
            "type": "mesh3d"
           }
          ],
          "parcoords": [
           {
            "line": {
             "colorbar": {
              "outlinewidth": 0,
              "ticks": ""
             }
            },
            "type": "parcoords"
           }
          ],
          "pie": [
           {
            "automargin": true,
            "type": "pie"
           }
          ],
          "scatter": [
           {
            "marker": {
             "line": {
              "color": "#283442"
             }
            },
            "type": "scatter"
           }
          ],
          "scatter3d": [
           {
            "line": {
             "colorbar": {
              "outlinewidth": 0,
              "ticks": ""
             }
            },
            "marker": {
             "colorbar": {
              "outlinewidth": 0,
              "ticks": ""
             }
            },
            "type": "scatter3d"
           }
          ],
          "scattercarpet": [
           {
            "marker": {
             "colorbar": {
              "outlinewidth": 0,
              "ticks": ""
             }
            },
            "type": "scattercarpet"
           }
          ],
          "scattergeo": [
           {
            "marker": {
             "colorbar": {
              "outlinewidth": 0,
              "ticks": ""
             }
            },
            "type": "scattergeo"
           }
          ],
          "scattergl": [
           {
            "marker": {
             "line": {
              "color": "#283442"
             }
            },
            "type": "scattergl"
           }
          ],
          "scattermapbox": [
           {
            "marker": {
             "colorbar": {
              "outlinewidth": 0,
              "ticks": ""
             }
            },
            "type": "scattermapbox"
           }
          ],
          "scatterpolar": [
           {
            "marker": {
             "colorbar": {
              "outlinewidth": 0,
              "ticks": ""
             }
            },
            "type": "scatterpolar"
           }
          ],
          "scatterpolargl": [
           {
            "marker": {
             "colorbar": {
              "outlinewidth": 0,
              "ticks": ""
             }
            },
            "type": "scatterpolargl"
           }
          ],
          "scatterternary": [
           {
            "marker": {
             "colorbar": {
              "outlinewidth": 0,
              "ticks": ""
             }
            },
            "type": "scatterternary"
           }
          ],
          "surface": [
           {
            "colorbar": {
             "outlinewidth": 0,
             "ticks": ""
            },
            "colorscale": [
             [
              0,
              "#0d0887"
             ],
             [
              0.1111111111111111,
              "#46039f"
             ],
             [
              0.2222222222222222,
              "#7201a8"
             ],
             [
              0.3333333333333333,
              "#9c179e"
             ],
             [
              0.4444444444444444,
              "#bd3786"
             ],
             [
              0.5555555555555556,
              "#d8576b"
             ],
             [
              0.6666666666666666,
              "#ed7953"
             ],
             [
              0.7777777777777778,
              "#fb9f3a"
             ],
             [
              0.8888888888888888,
              "#fdca26"
             ],
             [
              1,
              "#f0f921"
             ]
            ],
            "type": "surface"
           }
          ],
          "table": [
           {
            "cells": {
             "fill": {
              "color": "#506784"
             },
             "line": {
              "color": "rgb(17,17,17)"
             }
            },
            "header": {
             "fill": {
              "color": "#2a3f5f"
             },
             "line": {
              "color": "rgb(17,17,17)"
             }
            },
            "type": "table"
           }
          ]
         },
         "layout": {
          "annotationdefaults": {
           "arrowcolor": "#f2f5fa",
           "arrowhead": 0,
           "arrowwidth": 1
          },
          "autotypenumbers": "strict",
          "coloraxis": {
           "colorbar": {
            "outlinewidth": 0,
            "ticks": ""
           }
          },
          "colorscale": {
           "diverging": [
            [
             0,
             "#8e0152"
            ],
            [
             0.1,
             "#c51b7d"
            ],
            [
             0.2,
             "#de77ae"
            ],
            [
             0.3,
             "#f1b6da"
            ],
            [
             0.4,
             "#fde0ef"
            ],
            [
             0.5,
             "#f7f7f7"
            ],
            [
             0.6,
             "#e6f5d0"
            ],
            [
             0.7,
             "#b8e186"
            ],
            [
             0.8,
             "#7fbc41"
            ],
            [
             0.9,
             "#4d9221"
            ],
            [
             1,
             "#276419"
            ]
           ],
           "sequential": [
            [
             0,
             "#0d0887"
            ],
            [
             0.1111111111111111,
             "#46039f"
            ],
            [
             0.2222222222222222,
             "#7201a8"
            ],
            [
             0.3333333333333333,
             "#9c179e"
            ],
            [
             0.4444444444444444,
             "#bd3786"
            ],
            [
             0.5555555555555556,
             "#d8576b"
            ],
            [
             0.6666666666666666,
             "#ed7953"
            ],
            [
             0.7777777777777778,
             "#fb9f3a"
            ],
            [
             0.8888888888888888,
             "#fdca26"
            ],
            [
             1,
             "#f0f921"
            ]
           ],
           "sequentialminus": [
            [
             0,
             "#0d0887"
            ],
            [
             0.1111111111111111,
             "#46039f"
            ],
            [
             0.2222222222222222,
             "#7201a8"
            ],
            [
             0.3333333333333333,
             "#9c179e"
            ],
            [
             0.4444444444444444,
             "#bd3786"
            ],
            [
             0.5555555555555556,
             "#d8576b"
            ],
            [
             0.6666666666666666,
             "#ed7953"
            ],
            [
             0.7777777777777778,
             "#fb9f3a"
            ],
            [
             0.8888888888888888,
             "#fdca26"
            ],
            [
             1,
             "#f0f921"
            ]
           ]
          },
          "colorway": [
           "#636efa",
           "#EF553B",
           "#00cc96",
           "#ab63fa",
           "#FFA15A",
           "#19d3f3",
           "#FF6692",
           "#B6E880",
           "#FF97FF",
           "#FECB52"
          ],
          "font": {
           "color": "#f2f5fa"
          },
          "geo": {
           "bgcolor": "rgb(17,17,17)",
           "lakecolor": "rgb(17,17,17)",
           "landcolor": "rgb(17,17,17)",
           "showlakes": true,
           "showland": true,
           "subunitcolor": "#506784"
          },
          "hoverlabel": {
           "align": "left"
          },
          "hovermode": "closest",
          "mapbox": {
           "style": "dark"
          },
          "paper_bgcolor": "rgb(17,17,17)",
          "plot_bgcolor": "rgb(17,17,17)",
          "polar": {
           "angularaxis": {
            "gridcolor": "#506784",
            "linecolor": "#506784",
            "ticks": ""
           },
           "bgcolor": "rgb(17,17,17)",
           "radialaxis": {
            "gridcolor": "#506784",
            "linecolor": "#506784",
            "ticks": ""
           }
          },
          "scene": {
           "xaxis": {
            "backgroundcolor": "rgb(17,17,17)",
            "gridcolor": "#506784",
            "gridwidth": 2,
            "linecolor": "#506784",
            "showbackground": true,
            "ticks": "",
            "zerolinecolor": "#C8D4E3"
           },
           "yaxis": {
            "backgroundcolor": "rgb(17,17,17)",
            "gridcolor": "#506784",
            "gridwidth": 2,
            "linecolor": "#506784",
            "showbackground": true,
            "ticks": "",
            "zerolinecolor": "#C8D4E3"
           },
           "zaxis": {
            "backgroundcolor": "rgb(17,17,17)",
            "gridcolor": "#506784",
            "gridwidth": 2,
            "linecolor": "#506784",
            "showbackground": true,
            "ticks": "",
            "zerolinecolor": "#C8D4E3"
           }
          },
          "shapedefaults": {
           "line": {
            "color": "#f2f5fa"
           }
          },
          "sliderdefaults": {
           "bgcolor": "#C8D4E3",
           "bordercolor": "rgb(17,17,17)",
           "borderwidth": 1,
           "tickwidth": 0
          },
          "ternary": {
           "aaxis": {
            "gridcolor": "#506784",
            "linecolor": "#506784",
            "ticks": ""
           },
           "baxis": {
            "gridcolor": "#506784",
            "linecolor": "#506784",
            "ticks": ""
           },
           "bgcolor": "rgb(17,17,17)",
           "caxis": {
            "gridcolor": "#506784",
            "linecolor": "#506784",
            "ticks": ""
           }
          },
          "title": {
           "x": 0.05
          },
          "updatemenudefaults": {
           "bgcolor": "#506784",
           "borderwidth": 0
          },
          "xaxis": {
           "automargin": true,
           "gridcolor": "#283442",
           "linecolor": "#506784",
           "ticks": "",
           "title": {
            "standoff": 15
           },
           "zerolinecolor": "#283442",
           "zerolinewidth": 2
          },
          "yaxis": {
           "automargin": true,
           "gridcolor": "#283442",
           "linecolor": "#506784",
           "ticks": "",
           "title": {
            "standoff": 15
           },
           "zerolinecolor": "#283442",
           "zerolinewidth": 2
          }
         }
        },
        "title": {
         "text": "Top 10 Common Words in Descriptions of Disney+ Catalog"
        },
        "width": 1400,
        "xaxis": {
         "anchor": "y",
         "domain": [
          0,
          0.2888888888888889
         ]
        },
        "xaxis2": {
         "anchor": "y2",
         "domain": [
          0.35555555555555557,
          0.6444444444444445
         ]
        },
        "xaxis3": {
         "anchor": "y3",
         "domain": [
          0.7111111111111111,
          1
         ]
        },
        "xaxis4": {
         "anchor": "y4",
         "domain": [
          0,
          0.2888888888888889
         ]
        },
        "xaxis5": {
         "anchor": "y5",
         "domain": [
          0.35555555555555557,
          0.6444444444444445
         ]
        },
        "xaxis6": {
         "anchor": "y6",
         "domain": [
          0.7111111111111111,
          1
         ]
        },
        "xaxis7": {
         "anchor": "y7",
         "domain": [
          0,
          0.2888888888888889
         ]
        },
        "xaxis8": {
         "anchor": "y8",
         "domain": [
          0.35555555555555557,
          0.6444444444444445
         ]
        },
        "xaxis9": {
         "anchor": "y9",
         "domain": [
          0.7111111111111111,
          1
         ]
        },
        "yaxis": {
         "anchor": "x",
         "domain": [
          0.7333333333333333,
          1
         ]
        },
        "yaxis2": {
         "anchor": "x2",
         "domain": [
          0.7333333333333333,
          1
         ]
        },
        "yaxis3": {
         "anchor": "x3",
         "domain": [
          0.7333333333333333,
          1
         ]
        },
        "yaxis4": {
         "anchor": "x4",
         "domain": [
          0.36666666666666664,
          0.6333333333333333
         ]
        },
        "yaxis5": {
         "anchor": "x5",
         "domain": [
          0.36666666666666664,
          0.6333333333333333
         ]
        },
        "yaxis6": {
         "anchor": "x6",
         "domain": [
          0.36666666666666664,
          0.6333333333333333
         ]
        },
        "yaxis7": {
         "anchor": "x7",
         "domain": [
          0,
          0.26666666666666666
         ]
        },
        "yaxis8": {
         "anchor": "x8",
         "domain": [
          0,
          0.26666666666666666
         ]
        },
        "yaxis9": {
         "anchor": "x9",
         "domain": [
          0,
          0.26666666666666666
         ]
        }
       }
      }
     },
     "metadata": {},
     "output_type": "display_data"
    }
   ],
   "source": [
    "#Combining All Bar Charts into One Figure\n",
    "figAC = make_subplots(rows=3, cols=3)\n",
    "figAC.add_trace(figG,row=1,col=1)\n",
    "figAC.add_trace(figPG,row=1,col=2)\n",
    "figAC.add_trace(figPG13,row=1,col=3)\n",
    "figAC.add_trace(figTVG,row=2,col=1)\n",
    "figAC.add_trace(figTVPG,row=2,col=2)\n",
    "figAC.add_trace(figTVY7,row=2,col=3)\n",
    "figAC.add_trace(figTVY,row=3,col=1)\n",
    "figAC.add_trace(figTV14,row=3,col=2)\n",
    "figAC.add_trace(figTVMA,row=3,col=3)\n",
    "\n",
    "figAC.update_layout(height=1000, width=1400,title_text=\"Top 10 Common Words in Descriptions of Disney+ Catalog\",\n",
    "    paper_bgcolor = '#1A1D29', \n",
    "    plot_bgcolor = '#1A1D29',\n",
    "    font = dict(family=\"Verdana\",color = '#FFFFFF', size=13))"
   ]
  },
  {
   "cell_type": "markdown",
   "metadata": {},
   "source": [
    "![image](https://github.com/kekevin12/Disney_EDA/blob/main/Graphs/agedesc.png?raw=true)"
   ]
  },
  {
   "cell_type": "markdown",
   "metadata": {},
   "source": [
    "After seperating the descriptions by age certification, a noticeable trend is that P and PG rated media share very similar word counts, which could suggest that these ideas/words tend to me very popular with the demographic. Furthermore, TV-Y,TV-G and TV-PG do share some similarities with G and PG rated media with only minor word differences but and overall empahsis on familial terms. Interestingly enough, PG-13, TV-Y7, TV-14. and TV-MA have elements of the Marvel franchise within their top 10 word counts which could be a sign of the popularity of the franchise with the community. However, it is worth noting that TV-MA only consists of six shows which does not provide a broad scope, as they are all Marvel shows and interconnected with one another, so this would not accurately represent the composition of TV-MA rated shows entirely. A funny find is that TV-14 has alot of fish-related terms such as 'bluefin','fisherman',and 'port' which I found interesting as there are only two shows that contain all those elements. This means that these insights should be taken cautiously as some show descriptions may have just simply repeated certain elements over and over and thus will appear on these charts over other words. Overall a general trend that I seem to find is that the majority of the Disney + catalog is definitely geared towards children which surprised me because I always hear about the next Marvel or Star Wars shows, so I assumed that more of the popularity would leans towards those franchises.  "
   ]
  }
 ],
 "metadata": {
  "kernelspec": {
   "display_name": "Python 3.10.4 64-bit",
   "language": "python",
   "name": "python3"
  },
  "language_info": {
   "codemirror_mode": {
    "name": "ipython",
    "version": 3
   },
   "file_extension": ".py",
   "mimetype": "text/x-python",
   "name": "python",
   "nbconvert_exporter": "python",
   "pygments_lexer": "ipython3",
   "version": "3.10.4"
  },
  "orig_nbformat": 4,
  "vscode": {
   "interpreter": {
    "hash": "06d3ad103a38a5e5980b0a2ddf222334b9b3630c94a7e75a8e45e8afe280f469"
   }
  }
 },
 "nbformat": 4,
 "nbformat_minor": 2
}
